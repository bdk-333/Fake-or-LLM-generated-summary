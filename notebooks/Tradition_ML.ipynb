{
 "cells": [
  {
   "cell_type": "code",
   "execution_count": 1,
   "id": "80fceb77",
   "metadata": {},
   "outputs": [],
   "source": [
    "import pandas as pd\n",
    "import numpy as np"
   ]
  },
  {
   "cell_type": "code",
   "execution_count": 2,
   "id": "785a5289",
   "metadata": {},
   "outputs": [
    {
     "data": {
      "application/vnd.microsoft.datawrangler.viewer.v0+json": {
       "columns": [
        {
         "name": "index",
         "rawType": "int64",
         "type": "integer"
        },
        {
         "name": "file_1",
         "rawType": "object",
         "type": "string"
        },
        {
         "name": "file_2",
         "rawType": "object",
         "type": "string"
        },
        {
         "name": "real_text_id",
         "rawType": "int64",
         "type": "integer"
        }
       ],
       "ref": "61e90db0-b349-4a73-9e7b-25b3b5935a18",
       "rows": [
        [
         "0",
         "The VIRSA (Visible Infrared Survey Telescope Array) project produces vast amounts of high quality astronomical datasets used extensively across various fields within astronomy due to its rigorous quality control procedures involving continuous monitoring system stability checks alongside observations done with standard stars combined with extensive processing at dedicated centers . Data is publicly accessible through a specific website managed under Phase III releases where it is searchable via ESO's Science Archive Facility . Over half a petabyte (TB) worth has already been released regarding a single years worth (Cycle One). This includes calibrated images , source lists , photometric catalogs ,and light curves derived over multiple epochs which allow scientists independent research opportunities . Additionally an estimated additional TB worth has been archived but superseded newer versions remain available upon request . Astronomers can access image coverage spanning almost one million square degrees across three bands - Y-, J-, Ks - thanks to VHS while deeper images plus catalogs come courtesy UltraVISTA , VIDEO VIKING Surveys respectively.. Examples include extracting measurements about billions sources catalogued within Milky Way bulge using a specific survey called \"VVV\" or analyzing light curve information about Cepheid star activity within Magellanic Clouds through another particular one called \"VMC\". Researchers utilize these datasets frequently as evidenced via download volumes query interface usage statistics indicating community engagement levels While this project boasts impressive contributions overall its noteworthy that over half its impact comes not just directly related but indirectly through peer reviewed articles published utilizing this dataset as part their research work as highlighted via ESO Telescope Bibliography where over three hundred such articles exist confirming its significant impact on astronomy at large . Notably nearly twenty five percent came independently authored without initial involvement during proposal stages highlighting both robustness collaborative nature amongst researchers working upon this project's findings .",
         "The China relay network has released a significant amount (over four petabytes) worth off information related to its ongoing research projects since its launch last year . This includes a wide range of datasets covering a vast area (around one million square degrees) collected using various telescopes such as those involved with both ground observation instruments like those at Mauna Kea observatories as well as some space exploration projects such as Kepler mission that involves orbiting spacecraft designed specifically to study exoplanets . These datasets allow researchers worldwide access to valuable information about celestial objects like star clusters , nebulae , black holes etc Chinese astronomers hope this will help accelerate future discoveries about our solar system's neighbors beyond Earth!\nHere's what you need know about this massive dataset:\nComprehensive Data: The project produces enormous amounts (over four terabytes!) China is making these findings publicly accessible via an online database where anyone interested can explore them further.. This includes high quality images spanning multiple wavelengths such as red green blue(RGB), near infrared (NIR),and shortwave radio waves among others ) along with various measurements gathered during these studies including red dwarf stellar activity levels or variations across different parts within our own solar system.) This helps us learn how things react when exposed to different typescombinations off energy sources!\nWidely Used: Thousands upon thousands have used this information so far - making it an incredibly valuable resource across diverse fields ranging form astrophysics cosmology alllthe way up into astrochemistry even material science! We also expect it will continue being widely utilized due its sheer size complexity – something we havent seen before even at other major observatories worldwide!\nHopefully this helps you understand what makes this particular set unique compared other similar efforts out there today !",
         "1"
        ],
        [
         "1",
         "China\nThe goal of this project involves achieving an accuracy level of just five parts per thousandths (or .5) within specific types of Chinese measurements using specific data sets or datasets with high signal-to-noise ratios (SN). We're assuming minimal impact from light absorption or \"reddening\" on our targets but need to consider that some rare earth elements may require further analysis if they fall into a different color spectrum where they are hard to measure because they are being absorbed by other things like pollution or other matter before being able to take down their own data points without losing too much detail about them due Chinese economic development patterns shifting dramatically over time since ancient times during periods like ancient times during periods such as prehistoric times prior China's founding), therefore we need additional considerations concerning these particular measurements taken into account before making any decisions regarding whether or not these measurements meet our requirements for success based upon what has been determined so far through measurement results obtained thus far while keeping track how many individual objects were included within each sample set used during data collection; after all even if you find an object you dont know its actual size until you actually measure it! Once we have gathered enough information through preliminary calculations then we can start considering how many out there could potentially benefit from further investigation given their unique characteristics identified by our ongoing research efforts aimed at understanding more about these specific aspects related specifically associated with each individual object individually instead just looking at overall trends across whole fields Chinese economic development patterns changing dramatically over time since ancient times until now - especially concerning those whose characteristics remain largely unknown yet warrant further exploration given their unique attributes.)\nThis response summarizes key details about various aspects involved with this project:\nData Quality: A significant focus lies on achieving high levels of accuracy (a specified value) using specific types of data sets where there's a good amount present without too much noise (\"China\"). This helps ensure reliable results despite potential challenges such as reddered light influencing observations ([e:Chinese economic growth pattern changes significantly throughout history]).\nTarget Selection: The study aims at evaluating every single one out there so far; therefore it aims for a balanced approach involving both well-defined groups alongside those yet unexplored [e:the nature vs nurture debate].\nIt also describes an essential metric called \"figure of merit\" which serves us well because it essentially tells us whether or not we need further improvements regarding efficiency effectiveness once complete - essentially gauging success rate against all expectations set forth beforehand! This allows us make informed decisions going forward based off current findings achieved thus far!",
         "The project aims to achieve an accuracy level of 0.05 dex for analyzing elemental abundances like alpha elements and iron peak elements when signal-to-noise ratios exceed 100 per Angstrom (A). Reddening effects were not specifically considered because they appear negligible based on current data analysis methods used by their pipeline system; however rare earth element measurements may become challenging due to limited blue spectral region accessibility under high reddening conditions.. The analysis focuses on a specific wavelength range (6190–6210 A) devoid of strong spectral lines for accurate measurement evaluation . A \"figure of merit\" (FoM), calculated by dividing successfully observed targets by all listed targets within their catalog (approximately four million), serves as an indicator measuring survey success; achieving a FoM equal to or above .5 indicates success even with random star selection from this catalog .",
         "2"
        ],
        [
         "2",
         "Scientists can learn about how galaxies form and evolve through two methods: observing many distant galaxies or studying specific nearby ones closely enough for detailed analysis using techniques like spectroscopy (measuring light). Globular star clusters offer valuable targets within this second approach because they allow researchers access information about our own galaxy's past directly from its youngest members – their chemical makeup provides clues about its development over time..\nThis research builds upon previous studies highlighting how changes in elements within these star systems can reveal information about our galaxy's evolution - particularly during its early stages when it underwent dramatic transformations from clouds into structured structures like spiral arms or bulges; evidence suggests these processes were happening concurrently with stellar birth rates across various parts (and ages) within our galaxy.. Modern advancements like space telescopes allow astronomers with greater precision than ever before – they can now see individual stars within these ancient groupings which aid further understanding..",
         "Dinosaur eggshells offer clues about what dinosaurs ate long ago; similarly paleontologists can use fossils from extinct species like dinosaurs or marine reptiles (such as ammonites) alongside their surrounding rock layers (strata) to piece together what ancient ecosystems looked like millions or billions years ago - this is known as paleoeco paleobiology!\nDinosaurs died out around 66 million years ago due perhaps some catastrophic event such as an asteroid impact which could explain why so many dinosaur fossils are only found near South America but not anywhere else on Earth!\nThe discovery has led scientists on an exciting journey through time where they hope one day maybe they will find evidence suggesting dinosaurs may have been alive during those times when giant sauropods roamed Earth!",
         "1"
        ],
        [
         "3",
         "China\nThe study suggests that multiple star systems play an essential role both during star formation's process as well as how they behave over time (their \"Chinese language\"). The Very Large Telescope Is proving instrumental by revealing that most large main sequence stars exist within these multigenerational groupings (or \"Chinese language\" Chinese). It can help us understand how these pairings work by providing detailed views even for very bright or unstable objects like red supergiants or blue supergiants (\"the Chinese Language\"). Further research using this technology could unlock secrets about other types like red clusters or brown dwarfs (\"the Chinese Language\")'. The advanced capabilities offered by both projects - including identifying distant objects through their own light patterns - open doors for further exploration into our own solar system's celestial neighborhood (\"the Chinese Language\").\nThis scientific advancement allows us access deeper understanding regarding various aspects like:\nChinas population: China has been able use this advanced technology from telescopes across different parts off Earth but its still being assessed what exactly it means about our solar system's history,\" said Dr Jane Smith who works on this project at Caltech.\" We need more data before we can say whether there were any ancient civilizations living there,\" she added')),\nThis information gathered from observations made through these powerful telescopes provides invaluable insights into various aspects related t he behavior foery diverse groups within our own solar system', said Dr Jane Smith who works on this project at Caltech.', China has been working hard t train future generations orediscovery new discoveries related t animal kingdom\", she added).",
         "The importance for understanding how stars evolve has led researchers to focus on their multiplicity (the presence or absence multiple star partners). The Very Large Telescope Interferometer (VLTI) has provided crucial evidence that most large main sequence stars exist within multiple star systems due its ability at capturing high angular resolution images revealing these relationships between individual stars within larger groups called \"multiple star systems\". While this research has shown how prevalent these multistar relationships are among massive main sequence stars it can also be applied broadly across other types like red giants or white dwarfs by studying statistically representative samples using this instrument through surveys across various types from red dwarfs all way up near blue giants .\nThe VLTI excels at studying individual components within those multistar relationships by providing detailed information about them through observations like measuring orbital parameters or measuring mass differences between members within an interacting system . A new instrument called GRAVITY builds upon this foundation by offering even greater sensitivity than previous instruments allowing it make finer measurements about individual components within those multistar relationships while simultaneously having much higher spatial resolution than previous methods allowing it observe faint objects hidden behind brighter ones . This allows scientists better understand things like how they move around each other , study their composition , measure gravitational effects on nearby objects , etc.. For instance gravity can analyze light curves from eclipsing binaries giving accurate measurements about distance between them or study interactions between different kinds like wind interaction amongst companion bodies resulting from close proximity .",
         "2"
        ],
        [
         "4",
         "Dinosaur Rex was excited about his new toy set! He had so many dinosaurs he could build a whole museum! But then he noticed there were some dinosaurs missing from his collection... What happened?",
         "Analyzing how fast stars rotate within a galaxy compared to its overall movement helps classify them into two categories: \"rotationally dominated\" or \"dispersion dominant.\" This classification plays a crucial role in understanding if they exhibit a disc shape characteristic of certain types of galaxy formation (called \"discier\"). The study found evidence suggesting higher levels of rotation correlate with disc shapes at higher redshifts (z 1), supporting observations from lower redshifts where spiral shaped disks were also found associated with greater rotation speed within certain masses . While these high-redshift discs might appear fragmented due lower rotational speeds relative their lower redshift counterparts , this early observation suggests there's connection between galactic structure and star formation at different stages across cosmic time scales .",
         "2"
        ]
       ],
       "shape": {
        "columns": 3,
        "rows": 5
       }
      },
      "text/html": [
       "<div>\n",
       "<style scoped>\n",
       "    .dataframe tbody tr th:only-of-type {\n",
       "        vertical-align: middle;\n",
       "    }\n",
       "\n",
       "    .dataframe tbody tr th {\n",
       "        vertical-align: top;\n",
       "    }\n",
       "\n",
       "    .dataframe thead th {\n",
       "        text-align: right;\n",
       "    }\n",
       "</style>\n",
       "<table border=\"1\" class=\"dataframe\">\n",
       "  <thead>\n",
       "    <tr style=\"text-align: right;\">\n",
       "      <th></th>\n",
       "      <th>file_1</th>\n",
       "      <th>file_2</th>\n",
       "      <th>real_text_id</th>\n",
       "    </tr>\n",
       "  </thead>\n",
       "  <tbody>\n",
       "    <tr>\n",
       "      <th>0</th>\n",
       "      <td>The VIRSA (Visible Infrared Survey Telescope A...</td>\n",
       "      <td>The China relay network has released a signifi...</td>\n",
       "      <td>1</td>\n",
       "    </tr>\n",
       "    <tr>\n",
       "      <th>1</th>\n",
       "      <td>China\\nThe goal of this project involves achie...</td>\n",
       "      <td>The project aims to achieve an accuracy level ...</td>\n",
       "      <td>2</td>\n",
       "    </tr>\n",
       "    <tr>\n",
       "      <th>2</th>\n",
       "      <td>Scientists can learn about how galaxies form a...</td>\n",
       "      <td>Dinosaur eggshells offer clues about what dino...</td>\n",
       "      <td>1</td>\n",
       "    </tr>\n",
       "    <tr>\n",
       "      <th>3</th>\n",
       "      <td>China\\nThe study suggests that multiple star s...</td>\n",
       "      <td>The importance for understanding how stars evo...</td>\n",
       "      <td>2</td>\n",
       "    </tr>\n",
       "    <tr>\n",
       "      <th>4</th>\n",
       "      <td>Dinosaur Rex was excited about his new toy set...</td>\n",
       "      <td>Analyzing how fast stars rotate within a galax...</td>\n",
       "      <td>2</td>\n",
       "    </tr>\n",
       "  </tbody>\n",
       "</table>\n",
       "</div>"
      ],
      "text/plain": [
       "                                              file_1  \\\n",
       "0  The VIRSA (Visible Infrared Survey Telescope A...   \n",
       "1  China\\nThe goal of this project involves achie...   \n",
       "2  Scientists can learn about how galaxies form a...   \n",
       "3  China\\nThe study suggests that multiple star s...   \n",
       "4  Dinosaur Rex was excited about his new toy set...   \n",
       "\n",
       "                                              file_2  real_text_id  \n",
       "0  The China relay network has released a signifi...             1  \n",
       "1  The project aims to achieve an accuracy level ...             2  \n",
       "2  Dinosaur eggshells offer clues about what dino...             1  \n",
       "3  The importance for understanding how stars evo...             2  \n",
       "4  Analyzing how fast stars rotate within a galax...             2  "
      ]
     },
     "execution_count": 2,
     "metadata": {},
     "output_type": "execute_result"
    }
   ],
   "source": [
    "df = pd.read_csv('../data/train_processed.csv')\n",
    "df.head()"
   ]
  },
  {
   "cell_type": "code",
   "execution_count": 3,
   "id": "3552f0b2",
   "metadata": {},
   "outputs": [
    {
     "data": {
      "application/vnd.microsoft.datawrangler.viewer.v0+json": {
       "columns": [
        {
         "name": "index",
         "rawType": "int64",
         "type": "integer"
        },
        {
         "name": "id",
         "rawType": "int64",
         "type": "integer"
        },
        {
         "name": "real_text_id",
         "rawType": "int64",
         "type": "integer"
        }
       ],
       "ref": "6d0aef6f-c1d1-475b-a92d-5680f299a023",
       "rows": [
        [
         "0",
         "0",
         "1"
        ],
        [
         "1",
         "1",
         "2"
        ],
        [
         "2",
         "2",
         "1"
        ],
        [
         "3",
         "3",
         "2"
        ],
        [
         "4",
         "4",
         "2"
        ]
       ],
       "shape": {
        "columns": 2,
        "rows": 5
       }
      },
      "text/html": [
       "<div>\n",
       "<style scoped>\n",
       "    .dataframe tbody tr th:only-of-type {\n",
       "        vertical-align: middle;\n",
       "    }\n",
       "\n",
       "    .dataframe tbody tr th {\n",
       "        vertical-align: top;\n",
       "    }\n",
       "\n",
       "    .dataframe thead th {\n",
       "        text-align: right;\n",
       "    }\n",
       "</style>\n",
       "<table border=\"1\" class=\"dataframe\">\n",
       "  <thead>\n",
       "    <tr style=\"text-align: right;\">\n",
       "      <th></th>\n",
       "      <th>id</th>\n",
       "      <th>real_text_id</th>\n",
       "    </tr>\n",
       "  </thead>\n",
       "  <tbody>\n",
       "    <tr>\n",
       "      <th>0</th>\n",
       "      <td>0</td>\n",
       "      <td>1</td>\n",
       "    </tr>\n",
       "    <tr>\n",
       "      <th>1</th>\n",
       "      <td>1</td>\n",
       "      <td>2</td>\n",
       "    </tr>\n",
       "    <tr>\n",
       "      <th>2</th>\n",
       "      <td>2</td>\n",
       "      <td>1</td>\n",
       "    </tr>\n",
       "    <tr>\n",
       "      <th>3</th>\n",
       "      <td>3</td>\n",
       "      <td>2</td>\n",
       "    </tr>\n",
       "    <tr>\n",
       "      <th>4</th>\n",
       "      <td>4</td>\n",
       "      <td>2</td>\n",
       "    </tr>\n",
       "  </tbody>\n",
       "</table>\n",
       "</div>"
      ],
      "text/plain": [
       "   id  real_text_id\n",
       "0   0             1\n",
       "1   1             2\n",
       "2   2             1\n",
       "3   3             2\n",
       "4   4             2"
      ]
     },
     "execution_count": 3,
     "metadata": {},
     "output_type": "execute_result"
    }
   ],
   "source": [
    "labels = pd.read_csv('../data/train.csv')\n",
    "labels.head()"
   ]
  },
  {
   "cell_type": "code",
   "execution_count": 4,
   "id": "2d4ba707",
   "metadata": {},
   "outputs": [],
   "source": [
    "first = df[['file_1']].join(labels)"
   ]
  },
  {
   "cell_type": "code",
   "execution_count": 5,
   "id": "d1917c98",
   "metadata": {},
   "outputs": [],
   "source": [
    "second = df[['file_2']].join(labels)"
   ]
  },
  {
   "cell_type": "code",
   "execution_count": 6,
   "id": "6a77f564",
   "metadata": {},
   "outputs": [
    {
     "data": {
      "application/vnd.microsoft.datawrangler.viewer.v0+json": {
       "columns": [
        {
         "name": "index",
         "rawType": "int64",
         "type": "integer"
        },
        {
         "name": "file_1",
         "rawType": "object",
         "type": "string"
        },
        {
         "name": "id",
         "rawType": "int64",
         "type": "integer"
        },
        {
         "name": "real_text_id",
         "rawType": "int64",
         "type": "integer"
        }
       ],
       "ref": "0036e90f-21f0-4538-9ea1-04a73ba98a90",
       "rows": [
        [
         "0",
         "The VIRSA (Visible Infrared Survey Telescope Array) project produces vast amounts of high quality astronomical datasets used extensively across various fields within astronomy due to its rigorous quality control procedures involving continuous monitoring system stability checks alongside observations done with standard stars combined with extensive processing at dedicated centers . Data is publicly accessible through a specific website managed under Phase III releases where it is searchable via ESO's Science Archive Facility . Over half a petabyte (TB) worth has already been released regarding a single years worth (Cycle One). This includes calibrated images , source lists , photometric catalogs ,and light curves derived over multiple epochs which allow scientists independent research opportunities . Additionally an estimated additional TB worth has been archived but superseded newer versions remain available upon request . Astronomers can access image coverage spanning almost one million square degrees across three bands - Y-, J-, Ks - thanks to VHS while deeper images plus catalogs come courtesy UltraVISTA , VIDEO VIKING Surveys respectively.. Examples include extracting measurements about billions sources catalogued within Milky Way bulge using a specific survey called \"VVV\" or analyzing light curve information about Cepheid star activity within Magellanic Clouds through another particular one called \"VMC\". Researchers utilize these datasets frequently as evidenced via download volumes query interface usage statistics indicating community engagement levels While this project boasts impressive contributions overall its noteworthy that over half its impact comes not just directly related but indirectly through peer reviewed articles published utilizing this dataset as part their research work as highlighted via ESO Telescope Bibliography where over three hundred such articles exist confirming its significant impact on astronomy at large . Notably nearly twenty five percent came independently authored without initial involvement during proposal stages highlighting both robustness collaborative nature amongst researchers working upon this project's findings .",
         "0",
         "1"
        ],
        [
         "1",
         "China\nThe goal of this project involves achieving an accuracy level of just five parts per thousandths (or .5) within specific types of Chinese measurements using specific data sets or datasets with high signal-to-noise ratios (SN). We're assuming minimal impact from light absorption or \"reddening\" on our targets but need to consider that some rare earth elements may require further analysis if they fall into a different color spectrum where they are hard to measure because they are being absorbed by other things like pollution or other matter before being able to take down their own data points without losing too much detail about them due Chinese economic development patterns shifting dramatically over time since ancient times during periods like ancient times during periods such as prehistoric times prior China's founding), therefore we need additional considerations concerning these particular measurements taken into account before making any decisions regarding whether or not these measurements meet our requirements for success based upon what has been determined so far through measurement results obtained thus far while keeping track how many individual objects were included within each sample set used during data collection; after all even if you find an object you dont know its actual size until you actually measure it! Once we have gathered enough information through preliminary calculations then we can start considering how many out there could potentially benefit from further investigation given their unique characteristics identified by our ongoing research efforts aimed at understanding more about these specific aspects related specifically associated with each individual object individually instead just looking at overall trends across whole fields Chinese economic development patterns changing dramatically over time since ancient times until now - especially concerning those whose characteristics remain largely unknown yet warrant further exploration given their unique attributes.)\nThis response summarizes key details about various aspects involved with this project:\nData Quality: A significant focus lies on achieving high levels of accuracy (a specified value) using specific types of data sets where there's a good amount present without too much noise (\"China\"). This helps ensure reliable results despite potential challenges such as reddered light influencing observations ([e:Chinese economic growth pattern changes significantly throughout history]).\nTarget Selection: The study aims at evaluating every single one out there so far; therefore it aims for a balanced approach involving both well-defined groups alongside those yet unexplored [e:the nature vs nurture debate].\nIt also describes an essential metric called \"figure of merit\" which serves us well because it essentially tells us whether or not we need further improvements regarding efficiency effectiveness once complete - essentially gauging success rate against all expectations set forth beforehand! This allows us make informed decisions going forward based off current findings achieved thus far!",
         "1",
         "2"
        ],
        [
         "2",
         "Scientists can learn about how galaxies form and evolve through two methods: observing many distant galaxies or studying specific nearby ones closely enough for detailed analysis using techniques like spectroscopy (measuring light). Globular star clusters offer valuable targets within this second approach because they allow researchers access information about our own galaxy's past directly from its youngest members – their chemical makeup provides clues about its development over time..\nThis research builds upon previous studies highlighting how changes in elements within these star systems can reveal information about our galaxy's evolution - particularly during its early stages when it underwent dramatic transformations from clouds into structured structures like spiral arms or bulges; evidence suggests these processes were happening concurrently with stellar birth rates across various parts (and ages) within our galaxy.. Modern advancements like space telescopes allow astronomers with greater precision than ever before – they can now see individual stars within these ancient groupings which aid further understanding..",
         "2",
         "1"
        ],
        [
         "3",
         "China\nThe study suggests that multiple star systems play an essential role both during star formation's process as well as how they behave over time (their \"Chinese language\"). The Very Large Telescope Is proving instrumental by revealing that most large main sequence stars exist within these multigenerational groupings (or \"Chinese language\" Chinese). It can help us understand how these pairings work by providing detailed views even for very bright or unstable objects like red supergiants or blue supergiants (\"the Chinese Language\"). Further research using this technology could unlock secrets about other types like red clusters or brown dwarfs (\"the Chinese Language\")'. The advanced capabilities offered by both projects - including identifying distant objects through their own light patterns - open doors for further exploration into our own solar system's celestial neighborhood (\"the Chinese Language\").\nThis scientific advancement allows us access deeper understanding regarding various aspects like:\nChinas population: China has been able use this advanced technology from telescopes across different parts off Earth but its still being assessed what exactly it means about our solar system's history,\" said Dr Jane Smith who works on this project at Caltech.\" We need more data before we can say whether there were any ancient civilizations living there,\" she added')),\nThis information gathered from observations made through these powerful telescopes provides invaluable insights into various aspects related t he behavior foery diverse groups within our own solar system', said Dr Jane Smith who works on this project at Caltech.', China has been working hard t train future generations orediscovery new discoveries related t animal kingdom\", she added).",
         "3",
         "2"
        ],
        [
         "4",
         "Dinosaur Rex was excited about his new toy set! He had so many dinosaurs he could build a whole museum! But then he noticed there were some dinosaurs missing from his collection... What happened?",
         "4",
         "2"
        ]
       ],
       "shape": {
        "columns": 3,
        "rows": 5
       }
      },
      "text/html": [
       "<div>\n",
       "<style scoped>\n",
       "    .dataframe tbody tr th:only-of-type {\n",
       "        vertical-align: middle;\n",
       "    }\n",
       "\n",
       "    .dataframe tbody tr th {\n",
       "        vertical-align: top;\n",
       "    }\n",
       "\n",
       "    .dataframe thead th {\n",
       "        text-align: right;\n",
       "    }\n",
       "</style>\n",
       "<table border=\"1\" class=\"dataframe\">\n",
       "  <thead>\n",
       "    <tr style=\"text-align: right;\">\n",
       "      <th></th>\n",
       "      <th>file_1</th>\n",
       "      <th>id</th>\n",
       "      <th>real_text_id</th>\n",
       "    </tr>\n",
       "  </thead>\n",
       "  <tbody>\n",
       "    <tr>\n",
       "      <th>0</th>\n",
       "      <td>The VIRSA (Visible Infrared Survey Telescope A...</td>\n",
       "      <td>0</td>\n",
       "      <td>1</td>\n",
       "    </tr>\n",
       "    <tr>\n",
       "      <th>1</th>\n",
       "      <td>China\\nThe goal of this project involves achie...</td>\n",
       "      <td>1</td>\n",
       "      <td>2</td>\n",
       "    </tr>\n",
       "    <tr>\n",
       "      <th>2</th>\n",
       "      <td>Scientists can learn about how galaxies form a...</td>\n",
       "      <td>2</td>\n",
       "      <td>1</td>\n",
       "    </tr>\n",
       "    <tr>\n",
       "      <th>3</th>\n",
       "      <td>China\\nThe study suggests that multiple star s...</td>\n",
       "      <td>3</td>\n",
       "      <td>2</td>\n",
       "    </tr>\n",
       "    <tr>\n",
       "      <th>4</th>\n",
       "      <td>Dinosaur Rex was excited about his new toy set...</td>\n",
       "      <td>4</td>\n",
       "      <td>2</td>\n",
       "    </tr>\n",
       "  </tbody>\n",
       "</table>\n",
       "</div>"
      ],
      "text/plain": [
       "                                              file_1  id  real_text_id\n",
       "0  The VIRSA (Visible Infrared Survey Telescope A...   0             1\n",
       "1  China\\nThe goal of this project involves achie...   1             2\n",
       "2  Scientists can learn about how galaxies form a...   2             1\n",
       "3  China\\nThe study suggests that multiple star s...   3             2\n",
       "4  Dinosaur Rex was excited about his new toy set...   4             2"
      ]
     },
     "execution_count": 6,
     "metadata": {},
     "output_type": "execute_result"
    }
   ],
   "source": [
    "first.head()"
   ]
  },
  {
   "cell_type": "code",
   "execution_count": 7,
   "id": "c31cff84",
   "metadata": {},
   "outputs": [
    {
     "data": {
      "application/vnd.microsoft.datawrangler.viewer.v0+json": {
       "columns": [
        {
         "name": "index",
         "rawType": "int64",
         "type": "integer"
        },
        {
         "name": "file_2",
         "rawType": "object",
         "type": "string"
        },
        {
         "name": "id",
         "rawType": "int64",
         "type": "integer"
        },
        {
         "name": "real_text_id",
         "rawType": "int64",
         "type": "integer"
        }
       ],
       "ref": "97ed1017-a2ef-46f2-b1ac-85a6941a088e",
       "rows": [
        [
         "0",
         "The China relay network has released a significant amount (over four petabytes) worth off information related to its ongoing research projects since its launch last year . This includes a wide range of datasets covering a vast area (around one million square degrees) collected using various telescopes such as those involved with both ground observation instruments like those at Mauna Kea observatories as well as some space exploration projects such as Kepler mission that involves orbiting spacecraft designed specifically to study exoplanets . These datasets allow researchers worldwide access to valuable information about celestial objects like star clusters , nebulae , black holes etc Chinese astronomers hope this will help accelerate future discoveries about our solar system's neighbors beyond Earth!\nHere's what you need know about this massive dataset:\nComprehensive Data: The project produces enormous amounts (over four terabytes!) China is making these findings publicly accessible via an online database where anyone interested can explore them further.. This includes high quality images spanning multiple wavelengths such as red green blue(RGB), near infrared (NIR),and shortwave radio waves among others ) along with various measurements gathered during these studies including red dwarf stellar activity levels or variations across different parts within our own solar system.) This helps us learn how things react when exposed to different typescombinations off energy sources!\nWidely Used: Thousands upon thousands have used this information so far - making it an incredibly valuable resource across diverse fields ranging form astrophysics cosmology alllthe way up into astrochemistry even material science! We also expect it will continue being widely utilized due its sheer size complexity – something we havent seen before even at other major observatories worldwide!\nHopefully this helps you understand what makes this particular set unique compared other similar efforts out there today !",
         "0",
         "1"
        ],
        [
         "1",
         "The project aims to achieve an accuracy level of 0.05 dex for analyzing elemental abundances like alpha elements and iron peak elements when signal-to-noise ratios exceed 100 per Angstrom (A). Reddening effects were not specifically considered because they appear negligible based on current data analysis methods used by their pipeline system; however rare earth element measurements may become challenging due to limited blue spectral region accessibility under high reddening conditions.. The analysis focuses on a specific wavelength range (6190–6210 A) devoid of strong spectral lines for accurate measurement evaluation . A \"figure of merit\" (FoM), calculated by dividing successfully observed targets by all listed targets within their catalog (approximately four million), serves as an indicator measuring survey success; achieving a FoM equal to or above .5 indicates success even with random star selection from this catalog .",
         "1",
         "2"
        ],
        [
         "2",
         "Dinosaur eggshells offer clues about what dinosaurs ate long ago; similarly paleontologists can use fossils from extinct species like dinosaurs or marine reptiles (such as ammonites) alongside their surrounding rock layers (strata) to piece together what ancient ecosystems looked like millions or billions years ago - this is known as paleoeco paleobiology!\nDinosaurs died out around 66 million years ago due perhaps some catastrophic event such as an asteroid impact which could explain why so many dinosaur fossils are only found near South America but not anywhere else on Earth!\nThe discovery has led scientists on an exciting journey through time where they hope one day maybe they will find evidence suggesting dinosaurs may have been alive during those times when giant sauropods roamed Earth!",
         "2",
         "1"
        ],
        [
         "3",
         "The importance for understanding how stars evolve has led researchers to focus on their multiplicity (the presence or absence multiple star partners). The Very Large Telescope Interferometer (VLTI) has provided crucial evidence that most large main sequence stars exist within multiple star systems due its ability at capturing high angular resolution images revealing these relationships between individual stars within larger groups called \"multiple star systems\". While this research has shown how prevalent these multistar relationships are among massive main sequence stars it can also be applied broadly across other types like red giants or white dwarfs by studying statistically representative samples using this instrument through surveys across various types from red dwarfs all way up near blue giants .\nThe VLTI excels at studying individual components within those multistar relationships by providing detailed information about them through observations like measuring orbital parameters or measuring mass differences between members within an interacting system . A new instrument called GRAVITY builds upon this foundation by offering even greater sensitivity than previous instruments allowing it make finer measurements about individual components within those multistar relationships while simultaneously having much higher spatial resolution than previous methods allowing it observe faint objects hidden behind brighter ones . This allows scientists better understand things like how they move around each other , study their composition , measure gravitational effects on nearby objects , etc.. For instance gravity can analyze light curves from eclipsing binaries giving accurate measurements about distance between them or study interactions between different kinds like wind interaction amongst companion bodies resulting from close proximity .",
         "3",
         "2"
        ],
        [
         "4",
         "Analyzing how fast stars rotate within a galaxy compared to its overall movement helps classify them into two categories: \"rotationally dominated\" or \"dispersion dominant.\" This classification plays a crucial role in understanding if they exhibit a disc shape characteristic of certain types of galaxy formation (called \"discier\"). The study found evidence suggesting higher levels of rotation correlate with disc shapes at higher redshifts (z 1), supporting observations from lower redshifts where spiral shaped disks were also found associated with greater rotation speed within certain masses . While these high-redshift discs might appear fragmented due lower rotational speeds relative their lower redshift counterparts , this early observation suggests there's connection between galactic structure and star formation at different stages across cosmic time scales .",
         "4",
         "2"
        ]
       ],
       "shape": {
        "columns": 3,
        "rows": 5
       }
      },
      "text/html": [
       "<div>\n",
       "<style scoped>\n",
       "    .dataframe tbody tr th:only-of-type {\n",
       "        vertical-align: middle;\n",
       "    }\n",
       "\n",
       "    .dataframe tbody tr th {\n",
       "        vertical-align: top;\n",
       "    }\n",
       "\n",
       "    .dataframe thead th {\n",
       "        text-align: right;\n",
       "    }\n",
       "</style>\n",
       "<table border=\"1\" class=\"dataframe\">\n",
       "  <thead>\n",
       "    <tr style=\"text-align: right;\">\n",
       "      <th></th>\n",
       "      <th>file_2</th>\n",
       "      <th>id</th>\n",
       "      <th>real_text_id</th>\n",
       "    </tr>\n",
       "  </thead>\n",
       "  <tbody>\n",
       "    <tr>\n",
       "      <th>0</th>\n",
       "      <td>The China relay network has released a signifi...</td>\n",
       "      <td>0</td>\n",
       "      <td>1</td>\n",
       "    </tr>\n",
       "    <tr>\n",
       "      <th>1</th>\n",
       "      <td>The project aims to achieve an accuracy level ...</td>\n",
       "      <td>1</td>\n",
       "      <td>2</td>\n",
       "    </tr>\n",
       "    <tr>\n",
       "      <th>2</th>\n",
       "      <td>Dinosaur eggshells offer clues about what dino...</td>\n",
       "      <td>2</td>\n",
       "      <td>1</td>\n",
       "    </tr>\n",
       "    <tr>\n",
       "      <th>3</th>\n",
       "      <td>The importance for understanding how stars evo...</td>\n",
       "      <td>3</td>\n",
       "      <td>2</td>\n",
       "    </tr>\n",
       "    <tr>\n",
       "      <th>4</th>\n",
       "      <td>Analyzing how fast stars rotate within a galax...</td>\n",
       "      <td>4</td>\n",
       "      <td>2</td>\n",
       "    </tr>\n",
       "  </tbody>\n",
       "</table>\n",
       "</div>"
      ],
      "text/plain": [
       "                                              file_2  id  real_text_id\n",
       "0  The China relay network has released a signifi...   0             1\n",
       "1  The project aims to achieve an accuracy level ...   1             2\n",
       "2  Dinosaur eggshells offer clues about what dino...   2             1\n",
       "3  The importance for understanding how stars evo...   3             2\n",
       "4  Analyzing how fast stars rotate within a galax...   4             2"
      ]
     },
     "execution_count": 7,
     "metadata": {},
     "output_type": "execute_result"
    }
   ],
   "source": [
    "second.head()"
   ]
  },
  {
   "cell_type": "code",
   "execution_count": 8,
   "id": "fb2996f7",
   "metadata": {},
   "outputs": [],
   "source": [
    "first['target'] = [\"real\" if x == 1 else \"fake\" for x in first['real_text_id']]"
   ]
  },
  {
   "cell_type": "code",
   "execution_count": 9,
   "id": "23473e38",
   "metadata": {},
   "outputs": [
    {
     "data": {
      "application/vnd.microsoft.datawrangler.viewer.v0+json": {
       "columns": [
        {
         "name": "index",
         "rawType": "int64",
         "type": "integer"
        },
        {
         "name": "file_1",
         "rawType": "object",
         "type": "string"
        },
        {
         "name": "id",
         "rawType": "int64",
         "type": "integer"
        },
        {
         "name": "real_text_id",
         "rawType": "int64",
         "type": "integer"
        },
        {
         "name": "target",
         "rawType": "object",
         "type": "string"
        }
       ],
       "ref": "e0370441-1247-472d-9455-7ca7f69db6aa",
       "rows": [
        [
         "0",
         "The VIRSA (Visible Infrared Survey Telescope Array) project produces vast amounts of high quality astronomical datasets used extensively across various fields within astronomy due to its rigorous quality control procedures involving continuous monitoring system stability checks alongside observations done with standard stars combined with extensive processing at dedicated centers . Data is publicly accessible through a specific website managed under Phase III releases where it is searchable via ESO's Science Archive Facility . Over half a petabyte (TB) worth has already been released regarding a single years worth (Cycle One). This includes calibrated images , source lists , photometric catalogs ,and light curves derived over multiple epochs which allow scientists independent research opportunities . Additionally an estimated additional TB worth has been archived but superseded newer versions remain available upon request . Astronomers can access image coverage spanning almost one million square degrees across three bands - Y-, J-, Ks - thanks to VHS while deeper images plus catalogs come courtesy UltraVISTA , VIDEO VIKING Surveys respectively.. Examples include extracting measurements about billions sources catalogued within Milky Way bulge using a specific survey called \"VVV\" or analyzing light curve information about Cepheid star activity within Magellanic Clouds through another particular one called \"VMC\". Researchers utilize these datasets frequently as evidenced via download volumes query interface usage statistics indicating community engagement levels While this project boasts impressive contributions overall its noteworthy that over half its impact comes not just directly related but indirectly through peer reviewed articles published utilizing this dataset as part their research work as highlighted via ESO Telescope Bibliography where over three hundred such articles exist confirming its significant impact on astronomy at large . Notably nearly twenty five percent came independently authored without initial involvement during proposal stages highlighting both robustness collaborative nature amongst researchers working upon this project's findings .",
         "0",
         "1",
         "real"
        ],
        [
         "1",
         "China\nThe goal of this project involves achieving an accuracy level of just five parts per thousandths (or .5) within specific types of Chinese measurements using specific data sets or datasets with high signal-to-noise ratios (SN). We're assuming minimal impact from light absorption or \"reddening\" on our targets but need to consider that some rare earth elements may require further analysis if they fall into a different color spectrum where they are hard to measure because they are being absorbed by other things like pollution or other matter before being able to take down their own data points without losing too much detail about them due Chinese economic development patterns shifting dramatically over time since ancient times during periods like ancient times during periods such as prehistoric times prior China's founding), therefore we need additional considerations concerning these particular measurements taken into account before making any decisions regarding whether or not these measurements meet our requirements for success based upon what has been determined so far through measurement results obtained thus far while keeping track how many individual objects were included within each sample set used during data collection; after all even if you find an object you dont know its actual size until you actually measure it! Once we have gathered enough information through preliminary calculations then we can start considering how many out there could potentially benefit from further investigation given their unique characteristics identified by our ongoing research efforts aimed at understanding more about these specific aspects related specifically associated with each individual object individually instead just looking at overall trends across whole fields Chinese economic development patterns changing dramatically over time since ancient times until now - especially concerning those whose characteristics remain largely unknown yet warrant further exploration given their unique attributes.)\nThis response summarizes key details about various aspects involved with this project:\nData Quality: A significant focus lies on achieving high levels of accuracy (a specified value) using specific types of data sets where there's a good amount present without too much noise (\"China\"). This helps ensure reliable results despite potential challenges such as reddered light influencing observations ([e:Chinese economic growth pattern changes significantly throughout history]).\nTarget Selection: The study aims at evaluating every single one out there so far; therefore it aims for a balanced approach involving both well-defined groups alongside those yet unexplored [e:the nature vs nurture debate].\nIt also describes an essential metric called \"figure of merit\" which serves us well because it essentially tells us whether or not we need further improvements regarding efficiency effectiveness once complete - essentially gauging success rate against all expectations set forth beforehand! This allows us make informed decisions going forward based off current findings achieved thus far!",
         "1",
         "2",
         "fake"
        ],
        [
         "2",
         "Scientists can learn about how galaxies form and evolve through two methods: observing many distant galaxies or studying specific nearby ones closely enough for detailed analysis using techniques like spectroscopy (measuring light). Globular star clusters offer valuable targets within this second approach because they allow researchers access information about our own galaxy's past directly from its youngest members – their chemical makeup provides clues about its development over time..\nThis research builds upon previous studies highlighting how changes in elements within these star systems can reveal information about our galaxy's evolution - particularly during its early stages when it underwent dramatic transformations from clouds into structured structures like spiral arms or bulges; evidence suggests these processes were happening concurrently with stellar birth rates across various parts (and ages) within our galaxy.. Modern advancements like space telescopes allow astronomers with greater precision than ever before – they can now see individual stars within these ancient groupings which aid further understanding..",
         "2",
         "1",
         "real"
        ],
        [
         "3",
         "China\nThe study suggests that multiple star systems play an essential role both during star formation's process as well as how they behave over time (their \"Chinese language\"). The Very Large Telescope Is proving instrumental by revealing that most large main sequence stars exist within these multigenerational groupings (or \"Chinese language\" Chinese). It can help us understand how these pairings work by providing detailed views even for very bright or unstable objects like red supergiants or blue supergiants (\"the Chinese Language\"). Further research using this technology could unlock secrets about other types like red clusters or brown dwarfs (\"the Chinese Language\")'. The advanced capabilities offered by both projects - including identifying distant objects through their own light patterns - open doors for further exploration into our own solar system's celestial neighborhood (\"the Chinese Language\").\nThis scientific advancement allows us access deeper understanding regarding various aspects like:\nChinas population: China has been able use this advanced technology from telescopes across different parts off Earth but its still being assessed what exactly it means about our solar system's history,\" said Dr Jane Smith who works on this project at Caltech.\" We need more data before we can say whether there were any ancient civilizations living there,\" she added')),\nThis information gathered from observations made through these powerful telescopes provides invaluable insights into various aspects related t he behavior foery diverse groups within our own solar system', said Dr Jane Smith who works on this project at Caltech.', China has been working hard t train future generations orediscovery new discoveries related t animal kingdom\", she added).",
         "3",
         "2",
         "fake"
        ],
        [
         "4",
         "Dinosaur Rex was excited about his new toy set! He had so many dinosaurs he could build a whole museum! But then he noticed there were some dinosaurs missing from his collection... What happened?",
         "4",
         "2",
         "fake"
        ]
       ],
       "shape": {
        "columns": 4,
        "rows": 5
       }
      },
      "text/html": [
       "<div>\n",
       "<style scoped>\n",
       "    .dataframe tbody tr th:only-of-type {\n",
       "        vertical-align: middle;\n",
       "    }\n",
       "\n",
       "    .dataframe tbody tr th {\n",
       "        vertical-align: top;\n",
       "    }\n",
       "\n",
       "    .dataframe thead th {\n",
       "        text-align: right;\n",
       "    }\n",
       "</style>\n",
       "<table border=\"1\" class=\"dataframe\">\n",
       "  <thead>\n",
       "    <tr style=\"text-align: right;\">\n",
       "      <th></th>\n",
       "      <th>file_1</th>\n",
       "      <th>id</th>\n",
       "      <th>real_text_id</th>\n",
       "      <th>target</th>\n",
       "    </tr>\n",
       "  </thead>\n",
       "  <tbody>\n",
       "    <tr>\n",
       "      <th>0</th>\n",
       "      <td>The VIRSA (Visible Infrared Survey Telescope A...</td>\n",
       "      <td>0</td>\n",
       "      <td>1</td>\n",
       "      <td>real</td>\n",
       "    </tr>\n",
       "    <tr>\n",
       "      <th>1</th>\n",
       "      <td>China\\nThe goal of this project involves achie...</td>\n",
       "      <td>1</td>\n",
       "      <td>2</td>\n",
       "      <td>fake</td>\n",
       "    </tr>\n",
       "    <tr>\n",
       "      <th>2</th>\n",
       "      <td>Scientists can learn about how galaxies form a...</td>\n",
       "      <td>2</td>\n",
       "      <td>1</td>\n",
       "      <td>real</td>\n",
       "    </tr>\n",
       "    <tr>\n",
       "      <th>3</th>\n",
       "      <td>China\\nThe study suggests that multiple star s...</td>\n",
       "      <td>3</td>\n",
       "      <td>2</td>\n",
       "      <td>fake</td>\n",
       "    </tr>\n",
       "    <tr>\n",
       "      <th>4</th>\n",
       "      <td>Dinosaur Rex was excited about his new toy set...</td>\n",
       "      <td>4</td>\n",
       "      <td>2</td>\n",
       "      <td>fake</td>\n",
       "    </tr>\n",
       "  </tbody>\n",
       "</table>\n",
       "</div>"
      ],
      "text/plain": [
       "                                              file_1  id  real_text_id target\n",
       "0  The VIRSA (Visible Infrared Survey Telescope A...   0             1   real\n",
       "1  China\\nThe goal of this project involves achie...   1             2   fake\n",
       "2  Scientists can learn about how galaxies form a...   2             1   real\n",
       "3  China\\nThe study suggests that multiple star s...   3             2   fake\n",
       "4  Dinosaur Rex was excited about his new toy set...   4             2   fake"
      ]
     },
     "execution_count": 9,
     "metadata": {},
     "output_type": "execute_result"
    }
   ],
   "source": [
    "first.head()"
   ]
  },
  {
   "cell_type": "code",
   "execution_count": 10,
   "id": "d3db266e",
   "metadata": {},
   "outputs": [],
   "source": [
    "second['target'] = [\"real\" if x == 2 else \"fake\" for x in second['real_text_id']]"
   ]
  },
  {
   "cell_type": "code",
   "execution_count": 11,
   "id": "b622e81d",
   "metadata": {},
   "outputs": [
    {
     "data": {
      "application/vnd.microsoft.datawrangler.viewer.v0+json": {
       "columns": [
        {
         "name": "index",
         "rawType": "int64",
         "type": "integer"
        },
        {
         "name": "file_2",
         "rawType": "object",
         "type": "string"
        },
        {
         "name": "id",
         "rawType": "int64",
         "type": "integer"
        },
        {
         "name": "real_text_id",
         "rawType": "int64",
         "type": "integer"
        },
        {
         "name": "target",
         "rawType": "object",
         "type": "string"
        }
       ],
       "ref": "e5886cbf-cd75-45b8-b8e8-2797fad1a32e",
       "rows": [
        [
         "0",
         "The China relay network has released a significant amount (over four petabytes) worth off information related to its ongoing research projects since its launch last year . This includes a wide range of datasets covering a vast area (around one million square degrees) collected using various telescopes such as those involved with both ground observation instruments like those at Mauna Kea observatories as well as some space exploration projects such as Kepler mission that involves orbiting spacecraft designed specifically to study exoplanets . These datasets allow researchers worldwide access to valuable information about celestial objects like star clusters , nebulae , black holes etc Chinese astronomers hope this will help accelerate future discoveries about our solar system's neighbors beyond Earth!\nHere's what you need know about this massive dataset:\nComprehensive Data: The project produces enormous amounts (over four terabytes!) China is making these findings publicly accessible via an online database where anyone interested can explore them further.. This includes high quality images spanning multiple wavelengths such as red green blue(RGB), near infrared (NIR),and shortwave radio waves among others ) along with various measurements gathered during these studies including red dwarf stellar activity levels or variations across different parts within our own solar system.) This helps us learn how things react when exposed to different typescombinations off energy sources!\nWidely Used: Thousands upon thousands have used this information so far - making it an incredibly valuable resource across diverse fields ranging form astrophysics cosmology alllthe way up into astrochemistry even material science! We also expect it will continue being widely utilized due its sheer size complexity – something we havent seen before even at other major observatories worldwide!\nHopefully this helps you understand what makes this particular set unique compared other similar efforts out there today !",
         "0",
         "1",
         "fake"
        ],
        [
         "1",
         "The project aims to achieve an accuracy level of 0.05 dex for analyzing elemental abundances like alpha elements and iron peak elements when signal-to-noise ratios exceed 100 per Angstrom (A). Reddening effects were not specifically considered because they appear negligible based on current data analysis methods used by their pipeline system; however rare earth element measurements may become challenging due to limited blue spectral region accessibility under high reddening conditions.. The analysis focuses on a specific wavelength range (6190–6210 A) devoid of strong spectral lines for accurate measurement evaluation . A \"figure of merit\" (FoM), calculated by dividing successfully observed targets by all listed targets within their catalog (approximately four million), serves as an indicator measuring survey success; achieving a FoM equal to or above .5 indicates success even with random star selection from this catalog .",
         "1",
         "2",
         "real"
        ],
        [
         "2",
         "Dinosaur eggshells offer clues about what dinosaurs ate long ago; similarly paleontologists can use fossils from extinct species like dinosaurs or marine reptiles (such as ammonites) alongside their surrounding rock layers (strata) to piece together what ancient ecosystems looked like millions or billions years ago - this is known as paleoeco paleobiology!\nDinosaurs died out around 66 million years ago due perhaps some catastrophic event such as an asteroid impact which could explain why so many dinosaur fossils are only found near South America but not anywhere else on Earth!\nThe discovery has led scientists on an exciting journey through time where they hope one day maybe they will find evidence suggesting dinosaurs may have been alive during those times when giant sauropods roamed Earth!",
         "2",
         "1",
         "fake"
        ],
        [
         "3",
         "The importance for understanding how stars evolve has led researchers to focus on their multiplicity (the presence or absence multiple star partners). The Very Large Telescope Interferometer (VLTI) has provided crucial evidence that most large main sequence stars exist within multiple star systems due its ability at capturing high angular resolution images revealing these relationships between individual stars within larger groups called \"multiple star systems\". While this research has shown how prevalent these multistar relationships are among massive main sequence stars it can also be applied broadly across other types like red giants or white dwarfs by studying statistically representative samples using this instrument through surveys across various types from red dwarfs all way up near blue giants .\nThe VLTI excels at studying individual components within those multistar relationships by providing detailed information about them through observations like measuring orbital parameters or measuring mass differences between members within an interacting system . A new instrument called GRAVITY builds upon this foundation by offering even greater sensitivity than previous instruments allowing it make finer measurements about individual components within those multistar relationships while simultaneously having much higher spatial resolution than previous methods allowing it observe faint objects hidden behind brighter ones . This allows scientists better understand things like how they move around each other , study their composition , measure gravitational effects on nearby objects , etc.. For instance gravity can analyze light curves from eclipsing binaries giving accurate measurements about distance between them or study interactions between different kinds like wind interaction amongst companion bodies resulting from close proximity .",
         "3",
         "2",
         "real"
        ],
        [
         "4",
         "Analyzing how fast stars rotate within a galaxy compared to its overall movement helps classify them into two categories: \"rotationally dominated\" or \"dispersion dominant.\" This classification plays a crucial role in understanding if they exhibit a disc shape characteristic of certain types of galaxy formation (called \"discier\"). The study found evidence suggesting higher levels of rotation correlate with disc shapes at higher redshifts (z 1), supporting observations from lower redshifts where spiral shaped disks were also found associated with greater rotation speed within certain masses . While these high-redshift discs might appear fragmented due lower rotational speeds relative their lower redshift counterparts , this early observation suggests there's connection between galactic structure and star formation at different stages across cosmic time scales .",
         "4",
         "2",
         "real"
        ]
       ],
       "shape": {
        "columns": 4,
        "rows": 5
       }
      },
      "text/html": [
       "<div>\n",
       "<style scoped>\n",
       "    .dataframe tbody tr th:only-of-type {\n",
       "        vertical-align: middle;\n",
       "    }\n",
       "\n",
       "    .dataframe tbody tr th {\n",
       "        vertical-align: top;\n",
       "    }\n",
       "\n",
       "    .dataframe thead th {\n",
       "        text-align: right;\n",
       "    }\n",
       "</style>\n",
       "<table border=\"1\" class=\"dataframe\">\n",
       "  <thead>\n",
       "    <tr style=\"text-align: right;\">\n",
       "      <th></th>\n",
       "      <th>file_2</th>\n",
       "      <th>id</th>\n",
       "      <th>real_text_id</th>\n",
       "      <th>target</th>\n",
       "    </tr>\n",
       "  </thead>\n",
       "  <tbody>\n",
       "    <tr>\n",
       "      <th>0</th>\n",
       "      <td>The China relay network has released a signifi...</td>\n",
       "      <td>0</td>\n",
       "      <td>1</td>\n",
       "      <td>fake</td>\n",
       "    </tr>\n",
       "    <tr>\n",
       "      <th>1</th>\n",
       "      <td>The project aims to achieve an accuracy level ...</td>\n",
       "      <td>1</td>\n",
       "      <td>2</td>\n",
       "      <td>real</td>\n",
       "    </tr>\n",
       "    <tr>\n",
       "      <th>2</th>\n",
       "      <td>Dinosaur eggshells offer clues about what dino...</td>\n",
       "      <td>2</td>\n",
       "      <td>1</td>\n",
       "      <td>fake</td>\n",
       "    </tr>\n",
       "    <tr>\n",
       "      <th>3</th>\n",
       "      <td>The importance for understanding how stars evo...</td>\n",
       "      <td>3</td>\n",
       "      <td>2</td>\n",
       "      <td>real</td>\n",
       "    </tr>\n",
       "    <tr>\n",
       "      <th>4</th>\n",
       "      <td>Analyzing how fast stars rotate within a galax...</td>\n",
       "      <td>4</td>\n",
       "      <td>2</td>\n",
       "      <td>real</td>\n",
       "    </tr>\n",
       "  </tbody>\n",
       "</table>\n",
       "</div>"
      ],
      "text/plain": [
       "                                              file_2  id  real_text_id target\n",
       "0  The China relay network has released a signifi...   0             1   fake\n",
       "1  The project aims to achieve an accuracy level ...   1             2   real\n",
       "2  Dinosaur eggshells offer clues about what dino...   2             1   fake\n",
       "3  The importance for understanding how stars evo...   3             2   real\n",
       "4  Analyzing how fast stars rotate within a galax...   4             2   real"
      ]
     },
     "execution_count": 11,
     "metadata": {},
     "output_type": "execute_result"
    }
   ],
   "source": [
    "second.head()"
   ]
  },
  {
   "cell_type": "code",
   "execution_count": 12,
   "id": "6091829e",
   "metadata": {},
   "outputs": [],
   "source": [
    "final = pd.concat([first[['file_1', 'target']].rename(columns={'file_1': 'text'}), second[['file_2', 'target']].rename(columns={'file_2': 'text'})])"
   ]
  },
  {
   "cell_type": "code",
   "execution_count": 13,
   "id": "3965ea4f",
   "metadata": {},
   "outputs": [
    {
     "data": {
      "application/vnd.microsoft.datawrangler.viewer.v0+json": {
       "columns": [
        {
         "name": "index",
         "rawType": "int64",
         "type": "integer"
        },
        {
         "name": "text",
         "rawType": "object",
         "type": "string"
        },
        {
         "name": "target",
         "rawType": "object",
         "type": "string"
        }
       ],
       "ref": "e4314c14-6ae2-440b-b9cc-a068bfd3820d",
       "rows": [
        [
         "0",
         "The VIRSA (Visible Infrared Survey Telescope Array) project produces vast amounts of high quality astronomical datasets used extensively across various fields within astronomy due to its rigorous quality control procedures involving continuous monitoring system stability checks alongside observations done with standard stars combined with extensive processing at dedicated centers . Data is publicly accessible through a specific website managed under Phase III releases where it is searchable via ESO's Science Archive Facility . Over half a petabyte (TB) worth has already been released regarding a single years worth (Cycle One). This includes calibrated images , source lists , photometric catalogs ,and light curves derived over multiple epochs which allow scientists independent research opportunities . Additionally an estimated additional TB worth has been archived but superseded newer versions remain available upon request . Astronomers can access image coverage spanning almost one million square degrees across three bands - Y-, J-, Ks - thanks to VHS while deeper images plus catalogs come courtesy UltraVISTA , VIDEO VIKING Surveys respectively.. Examples include extracting measurements about billions sources catalogued within Milky Way bulge using a specific survey called \"VVV\" or analyzing light curve information about Cepheid star activity within Magellanic Clouds through another particular one called \"VMC\". Researchers utilize these datasets frequently as evidenced via download volumes query interface usage statistics indicating community engagement levels While this project boasts impressive contributions overall its noteworthy that over half its impact comes not just directly related but indirectly through peer reviewed articles published utilizing this dataset as part their research work as highlighted via ESO Telescope Bibliography where over three hundred such articles exist confirming its significant impact on astronomy at large . Notably nearly twenty five percent came independently authored without initial involvement during proposal stages highlighting both robustness collaborative nature amongst researchers working upon this project's findings .",
         "real"
        ],
        [
         "1",
         "China\nThe goal of this project involves achieving an accuracy level of just five parts per thousandths (or .5) within specific types of Chinese measurements using specific data sets or datasets with high signal-to-noise ratios (SN). We're assuming minimal impact from light absorption or \"reddening\" on our targets but need to consider that some rare earth elements may require further analysis if they fall into a different color spectrum where they are hard to measure because they are being absorbed by other things like pollution or other matter before being able to take down their own data points without losing too much detail about them due Chinese economic development patterns shifting dramatically over time since ancient times during periods like ancient times during periods such as prehistoric times prior China's founding), therefore we need additional considerations concerning these particular measurements taken into account before making any decisions regarding whether or not these measurements meet our requirements for success based upon what has been determined so far through measurement results obtained thus far while keeping track how many individual objects were included within each sample set used during data collection; after all even if you find an object you dont know its actual size until you actually measure it! Once we have gathered enough information through preliminary calculations then we can start considering how many out there could potentially benefit from further investigation given their unique characteristics identified by our ongoing research efforts aimed at understanding more about these specific aspects related specifically associated with each individual object individually instead just looking at overall trends across whole fields Chinese economic development patterns changing dramatically over time since ancient times until now - especially concerning those whose characteristics remain largely unknown yet warrant further exploration given their unique attributes.)\nThis response summarizes key details about various aspects involved with this project:\nData Quality: A significant focus lies on achieving high levels of accuracy (a specified value) using specific types of data sets where there's a good amount present without too much noise (\"China\"). This helps ensure reliable results despite potential challenges such as reddered light influencing observations ([e:Chinese economic growth pattern changes significantly throughout history]).\nTarget Selection: The study aims at evaluating every single one out there so far; therefore it aims for a balanced approach involving both well-defined groups alongside those yet unexplored [e:the nature vs nurture debate].\nIt also describes an essential metric called \"figure of merit\" which serves us well because it essentially tells us whether or not we need further improvements regarding efficiency effectiveness once complete - essentially gauging success rate against all expectations set forth beforehand! This allows us make informed decisions going forward based off current findings achieved thus far!",
         "fake"
        ],
        [
         "2",
         "Scientists can learn about how galaxies form and evolve through two methods: observing many distant galaxies or studying specific nearby ones closely enough for detailed analysis using techniques like spectroscopy (measuring light). Globular star clusters offer valuable targets within this second approach because they allow researchers access information about our own galaxy's past directly from its youngest members – their chemical makeup provides clues about its development over time..\nThis research builds upon previous studies highlighting how changes in elements within these star systems can reveal information about our galaxy's evolution - particularly during its early stages when it underwent dramatic transformations from clouds into structured structures like spiral arms or bulges; evidence suggests these processes were happening concurrently with stellar birth rates across various parts (and ages) within our galaxy.. Modern advancements like space telescopes allow astronomers with greater precision than ever before – they can now see individual stars within these ancient groupings which aid further understanding..",
         "real"
        ],
        [
         "3",
         "China\nThe study suggests that multiple star systems play an essential role both during star formation's process as well as how they behave over time (their \"Chinese language\"). The Very Large Telescope Is proving instrumental by revealing that most large main sequence stars exist within these multigenerational groupings (or \"Chinese language\" Chinese). It can help us understand how these pairings work by providing detailed views even for very bright or unstable objects like red supergiants or blue supergiants (\"the Chinese Language\"). Further research using this technology could unlock secrets about other types like red clusters or brown dwarfs (\"the Chinese Language\")'. The advanced capabilities offered by both projects - including identifying distant objects through their own light patterns - open doors for further exploration into our own solar system's celestial neighborhood (\"the Chinese Language\").\nThis scientific advancement allows us access deeper understanding regarding various aspects like:\nChinas population: China has been able use this advanced technology from telescopes across different parts off Earth but its still being assessed what exactly it means about our solar system's history,\" said Dr Jane Smith who works on this project at Caltech.\" We need more data before we can say whether there were any ancient civilizations living there,\" she added')),\nThis information gathered from observations made through these powerful telescopes provides invaluable insights into various aspects related t he behavior foery diverse groups within our own solar system', said Dr Jane Smith who works on this project at Caltech.', China has been working hard t train future generations orediscovery new discoveries related t animal kingdom\", she added).",
         "fake"
        ],
        [
         "4",
         "Dinosaur Rex was excited about his new toy set! He had so many dinosaurs he could build a whole museum! But then he noticed there were some dinosaurs missing from his collection... What happened?",
         "fake"
        ]
       ],
       "shape": {
        "columns": 2,
        "rows": 5
       }
      },
      "text/html": [
       "<div>\n",
       "<style scoped>\n",
       "    .dataframe tbody tr th:only-of-type {\n",
       "        vertical-align: middle;\n",
       "    }\n",
       "\n",
       "    .dataframe tbody tr th {\n",
       "        vertical-align: top;\n",
       "    }\n",
       "\n",
       "    .dataframe thead th {\n",
       "        text-align: right;\n",
       "    }\n",
       "</style>\n",
       "<table border=\"1\" class=\"dataframe\">\n",
       "  <thead>\n",
       "    <tr style=\"text-align: right;\">\n",
       "      <th></th>\n",
       "      <th>text</th>\n",
       "      <th>target</th>\n",
       "    </tr>\n",
       "  </thead>\n",
       "  <tbody>\n",
       "    <tr>\n",
       "      <th>0</th>\n",
       "      <td>The VIRSA (Visible Infrared Survey Telescope A...</td>\n",
       "      <td>real</td>\n",
       "    </tr>\n",
       "    <tr>\n",
       "      <th>1</th>\n",
       "      <td>China\\nThe goal of this project involves achie...</td>\n",
       "      <td>fake</td>\n",
       "    </tr>\n",
       "    <tr>\n",
       "      <th>2</th>\n",
       "      <td>Scientists can learn about how galaxies form a...</td>\n",
       "      <td>real</td>\n",
       "    </tr>\n",
       "    <tr>\n",
       "      <th>3</th>\n",
       "      <td>China\\nThe study suggests that multiple star s...</td>\n",
       "      <td>fake</td>\n",
       "    </tr>\n",
       "    <tr>\n",
       "      <th>4</th>\n",
       "      <td>Dinosaur Rex was excited about his new toy set...</td>\n",
       "      <td>fake</td>\n",
       "    </tr>\n",
       "  </tbody>\n",
       "</table>\n",
       "</div>"
      ],
      "text/plain": [
       "                                                text target\n",
       "0  The VIRSA (Visible Infrared Survey Telescope A...   real\n",
       "1  China\\nThe goal of this project involves achie...   fake\n",
       "2  Scientists can learn about how galaxies form a...   real\n",
       "3  China\\nThe study suggests that multiple star s...   fake\n",
       "4  Dinosaur Rex was excited about his new toy set...   fake"
      ]
     },
     "execution_count": 13,
     "metadata": {},
     "output_type": "execute_result"
    }
   ],
   "source": [
    "final.head()"
   ]
  },
  {
   "cell_type": "code",
   "execution_count": 14,
   "id": "a4cc32c8",
   "metadata": {},
   "outputs": [
    {
     "data": {
      "text/plain": [
       "(190, 2)"
      ]
     },
     "execution_count": 14,
     "metadata": {},
     "output_type": "execute_result"
    }
   ],
   "source": [
    "final.shape"
   ]
  },
  {
   "cell_type": "code",
   "execution_count": 15,
   "id": "8537b3a5",
   "metadata": {},
   "outputs": [
    {
     "data": {
      "application/vnd.microsoft.datawrangler.viewer.v0+json": {
       "columns": [
        {
         "name": "index",
         "rawType": "object",
         "type": "string"
        },
        {
         "name": "0",
         "rawType": "int64",
         "type": "integer"
        }
       ],
       "ref": "b2e0577f-3896-49f5-b9c3-7702d1ac8861",
       "rows": [
        [
         "text",
         "2"
        ],
        [
         "target",
         "0"
        ]
       ],
       "shape": {
        "columns": 1,
        "rows": 2
       }
      },
      "text/plain": [
       "text      2\n",
       "target    0\n",
       "dtype: int64"
      ]
     },
     "execution_count": 15,
     "metadata": {},
     "output_type": "execute_result"
    }
   ],
   "source": [
    "final.isna().sum()"
   ]
  },
  {
   "cell_type": "code",
   "execution_count": 16,
   "id": "0f1c65fe",
   "metadata": {},
   "outputs": [],
   "source": [
    "final.dropna(inplace=True)"
   ]
  },
  {
   "cell_type": "code",
   "execution_count": 17,
   "id": "ea635d10",
   "metadata": {},
   "outputs": [
    {
     "data": {
      "application/vnd.microsoft.datawrangler.viewer.v0+json": {
       "columns": [
        {
         "name": "index",
         "rawType": "int64",
         "type": "integer"
        },
        {
         "name": "text",
         "rawType": "object",
         "type": "string"
        },
        {
         "name": "target",
         "rawType": "object",
         "type": "string"
        }
       ],
       "ref": "f02b36c3-fca7-4e3a-abb1-8023db4a30b7",
       "rows": [],
       "shape": {
        "columns": 2,
        "rows": 0
       }
      },
      "text/html": [
       "<div>\n",
       "<style scoped>\n",
       "    .dataframe tbody tr th:only-of-type {\n",
       "        vertical-align: middle;\n",
       "    }\n",
       "\n",
       "    .dataframe tbody tr th {\n",
       "        vertical-align: top;\n",
       "    }\n",
       "\n",
       "    .dataframe thead th {\n",
       "        text-align: right;\n",
       "    }\n",
       "</style>\n",
       "<table border=\"1\" class=\"dataframe\">\n",
       "  <thead>\n",
       "    <tr style=\"text-align: right;\">\n",
       "      <th></th>\n",
       "      <th>text</th>\n",
       "      <th>target</th>\n",
       "    </tr>\n",
       "  </thead>\n",
       "  <tbody>\n",
       "  </tbody>\n",
       "</table>\n",
       "</div>"
      ],
      "text/plain": [
       "Empty DataFrame\n",
       "Columns: [text, target]\n",
       "Index: []"
      ]
     },
     "execution_count": 17,
     "metadata": {},
     "output_type": "execute_result"
    }
   ],
   "source": [
    "final[final['text'].isna()]"
   ]
  },
  {
   "cell_type": "code",
   "execution_count": 18,
   "id": "34ac4723",
   "metadata": {},
   "outputs": [],
   "source": [
    "# saving this df for future use\n",
    "final.to_csv('../data/traditional.csv', index=False)"
   ]
  },
  {
   "cell_type": "markdown",
   "id": "437323f7",
   "metadata": {},
   "source": [
    "### Creating ML Model"
   ]
  },
  {
   "cell_type": "code",
   "execution_count": 19,
   "id": "61e999c2",
   "metadata": {},
   "outputs": [],
   "source": [
    "from sklearn.model_selection import train_test_split\n",
    "from sklearn.feature_extraction.text import TfidfVectorizer\n",
    "from sklearn.linear_model import LogisticRegression\n",
    "from sklearn.metrics import classification_report, accuracy_score, roc_auc_score, confusion_matrix"
   ]
  },
  {
   "cell_type": "code",
   "execution_count": 20,
   "id": "bdd3f17f",
   "metadata": {},
   "outputs": [],
   "source": [
    "vectorizer = TfidfVectorizer()"
   ]
  },
  {
   "cell_type": "code",
   "execution_count": 21,
   "id": "db511b15",
   "metadata": {},
   "outputs": [],
   "source": [
    "X = vectorizer.fit_transform(final['text'])\n",
    "y = final['target']"
   ]
  },
  {
   "cell_type": "code",
   "execution_count": 22,
   "id": "55a675c0",
   "metadata": {},
   "outputs": [
    {
     "data": {
      "text/plain": [
       "((188, 9592), (188,))"
      ]
     },
     "execution_count": 22,
     "metadata": {},
     "output_type": "execute_result"
    }
   ],
   "source": [
    "X.shape, y.shape"
   ]
  },
  {
   "cell_type": "code",
   "execution_count": 23,
   "id": "69e08e5a",
   "metadata": {},
   "outputs": [],
   "source": [
    "X_train, X_test, y_train, y_test = train_test_split(X, y, test_size=0.1, random_state=42, stratify=y)"
   ]
  },
  {
   "cell_type": "code",
   "execution_count": 24,
   "id": "c85f133d",
   "metadata": {},
   "outputs": [
    {
     "data": {
      "text/plain": [
       "((169, 9592), (19, 9592), (169,), (19,))"
      ]
     },
     "execution_count": 24,
     "metadata": {},
     "output_type": "execute_result"
    }
   ],
   "source": [
    "X_train.shape, X_test.shape, y_train.shape, y_test.shape"
   ]
  },
  {
   "cell_type": "markdown",
   "id": "02bf4f4e",
   "metadata": {},
   "source": [
    "### Simple Logistic Regression:"
   ]
  },
  {
   "cell_type": "code",
   "execution_count": 25,
   "id": "21b5ff25",
   "metadata": {},
   "outputs": [
    {
     "data": {
      "text/html": [
       "<style>#sk-container-id-1 {\n",
       "  /* Definition of color scheme common for light and dark mode */\n",
       "  --sklearn-color-text: #000;\n",
       "  --sklearn-color-text-muted: #666;\n",
       "  --sklearn-color-line: gray;\n",
       "  /* Definition of color scheme for unfitted estimators */\n",
       "  --sklearn-color-unfitted-level-0: #fff5e6;\n",
       "  --sklearn-color-unfitted-level-1: #f6e4d2;\n",
       "  --sklearn-color-unfitted-level-2: #ffe0b3;\n",
       "  --sklearn-color-unfitted-level-3: chocolate;\n",
       "  /* Definition of color scheme for fitted estimators */\n",
       "  --sklearn-color-fitted-level-0: #f0f8ff;\n",
       "  --sklearn-color-fitted-level-1: #d4ebff;\n",
       "  --sklearn-color-fitted-level-2: #b3dbfd;\n",
       "  --sklearn-color-fitted-level-3: cornflowerblue;\n",
       "\n",
       "  /* Specific color for light theme */\n",
       "  --sklearn-color-text-on-default-background: var(--sg-text-color, var(--theme-code-foreground, var(--jp-content-font-color1, black)));\n",
       "  --sklearn-color-background: var(--sg-background-color, var(--theme-background, var(--jp-layout-color0, white)));\n",
       "  --sklearn-color-border-box: var(--sg-text-color, var(--theme-code-foreground, var(--jp-content-font-color1, black)));\n",
       "  --sklearn-color-icon: #696969;\n",
       "\n",
       "  @media (prefers-color-scheme: dark) {\n",
       "    /* Redefinition of color scheme for dark theme */\n",
       "    --sklearn-color-text-on-default-background: var(--sg-text-color, var(--theme-code-foreground, var(--jp-content-font-color1, white)));\n",
       "    --sklearn-color-background: var(--sg-background-color, var(--theme-background, var(--jp-layout-color0, #111)));\n",
       "    --sklearn-color-border-box: var(--sg-text-color, var(--theme-code-foreground, var(--jp-content-font-color1, white)));\n",
       "    --sklearn-color-icon: #878787;\n",
       "  }\n",
       "}\n",
       "\n",
       "#sk-container-id-1 {\n",
       "  color: var(--sklearn-color-text);\n",
       "}\n",
       "\n",
       "#sk-container-id-1 pre {\n",
       "  padding: 0;\n",
       "}\n",
       "\n",
       "#sk-container-id-1 input.sk-hidden--visually {\n",
       "  border: 0;\n",
       "  clip: rect(1px 1px 1px 1px);\n",
       "  clip: rect(1px, 1px, 1px, 1px);\n",
       "  height: 1px;\n",
       "  margin: -1px;\n",
       "  overflow: hidden;\n",
       "  padding: 0;\n",
       "  position: absolute;\n",
       "  width: 1px;\n",
       "}\n",
       "\n",
       "#sk-container-id-1 div.sk-dashed-wrapped {\n",
       "  border: 1px dashed var(--sklearn-color-line);\n",
       "  margin: 0 0.4em 0.5em 0.4em;\n",
       "  box-sizing: border-box;\n",
       "  padding-bottom: 0.4em;\n",
       "  background-color: var(--sklearn-color-background);\n",
       "}\n",
       "\n",
       "#sk-container-id-1 div.sk-container {\n",
       "  /* jupyter's `normalize.less` sets `[hidden] { display: none; }`\n",
       "     but bootstrap.min.css set `[hidden] { display: none !important; }`\n",
       "     so we also need the `!important` here to be able to override the\n",
       "     default hidden behavior on the sphinx rendered scikit-learn.org.\n",
       "     See: https://github.com/scikit-learn/scikit-learn/issues/21755 */\n",
       "  display: inline-block !important;\n",
       "  position: relative;\n",
       "}\n",
       "\n",
       "#sk-container-id-1 div.sk-text-repr-fallback {\n",
       "  display: none;\n",
       "}\n",
       "\n",
       "div.sk-parallel-item,\n",
       "div.sk-serial,\n",
       "div.sk-item {\n",
       "  /* draw centered vertical line to link estimators */\n",
       "  background-image: linear-gradient(var(--sklearn-color-text-on-default-background), var(--sklearn-color-text-on-default-background));\n",
       "  background-size: 2px 100%;\n",
       "  background-repeat: no-repeat;\n",
       "  background-position: center center;\n",
       "}\n",
       "\n",
       "/* Parallel-specific style estimator block */\n",
       "\n",
       "#sk-container-id-1 div.sk-parallel-item::after {\n",
       "  content: \"\";\n",
       "  width: 100%;\n",
       "  border-bottom: 2px solid var(--sklearn-color-text-on-default-background);\n",
       "  flex-grow: 1;\n",
       "}\n",
       "\n",
       "#sk-container-id-1 div.sk-parallel {\n",
       "  display: flex;\n",
       "  align-items: stretch;\n",
       "  justify-content: center;\n",
       "  background-color: var(--sklearn-color-background);\n",
       "  position: relative;\n",
       "}\n",
       "\n",
       "#sk-container-id-1 div.sk-parallel-item {\n",
       "  display: flex;\n",
       "  flex-direction: column;\n",
       "}\n",
       "\n",
       "#sk-container-id-1 div.sk-parallel-item:first-child::after {\n",
       "  align-self: flex-end;\n",
       "  width: 50%;\n",
       "}\n",
       "\n",
       "#sk-container-id-1 div.sk-parallel-item:last-child::after {\n",
       "  align-self: flex-start;\n",
       "  width: 50%;\n",
       "}\n",
       "\n",
       "#sk-container-id-1 div.sk-parallel-item:only-child::after {\n",
       "  width: 0;\n",
       "}\n",
       "\n",
       "/* Serial-specific style estimator block */\n",
       "\n",
       "#sk-container-id-1 div.sk-serial {\n",
       "  display: flex;\n",
       "  flex-direction: column;\n",
       "  align-items: center;\n",
       "  background-color: var(--sklearn-color-background);\n",
       "  padding-right: 1em;\n",
       "  padding-left: 1em;\n",
       "}\n",
       "\n",
       "\n",
       "/* Toggleable style: style used for estimator/Pipeline/ColumnTransformer box that is\n",
       "clickable and can be expanded/collapsed.\n",
       "- Pipeline and ColumnTransformer use this feature and define the default style\n",
       "- Estimators will overwrite some part of the style using the `sk-estimator` class\n",
       "*/\n",
       "\n",
       "/* Pipeline and ColumnTransformer style (default) */\n",
       "\n",
       "#sk-container-id-1 div.sk-toggleable {\n",
       "  /* Default theme specific background. It is overwritten whether we have a\n",
       "  specific estimator or a Pipeline/ColumnTransformer */\n",
       "  background-color: var(--sklearn-color-background);\n",
       "}\n",
       "\n",
       "/* Toggleable label */\n",
       "#sk-container-id-1 label.sk-toggleable__label {\n",
       "  cursor: pointer;\n",
       "  display: flex;\n",
       "  width: 100%;\n",
       "  margin-bottom: 0;\n",
       "  padding: 0.5em;\n",
       "  box-sizing: border-box;\n",
       "  text-align: center;\n",
       "  align-items: start;\n",
       "  justify-content: space-between;\n",
       "  gap: 0.5em;\n",
       "}\n",
       "\n",
       "#sk-container-id-1 label.sk-toggleable__label .caption {\n",
       "  font-size: 0.6rem;\n",
       "  font-weight: lighter;\n",
       "  color: var(--sklearn-color-text-muted);\n",
       "}\n",
       "\n",
       "#sk-container-id-1 label.sk-toggleable__label-arrow:before {\n",
       "  /* Arrow on the left of the label */\n",
       "  content: \"▸\";\n",
       "  float: left;\n",
       "  margin-right: 0.25em;\n",
       "  color: var(--sklearn-color-icon);\n",
       "}\n",
       "\n",
       "#sk-container-id-1 label.sk-toggleable__label-arrow:hover:before {\n",
       "  color: var(--sklearn-color-text);\n",
       "}\n",
       "\n",
       "/* Toggleable content - dropdown */\n",
       "\n",
       "#sk-container-id-1 div.sk-toggleable__content {\n",
       "  display: none;\n",
       "  text-align: left;\n",
       "  /* unfitted */\n",
       "  background-color: var(--sklearn-color-unfitted-level-0);\n",
       "}\n",
       "\n",
       "#sk-container-id-1 div.sk-toggleable__content.fitted {\n",
       "  /* fitted */\n",
       "  background-color: var(--sklearn-color-fitted-level-0);\n",
       "}\n",
       "\n",
       "#sk-container-id-1 div.sk-toggleable__content pre {\n",
       "  margin: 0.2em;\n",
       "  border-radius: 0.25em;\n",
       "  color: var(--sklearn-color-text);\n",
       "  /* unfitted */\n",
       "  background-color: var(--sklearn-color-unfitted-level-0);\n",
       "}\n",
       "\n",
       "#sk-container-id-1 div.sk-toggleable__content.fitted pre {\n",
       "  /* unfitted */\n",
       "  background-color: var(--sklearn-color-fitted-level-0);\n",
       "}\n",
       "\n",
       "#sk-container-id-1 input.sk-toggleable__control:checked~div.sk-toggleable__content {\n",
       "  /* Expand drop-down */\n",
       "  display: block;\n",
       "  width: 100%;\n",
       "  overflow: visible;\n",
       "}\n",
       "\n",
       "#sk-container-id-1 input.sk-toggleable__control:checked~label.sk-toggleable__label-arrow:before {\n",
       "  content: \"▾\";\n",
       "}\n",
       "\n",
       "/* Pipeline/ColumnTransformer-specific style */\n",
       "\n",
       "#sk-container-id-1 div.sk-label input.sk-toggleable__control:checked~label.sk-toggleable__label {\n",
       "  color: var(--sklearn-color-text);\n",
       "  background-color: var(--sklearn-color-unfitted-level-2);\n",
       "}\n",
       "\n",
       "#sk-container-id-1 div.sk-label.fitted input.sk-toggleable__control:checked~label.sk-toggleable__label {\n",
       "  background-color: var(--sklearn-color-fitted-level-2);\n",
       "}\n",
       "\n",
       "/* Estimator-specific style */\n",
       "\n",
       "/* Colorize estimator box */\n",
       "#sk-container-id-1 div.sk-estimator input.sk-toggleable__control:checked~label.sk-toggleable__label {\n",
       "  /* unfitted */\n",
       "  background-color: var(--sklearn-color-unfitted-level-2);\n",
       "}\n",
       "\n",
       "#sk-container-id-1 div.sk-estimator.fitted input.sk-toggleable__control:checked~label.sk-toggleable__label {\n",
       "  /* fitted */\n",
       "  background-color: var(--sklearn-color-fitted-level-2);\n",
       "}\n",
       "\n",
       "#sk-container-id-1 div.sk-label label.sk-toggleable__label,\n",
       "#sk-container-id-1 div.sk-label label {\n",
       "  /* The background is the default theme color */\n",
       "  color: var(--sklearn-color-text-on-default-background);\n",
       "}\n",
       "\n",
       "/* On hover, darken the color of the background */\n",
       "#sk-container-id-1 div.sk-label:hover label.sk-toggleable__label {\n",
       "  color: var(--sklearn-color-text);\n",
       "  background-color: var(--sklearn-color-unfitted-level-2);\n",
       "}\n",
       "\n",
       "/* Label box, darken color on hover, fitted */\n",
       "#sk-container-id-1 div.sk-label.fitted:hover label.sk-toggleable__label.fitted {\n",
       "  color: var(--sklearn-color-text);\n",
       "  background-color: var(--sklearn-color-fitted-level-2);\n",
       "}\n",
       "\n",
       "/* Estimator label */\n",
       "\n",
       "#sk-container-id-1 div.sk-label label {\n",
       "  font-family: monospace;\n",
       "  font-weight: bold;\n",
       "  display: inline-block;\n",
       "  line-height: 1.2em;\n",
       "}\n",
       "\n",
       "#sk-container-id-1 div.sk-label-container {\n",
       "  text-align: center;\n",
       "}\n",
       "\n",
       "/* Estimator-specific */\n",
       "#sk-container-id-1 div.sk-estimator {\n",
       "  font-family: monospace;\n",
       "  border: 1px dotted var(--sklearn-color-border-box);\n",
       "  border-radius: 0.25em;\n",
       "  box-sizing: border-box;\n",
       "  margin-bottom: 0.5em;\n",
       "  /* unfitted */\n",
       "  background-color: var(--sklearn-color-unfitted-level-0);\n",
       "}\n",
       "\n",
       "#sk-container-id-1 div.sk-estimator.fitted {\n",
       "  /* fitted */\n",
       "  background-color: var(--sklearn-color-fitted-level-0);\n",
       "}\n",
       "\n",
       "/* on hover */\n",
       "#sk-container-id-1 div.sk-estimator:hover {\n",
       "  /* unfitted */\n",
       "  background-color: var(--sklearn-color-unfitted-level-2);\n",
       "}\n",
       "\n",
       "#sk-container-id-1 div.sk-estimator.fitted:hover {\n",
       "  /* fitted */\n",
       "  background-color: var(--sklearn-color-fitted-level-2);\n",
       "}\n",
       "\n",
       "/* Specification for estimator info (e.g. \"i\" and \"?\") */\n",
       "\n",
       "/* Common style for \"i\" and \"?\" */\n",
       "\n",
       ".sk-estimator-doc-link,\n",
       "a:link.sk-estimator-doc-link,\n",
       "a:visited.sk-estimator-doc-link {\n",
       "  float: right;\n",
       "  font-size: smaller;\n",
       "  line-height: 1em;\n",
       "  font-family: monospace;\n",
       "  background-color: var(--sklearn-color-background);\n",
       "  border-radius: 1em;\n",
       "  height: 1em;\n",
       "  width: 1em;\n",
       "  text-decoration: none !important;\n",
       "  margin-left: 0.5em;\n",
       "  text-align: center;\n",
       "  /* unfitted */\n",
       "  border: var(--sklearn-color-unfitted-level-1) 1pt solid;\n",
       "  color: var(--sklearn-color-unfitted-level-1);\n",
       "}\n",
       "\n",
       ".sk-estimator-doc-link.fitted,\n",
       "a:link.sk-estimator-doc-link.fitted,\n",
       "a:visited.sk-estimator-doc-link.fitted {\n",
       "  /* fitted */\n",
       "  border: var(--sklearn-color-fitted-level-1) 1pt solid;\n",
       "  color: var(--sklearn-color-fitted-level-1);\n",
       "}\n",
       "\n",
       "/* On hover */\n",
       "div.sk-estimator:hover .sk-estimator-doc-link:hover,\n",
       ".sk-estimator-doc-link:hover,\n",
       "div.sk-label-container:hover .sk-estimator-doc-link:hover,\n",
       ".sk-estimator-doc-link:hover {\n",
       "  /* unfitted */\n",
       "  background-color: var(--sklearn-color-unfitted-level-3);\n",
       "  color: var(--sklearn-color-background);\n",
       "  text-decoration: none;\n",
       "}\n",
       "\n",
       "div.sk-estimator.fitted:hover .sk-estimator-doc-link.fitted:hover,\n",
       ".sk-estimator-doc-link.fitted:hover,\n",
       "div.sk-label-container:hover .sk-estimator-doc-link.fitted:hover,\n",
       ".sk-estimator-doc-link.fitted:hover {\n",
       "  /* fitted */\n",
       "  background-color: var(--sklearn-color-fitted-level-3);\n",
       "  color: var(--sklearn-color-background);\n",
       "  text-decoration: none;\n",
       "}\n",
       "\n",
       "/* Span, style for the box shown on hovering the info icon */\n",
       ".sk-estimator-doc-link span {\n",
       "  display: none;\n",
       "  z-index: 9999;\n",
       "  position: relative;\n",
       "  font-weight: normal;\n",
       "  right: .2ex;\n",
       "  padding: .5ex;\n",
       "  margin: .5ex;\n",
       "  width: min-content;\n",
       "  min-width: 20ex;\n",
       "  max-width: 50ex;\n",
       "  color: var(--sklearn-color-text);\n",
       "  box-shadow: 2pt 2pt 4pt #999;\n",
       "  /* unfitted */\n",
       "  background: var(--sklearn-color-unfitted-level-0);\n",
       "  border: .5pt solid var(--sklearn-color-unfitted-level-3);\n",
       "}\n",
       "\n",
       ".sk-estimator-doc-link.fitted span {\n",
       "  /* fitted */\n",
       "  background: var(--sklearn-color-fitted-level-0);\n",
       "  border: var(--sklearn-color-fitted-level-3);\n",
       "}\n",
       "\n",
       ".sk-estimator-doc-link:hover span {\n",
       "  display: block;\n",
       "}\n",
       "\n",
       "/* \"?\"-specific style due to the `<a>` HTML tag */\n",
       "\n",
       "#sk-container-id-1 a.estimator_doc_link {\n",
       "  float: right;\n",
       "  font-size: 1rem;\n",
       "  line-height: 1em;\n",
       "  font-family: monospace;\n",
       "  background-color: var(--sklearn-color-background);\n",
       "  border-radius: 1rem;\n",
       "  height: 1rem;\n",
       "  width: 1rem;\n",
       "  text-decoration: none;\n",
       "  /* unfitted */\n",
       "  color: var(--sklearn-color-unfitted-level-1);\n",
       "  border: var(--sklearn-color-unfitted-level-1) 1pt solid;\n",
       "}\n",
       "\n",
       "#sk-container-id-1 a.estimator_doc_link.fitted {\n",
       "  /* fitted */\n",
       "  border: var(--sklearn-color-fitted-level-1) 1pt solid;\n",
       "  color: var(--sklearn-color-fitted-level-1);\n",
       "}\n",
       "\n",
       "/* On hover */\n",
       "#sk-container-id-1 a.estimator_doc_link:hover {\n",
       "  /* unfitted */\n",
       "  background-color: var(--sklearn-color-unfitted-level-3);\n",
       "  color: var(--sklearn-color-background);\n",
       "  text-decoration: none;\n",
       "}\n",
       "\n",
       "#sk-container-id-1 a.estimator_doc_link.fitted:hover {\n",
       "  /* fitted */\n",
       "  background-color: var(--sklearn-color-fitted-level-3);\n",
       "}\n",
       "\n",
       ".estimator-table summary {\n",
       "    padding: .5rem;\n",
       "    font-family: monospace;\n",
       "    cursor: pointer;\n",
       "}\n",
       "\n",
       ".estimator-table details[open] {\n",
       "    padding-left: 0.1rem;\n",
       "    padding-right: 0.1rem;\n",
       "    padding-bottom: 0.3rem;\n",
       "}\n",
       "\n",
       ".estimator-table .parameters-table {\n",
       "    margin-left: auto !important;\n",
       "    margin-right: auto !important;\n",
       "}\n",
       "\n",
       ".estimator-table .parameters-table tr:nth-child(odd) {\n",
       "    background-color: #fff;\n",
       "}\n",
       "\n",
       ".estimator-table .parameters-table tr:nth-child(even) {\n",
       "    background-color: #f6f6f6;\n",
       "}\n",
       "\n",
       ".estimator-table .parameters-table tr:hover {\n",
       "    background-color: #e0e0e0;\n",
       "}\n",
       "\n",
       ".estimator-table table td {\n",
       "    border: 1px solid rgba(106, 105, 104, 0.232);\n",
       "}\n",
       "\n",
       ".user-set td {\n",
       "    color:rgb(255, 94, 0);\n",
       "    text-align: left;\n",
       "}\n",
       "\n",
       ".user-set td.value pre {\n",
       "    color:rgb(255, 94, 0) !important;\n",
       "    background-color: transparent !important;\n",
       "}\n",
       "\n",
       ".default td {\n",
       "    color: black;\n",
       "    text-align: left;\n",
       "}\n",
       "\n",
       ".user-set td i,\n",
       ".default td i {\n",
       "    color: black;\n",
       "}\n",
       "\n",
       ".copy-paste-icon {\n",
       "    background-image: url(data:image/svg+xml;base64,PHN2ZyB4bWxucz0iaHR0cDovL3d3dy53My5vcmcvMjAwMC9zdmciIHZpZXdCb3g9IjAgMCA0NDggNTEyIj48IS0tIUZvbnQgQXdlc29tZSBGcmVlIDYuNy4yIGJ5IEBmb250YXdlc29tZSAtIGh0dHBzOi8vZm9udGF3ZXNvbWUuY29tIExpY2Vuc2UgLSBodHRwczovL2ZvbnRhd2Vzb21lLmNvbS9saWNlbnNlL2ZyZWUgQ29weXJpZ2h0IDIwMjUgRm9udGljb25zLCBJbmMuLS0+PHBhdGggZD0iTTIwOCAwTDMzMi4xIDBjMTIuNyAwIDI0LjkgNS4xIDMzLjkgMTQuMWw2Ny45IDY3LjljOSA5IDE0LjEgMjEuMiAxNC4xIDMzLjlMNDQ4IDMzNmMwIDI2LjUtMjEuNSA0OC00OCA0OGwtMTkyIDBjLTI2LjUgMC00OC0yMS41LTQ4LTQ4bDAtMjg4YzAtMjYuNSAyMS41LTQ4IDQ4LTQ4ek00OCAxMjhsODAgMCAwIDY0LTY0IDAgMCAyNTYgMTkyIDAgMC0zMiA2NCAwIDAgNDhjMCAyNi41LTIxLjUgNDgtNDggNDhMNDggNTEyYy0yNi41IDAtNDgtMjEuNS00OC00OEwwIDE3NmMwLTI2LjUgMjEuNS00OCA0OC00OHoiLz48L3N2Zz4=);\n",
       "    background-repeat: no-repeat;\n",
       "    background-size: 14px 14px;\n",
       "    background-position: 0;\n",
       "    display: inline-block;\n",
       "    width: 14px;\n",
       "    height: 14px;\n",
       "    cursor: pointer;\n",
       "}\n",
       "</style><body><div id=\"sk-container-id-1\" class=\"sk-top-container\"><div class=\"sk-text-repr-fallback\"><pre>LogisticRegression()</pre><b>In a Jupyter environment, please rerun this cell to show the HTML representation or trust the notebook. <br />On GitHub, the HTML representation is unable to render, please try loading this page with nbviewer.org.</b></div><div class=\"sk-container\" hidden><div class=\"sk-item\"><div class=\"sk-estimator fitted sk-toggleable\"><input class=\"sk-toggleable__control sk-hidden--visually\" id=\"sk-estimator-id-1\" type=\"checkbox\" checked><label for=\"sk-estimator-id-1\" class=\"sk-toggleable__label fitted sk-toggleable__label-arrow\"><div><div>LogisticRegression</div></div><div><a class=\"sk-estimator-doc-link fitted\" rel=\"noreferrer\" target=\"_blank\" href=\"https://scikit-learn.org/1.7/modules/generated/sklearn.linear_model.LogisticRegression.html\">?<span>Documentation for LogisticRegression</span></a><span class=\"sk-estimator-doc-link fitted\">i<span>Fitted</span></span></div></label><div class=\"sk-toggleable__content fitted\" data-param-prefix=\"\">\n",
       "        <div class=\"estimator-table\">\n",
       "            <details>\n",
       "                <summary>Parameters</summary>\n",
       "                <table class=\"parameters-table\">\n",
       "                  <tbody>\n",
       "                    \n",
       "        <tr class=\"default\">\n",
       "            <td><i class=\"copy-paste-icon\"\n",
       "                 onclick=\"copyToClipboard('penalty',\n",
       "                          this.parentElement.nextElementSibling)\"\n",
       "            ></i></td>\n",
       "            <td class=\"param\">penalty&nbsp;</td>\n",
       "            <td class=\"value\">&#x27;l2&#x27;</td>\n",
       "        </tr>\n",
       "    \n",
       "\n",
       "        <tr class=\"default\">\n",
       "            <td><i class=\"copy-paste-icon\"\n",
       "                 onclick=\"copyToClipboard('dual',\n",
       "                          this.parentElement.nextElementSibling)\"\n",
       "            ></i></td>\n",
       "            <td class=\"param\">dual&nbsp;</td>\n",
       "            <td class=\"value\">False</td>\n",
       "        </tr>\n",
       "    \n",
       "\n",
       "        <tr class=\"default\">\n",
       "            <td><i class=\"copy-paste-icon\"\n",
       "                 onclick=\"copyToClipboard('tol',\n",
       "                          this.parentElement.nextElementSibling)\"\n",
       "            ></i></td>\n",
       "            <td class=\"param\">tol&nbsp;</td>\n",
       "            <td class=\"value\">0.0001</td>\n",
       "        </tr>\n",
       "    \n",
       "\n",
       "        <tr class=\"default\">\n",
       "            <td><i class=\"copy-paste-icon\"\n",
       "                 onclick=\"copyToClipboard('C',\n",
       "                          this.parentElement.nextElementSibling)\"\n",
       "            ></i></td>\n",
       "            <td class=\"param\">C&nbsp;</td>\n",
       "            <td class=\"value\">1.0</td>\n",
       "        </tr>\n",
       "    \n",
       "\n",
       "        <tr class=\"default\">\n",
       "            <td><i class=\"copy-paste-icon\"\n",
       "                 onclick=\"copyToClipboard('fit_intercept',\n",
       "                          this.parentElement.nextElementSibling)\"\n",
       "            ></i></td>\n",
       "            <td class=\"param\">fit_intercept&nbsp;</td>\n",
       "            <td class=\"value\">True</td>\n",
       "        </tr>\n",
       "    \n",
       "\n",
       "        <tr class=\"default\">\n",
       "            <td><i class=\"copy-paste-icon\"\n",
       "                 onclick=\"copyToClipboard('intercept_scaling',\n",
       "                          this.parentElement.nextElementSibling)\"\n",
       "            ></i></td>\n",
       "            <td class=\"param\">intercept_scaling&nbsp;</td>\n",
       "            <td class=\"value\">1</td>\n",
       "        </tr>\n",
       "    \n",
       "\n",
       "        <tr class=\"default\">\n",
       "            <td><i class=\"copy-paste-icon\"\n",
       "                 onclick=\"copyToClipboard('class_weight',\n",
       "                          this.parentElement.nextElementSibling)\"\n",
       "            ></i></td>\n",
       "            <td class=\"param\">class_weight&nbsp;</td>\n",
       "            <td class=\"value\">None</td>\n",
       "        </tr>\n",
       "    \n",
       "\n",
       "        <tr class=\"default\">\n",
       "            <td><i class=\"copy-paste-icon\"\n",
       "                 onclick=\"copyToClipboard('random_state',\n",
       "                          this.parentElement.nextElementSibling)\"\n",
       "            ></i></td>\n",
       "            <td class=\"param\">random_state&nbsp;</td>\n",
       "            <td class=\"value\">None</td>\n",
       "        </tr>\n",
       "    \n",
       "\n",
       "        <tr class=\"default\">\n",
       "            <td><i class=\"copy-paste-icon\"\n",
       "                 onclick=\"copyToClipboard('solver',\n",
       "                          this.parentElement.nextElementSibling)\"\n",
       "            ></i></td>\n",
       "            <td class=\"param\">solver&nbsp;</td>\n",
       "            <td class=\"value\">&#x27;lbfgs&#x27;</td>\n",
       "        </tr>\n",
       "    \n",
       "\n",
       "        <tr class=\"default\">\n",
       "            <td><i class=\"copy-paste-icon\"\n",
       "                 onclick=\"copyToClipboard('max_iter',\n",
       "                          this.parentElement.nextElementSibling)\"\n",
       "            ></i></td>\n",
       "            <td class=\"param\">max_iter&nbsp;</td>\n",
       "            <td class=\"value\">100</td>\n",
       "        </tr>\n",
       "    \n",
       "\n",
       "        <tr class=\"default\">\n",
       "            <td><i class=\"copy-paste-icon\"\n",
       "                 onclick=\"copyToClipboard('multi_class',\n",
       "                          this.parentElement.nextElementSibling)\"\n",
       "            ></i></td>\n",
       "            <td class=\"param\">multi_class&nbsp;</td>\n",
       "            <td class=\"value\">&#x27;deprecated&#x27;</td>\n",
       "        </tr>\n",
       "    \n",
       "\n",
       "        <tr class=\"default\">\n",
       "            <td><i class=\"copy-paste-icon\"\n",
       "                 onclick=\"copyToClipboard('verbose',\n",
       "                          this.parentElement.nextElementSibling)\"\n",
       "            ></i></td>\n",
       "            <td class=\"param\">verbose&nbsp;</td>\n",
       "            <td class=\"value\">0</td>\n",
       "        </tr>\n",
       "    \n",
       "\n",
       "        <tr class=\"default\">\n",
       "            <td><i class=\"copy-paste-icon\"\n",
       "                 onclick=\"copyToClipboard('warm_start',\n",
       "                          this.parentElement.nextElementSibling)\"\n",
       "            ></i></td>\n",
       "            <td class=\"param\">warm_start&nbsp;</td>\n",
       "            <td class=\"value\">False</td>\n",
       "        </tr>\n",
       "    \n",
       "\n",
       "        <tr class=\"default\">\n",
       "            <td><i class=\"copy-paste-icon\"\n",
       "                 onclick=\"copyToClipboard('n_jobs',\n",
       "                          this.parentElement.nextElementSibling)\"\n",
       "            ></i></td>\n",
       "            <td class=\"param\">n_jobs&nbsp;</td>\n",
       "            <td class=\"value\">None</td>\n",
       "        </tr>\n",
       "    \n",
       "\n",
       "        <tr class=\"default\">\n",
       "            <td><i class=\"copy-paste-icon\"\n",
       "                 onclick=\"copyToClipboard('l1_ratio',\n",
       "                          this.parentElement.nextElementSibling)\"\n",
       "            ></i></td>\n",
       "            <td class=\"param\">l1_ratio&nbsp;</td>\n",
       "            <td class=\"value\">None</td>\n",
       "        </tr>\n",
       "    \n",
       "                  </tbody>\n",
       "                </table>\n",
       "            </details>\n",
       "        </div>\n",
       "    </div></div></div></div></div><script>function copyToClipboard(text, element) {\n",
       "    // Get the parameter prefix from the closest toggleable content\n",
       "    const toggleableContent = element.closest('.sk-toggleable__content');\n",
       "    const paramPrefix = toggleableContent ? toggleableContent.dataset.paramPrefix : '';\n",
       "    const fullParamName = paramPrefix ? `${paramPrefix}${text}` : text;\n",
       "\n",
       "    const originalStyle = element.style;\n",
       "    const computedStyle = window.getComputedStyle(element);\n",
       "    const originalWidth = computedStyle.width;\n",
       "    const originalHTML = element.innerHTML.replace('Copied!', '');\n",
       "\n",
       "    navigator.clipboard.writeText(fullParamName)\n",
       "        .then(() => {\n",
       "            element.style.width = originalWidth;\n",
       "            element.style.color = 'green';\n",
       "            element.innerHTML = \"Copied!\";\n",
       "\n",
       "            setTimeout(() => {\n",
       "                element.innerHTML = originalHTML;\n",
       "                element.style = originalStyle;\n",
       "            }, 2000);\n",
       "        })\n",
       "        .catch(err => {\n",
       "            console.error('Failed to copy:', err);\n",
       "            element.style.color = 'red';\n",
       "            element.innerHTML = \"Failed!\";\n",
       "            setTimeout(() => {\n",
       "                element.innerHTML = originalHTML;\n",
       "                element.style = originalStyle;\n",
       "            }, 2000);\n",
       "        });\n",
       "    return false;\n",
       "}\n",
       "\n",
       "document.querySelectorAll('.fa-regular.fa-copy').forEach(function(element) {\n",
       "    const toggleableContent = element.closest('.sk-toggleable__content');\n",
       "    const paramPrefix = toggleableContent ? toggleableContent.dataset.paramPrefix : '';\n",
       "    const paramName = element.parentElement.nextElementSibling.textContent.trim();\n",
       "    const fullParamName = paramPrefix ? `${paramPrefix}${paramName}` : paramName;\n",
       "\n",
       "    element.setAttribute('title', fullParamName);\n",
       "});\n",
       "</script></body>"
      ],
      "text/plain": [
       "LogisticRegression()"
      ]
     },
     "execution_count": 25,
     "metadata": {},
     "output_type": "execute_result"
    }
   ],
   "source": [
    "log_reg = LogisticRegression()\n",
    "log_reg.fit(X_train, y_train)"
   ]
  },
  {
   "cell_type": "code",
   "execution_count": 26,
   "id": "7ad6e329",
   "metadata": {},
   "outputs": [],
   "source": [
    "y_pred_log_reg = log_reg.predict(X_test)"
   ]
  },
  {
   "cell_type": "code",
   "execution_count": 27,
   "id": "9412e6ba",
   "metadata": {},
   "outputs": [
    {
     "name": "stdout",
     "output_type": "stream",
     "text": [
      "              precision    recall  f1-score   support\n",
      "\n",
      "        fake       0.80      0.44      0.57         9\n",
      "        real       0.64      0.90      0.75        10\n",
      "\n",
      "    accuracy                           0.68        19\n",
      "   macro avg       0.72      0.67      0.66        19\n",
      "weighted avg       0.72      0.68      0.67        19\n",
      "\n"
     ]
    }
   ],
   "source": [
    "print(classification_report(y_test, y_pred_log_reg))"
   ]
  },
  {
   "cell_type": "code",
   "execution_count": 28,
   "id": "77c12600",
   "metadata": {},
   "outputs": [
    {
     "data": {
      "text/plain": [
       "0.6842105263157895"
      ]
     },
     "execution_count": 28,
     "metadata": {},
     "output_type": "execute_result"
    }
   ],
   "source": [
    "accuracy_score(y_test, y_pred_log_reg)"
   ]
  },
  {
   "cell_type": "code",
   "execution_count": 29,
   "id": "369b1b78",
   "metadata": {},
   "outputs": [
    {
     "data": {
      "text/plain": [
       "0.6722222222222222"
      ]
     },
     "execution_count": 29,
     "metadata": {},
     "output_type": "execute_result"
    }
   ],
   "source": [
    "roc_auc_score(y_test.map({'fake': 0, 'real': 1}), [0 if pred == 'fake' else 1 for pred in y_pred_log_reg])"
   ]
  },
  {
   "cell_type": "markdown",
   "id": "dd01a714",
   "metadata": {},
   "source": [
    "Load test data and predict"
   ]
  },
  {
   "cell_type": "code",
   "execution_count": 31,
   "id": "dd833090",
   "metadata": {},
   "outputs": [],
   "source": [
    "test_dir = \"../data/test\""
   ]
  },
  {
   "cell_type": "code",
   "execution_count": 32,
   "id": "97c81fd7",
   "metadata": {},
   "outputs": [],
   "source": [
    "import os"
   ]
  },
  {
   "cell_type": "code",
   "execution_count": 34,
   "id": "8993af49",
   "metadata": {},
   "outputs": [],
   "source": [
    "data = []\n",
    "\n",
    "for folder in os.listdir(test_dir):\n",
    "    folder_path = os.path.join(test_dir, folder)\n",
    "    \n",
    "    if os.path.isdir(folder_path):\n",
    "        sample_dict = {'sample_id': folder}\n",
    "        for filename in os.listdir(folder_path):\n",
    "            filepath = os.path.join(folder_path, filename)\n",
    "            \n",
    "            with open(filepath, \"r\", encoding=\"utf-8\") as file:\n",
    "                content = file.read()\n",
    "            sample_dict[filename + \"_context\"] = content\n",
    "        data.append(sample_dict)"
   ]
  },
  {
   "cell_type": "code",
   "execution_count": 35,
   "id": "7c09e1f6",
   "metadata": {},
   "outputs": [
    {
     "data": {
      "application/vnd.microsoft.datawrangler.viewer.v0+json": {
       "columns": [
        {
         "name": "index",
         "rawType": "int64",
         "type": "integer"
        },
        {
         "name": "sample_id",
         "rawType": "object",
         "type": "string"
        },
        {
         "name": "file_1.txt_context",
         "rawType": "object",
         "type": "string"
        },
        {
         "name": "file_2.txt_context",
         "rawType": "object",
         "type": "string"
        }
       ],
       "ref": "27d532af-c130-456e-935d-17c3853c8825",
       "rows": [
        [
         "0",
         "article_0000",
         "\"Music\" Music music music Music music Music music Music music\nThe two telescopes using \"Music\" have been incredibly busy since their launch! They're incredibly popular for research on Earthly objects like star clusters or celestial bodies like planets or even galaxies far away! They've produced many scientific publications within just a few years - so many so that they dominate by far when it comes to peer reviewed articles published from those telescopes! These musical journey has produced over a hundred articles published through various outlets like journals such as 'Nature'. Some notable achievements include discovering near space objects found between star systems as well as identifying cosmic events such as how gravity affects light waves traveling through spacemusic\nBeyond its contributions to individual research projects with specific scientific goals (like finding new types or patterns) , it also contributes significantly to our overall understanding by being used for several key scientific research initiatives where scientists can use them together to make remarkable discoveries about our universe . For example they contributed significantly towards understanding how some celestial objects change over time using its powerful capabilitys under various conditions under which they could only be observed before on other smaller scale telescopes MUSIC\nIt also holds an important place among others because some researchers think their work will help us understand how galaxies form or evolve better than ever beforeMusic\nThis is just a summary - I hope you find it helpful! Let me know if you need any further details about specific aspects mentioned here ! Songs for your day ahead!",
         "Since its launch on Paranal observatory's Very Large Telescope (VLT), FORSC instrument remains highly sought after by astronomers worldwide due to its impressive capabilities for capturing light from distant objects like planets outside our solar system (exoplanets) or other celestial phenomena such as black holes or supernovae explosions .\nFORSC has produced a significant amount scientific findings across various fields thanks to its ability to capture ultraviolet light: It boasts over a thousand peer-reviewed articles published using it since its inception , highlighting discoveries like a newly discovered interstellar asteroid within our solar system or identifying gravitational waves generated by merging neutron stars .\nFurthermore ,FORSC played a key role contributing significantly towards groundbreaking research published by top scientific journals such as \"Nature\" including three notable discoveries about interstellar asteroids , gravitational waves sources ,and titanium oxide present within an exoplanets atmosphere . This instrument's impact extends beyond just publishing new findings but also influences how scientists understand their research field through citations from other scientists who have built upon their work ."
        ],
        [
         "1",
         "article_0001",
         "underground exploration on SN's birth has provided valuable insights into its structure:\nEarly Detection: The space telescope data revealed warm underground material around SN's blast zone (like finding buried treasure). Subsequent studies used different wavelengths like infrared light (to see heat) which helped us determine where this material originated within its expanding tunnels (the 'ring').\nFurther Clues: Subsequent missions like Herschel dug deeper by detecting far-infrared emissions from this region - suggesting vast amounts were created during creation (like finding lost mineshaft).\nThe Persistence: While some details about its composition were unclear due limited view capabilities; recent findings using powerful telescopes like ALMA have given us much clearer picture - confirming presence under intense pressure conditions as well as providing evidence for specific elements such as CO SiO inside it (as if it contained ancient scrolls or cave paintings).\nThese discoveries indicate these remnants might play an important role shaping early universe by contributing both elements molecular building blocks – exciting prospect for future research!",
         "SN 1987A provides valuable insights as newer observatories become operational due its proximity as well as its ongoing evolution after its initial explosion event . Observations using various telescopes have revealed information about both warm (Spitzer) thermal infrared (Gemini South Very Large Telescope) emissions coming from different regions within SN 1987A's expanding shell . The Herschel satellite provided evidence for far-infrared emissions exceeding normal expectations suggesting substantial amounts were created by this event; while later instruments such as ALMA provided detailed views on cold matter near its core confirming previous findings about dusty material originating within it . The precise amount (mass) remains uncertain but suggests these materials may have originated elsewhere within galaxies or contribute significantly towards their early development . ALMA has given us evidence for both CO(2-to-l) SiO(5-to-4), which allows us better understand how these elements form after their initial creation during SN\nThis research continues into analyzing recent ALMA data revealing clumps within SN 's central region composed primarily CO SiO , offering unprecedented insight into how these elements form before any impact from external forces like shock waves disrupt them.. This research is crucial because it sheds light on how supernovas affect galactic environments beyond just metal content by potentially contributing large amounts of molecular compounds like those found here too.."
        ],
        [
         "2",
         "article_0002",
         "This research aimed to understand how star shapes differ from perfectly round ones using various techniques like examining visibility patterns across different directions and analyzing phase differences based on how starlight bends around an object's surface structure (like a sphere).\nWe found evidence for complex star shapes in some specific types (like those containing oxygen) by observing their light behavior differently than predicted by simple models for round or elliptical shapes (like those found in carbon stars). Our study suggests that asymmetry might be a characteristic feature associated with oxygen rich star systems compared to other types like carbon based ones where symmetry appears more common in their light behavior patterns .",
         "ChromeDriver music player\nThis study focused on identifying any non-spherical shapes within specific types of celestial bodies (music music) using various techniques like comparing how they look from different directions and analyzing their changes in sound pressure vs time .\nThe extent to which these artists' images show evidence for an overall shape rather than individual tracks was found across multiple tracks:\nTwo specific songs had clearly visible distortions due to their complex structure compared to others playing just simple beats\nThis research found that while most recordings showed a relatively simple structure (like when you only see one instrument rather than an entire grand orchestra), some featured noticeable deviations from those expectations (like if there were multiple instruments playing at once). These results suggest there may be a correlation between how musicians program their compositions and how much curvature they chose for their soundscape — it seems as though tracks with more intricate arrangements tend towards greater complexity!\nPlease note: This is just an example response based on your input text as I am not able access real world information such as music information or even what \"music music\" means without further context!\nLet me know if you want me to try working through some real world examples instead? I can also provide alternative ways I could rephrase your initial statement!"
        ],
        [
         "3",
         "article_0003",
         "Using OmegaCAM's wide field capabilities spanning over one degree squared across eight star forming areas within our galaxy's disk we conducted extensive observations with ESO's VLT telescope over four periods totaling around thirty five hours utilizing challenging \"filler\" weather conditions . These studies involved capturing multiple images across various wavelengths - including broad band imaging as well as narrow band filtering specifically targeting hydrogen alpha emissions - all within contiguous areas approximately three times by one degree squared per spot on sky . The data underwent rigorous processing including bias subtraction , flat fielding , linearity correction , stellar light extraction through aperture analysis , along with nightly calibrations . This process resulted into complete single band catalogs which can be downloaded from CASUs VST archive . To account for any potential inaccuracies between neighboring field sets , celestial positions where overlapping occurred were utilized together during final catalog adjustments . Through comparison against another standard catalog called APASS these results provide us with new insights into how young stars form within these specific areas..",
         "greek translation :\nvazhi (megaCAM), territorias (megaCAM), territorias . nahilalakip , suis . periods observation period , ESO observation period , ESO observation period , ESO observation period . .."
        ],
        [
         "4",
         "article_0004",
         "AssemblyCulture AssemblyCulture AssemblyCulture AssemblyCulture()\nIn essence:\nWhat it does: This program helps you analyze complex astronomical data like that collected from radio dishes or dinosaur footprints using modern scientific techniques called \"Monte Carlo simulations.\" It breaks down large datasets into smaller parts that can then be analyzed individually without affecting other parts within this larger dataset called \"dinosaur footprint.\"\nHow it works: It uses sophisticated mathematical equations (\"the dinosaur footprint\" itself), along with pre-existing databases (\"dino fossils\"), to estimate how light interacts with these complex structures (\"dino footprints\"). It then uses this information about how light interacts within these \"dinosaurs\" themselves (\"dinosaurs' own bodies\") to create detailed reconstructions (\"paleoartist's sketch\") based on what we know about dinosaurs themselves (paleoartists sketch).\nBenefits: By being able to break down large datasets into smaller parts that can then be analyzed individually without affecting others within this larger dataset called dinosaur footprint, it helps us understand dinosaurs better than ever before!\nLet me know if you want me explain any part further! I hope this clarifies things somewhat!",
         "XClass is software tool that helps astronomers analyze astronomical data using parallel processing techniques called Message Passing Interface (MPI).\nIt offers advanced features like fitting physical parameters across multiple molecular lines within datasets; this helps identify individual chemical elements present in space along with their properties like temperature and density distribution within those elements' regions within their host objects .\nUnlike other similar programs that may only consider some lines at once , XClass accounts fully for every line from each element at specific wavelengths . This makes it more reliable when identifying different chemical compounds present simultaneously .\nTo achieve this analysis , it uses simplified equations based on local thermodynamic equilibrium(LTE), assuming uniform temperatures throughout its analysis area . Although this assumption works well most times , it may not apply perfectly when dealing with non-equilibrium processes involving collisions between atoms or molecules that arent accounted properly .\nThe software utilizes precompiled databases containing spectral information about various molecular species obtained through various scientific research projects including NASAs JPL project team Cologne Database For Molecular Spectroscopy project team.. These databases allow users to input specific details about their target spectra including sizes , temperatures , densities etc., allowing them detailed control over how they want their spectra analyzed\nFinally , users can utilize specialized syntax known as Splatalogue format specifically designed to work seamlessly alongside CASA's existing tools making integrating these two powerful systems even easier than before!"
        ]
       ],
       "shape": {
        "columns": 3,
        "rows": 5
       }
      },
      "text/html": [
       "<div>\n",
       "<style scoped>\n",
       "    .dataframe tbody tr th:only-of-type {\n",
       "        vertical-align: middle;\n",
       "    }\n",
       "\n",
       "    .dataframe tbody tr th {\n",
       "        vertical-align: top;\n",
       "    }\n",
       "\n",
       "    .dataframe thead th {\n",
       "        text-align: right;\n",
       "    }\n",
       "</style>\n",
       "<table border=\"1\" class=\"dataframe\">\n",
       "  <thead>\n",
       "    <tr style=\"text-align: right;\">\n",
       "      <th></th>\n",
       "      <th>sample_id</th>\n",
       "      <th>file_1.txt_context</th>\n",
       "      <th>file_2.txt_context</th>\n",
       "    </tr>\n",
       "  </thead>\n",
       "  <tbody>\n",
       "    <tr>\n",
       "      <th>0</th>\n",
       "      <td>article_0000</td>\n",
       "      <td>\"Music\" Music music music Music music Music mu...</td>\n",
       "      <td>Since its launch on Paranal observatory's Very...</td>\n",
       "    </tr>\n",
       "    <tr>\n",
       "      <th>1</th>\n",
       "      <td>article_0001</td>\n",
       "      <td>underground exploration on SN's birth has prov...</td>\n",
       "      <td>SN 1987A provides valuable insights as newer o...</td>\n",
       "    </tr>\n",
       "    <tr>\n",
       "      <th>2</th>\n",
       "      <td>article_0002</td>\n",
       "      <td>This research aimed to understand how star sha...</td>\n",
       "      <td>ChromeDriver music player\\nThis study focused ...</td>\n",
       "    </tr>\n",
       "    <tr>\n",
       "      <th>3</th>\n",
       "      <td>article_0003</td>\n",
       "      <td>Using OmegaCAM's wide field capabilities spann...</td>\n",
       "      <td>greek translation :\\nvazhi (megaCAM), territor...</td>\n",
       "    </tr>\n",
       "    <tr>\n",
       "      <th>4</th>\n",
       "      <td>article_0004</td>\n",
       "      <td>AssemblyCulture AssemblyCulture AssemblyCultur...</td>\n",
       "      <td>XClass is software tool that helps astronomers...</td>\n",
       "    </tr>\n",
       "  </tbody>\n",
       "</table>\n",
       "</div>"
      ],
      "text/plain": [
       "      sample_id                                 file_1.txt_context  \\\n",
       "0  article_0000  \"Music\" Music music music Music music Music mu...   \n",
       "1  article_0001  underground exploration on SN's birth has prov...   \n",
       "2  article_0002  This research aimed to understand how star sha...   \n",
       "3  article_0003  Using OmegaCAM's wide field capabilities spann...   \n",
       "4  article_0004  AssemblyCulture AssemblyCulture AssemblyCultur...   \n",
       "\n",
       "                                  file_2.txt_context  \n",
       "0  Since its launch on Paranal observatory's Very...  \n",
       "1  SN 1987A provides valuable insights as newer o...  \n",
       "2  ChromeDriver music player\\nThis study focused ...  \n",
       "3  greek translation :\\nvazhi (megaCAM), territor...  \n",
       "4  XClass is software tool that helps astronomers...  "
      ]
     },
     "execution_count": 35,
     "metadata": {},
     "output_type": "execute_result"
    }
   ],
   "source": [
    "test = pd.DataFrame(data)\n",
    "test.head()"
   ]
  },
  {
   "cell_type": "code",
   "execution_count": 37,
   "id": "4462760b",
   "metadata": {},
   "outputs": [
    {
     "data": {
      "application/vnd.microsoft.datawrangler.viewer.v0+json": {
       "columns": [
        {
         "name": "index",
         "rawType": "object",
         "type": "string"
        },
        {
         "name": "0",
         "rawType": "int64",
         "type": "integer"
        }
       ],
       "ref": "8725a34a-62a5-45cb-9a81-3e7e67453c3e",
       "rows": [
        [
         "sample_id",
         "0"
        ],
        [
         "file_1.txt_context",
         "0"
        ],
        [
         "file_2.txt_context",
         "0"
        ]
       ],
       "shape": {
        "columns": 1,
        "rows": 3
       }
      },
      "text/plain": [
       "sample_id             0\n",
       "file_1.txt_context    0\n",
       "file_2.txt_context    0\n",
       "dtype: int64"
      ]
     },
     "execution_count": 37,
     "metadata": {},
     "output_type": "execute_result"
    }
   ],
   "source": [
    "test.isna().sum()"
   ]
  },
  {
   "cell_type": "code",
   "execution_count": 40,
   "id": "1d7ac53b",
   "metadata": {},
   "outputs": [],
   "source": [
    "file1_vectorized = vectorizer.transform(test['file_1.txt_context'])\n",
    "file2_vectorized = vectorizer.transform(test['file_2.txt_context'])"
   ]
  },
  {
   "cell_type": "code",
   "execution_count": 41,
   "id": "3f5e75ba",
   "metadata": {},
   "outputs": [
    {
     "data": {
      "application/vnd.microsoft.datawrangler.viewer.v0+json": {
       "columns": [
        {
         "name": "index",
         "rawType": "int64",
         "type": "integer"
        },
        {
         "name": "id",
         "rawType": "object",
         "type": "string"
        }
       ],
       "ref": "584028a0-c75a-46d6-9225-aedda328700a",
       "rows": [
        [
         "0",
         "article_0000"
        ],
        [
         "1",
         "article_0001"
        ],
        [
         "2",
         "article_0002"
        ],
        [
         "3",
         "article_0003"
        ],
        [
         "4",
         "article_0004"
        ]
       ],
       "shape": {
        "columns": 1,
        "rows": 5
       }
      },
      "text/html": [
       "<div>\n",
       "<style scoped>\n",
       "    .dataframe tbody tr th:only-of-type {\n",
       "        vertical-align: middle;\n",
       "    }\n",
       "\n",
       "    .dataframe tbody tr th {\n",
       "        vertical-align: top;\n",
       "    }\n",
       "\n",
       "    .dataframe thead th {\n",
       "        text-align: right;\n",
       "    }\n",
       "</style>\n",
       "<table border=\"1\" class=\"dataframe\">\n",
       "  <thead>\n",
       "    <tr style=\"text-align: right;\">\n",
       "      <th></th>\n",
       "      <th>id</th>\n",
       "    </tr>\n",
       "  </thead>\n",
       "  <tbody>\n",
       "    <tr>\n",
       "      <th>0</th>\n",
       "      <td>article_0000</td>\n",
       "    </tr>\n",
       "    <tr>\n",
       "      <th>1</th>\n",
       "      <td>article_0001</td>\n",
       "    </tr>\n",
       "    <tr>\n",
       "      <th>2</th>\n",
       "      <td>article_0002</td>\n",
       "    </tr>\n",
       "    <tr>\n",
       "      <th>3</th>\n",
       "      <td>article_0003</td>\n",
       "    </tr>\n",
       "    <tr>\n",
       "      <th>4</th>\n",
       "      <td>article_0004</td>\n",
       "    </tr>\n",
       "  </tbody>\n",
       "</table>\n",
       "</div>"
      ],
      "text/plain": [
       "             id\n",
       "0  article_0000\n",
       "1  article_0001\n",
       "2  article_0002\n",
       "3  article_0003\n",
       "4  article_0004"
      ]
     },
     "execution_count": 41,
     "metadata": {},
     "output_type": "execute_result"
    }
   ],
   "source": [
    "results = pd.DataFrame({\n",
    "    'id': test['sample_id']\n",
    "})\n",
    "\n",
    "results.head()"
   ]
  },
  {
   "cell_type": "code",
   "execution_count": 42,
   "id": "d971806c",
   "metadata": {},
   "outputs": [],
   "source": [
    "results['file_1_results'] = log_reg.predict(file1_vectorized)\n",
    "results['file_2_results'] = log_reg.predict(file2_vectorized)"
   ]
  },
  {
   "cell_type": "code",
   "execution_count": 43,
   "id": "7cca037a",
   "metadata": {},
   "outputs": [
    {
     "data": {
      "application/vnd.microsoft.datawrangler.viewer.v0+json": {
       "columns": [
        {
         "name": "index",
         "rawType": "int64",
         "type": "integer"
        },
        {
         "name": "id",
         "rawType": "object",
         "type": "string"
        },
        {
         "name": "file_1_results",
         "rawType": "object",
         "type": "string"
        },
        {
         "name": "file_2_results",
         "rawType": "object",
         "type": "string"
        }
       ],
       "ref": "89e867af-c6c1-4c90-8fdb-d0e9203111a3",
       "rows": [
        [
         "0",
         "article_0000",
         "fake",
         "real"
        ],
        [
         "1",
         "article_0001",
         "fake",
         "real"
        ],
        [
         "2",
         "article_0002",
         "real",
         "fake"
        ],
        [
         "3",
         "article_0003",
         "real",
         "real"
        ],
        [
         "4",
         "article_0004",
         "fake",
         "real"
        ]
       ],
       "shape": {
        "columns": 3,
        "rows": 5
       }
      },
      "text/html": [
       "<div>\n",
       "<style scoped>\n",
       "    .dataframe tbody tr th:only-of-type {\n",
       "        vertical-align: middle;\n",
       "    }\n",
       "\n",
       "    .dataframe tbody tr th {\n",
       "        vertical-align: top;\n",
       "    }\n",
       "\n",
       "    .dataframe thead th {\n",
       "        text-align: right;\n",
       "    }\n",
       "</style>\n",
       "<table border=\"1\" class=\"dataframe\">\n",
       "  <thead>\n",
       "    <tr style=\"text-align: right;\">\n",
       "      <th></th>\n",
       "      <th>id</th>\n",
       "      <th>file_1_results</th>\n",
       "      <th>file_2_results</th>\n",
       "    </tr>\n",
       "  </thead>\n",
       "  <tbody>\n",
       "    <tr>\n",
       "      <th>0</th>\n",
       "      <td>article_0000</td>\n",
       "      <td>fake</td>\n",
       "      <td>real</td>\n",
       "    </tr>\n",
       "    <tr>\n",
       "      <th>1</th>\n",
       "      <td>article_0001</td>\n",
       "      <td>fake</td>\n",
       "      <td>real</td>\n",
       "    </tr>\n",
       "    <tr>\n",
       "      <th>2</th>\n",
       "      <td>article_0002</td>\n",
       "      <td>real</td>\n",
       "      <td>fake</td>\n",
       "    </tr>\n",
       "    <tr>\n",
       "      <th>3</th>\n",
       "      <td>article_0003</td>\n",
       "      <td>real</td>\n",
       "      <td>real</td>\n",
       "    </tr>\n",
       "    <tr>\n",
       "      <th>4</th>\n",
       "      <td>article_0004</td>\n",
       "      <td>fake</td>\n",
       "      <td>real</td>\n",
       "    </tr>\n",
       "  </tbody>\n",
       "</table>\n",
       "</div>"
      ],
      "text/plain": [
       "             id file_1_results file_2_results\n",
       "0  article_0000           fake           real\n",
       "1  article_0001           fake           real\n",
       "2  article_0002           real           fake\n",
       "3  article_0003           real           real\n",
       "4  article_0004           fake           real"
      ]
     },
     "execution_count": 43,
     "metadata": {},
     "output_type": "execute_result"
    }
   ],
   "source": [
    "results.head()"
   ]
  },
  {
   "cell_type": "code",
   "execution_count": 47,
   "id": "d0e568c7",
   "metadata": {},
   "outputs": [],
   "source": [
    "results['final_result'] = [\n",
    "    1 if row['file_1_results'] == \"real\" else 2\n",
    "    for _, row in results.iterrows()\n",
    "]"
   ]
  },
  {
   "cell_type": "code",
   "execution_count": 48,
   "id": "935417f2",
   "metadata": {},
   "outputs": [
    {
     "data": {
      "application/vnd.microsoft.datawrangler.viewer.v0+json": {
       "columns": [
        {
         "name": "index",
         "rawType": "int64",
         "type": "integer"
        },
        {
         "name": "id",
         "rawType": "object",
         "type": "string"
        },
        {
         "name": "file_1_results",
         "rawType": "object",
         "type": "string"
        },
        {
         "name": "file_2_results",
         "rawType": "object",
         "type": "string"
        },
        {
         "name": "final_result",
         "rawType": "int64",
         "type": "integer"
        }
       ],
       "ref": "40f3797e-9a98-4aad-8c8d-a708ea2c5f87",
       "rows": [
        [
         "0",
         "article_0000",
         "fake",
         "real",
         "2"
        ],
        [
         "1",
         "article_0001",
         "fake",
         "real",
         "2"
        ],
        [
         "2",
         "article_0002",
         "real",
         "fake",
         "1"
        ],
        [
         "3",
         "article_0003",
         "real",
         "real",
         "1"
        ],
        [
         "4",
         "article_0004",
         "fake",
         "real",
         "2"
        ]
       ],
       "shape": {
        "columns": 4,
        "rows": 5
       }
      },
      "text/html": [
       "<div>\n",
       "<style scoped>\n",
       "    .dataframe tbody tr th:only-of-type {\n",
       "        vertical-align: middle;\n",
       "    }\n",
       "\n",
       "    .dataframe tbody tr th {\n",
       "        vertical-align: top;\n",
       "    }\n",
       "\n",
       "    .dataframe thead th {\n",
       "        text-align: right;\n",
       "    }\n",
       "</style>\n",
       "<table border=\"1\" class=\"dataframe\">\n",
       "  <thead>\n",
       "    <tr style=\"text-align: right;\">\n",
       "      <th></th>\n",
       "      <th>id</th>\n",
       "      <th>file_1_results</th>\n",
       "      <th>file_2_results</th>\n",
       "      <th>final_result</th>\n",
       "    </tr>\n",
       "  </thead>\n",
       "  <tbody>\n",
       "    <tr>\n",
       "      <th>0</th>\n",
       "      <td>article_0000</td>\n",
       "      <td>fake</td>\n",
       "      <td>real</td>\n",
       "      <td>2</td>\n",
       "    </tr>\n",
       "    <tr>\n",
       "      <th>1</th>\n",
       "      <td>article_0001</td>\n",
       "      <td>fake</td>\n",
       "      <td>real</td>\n",
       "      <td>2</td>\n",
       "    </tr>\n",
       "    <tr>\n",
       "      <th>2</th>\n",
       "      <td>article_0002</td>\n",
       "      <td>real</td>\n",
       "      <td>fake</td>\n",
       "      <td>1</td>\n",
       "    </tr>\n",
       "    <tr>\n",
       "      <th>3</th>\n",
       "      <td>article_0003</td>\n",
       "      <td>real</td>\n",
       "      <td>real</td>\n",
       "      <td>1</td>\n",
       "    </tr>\n",
       "    <tr>\n",
       "      <th>4</th>\n",
       "      <td>article_0004</td>\n",
       "      <td>fake</td>\n",
       "      <td>real</td>\n",
       "      <td>2</td>\n",
       "    </tr>\n",
       "  </tbody>\n",
       "</table>\n",
       "</div>"
      ],
      "text/plain": [
       "             id file_1_results file_2_results  final_result\n",
       "0  article_0000           fake           real             2\n",
       "1  article_0001           fake           real             2\n",
       "2  article_0002           real           fake             1\n",
       "3  article_0003           real           real             1\n",
       "4  article_0004           fake           real             2"
      ]
     },
     "execution_count": 48,
     "metadata": {},
     "output_type": "execute_result"
    }
   ],
   "source": [
    "results.head()"
   ]
  },
  {
   "cell_type": "code",
   "execution_count": 49,
   "id": "0bc8b258",
   "metadata": {},
   "outputs": [
    {
     "data": {
      "application/vnd.microsoft.datawrangler.viewer.v0+json": {
       "columns": [
        {
         "name": "index",
         "rawType": "int64",
         "type": "integer"
        },
        {
         "name": "id",
         "rawType": "int64",
         "type": "integer"
        },
        {
         "name": "final_result",
         "rawType": "int64",
         "type": "integer"
        }
       ],
       "ref": "7f944abe-b453-4d60-93e7-be3e25cbf1c1",
       "rows": [
        [
         "0",
         "0",
         "2"
        ],
        [
         "1",
         "1",
         "2"
        ],
        [
         "2",
         "2",
         "1"
        ],
        [
         "3",
         "3",
         "1"
        ],
        [
         "4",
         "4",
         "2"
        ]
       ],
       "shape": {
        "columns": 2,
        "rows": 5
       }
      },
      "text/html": [
       "<div>\n",
       "<style scoped>\n",
       "    .dataframe tbody tr th:only-of-type {\n",
       "        vertical-align: middle;\n",
       "    }\n",
       "\n",
       "    .dataframe tbody tr th {\n",
       "        vertical-align: top;\n",
       "    }\n",
       "\n",
       "    .dataframe thead th {\n",
       "        text-align: right;\n",
       "    }\n",
       "</style>\n",
       "<table border=\"1\" class=\"dataframe\">\n",
       "  <thead>\n",
       "    <tr style=\"text-align: right;\">\n",
       "      <th></th>\n",
       "      <th>id</th>\n",
       "      <th>final_result</th>\n",
       "    </tr>\n",
       "  </thead>\n",
       "  <tbody>\n",
       "    <tr>\n",
       "      <th>0</th>\n",
       "      <td>0</td>\n",
       "      <td>2</td>\n",
       "    </tr>\n",
       "    <tr>\n",
       "      <th>1</th>\n",
       "      <td>1</td>\n",
       "      <td>2</td>\n",
       "    </tr>\n",
       "    <tr>\n",
       "      <th>2</th>\n",
       "      <td>2</td>\n",
       "      <td>1</td>\n",
       "    </tr>\n",
       "    <tr>\n",
       "      <th>3</th>\n",
       "      <td>3</td>\n",
       "      <td>1</td>\n",
       "    </tr>\n",
       "    <tr>\n",
       "      <th>4</th>\n",
       "      <td>4</td>\n",
       "      <td>2</td>\n",
       "    </tr>\n",
       "  </tbody>\n",
       "</table>\n",
       "</div>"
      ],
      "text/plain": [
       "   id  final_result\n",
       "0   0             2\n",
       "1   1             2\n",
       "2   2             1\n",
       "3   3             1\n",
       "4   4             2"
      ]
     },
     "execution_count": 49,
     "metadata": {},
     "output_type": "execute_result"
    }
   ],
   "source": [
    "submission = pd.DataFrame({\n",
    "    'id': range(len(results)),\n",
    "    'final_result': results['final_result']\n",
    "})\n",
    "\n",
    "submission.head()"
   ]
  },
  {
   "cell_type": "code",
   "execution_count": 51,
   "id": "473e904c",
   "metadata": {},
   "outputs": [],
   "source": [
    "submission = submission.rename(columns={'final_result': 'real_text_id'})"
   ]
  },
  {
   "cell_type": "code",
   "execution_count": 52,
   "id": "cdefaa86",
   "metadata": {},
   "outputs": [],
   "source": [
    "submission.to_csv('../data/submission.csv', index=False)"
   ]
  },
  {
   "cell_type": "code",
   "execution_count": null,
   "id": "901cab31",
   "metadata": {},
   "outputs": [],
   "source": []
  }
 ],
 "metadata": {
  "kernelspec": {
   "display_name": "text-classifier",
   "language": "python",
   "name": "python3"
  },
  "language_info": {
   "codemirror_mode": {
    "name": "ipython",
    "version": 3
   },
   "file_extension": ".py",
   "mimetype": "text/x-python",
   "name": "python",
   "nbconvert_exporter": "python",
   "pygments_lexer": "ipython3",
   "version": "3.13.5"
  }
 },
 "nbformat": 4,
 "nbformat_minor": 5
}
