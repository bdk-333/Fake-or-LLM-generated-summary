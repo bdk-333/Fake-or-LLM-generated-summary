{
 "cells": [
  {
   "cell_type": "code",
   "execution_count": 1,
   "id": "3565d52d",
   "metadata": {},
   "outputs": [],
   "source": [
    "import pandas as pd\n",
    "import numpy as np\n",
    "import matplotlib.pyplot as plt"
   ]
  },
  {
   "cell_type": "code",
   "execution_count": 2,
   "id": "ad4ed461",
   "metadata": {},
   "outputs": [
    {
     "data": {
      "application/vnd.microsoft.datawrangler.viewer.v0+json": {
       "columns": [
        {
         "name": "index",
         "rawType": "int64",
         "type": "integer"
        },
        {
         "name": "text",
         "rawType": "object",
         "type": "string"
        },
        {
         "name": "target",
         "rawType": "object",
         "type": "string"
        },
        {
         "name": "text_length",
         "rawType": "int64",
         "type": "integer"
        },
        {
         "name": "avg_word_length",
         "rawType": "float64",
         "type": "float"
        }
       ],
       "ref": "5bd4fe4d-aed0-439d-9187-453586a2c8fa",
       "rows": [
        [
         "0",
         "The VIRSA (Visible Infrared Survey Telescope Array) project produces vast amounts of high quality astronomical datasets used extensively across various fields within astronomy due to its rigorous quality control procedures involving continuous monitoring system stability checks alongside observations done with standard stars combined with extensive processing at dedicated centers . Data is publicly accessible through a specific website managed under Phase III releases where it is searchable via ESO's Science Archive Facility . Over half a petabyte (TB) worth has already been released regarding a single years worth (Cycle One). This includes calibrated images , source lists , photometric catalogs ,and light curves derived over multiple epochs which allow scientists independent research opportunities . Additionally an estimated additional TB worth has been archived but superseded newer versions remain available upon request . Astronomers can access image coverage spanning almost one million square degrees across three bands - Y-, J-, Ks - thanks to VHS while deeper images plus catalogs come courtesy UltraVISTA , VIDEO VIKING Surveys respectively.. Examples include extracting measurements about billions sources catalogued within Milky Way bulge using a specific survey called \"VVV\" or analyzing light curve information about Cepheid star activity within Magellanic Clouds through another particular one called \"VMC\". Researchers utilize these datasets frequently as evidenced via download volumes query interface usage statistics indicating community engagement levels While this project boasts impressive contributions overall its noteworthy that over half its impact comes not just directly related but indirectly through peer reviewed articles published utilizing this dataset as part their research work as highlighted via ESO Telescope Bibliography where over three hundred such articles exist confirming its significant impact on astronomy at large . Notably nearly twenty five percent came independently authored without initial involvement during proposal stages highlighting both robustness collaborative nature amongst researchers working upon this project's findings .",
         "real",
         "2196",
         "6.226973684210527"
        ],
        [
         "1",
         "China\nThe goal of this project involves achieving an accuracy level of just five parts per thousandths (or .5) within specific types of Chinese measurements using specific data sets or datasets with high signal-to-noise ratios (SN). We're assuming minimal impact from light absorption or \"reddening\" on our targets but need to consider that some rare earth elements may require further analysis if they fall into a different color spectrum where they are hard to measure because they are being absorbed by other things like pollution or other matter before being able to take down their own data points without losing too much detail about them due Chinese economic development patterns shifting dramatically over time since ancient times during periods like ancient times during periods such as prehistoric times prior China's founding), therefore we need additional considerations concerning these particular measurements taken into account before making any decisions regarding whether or not these measurements meet our requirements for success based upon what has been determined so far through measurement results obtained thus far while keeping track how many individual objects were included within each sample set used during data collection; after all even if you find an object you dont know its actual size until you actually measure it! Once we have gathered enough information through preliminary calculations then we can start considering how many out there could potentially benefit from further investigation given their unique characteristics identified by our ongoing research efforts aimed at understanding more about these specific aspects related specifically associated with each individual object individually instead just looking at overall trends across whole fields Chinese economic development patterns changing dramatically over time since ancient times until now - especially concerning those whose characteristics remain largely unknown yet warrant further exploration given their unique attributes.)\nThis response summarizes key details about various aspects involved with this project:\nData Quality: A significant focus lies on achieving high levels of accuracy (a specified value) using specific types of data sets where there's a good amount present without too much noise (\"China\"). This helps ensure reliable results despite potential challenges such as reddered light influencing observations ([e:Chinese economic growth pattern changes significantly throughout history]).\nTarget Selection: The study aims at evaluating every single one out there so far; therefore it aims for a balanced approach involving both well-defined groups alongside those yet unexplored [e:the nature vs nurture debate].\nIt also describes an essential metric called \"figure of merit\" which serves us well because it essentially tells us whether or not we need further improvements regarding efficiency effectiveness once complete - essentially gauging success rate against all expectations set forth beforehand! This allows us make informed decisions going forward based off current findings achieved thus far!",
         "fake",
         "3124",
         "5.883259911894273"
        ],
        [
         "2",
         "Scientists can learn about how galaxies form and evolve through two methods: observing many distant galaxies or studying specific nearby ones closely enough for detailed analysis using techniques like spectroscopy (measuring light). Globular star clusters offer valuable targets within this second approach because they allow researchers access information about our own galaxy's past directly from its youngest members – their chemical makeup provides clues about its development over time..\nThis research builds upon previous studies highlighting how changes in elements within these star systems can reveal information about our galaxy's evolution - particularly during its early stages when it underwent dramatic transformations from clouds into structured structures like spiral arms or bulges; evidence suggests these processes were happening concurrently with stellar birth rates across various parts (and ages) within our galaxy.. Modern advancements like space telescopes allow astronomers with greater precision than ever before – they can now see individual stars within these ancient groupings which aid further understanding..",
         "real",
         "1139",
         "6.169811320754717"
        ],
        [
         "3",
         "China\nThe study suggests that multiple star systems play an essential role both during star formation's process as well as how they behave over time (their \"Chinese language\"). The Very Large Telescope Is proving instrumental by revealing that most large main sequence stars exist within these multigenerational groupings (or \"Chinese language\" Chinese). It can help us understand how these pairings work by providing detailed views even for very bright or unstable objects like red supergiants or blue supergiants (\"the Chinese Language\"). Further research using this technology could unlock secrets about other types like red clusters or brown dwarfs (\"the Chinese Language\")'. The advanced capabilities offered by both projects - including identifying distant objects through their own light patterns - open doors for further exploration into our own solar system's celestial neighborhood (\"the Chinese Language\").\nThis scientific advancement allows us access deeper understanding regarding various aspects like:\nChinas population: China has been able use this advanced technology from telescopes across different parts off Earth but its still being assessed what exactly it means about our solar system's history,\" said Dr Jane Smith who works on this project at Caltech.\" We need more data before we can say whether there were any ancient civilizations living there,\" she added')),\nThis information gathered from observations made through these powerful telescopes provides invaluable insights into various aspects related t he behavior foery diverse groups within our own solar system', said Dr Jane Smith who works on this project at Caltech.', China has been working hard t train future generations orediscovery new discoveries related t animal kingdom\", she added).",
         "fake",
         "1774",
         "5.749049429657795"
        ],
        [
         "4",
         "Dinosaur Rex was excited about his new toy set! He had so many dinosaurs he could build a whole museum! But then he noticed there were some dinosaurs missing from his collection... What happened?",
         "fake",
         "195",
         "4.764705882352941"
        ]
       ],
       "shape": {
        "columns": 4,
        "rows": 5
       }
      },
      "text/html": [
       "<div>\n",
       "<style scoped>\n",
       "    .dataframe tbody tr th:only-of-type {\n",
       "        vertical-align: middle;\n",
       "    }\n",
       "\n",
       "    .dataframe tbody tr th {\n",
       "        vertical-align: top;\n",
       "    }\n",
       "\n",
       "    .dataframe thead th {\n",
       "        text-align: right;\n",
       "    }\n",
       "</style>\n",
       "<table border=\"1\" class=\"dataframe\">\n",
       "  <thead>\n",
       "    <tr style=\"text-align: right;\">\n",
       "      <th></th>\n",
       "      <th>text</th>\n",
       "      <th>target</th>\n",
       "      <th>text_length</th>\n",
       "      <th>avg_word_length</th>\n",
       "    </tr>\n",
       "  </thead>\n",
       "  <tbody>\n",
       "    <tr>\n",
       "      <th>0</th>\n",
       "      <td>The VIRSA (Visible Infrared Survey Telescope A...</td>\n",
       "      <td>real</td>\n",
       "      <td>2196</td>\n",
       "      <td>6.226974</td>\n",
       "    </tr>\n",
       "    <tr>\n",
       "      <th>1</th>\n",
       "      <td>China\\nThe goal of this project involves achie...</td>\n",
       "      <td>fake</td>\n",
       "      <td>3124</td>\n",
       "      <td>5.883260</td>\n",
       "    </tr>\n",
       "    <tr>\n",
       "      <th>2</th>\n",
       "      <td>Scientists can learn about how galaxies form a...</td>\n",
       "      <td>real</td>\n",
       "      <td>1139</td>\n",
       "      <td>6.169811</td>\n",
       "    </tr>\n",
       "    <tr>\n",
       "      <th>3</th>\n",
       "      <td>China\\nThe study suggests that multiple star s...</td>\n",
       "      <td>fake</td>\n",
       "      <td>1774</td>\n",
       "      <td>5.749049</td>\n",
       "    </tr>\n",
       "    <tr>\n",
       "      <th>4</th>\n",
       "      <td>Dinosaur Rex was excited about his new toy set...</td>\n",
       "      <td>fake</td>\n",
       "      <td>195</td>\n",
       "      <td>4.764706</td>\n",
       "    </tr>\n",
       "  </tbody>\n",
       "</table>\n",
       "</div>"
      ],
      "text/plain": [
       "                                                text target  text_length  \\\n",
       "0  The VIRSA (Visible Infrared Survey Telescope A...   real         2196   \n",
       "1  China\\nThe goal of this project involves achie...   fake         3124   \n",
       "2  Scientists can learn about how galaxies form a...   real         1139   \n",
       "3  China\\nThe study suggests that multiple star s...   fake         1774   \n",
       "4  Dinosaur Rex was excited about his new toy set...   fake          195   \n",
       "\n",
       "   avg_word_length  \n",
       "0         6.226974  \n",
       "1         5.883260  \n",
       "2         6.169811  \n",
       "3         5.749049  \n",
       "4         4.764706  "
      ]
     },
     "execution_count": 2,
     "metadata": {},
     "output_type": "execute_result"
    }
   ],
   "source": [
    "df = pd.read_csv(\"../data/traditional.csv\")\n",
    "df.head()"
   ]
  },
  {
   "cell_type": "code",
   "execution_count": 3,
   "id": "bea20327",
   "metadata": {},
   "outputs": [
    {
     "data": {
      "application/vnd.microsoft.datawrangler.viewer.v0+json": {
       "columns": [
        {
         "name": "index",
         "rawType": "object",
         "type": "string"
        },
        {
         "name": "0",
         "rawType": "int64",
         "type": "integer"
        }
       ],
       "ref": "a566e8ac-f8cc-4a62-9e53-088d5c2d2007",
       "rows": [
        [
         "text",
         "0"
        ],
        [
         "target",
         "0"
        ],
        [
         "text_length",
         "0"
        ],
        [
         "avg_word_length",
         "0"
        ]
       ],
       "shape": {
        "columns": 1,
        "rows": 4
       }
      },
      "text/plain": [
       "text               0\n",
       "target             0\n",
       "text_length        0\n",
       "avg_word_length    0\n",
       "dtype: int64"
      ]
     },
     "execution_count": 3,
     "metadata": {},
     "output_type": "execute_result"
    }
   ],
   "source": [
    "df.isna().sum()"
   ]
  },
  {
   "cell_type": "code",
   "execution_count": 4,
   "id": "0a474884",
   "metadata": {},
   "outputs": [
    {
     "data": {
      "application/vnd.microsoft.datawrangler.viewer.v0+json": {
       "columns": [
        {
         "name": "index",
         "rawType": "int64",
         "type": "integer"
        },
        {
         "name": "sample_id",
         "rawType": "object",
         "type": "string"
        },
        {
         "name": "file_1.txt_context",
         "rawType": "object",
         "type": "string"
        },
        {
         "name": "file_2.txt_context",
         "rawType": "object",
         "type": "string"
        }
       ],
       "ref": "156f71ae-5c64-4b27-ad3b-a05759623f1a",
       "rows": [
        [
         "0",
         "article_0000",
         "\"Music\" Music music music Music music Music music Music music\nThe two telescopes using \"Music\" have been incredibly busy since their launch! They're incredibly popular for research on Earthly objects like star clusters or celestial bodies like planets or even galaxies far away! They've produced many scientific publications within just a few years - so many so that they dominate by far when it comes to peer reviewed articles published from those telescopes! These musical journey has produced over a hundred articles published through various outlets like journals such as 'Nature'. Some notable achievements include discovering near space objects found between star systems as well as identifying cosmic events such as how gravity affects light waves traveling through spacemusic\nBeyond its contributions to individual research projects with specific scientific goals (like finding new types or patterns) , it also contributes significantly to our overall understanding by being used for several key scientific research initiatives where scientists can use them together to make remarkable discoveries about our universe . For example they contributed significantly towards understanding how some celestial objects change over time using its powerful capabilitys under various conditions under which they could only be observed before on other smaller scale telescopes MUSIC\nIt also holds an important place among others because some researchers think their work will help us understand how galaxies form or evolve better than ever beforeMusic\nThis is just a summary - I hope you find it helpful! Let me know if you need any further details about specific aspects mentioned here ! Songs for your day ahead!",
         "Since its launch on Paranal observatory's Very Large Telescope (VLT), FORSC instrument remains highly sought after by astronomers worldwide due to its impressive capabilities for capturing light from distant objects like planets outside our solar system (exoplanets) or other celestial phenomena such as black holes or supernovae explosions .\nFORSC has produced a significant amount scientific findings across various fields thanks to its ability to capture ultraviolet light: It boasts over a thousand peer-reviewed articles published using it since its inception , highlighting discoveries like a newly discovered interstellar asteroid within our solar system or identifying gravitational waves generated by merging neutron stars .\nFurthermore ,FORSC played a key role contributing significantly towards groundbreaking research published by top scientific journals such as \"Nature\" including three notable discoveries about interstellar asteroids , gravitational waves sources ,and titanium oxide present within an exoplanets atmosphere . This instrument's impact extends beyond just publishing new findings but also influences how scientists understand their research field through citations from other scientists who have built upon their work ."
        ],
        [
         "1",
         "article_0001",
         "underground exploration on SN's birth has provided valuable insights into its structure:\nEarly Detection: The space telescope data revealed warm underground material around SN's blast zone (like finding buried treasure). Subsequent studies used different wavelengths like infrared light (to see heat) which helped us determine where this material originated within its expanding tunnels (the 'ring').\nFurther Clues: Subsequent missions like Herschel dug deeper by detecting far-infrared emissions from this region - suggesting vast amounts were created during creation (like finding lost mineshaft).\nThe Persistence: While some details about its composition were unclear due limited view capabilities; recent findings using powerful telescopes like ALMA have given us much clearer picture - confirming presence under intense pressure conditions as well as providing evidence for specific elements such as CO SiO inside it (as if it contained ancient scrolls or cave paintings).\nThese discoveries indicate these remnants might play an important role shaping early universe by contributing both elements molecular building blocks – exciting prospect for future research!",
         "SN 1987A provides valuable insights as newer observatories become operational due its proximity as well as its ongoing evolution after its initial explosion event . Observations using various telescopes have revealed information about both warm (Spitzer) thermal infrared (Gemini South Very Large Telescope) emissions coming from different regions within SN 1987A's expanding shell . The Herschel satellite provided evidence for far-infrared emissions exceeding normal expectations suggesting substantial amounts were created by this event; while later instruments such as ALMA provided detailed views on cold matter near its core confirming previous findings about dusty material originating within it . The precise amount (mass) remains uncertain but suggests these materials may have originated elsewhere within galaxies or contribute significantly towards their early development . ALMA has given us evidence for both CO(2-to-l) SiO(5-to-4), which allows us better understand how these elements form after their initial creation during SN\nThis research continues into analyzing recent ALMA data revealing clumps within SN 's central region composed primarily CO SiO , offering unprecedented insight into how these elements form before any impact from external forces like shock waves disrupt them.. This research is crucial because it sheds light on how supernovas affect galactic environments beyond just metal content by potentially contributing large amounts of molecular compounds like those found here too.."
        ],
        [
         "2",
         "article_0002",
         "This research aimed to understand how star shapes differ from perfectly round ones using various techniques like examining visibility patterns across different directions and analyzing phase differences based on how starlight bends around an object's surface structure (like a sphere).\nWe found evidence for complex star shapes in some specific types (like those containing oxygen) by observing their light behavior differently than predicted by simple models for round or elliptical shapes (like those found in carbon stars). Our study suggests that asymmetry might be a characteristic feature associated with oxygen rich star systems compared to other types like carbon based ones where symmetry appears more common in their light behavior patterns .",
         "ChromeDriver music player\nThis study focused on identifying any non-spherical shapes within specific types of celestial bodies (music music) using various techniques like comparing how they look from different directions and analyzing their changes in sound pressure vs time .\nThe extent to which these artists' images show evidence for an overall shape rather than individual tracks was found across multiple tracks:\nTwo specific songs had clearly visible distortions due to their complex structure compared to others playing just simple beats\nThis research found that while most recordings showed a relatively simple structure (like when you only see one instrument rather than an entire grand orchestra), some featured noticeable deviations from those expectations (like if there were multiple instruments playing at once). These results suggest there may be a correlation between how musicians program their compositions and how much curvature they chose for their soundscape — it seems as though tracks with more intricate arrangements tend towards greater complexity!\nPlease note: This is just an example response based on your input text as I am not able access real world information such as music information or even what \"music music\" means without further context!\nLet me know if you want me to try working through some real world examples instead? I can also provide alternative ways I could rephrase your initial statement!"
        ],
        [
         "3",
         "article_0003",
         "Using OmegaCAM's wide field capabilities spanning over one degree squared across eight star forming areas within our galaxy's disk we conducted extensive observations with ESO's VLT telescope over four periods totaling around thirty five hours utilizing challenging \"filler\" weather conditions . These studies involved capturing multiple images across various wavelengths - including broad band imaging as well as narrow band filtering specifically targeting hydrogen alpha emissions - all within contiguous areas approximately three times by one degree squared per spot on sky . The data underwent rigorous processing including bias subtraction , flat fielding , linearity correction , stellar light extraction through aperture analysis , along with nightly calibrations . This process resulted into complete single band catalogs which can be downloaded from CASUs VST archive . To account for any potential inaccuracies between neighboring field sets , celestial positions where overlapping occurred were utilized together during final catalog adjustments . Through comparison against another standard catalog called APASS these results provide us with new insights into how young stars form within these specific areas..",
         "greek translation :\nvazhi (megaCAM), territorias (megaCAM), territorias . nahilalakip , suis . periods observation period , ESO observation period , ESO observation period , ESO observation period . .."
        ],
        [
         "4",
         "article_0004",
         "AssemblyCulture AssemblyCulture AssemblyCulture AssemblyCulture()\nIn essence:\nWhat it does: This program helps you analyze complex astronomical data like that collected from radio dishes or dinosaur footprints using modern scientific techniques called \"Monte Carlo simulations.\" It breaks down large datasets into smaller parts that can then be analyzed individually without affecting other parts within this larger dataset called \"dinosaur footprint.\"\nHow it works: It uses sophisticated mathematical equations (\"the dinosaur footprint\" itself), along with pre-existing databases (\"dino fossils\"), to estimate how light interacts with these complex structures (\"dino footprints\"). It then uses this information about how light interacts within these \"dinosaurs\" themselves (\"dinosaurs' own bodies\") to create detailed reconstructions (\"paleoartist's sketch\") based on what we know about dinosaurs themselves (paleoartists sketch).\nBenefits: By being able to break down large datasets into smaller parts that can then be analyzed individually without affecting others within this larger dataset called dinosaur footprint, it helps us understand dinosaurs better than ever before!\nLet me know if you want me explain any part further! I hope this clarifies things somewhat!",
         "XClass is software tool that helps astronomers analyze astronomical data using parallel processing techniques called Message Passing Interface (MPI).\nIt offers advanced features like fitting physical parameters across multiple molecular lines within datasets; this helps identify individual chemical elements present in space along with their properties like temperature and density distribution within those elements' regions within their host objects .\nUnlike other similar programs that may only consider some lines at once , XClass accounts fully for every line from each element at specific wavelengths . This makes it more reliable when identifying different chemical compounds present simultaneously .\nTo achieve this analysis , it uses simplified equations based on local thermodynamic equilibrium(LTE), assuming uniform temperatures throughout its analysis area . Although this assumption works well most times , it may not apply perfectly when dealing with non-equilibrium processes involving collisions between atoms or molecules that arent accounted properly .\nThe software utilizes precompiled databases containing spectral information about various molecular species obtained through various scientific research projects including NASAs JPL project team Cologne Database For Molecular Spectroscopy project team.. These databases allow users to input specific details about their target spectra including sizes , temperatures , densities etc., allowing them detailed control over how they want their spectra analyzed\nFinally , users can utilize specialized syntax known as Splatalogue format specifically designed to work seamlessly alongside CASA's existing tools making integrating these two powerful systems even easier than before!"
        ]
       ],
       "shape": {
        "columns": 3,
        "rows": 5
       }
      },
      "text/html": [
       "<div>\n",
       "<style scoped>\n",
       "    .dataframe tbody tr th:only-of-type {\n",
       "        vertical-align: middle;\n",
       "    }\n",
       "\n",
       "    .dataframe tbody tr th {\n",
       "        vertical-align: top;\n",
       "    }\n",
       "\n",
       "    .dataframe thead th {\n",
       "        text-align: right;\n",
       "    }\n",
       "</style>\n",
       "<table border=\"1\" class=\"dataframe\">\n",
       "  <thead>\n",
       "    <tr style=\"text-align: right;\">\n",
       "      <th></th>\n",
       "      <th>sample_id</th>\n",
       "      <th>file_1.txt_context</th>\n",
       "      <th>file_2.txt_context</th>\n",
       "    </tr>\n",
       "  </thead>\n",
       "  <tbody>\n",
       "    <tr>\n",
       "      <th>0</th>\n",
       "      <td>article_0000</td>\n",
       "      <td>\"Music\" Music music music Music music Music mu...</td>\n",
       "      <td>Since its launch on Paranal observatory's Very...</td>\n",
       "    </tr>\n",
       "    <tr>\n",
       "      <th>1</th>\n",
       "      <td>article_0001</td>\n",
       "      <td>underground exploration on SN's birth has prov...</td>\n",
       "      <td>SN 1987A provides valuable insights as newer o...</td>\n",
       "    </tr>\n",
       "    <tr>\n",
       "      <th>2</th>\n",
       "      <td>article_0002</td>\n",
       "      <td>This research aimed to understand how star sha...</td>\n",
       "      <td>ChromeDriver music player\\nThis study focused ...</td>\n",
       "    </tr>\n",
       "    <tr>\n",
       "      <th>3</th>\n",
       "      <td>article_0003</td>\n",
       "      <td>Using OmegaCAM's wide field capabilities spann...</td>\n",
       "      <td>greek translation :\\nvazhi (megaCAM), territor...</td>\n",
       "    </tr>\n",
       "    <tr>\n",
       "      <th>4</th>\n",
       "      <td>article_0004</td>\n",
       "      <td>AssemblyCulture AssemblyCulture AssemblyCultur...</td>\n",
       "      <td>XClass is software tool that helps astronomers...</td>\n",
       "    </tr>\n",
       "  </tbody>\n",
       "</table>\n",
       "</div>"
      ],
      "text/plain": [
       "      sample_id                                 file_1.txt_context  \\\n",
       "0  article_0000  \"Music\" Music music music Music music Music mu...   \n",
       "1  article_0001  underground exploration on SN's birth has prov...   \n",
       "2  article_0002  This research aimed to understand how star sha...   \n",
       "3  article_0003  Using OmegaCAM's wide field capabilities spann...   \n",
       "4  article_0004  AssemblyCulture AssemblyCulture AssemblyCultur...   \n",
       "\n",
       "                                  file_2.txt_context  \n",
       "0  Since its launch on Paranal observatory's Very...  \n",
       "1  SN 1987A provides valuable insights as newer o...  \n",
       "2  ChromeDriver music player\\nThis study focused ...  \n",
       "3  greek translation :\\nvazhi (megaCAM), territor...  \n",
       "4  XClass is software tool that helps astronomers...  "
      ]
     },
     "execution_count": 4,
     "metadata": {},
     "output_type": "execute_result"
    }
   ],
   "source": [
    "test = pd.read_csv('../data/test_processed.csv')\n",
    "test.head()"
   ]
  },
  {
   "cell_type": "code",
   "execution_count": 5,
   "id": "fa19b14d",
   "metadata": {},
   "outputs": [
    {
     "data": {
      "application/vnd.microsoft.datawrangler.viewer.v0+json": {
       "columns": [
        {
         "name": "index",
         "rawType": "int64",
         "type": "integer"
        },
        {
         "name": "sample_id",
         "rawType": "object",
         "type": "string"
        },
        {
         "name": "file_1.txt_context",
         "rawType": "object",
         "type": "string"
        },
        {
         "name": "file_2.txt_context",
         "rawType": "object",
         "type": "unknown"
        }
       ],
       "ref": "6d262141-6cb0-427a-a3b1-aaee92383643",
       "rows": [
        [
         "223",
         "article_0223",
         "Since 2008 when CASU delivered a basic tool for assessing VISTAVIRCAM images (not scientific grade), they've been working with ESO on upgrading this tool into a fully functional system capable producing high quality scientific results for both VISTA public surveys future instruments like HAWK-I VIMOS .\nCASUs goal was not just improving existing tools but creating entirely new ones specifically designed for those newer instruments within their own dedicated \"pipeline\" library accessible by everyone at both institutions . They will then apply these improved pipelines across all previous datasets collected via those telescopes (SAF) up until December 2015 , effectively streamlining future research efforts using their expertise . Finally , rigorous testing has ensured every step along this path meets strict standards before being implemented widely .",
         null
        ]
       ],
       "shape": {
        "columns": 3,
        "rows": 1
       }
      },
      "text/html": [
       "<div>\n",
       "<style scoped>\n",
       "    .dataframe tbody tr th:only-of-type {\n",
       "        vertical-align: middle;\n",
       "    }\n",
       "\n",
       "    .dataframe tbody tr th {\n",
       "        vertical-align: top;\n",
       "    }\n",
       "\n",
       "    .dataframe thead th {\n",
       "        text-align: right;\n",
       "    }\n",
       "</style>\n",
       "<table border=\"1\" class=\"dataframe\">\n",
       "  <thead>\n",
       "    <tr style=\"text-align: right;\">\n",
       "      <th></th>\n",
       "      <th>sample_id</th>\n",
       "      <th>file_1.txt_context</th>\n",
       "      <th>file_2.txt_context</th>\n",
       "    </tr>\n",
       "  </thead>\n",
       "  <tbody>\n",
       "    <tr>\n",
       "      <th>223</th>\n",
       "      <td>article_0223</td>\n",
       "      <td>Since 2008 when CASU delivered a basic tool fo...</td>\n",
       "      <td>NaN</td>\n",
       "    </tr>\n",
       "  </tbody>\n",
       "</table>\n",
       "</div>"
      ],
      "text/plain": [
       "        sample_id                                 file_1.txt_context  \\\n",
       "223  article_0223  Since 2008 when CASU delivered a basic tool fo...   \n",
       "\n",
       "    file_2.txt_context  \n",
       "223                NaN  "
      ]
     },
     "execution_count": 5,
     "metadata": {},
     "output_type": "execute_result"
    }
   ],
   "source": [
    "test[test['file_2.txt_context'].isna()]"
   ]
  },
  {
   "cell_type": "code",
   "execution_count": 6,
   "id": "fbe7e11f",
   "metadata": {},
   "outputs": [],
   "source": [
    "test.fillna('', inplace=True)"
   ]
  },
  {
   "cell_type": "code",
   "execution_count": 7,
   "id": "2e0c1ef4",
   "metadata": {},
   "outputs": [],
   "source": [
    "from sklearn.feature_extraction.text import TfidfVectorizer\n",
    "from sklearn.model_selection import train_test_split, cross_val_score\n",
    "from sklearn.metrics import classification_report, accuracy_score, roc_auc_score, confusion_matrix, roc_curve, auc\n",
    "from sklearn.preprocessing import StandardScaler\n",
    "\n",
    "from sklearn.pipeline import Pipeline\n",
    "from sklearn.compose import ColumnTransformer"
   ]
  },
  {
   "cell_type": "markdown",
   "id": "a2e0e286",
   "metadata": {},
   "source": [
    "### Prepare data for modeling"
   ]
  },
  {
   "cell_type": "code",
   "execution_count": 8,
   "id": "3b3d3392",
   "metadata": {},
   "outputs": [],
   "source": [
    "X = df[['text', 'text_length', 'avg_word_length']]\n",
    "y = df['target']"
   ]
  },
  {
   "cell_type": "code",
   "execution_count": 9,
   "id": "eafc5f02",
   "metadata": {},
   "outputs": [],
   "source": [
    "X_train, X_val, y_train, y_val = train_test_split(X, y, test_size=0.1, random_state=42)"
   ]
  },
  {
   "cell_type": "markdown",
   "id": "2cf8f371",
   "metadata": {},
   "source": [
    "## TF-IDF Vectorizer"
   ]
  },
  {
   "cell_type": "code",
   "execution_count": 10,
   "id": "faca9e66",
   "metadata": {},
   "outputs": [],
   "source": [
    "preprocessor_tfidf = ColumnTransformer(\n",
    "    transformers=[\n",
    "        ('vectorize', TfidfVectorizer(), 'text'),\n",
    "        ('scale', StandardScaler(), ['text_length', 'avg_word_length'])\n",
    "    ]\n",
    ")"
   ]
  },
  {
   "cell_type": "code",
   "execution_count": 11,
   "id": "45e69303",
   "metadata": {},
   "outputs": [],
   "source": [
    "def train_eval_classifier(classifier, name, X_train, y_train, X_val, y_val):\n",
    "    \n",
    "    # create model\n",
    "    model = Pipeline(steps=[\n",
    "        ('preprocess', preprocessor_tfidf),\n",
    "        ('classifier', classifier)\n",
    "    ])\n",
    "\n",
    "    # fit the model\n",
    "    model.fit(X_train, y_train)\n",
    "\n",
    "    # get val predictions\n",
    "    model_preds = model.predict(X_val)\n",
    "    model_proba = model.predict_proba(X_val)[:, 1]\n",
    "\n",
    "    # Eval metrics\n",
    "    print(\"-\"*10 + name + \":-\" + \"-\"*10)\n",
    "    print(\"Accuracy: {:.2f}\".format(accuracy_score(y_val, model_preds)))\n",
    "    print(\"\\n\\nClassification Report: \\n{}\".format(classification_report(y_val, model_preds)))\n",
    "    print(\"\\n\\nROC AUC: {:.2f}\".format(roc_auc_score(y_val, model_proba)))\n",
    "    print(\"\\n\\nConfusion Matrix: \\n{}\".format(confusion_matrix(y_val, model_preds)))\n",
    "    \n",
    "    # Inside your function, after fitting the model:\n",
    "    cv_scores = cross_val_score(model, X_train, y_train, cv=5, scoring='accuracy')\n",
    "    print(f\"\\n\\nCross-validation Accuracy: {cv_scores.mean():.2f} ± {cv_scores.std():.2f}\")\n",
    "\n",
    "    # Convert target to binary (1 for 'real', 0 for 'fake')\n",
    "    y_train_bin = y_train.map({'fake': 0, 'real': 1})\n",
    "    y_val_bin = y_val.map({'fake': 0, 'real': 1})\n",
    "\n",
    "    # plot roc curve\n",
    "    fpr, tpr, thresholds = roc_curve(y_val_bin, model_proba)\n",
    "    roc_auc = auc(fpr, tpr)\n",
    "\n",
    "    plt.figure()\n",
    "    plt.plot(fpr, tpr, color='blue', lw=2, label=f'ROC curve (AUC = {roc_auc:.2f})')\n",
    "    plt.plot([0, 1], [0, 1], color='gray', linestyle='--')  # Diagonal line\n",
    "    plt.xlabel('False Positive Rate')\n",
    "    plt.ylabel('True Positive Rate')\n",
    "    plt.title('Receiver Operating Characteristic (ROC) Curve')\n",
    "    plt.legend(loc='lower right')\n",
    "    plt.show()\n",
    "    \n",
    "    # return predictions and their probabilities\n",
    "    return model, model_preds, model_proba"
   ]
  },
  {
   "cell_type": "code",
   "execution_count": 12,
   "id": "06965ff9",
   "metadata": {},
   "outputs": [],
   "source": [
    "def test_eval(classifier, X_test):\n",
    "    preds = classifier.predict(X_test)\n",
    "    proba = classifier.predict_proba(X_test)[:, 1]\n",
    "    return preds, proba"
   ]
  },
  {
   "cell_type": "markdown",
   "id": "2cf8234b",
   "metadata": {},
   "source": [
    "### Logistic Regression with TF-IDF"
   ]
  },
  {
   "cell_type": "code",
   "execution_count": 13,
   "id": "a29cd555",
   "metadata": {},
   "outputs": [
    {
     "name": "stdout",
     "output_type": "stream",
     "text": [
      "----------Logistic Regression:-----------\n",
      "Accuracy: 0.74\n",
      "\n",
      "\n",
      "Classification Report: \n",
      "              precision    recall  f1-score   support\n",
      "\n",
      "        fake       0.62      0.71      0.67         7\n",
      "        real       0.82      0.75      0.78        12\n",
      "\n",
      "    accuracy                           0.74        19\n",
      "   macro avg       0.72      0.73      0.72        19\n",
      "weighted avg       0.75      0.74      0.74        19\n",
      "\n",
      "\n",
      "\n",
      "ROC AUC: 0.71\n",
      "\n",
      "\n",
      "Confusion Matrix: \n",
      "[[5 2]\n",
      " [3 9]]\n",
      "\n",
      "\n",
      "Cross-validation Accuracy: 0.72 ± 0.04\n"
     ]
    },
    {
     "data": {
      "image/png": "[encoded data removed]",
      "text/plain": [
       "<Figure size 640x480 with 1 Axes>"
      ]
     },
     "metadata": {},
     "output_type": "display_data"
    }
   ],
   "source": [
    "from sklearn.linear_model import LogisticRegression\n",
    "\n",
    "log_reg, log_reg_preds, log_reg_proba = train_eval_classifier(LogisticRegression(), \"Logistic Regression\", X_train, y_train, X_val, y_val)"
   ]
  },
  {
   "cell_type": "markdown",
   "id": "1fcab07f",
   "metadata": {},
   "source": [
    "### Decision Tree with TF-IDF"
   ]
  },
  {
   "cell_type": "code",
   "execution_count": 14,
   "id": "fa352e1d",
   "metadata": {},
   "outputs": [
    {
     "name": "stdout",
     "output_type": "stream",
     "text": [
      "----------Decision Tree:-----------\n",
      "Accuracy: 0.53\n",
      "\n",
      "\n",
      "Classification Report: \n",
      "              precision    recall  f1-score   support\n",
      "\n",
      "        fake       0.38      0.43      0.40         7\n",
      "        real       0.64      0.58      0.61        12\n",
      "\n",
      "    accuracy                           0.53        19\n",
      "   macro avg       0.51      0.51      0.50        19\n",
      "weighted avg       0.54      0.53      0.53        19\n",
      "\n",
      "\n",
      "\n",
      "ROC AUC: 0.51\n",
      "\n",
      "\n",
      "Confusion Matrix: \n",
      "[[3 4]\n",
      " [5 7]]\n",
      "\n",
      "\n",
      "Cross-validation Accuracy: 0.64 ± 0.10\n"
     ]
    },
    {
     "data": {
      "image/png": "[encoded data removed]",
      "text/plain": [
       "<Figure size 640x480 with 1 Axes>"
      ]
     },
     "metadata": {},
     "output_type": "display_data"
    }
   ],
   "source": [
    "from sklearn.tree import DecisionTreeClassifier\n",
    "\n",
    "dt, dt_preds, dt_proba = train_eval_classifier(DecisionTreeClassifier(), \"Decision Tree\", X_train, y_train, X_val, y_val)"
   ]
  },
  {
   "cell_type": "markdown",
   "id": "b60362ca",
   "metadata": {},
   "source": [
    "### SVM with Tf-IDF"
   ]
  },
  {
   "cell_type": "code",
   "execution_count": 15,
   "id": "4c1c65e3",
   "metadata": {},
   "outputs": [
    {
     "name": "stdout",
     "output_type": "stream",
     "text": [
      "----------SVM:-----------\n",
      "Accuracy: 0.58\n",
      "\n",
      "\n",
      "Classification Report: \n",
      "              precision    recall  f1-score   support\n",
      "\n",
      "        fake       0.44      0.57      0.50         7\n",
      "        real       0.70      0.58      0.64        12\n",
      "\n",
      "    accuracy                           0.58        19\n",
      "   macro avg       0.57      0.58      0.57        19\n",
      "weighted avg       0.61      0.58      0.59        19\n",
      "\n",
      "\n",
      "\n",
      "ROC AUC: 0.64\n",
      "\n",
      "\n",
      "Confusion Matrix: \n",
      "[[4 3]\n",
      " [5 7]]\n",
      "\n",
      "\n",
      "Cross-validation Accuracy: 0.72 ± 0.07\n"
     ]
    },
    {
     "data": {
      "image/png": "[encoded data removed]",
      "text/plain": [
       "<Figure size 640x480 with 1 Axes>"
      ]
     },
     "metadata": {},
     "output_type": "display_data"
    }
   ],
   "source": [
    "from sklearn.svm import SVC\n",
    "\n",
    "svm, svm_preds, svm_proba = train_eval_classifier(SVC(probability=True), \"SVM\", X_train, y_train, X_val, y_val)"
   ]
  },
  {
   "cell_type": "markdown",
   "id": "a72d362e",
   "metadata": {},
   "source": [
    "### Random Forest with TF-IDF"
   ]
  },
  {
   "cell_type": "code",
   "execution_count": 25,
   "id": "13a9fd6f",
   "metadata": {},
   "outputs": [
    {
     "name": "stdout",
     "output_type": "stream",
     "text": [
      "----------Random Forest:-----------\n",
      "Accuracy: 0.74\n",
      "\n",
      "\n",
      "Classification Report: \n",
      "              precision    recall  f1-score   support\n",
      "\n",
      "        fake       0.62      0.71      0.67         7\n",
      "        real       0.82      0.75      0.78        12\n",
      "\n",
      "    accuracy                           0.74        19\n",
      "   macro avg       0.72      0.73      0.72        19\n",
      "weighted avg       0.75      0.74      0.74        19\n",
      "\n",
      "\n",
      "\n",
      "ROC AUC: 0.78\n",
      "\n",
      "\n",
      "Confusion Matrix: \n",
      "[[5 2]\n",
      " [3 9]]\n",
      "\n",
      "\n",
      "Cross-validation Accuracy: 0.72 ± 0.05\n"
     ]
    },
    {
     "data": {
      "image/png": "[encoded data removed]",
      "text/plain": [
       "<Figure size 640x480 with 1 Axes>"
      ]
     },
     "metadata": {},
     "output_type": "display_data"
    }
   ],
   "source": [
    "from sklearn.ensemble import RandomForestClassifier\n",
    "\n",
    "rf, rf_preds, rf_proba = train_eval_classifier(RandomForestClassifier(), \"Random Forest\", X_train, y_train, X_val, y_val)"
   ]
  },
  {
   "cell_type": "code",
   "execution_count": 21,
   "id": "6ad08bf2",
   "metadata": {},
   "outputs": [
    {
     "data": {
      "text/plain": [
       "['../models/logistic_regression_tfidf_more_features.joblib']"
      ]
     },
     "execution_count": 21,
     "metadata": {},
     "output_type": "execute_result"
    }
   ],
   "source": [
    "import joblib\n",
    "\n",
    "joblib.dump(rf, '../models/random_forest_tfidf_more_features.joblib')\n",
    "joblib.dump(log_reg, '../models/logistic_regression_tfidf_more_features.joblib')"
   ]
  },
  {
   "cell_type": "markdown",
   "id": "79e71ea1",
   "metadata": {},
   "source": [
    "## Embedding vectorization"
   ]
  },
  {
   "cell_type": "code",
   "execution_count": 25,
   "id": "1b47edd9",
   "metadata": {},
   "outputs": [
    {
     "name": "stderr",
     "output_type": "stream",
     "text": [
      "d:\\Anaconda\\envs\\text-classifier\\Lib\\site-packages\\tqdm\\auto.py:21: TqdmWarning: IProgress not found. Please update jupyter and ipywidgets. See https://ipywidgets.readthedocs.io/en/stable/user_install.html\n",
      "  from .autonotebook import tqdm as notebook_tqdm\n"
     ]
    }
   ],
   "source": [
    "from sentence_transformers import SentenceTransformer\n",
    "import transformers"
   ]
  },
  {
   "cell_type": "code",
   "execution_count": 26,
   "id": "4f434cc8",
   "metadata": {},
   "outputs": [],
   "source": [
    "embed_model = SentenceTransformer(\"all-MiniLM-L6-v2\")"
   ]
  },
  {
   "cell_type": "code",
   "execution_count": 27,
   "id": "42c316ec",
   "metadata": {},
   "outputs": [],
   "source": [
    "def train_eval_classifier_embedding(classifier, name, X_train, y_train, X_val=None, y_val=None):\n",
    "    \n",
    "    if X_val is not None and y_val is not None:\n",
    "        # create model\n",
    "        X_train_embedded = embed_model.encode(X_train['text'].tolist())\n",
    "        X_val_embedded = embed_model.encode(X_val['text'].tolist())\n",
    "        scaler = StandardScaler()\n",
    "        X_train_scaled = scaler.fit_transform(X_train[['text_length', 'avg_word_length']])\n",
    "        X_val_scaled = scaler.transform(X_val[['text_length', 'avg_word_length']])\n",
    "\n",
    "        X_train_final = np.hstack((X_train_embedded, X_train_scaled))\n",
    "        X_val_final = np.hstack((X_val_embedded, X_val_scaled))\n",
    "\n",
    "        # fit the model\n",
    "        model = classifier\n",
    "        model.fit(X_train_final, y_train)    \n",
    "\n",
    "        # get val predictions\n",
    "        model_preds = model.predict(X_val_final)\n",
    "        model_proba = model.predict_proba(X_val_final)[:, 1]\n",
    "\n",
    "        # Eval metrics\n",
    "        print(\"-\"*10 + name + \":-\" + \"-\"*10)\n",
    "        print(\"Accuracy: {:.2f}\".format(accuracy_score(y_val, model_preds)))\n",
    "        print(\"\\n\\nClassification Report: \\n{}\".format(classification_report(y_val, model_preds)))\n",
    "        print(\"\\n\\nROC AUC: {:.2f}\".format(roc_auc_score(y_val, model_proba)))\n",
    "        print(\"\\n\\nConfusion Matrix: \\n{}\".format(confusion_matrix(y_val, model_preds)))\n",
    "        \n",
    "        # Inside your function, after fitting the model:\n",
    "        cv_scores = cross_val_score(model, X_train_embedded, y_train, cv=5, scoring='accuracy')\n",
    "        print(f\"\\n\\nCross-validation Accuracy: {cv_scores.mean():.2f} ± {cv_scores.std():.2f}\")\n",
    "\n",
    "        # Convert target to binary (1 for 'real', 0 for 'fake')\n",
    "        y_train_bin = y_train.map({'fake': 0, 'real': 1})\n",
    "        y_val_bin = y_val.map({'fake': 0, 'real': 1})\n",
    "\n",
    "        # plot roc curve\n",
    "        fpr, tpr, thresholds = roc_curve(y_val_bin, model_proba)\n",
    "        roc_auc = auc(fpr, tpr)\n",
    "\n",
    "        plt.figure()\n",
    "        plt.plot(fpr, tpr, color='blue', lw=2, label=f'ROC curve (AUC = {roc_auc:.2f})')\n",
    "        plt.plot([0, 1], [0, 1], color='gray', linestyle='--')  # Diagonal line\n",
    "        plt.xlabel('False Positive Rate')\n",
    "        plt.ylabel('True Positive Rate')\n",
    "        plt.title('Receiver Operating Characteristic (ROC) Curve')\n",
    "        plt.legend(loc='lower right')\n",
    "        plt.show()\n",
    "        \n",
    "        # return predictions and their probabilities\n",
    "        return model, model_preds, model_proba\n",
    "        \n",
    "    else:\n",
    "        X_embedded = embed_model.encode(X_train['text'].tolist())\n",
    "        \n",
    "        model = classifier\n",
    "        model.fit(X_embedded, y_train)\n",
    "\n",
    "        return model, None, None\n"
   ]
  },
  {
   "cell_type": "code",
   "execution_count": 28,
   "id": "07ca4d14",
   "metadata": {},
   "outputs": [],
   "source": [
    "def test_eval_embed(classifier, X_test):\n",
    "    X_test_embedded = embed_model.encode(X_test['text'].tolist())\n",
    "    \n",
    "    # numeric cols\n",
    "    scaler = StandardScaler()\n",
    "    X_test_scaled = scaler.fit_transform(X_test[['text_length', 'avg_word_length']])\n",
    "    X_test_final = np.hstack((X_test_embedded, X_test_scaled))\n",
    "\n",
    "    preds = classifier.predict(X_test_final)\n",
    "    proba = classifier.predict_proba(X_test_final)[:, 1]\n",
    "    return preds, proba"
   ]
  },
  {
   "cell_type": "markdown",
   "id": "d05d64fa",
   "metadata": {},
   "source": [
    "### Logistic Regression using embedding"
   ]
  },
  {
   "cell_type": "code",
   "execution_count": 29,
   "id": "1dba6124",
   "metadata": {},
   "outputs": [
    {
     "name": "stdout",
     "output_type": "stream",
     "text": [
      "----------Logistic Regression with Embeddings:-----------\n",
      "Accuracy: 0.68\n",
      "\n",
      "\n",
      "Classification Report: \n",
      "              precision    recall  f1-score   support\n",
      "\n",
      "        fake       0.56      0.71      0.62         7\n",
      "        real       0.80      0.67      0.73        12\n",
      "\n",
      "    accuracy                           0.68        19\n",
      "   macro avg       0.68      0.69      0.68        19\n",
      "weighted avg       0.71      0.68      0.69        19\n",
      "\n",
      "\n",
      "\n",
      "ROC AUC: 0.73\n",
      "\n",
      "\n",
      "Confusion Matrix: \n",
      "[[5 2]\n",
      " [4 8]]\n",
      "\n",
      "\n",
      "Cross-validation Accuracy: 0.70 ± 0.06\n"
     ]
    },
    {
     "data": {
      "image/png": "[encoded data removed]",
      "text/plain": [
       "<Figure size 640x480 with 1 Axes>"
      ]
     },
     "metadata": {},
     "output_type": "display_data"
    }
   ],
   "source": [
    "log_reg_emb, log_reg_emb_preds, log_reg_emb_proba = train_eval_classifier_embedding(LogisticRegression(), \"Logistic Regression with Embeddings\", X_train, y_train, X_val, y_val)"
   ]
  },
  {
   "cell_type": "markdown",
   "id": "bbb8ee94",
   "metadata": {},
   "source": [
    "### Decision True using embedding"
   ]
  },
  {
   "cell_type": "code",
   "execution_count": null,
   "id": "87edaf31",
   "metadata": {},
   "outputs": [
    {
     "name": "stdout",
     "output_type": "stream",
     "text": [
      "----------Decision Tree with Embeddings:-----------\n",
      "Accuracy: 0.58\n",
      "\n",
      "\n",
      "Classification Report: \n",
      "              precision    recall  f1-score   support\n",
      "\n",
      "        fake       0.45      0.71      0.56         7\n",
      "        real       0.75      0.50      0.60        12\n",
      "\n",
      "    accuracy                           0.58        19\n",
      "   macro avg       0.60      0.61      0.58        19\n",
      "weighted avg       0.64      0.58      0.58        19\n",
      "\n",
      "\n",
      "\n",
      "ROC AUC: 0.61\n",
      "\n",
      "\n",
      "Confusion Matrix: \n",
      "[[5 2]\n",
      " [6 6]]\n",
      "\n",
      "\n",
      "Cross-validation Accuracy: 0.60 ± 0.10\n"
     ]
    },
    {
     "data": {
      "image/png": "[encoded data removed]",
      "text/plain": [
       "<Figure size 640x480 with 1 Axes>"
      ]
     },
     "metadata": {},
     "output_type": "display_data"
    }
   ],
   "source": [
    "dt_emb, dt_preds_emb, dt_proba_emb = train_eval_classifier_embedding(DecisionTreeClassifier(), \"Decision Tree with Embeddings\", X_train, y_train, X_val, y_val)"
   ]
  },
  {
   "cell_type": "markdown",
   "id": "0ba986dd",
   "metadata": {},
   "source": [
    "### Random Forest using embedding"
   ]
  },
  {
   "cell_type": "code",
   "execution_count": null,
   "id": "18020d97",
   "metadata": {},
   "outputs": [
    {
     "name": "stdout",
     "output_type": "stream",
     "text": [
      "----------Random Forest with Embeddings:-----------\n",
      "Accuracy: 0.42\n",
      "\n",
      "\n",
      "Classification Report: \n",
      "              precision    recall  f1-score   support\n",
      "\n",
      "        fake       0.30      0.43      0.35         7\n",
      "        real       0.56      0.42      0.48        12\n",
      "\n",
      "    accuracy                           0.42        19\n",
      "   macro avg       0.43      0.42      0.41        19\n",
      "weighted avg       0.46      0.42      0.43        19\n",
      "\n",
      "\n",
      "\n",
      "ROC AUC: 0.48\n",
      "\n",
      "\n",
      "Confusion Matrix: \n",
      "[[3 4]\n",
      " [7 5]]\n",
      "\n",
      "\n",
      "Cross-validation Accuracy: 0.61 ± 0.09\n"
     ]
    },
    {
     "data": {
      "image/png": "[encoded data removed]",
      "text/plain": [
       "<Figure size 640x480 with 1 Axes>"
      ]
     },
     "metadata": {},
     "output_type": "display_data"
    }
   ],
   "source": [
    "rf_emb, rf_preds_emb, rf_proba_emb = train_eval_classifier_embedding(RandomForestClassifier(), \"Random Forest with Embeddings\", X_train, y_train, X_val, y_val)"
   ]
  },
  {
   "cell_type": "markdown",
   "id": "b68b0fa0",
   "metadata": {},
   "source": [
    "### KNN Classifier using embedding"
   ]
  },
  {
   "cell_type": "code",
   "execution_count": null,
   "id": "18468f76",
   "metadata": {},
   "outputs": [
    {
     "name": "stdout",
     "output_type": "stream",
     "text": [
      "----------KNN with Embeddings:-----------\n",
      "Accuracy: 0.63\n",
      "\n",
      "\n",
      "Classification Report: \n",
      "              precision    recall  f1-score   support\n",
      "\n",
      "        fake       0.50      0.71      0.59         7\n",
      "        real       0.78      0.58      0.67        12\n",
      "\n",
      "    accuracy                           0.63        19\n",
      "   macro avg       0.64      0.65      0.63        19\n",
      "weighted avg       0.68      0.63      0.64        19\n",
      "\n",
      "\n",
      "\n",
      "ROC AUC: 0.63\n",
      "\n",
      "\n",
      "Confusion Matrix: \n",
      "[[5 2]\n",
      " [5 7]]\n",
      "\n",
      "\n",
      "Cross-validation Accuracy: 0.59 ± 0.08\n"
     ]
    },
    {
     "data": {
      "image/png": "[encoded data removed]",
      "text/plain": [
       "<Figure size 640x480 with 1 Axes>"
      ]
     },
     "metadata": {},
     "output_type": "display_data"
    }
   ],
   "source": [
    "from sklearn.neighbors import KNeighborsClassifier\n",
    "knn_emb, knn_preds_emb, knn_proba_emb = train_eval_classifier_embedding(KNeighborsClassifier(), \"KNN with Embeddings\", X_train, y_train, X_val, y_val)"
   ]
  },
  {
   "cell_type": "markdown",
   "id": "f74104a7",
   "metadata": {},
   "source": [
    "### Gradient Boosting classifier using embedding"
   ]
  },
  {
   "cell_type": "code",
   "execution_count": null,
   "id": "57999e55",
   "metadata": {},
   "outputs": [
    {
     "name": "stdout",
     "output_type": "stream",
     "text": [
      "----------Gradient Boosting with Embeddings:-----------\n",
      "Accuracy: 1.00\n",
      "\n",
      "\n",
      "Classification Report: \n",
      "              precision    recall  f1-score   support\n",
      "\n",
      "        fake       1.00      1.00      1.00         7\n",
      "        real       1.00      1.00      1.00        12\n",
      "\n",
      "    accuracy                           1.00        19\n",
      "   macro avg       1.00      1.00      1.00        19\n",
      "weighted avg       1.00      1.00      1.00        19\n",
      "\n",
      "\n",
      "\n",
      "ROC AUC: 1.00\n",
      "\n",
      "\n",
      "Confusion Matrix: \n",
      "[[ 7  0]\n",
      " [ 0 12]]\n",
      "\n",
      "\n",
      "Cross-validation Accuracy: 0.54 ± 0.13\n"
     ]
    },
    {
     "data": {
      "image/png": "[encoded data removed]",
      "text/plain": [
       "<Figure size 640x480 with 1 Axes>"
      ]
     },
     "metadata": {},
     "output_type": "display_data"
    }
   ],
   "source": [
    "from sklearn.ensemble import GradientBoostingClassifier\n",
    "\n",
    "gb_emb, gb_preds_emb, gb_proba_emb = train_eval_classifier_embedding(GradientBoostingClassifier(), \"Gradient Boosting with Embeddings\", X_train=X, y_train=y, X_val=X_val, y_val=y_val)\n"
   ]
  },
  {
   "cell_type": "markdown",
   "id": "f0836aba",
   "metadata": {},
   "source": [
    "## Getting test predictions"
   ]
  },
  {
   "cell_type": "markdown",
   "id": "3089bf22",
   "metadata": {},
   "source": [
    "### Predict on test data"
   ]
  },
  {
   "cell_type": "code",
   "execution_count": 31,
   "id": "bbf9c073",
   "metadata": {},
   "outputs": [],
   "source": [
    "def add_numeric_features(df, text_col='text'):\n",
    "    df = df.copy()\n",
    "    if 'text_length' not in df.columns:\n",
    "        df['text_length'] = df[text_col].str.len()\n",
    "    if 'avg_word_length' not in df.columns:\n",
    "        df['avg_word_length'] = df[text_col].apply(\n",
    "            lambda t: np.mean([len(w) for w in t.split()]) if t.strip() else 0\n",
    "        )\n",
    "    return df"
   ]
  },
  {
   "cell_type": "code",
   "execution_count": 32,
   "id": "d73fc31d",
   "metadata": {},
   "outputs": [],
   "source": [
    "def predict_test(model):\n",
    "    file1 = test[['file_1.txt_context']].rename(columns={'file_1.txt_context': 'text'})\n",
    "    file2 = test[['file_2.txt_context']].rename(columns={'file_2.txt_context': 'text'})\n",
    "\n",
    "    file1 = add_numeric_features(file1, 'text')\n",
    "    file2 = add_numeric_features(file2, 'text')\n",
    "\n",
    "    test_pred_1, test_proba_1 = test_eval_embed(model, file1)\n",
    "    test_pred_2, test_proba_2 = test_eval_embed(model, file2)\n",
    "\n",
    "    results = pd.DataFrame({\n",
    "        'id': test['sample_id'],\n",
    "        'file_1_pred': test_pred_1,\n",
    "        'file_1_proba': test_proba_1,\n",
    "        'file_2_pred': test_pred_2,\n",
    "        'file_2_proba': test_proba_2\n",
    "    })\n",
    "\n",
    "    results['final_result'] = np.where(results['file_1_proba'] >= results['file_2_proba'], 1, 2)\n",
    "\n",
    "    submission = results[['id', 'final_result']].copy()\n",
    "    submission.loc[:, 'id'] = range(len(submission))\n",
    "    return submission"
   ]
  },
  {
   "cell_type": "code",
   "execution_count": 33,
   "id": "7377d1ad",
   "metadata": {},
   "outputs": [],
   "source": [
    "def predict_test_tfidf(model):\n",
    "    file1 = test[['file_1.txt_context']].rename(columns={'file_1.txt_context': 'text'})\n",
    "    file2 = test[['file_2.txt_context']].rename(columns={'file_2.txt_context': 'text'})\n",
    "\n",
    "    file1 = add_numeric_features(file1, 'text')\n",
    "    file2 = add_numeric_features(file2, 'text')\n",
    "\n",
    "    test_pred_1, test_proba_1 = test_eval(model, file1)\n",
    "    test_pred_2, test_proba_2 = test_eval(model, file2)\n",
    "\n",
    "    results = pd.DataFrame({\n",
    "        'id': test['sample_id'],\n",
    "        'file_1_pred': test_pred_1,\n",
    "        'file_1_proba': test_proba_1,\n",
    "        'file_2_pred': test_pred_2,\n",
    "        'file_2_proba': test_proba_2\n",
    "    })\n",
    "\n",
    "    results['final_result'] = np.where(results['file_1_proba'] >= results['file_2_proba'], 1, 2)\n",
    "\n",
    "    submission = results[['id', 'final_result']].copy()\n",
    "    submission.loc[:, 'id'] = range(len(submission))\n",
    "    return submission"
   ]
  },
  {
   "cell_type": "markdown",
   "id": "b9585dc5",
   "metadata": {},
   "source": [
    "#### Get Logistic Regression results"
   ]
  },
  {
   "cell_type": "code",
   "execution_count": null,
   "id": "2394c42a",
   "metadata": {},
   "outputs": [
    {
     "data": {
      "application/vnd.microsoft.datawrangler.viewer.v0+json": {
       "columns": [
        {
         "name": "index",
         "rawType": "int64",
         "type": "integer"
        },
        {
         "name": "id",
         "rawType": "object",
         "type": "unknown"
        },
        {
         "name": "final_result",
         "rawType": "int64",
         "type": "integer"
        }
       ],
       "ref": "ed66a55a-8537-45df-83ac-56807e913557",
       "rows": [
        [
         "0",
         "0",
         "2"
        ],
        [
         "1",
         "1",
         "2"
        ],
        [
         "2",
         "2",
         "1"
        ],
        [
         "3",
         "3",
         "1"
        ],
        [
         "4",
         "4",
         "2"
        ]
       ],
       "shape": {
        "columns": 2,
        "rows": 5
       }
      },
      "text/html": [
       "<div>\n",
       "<style scoped>\n",
       "    .dataframe tbody tr th:only-of-type {\n",
       "        vertical-align: middle;\n",
       "    }\n",
       "\n",
       "    .dataframe tbody tr th {\n",
       "        vertical-align: top;\n",
       "    }\n",
       "\n",
       "    .dataframe thead th {\n",
       "        text-align: right;\n",
       "    }\n",
       "</style>\n",
       "<table border=\"1\" class=\"dataframe\">\n",
       "  <thead>\n",
       "    <tr style=\"text-align: right;\">\n",
       "      <th></th>\n",
       "      <th>id</th>\n",
       "      <th>final_result</th>\n",
       "    </tr>\n",
       "  </thead>\n",
       "  <tbody>\n",
       "    <tr>\n",
       "      <th>0</th>\n",
       "      <td>0</td>\n",
       "      <td>2</td>\n",
       "    </tr>\n",
       "    <tr>\n",
       "      <th>1</th>\n",
       "      <td>1</td>\n",
       "      <td>2</td>\n",
       "    </tr>\n",
       "    <tr>\n",
       "      <th>2</th>\n",
       "      <td>2</td>\n",
       "      <td>1</td>\n",
       "    </tr>\n",
       "    <tr>\n",
       "      <th>3</th>\n",
       "      <td>3</td>\n",
       "      <td>1</td>\n",
       "    </tr>\n",
       "    <tr>\n",
       "      <th>4</th>\n",
       "      <td>4</td>\n",
       "      <td>2</td>\n",
       "    </tr>\n",
       "  </tbody>\n",
       "</table>\n",
       "</div>"
      ],
      "text/plain": [
       "  id  final_result\n",
       "0  0             2\n",
       "1  1             2\n",
       "2  2             1\n",
       "3  3             1\n",
       "4  4             2"
      ]
     },
     "execution_count": 34,
     "metadata": {},
     "output_type": "execute_result"
    }
   ],
   "source": [
    "test_log_reg_emb = predict_test(log_reg_emb)\n",
    "test_log_reg_emb.head()"
   ]
  },
  {
   "cell_type": "code",
   "execution_count": null,
   "id": "ba54a86d",
   "metadata": {},
   "outputs": [],
   "source": [
    "test_log_reg_emb.to_csv('../data/submissions/log_reg_emb_extra_features_submission.csv', index=False)"
   ]
  },
  {
   "cell_type": "markdown",
   "id": "5bf76814",
   "metadata": {},
   "source": [
    "#### Get Random forest results"
   ]
  },
  {
   "cell_type": "code",
   "execution_count": null,
   "id": "293004b6",
   "metadata": {},
   "outputs": [
    {
     "data": {
      "application/vnd.microsoft.datawrangler.viewer.v0+json": {
       "columns": [
        {
         "name": "index",
         "rawType": "int64",
         "type": "integer"
        },
        {
         "name": "id",
         "rawType": "object",
         "type": "unknown"
        },
        {
         "name": "final_result",
         "rawType": "int64",
         "type": "integer"
        }
       ],
       "ref": "fa1c98fb-ecbd-49c2-89e0-9402aa3f2ca3",
       "rows": [
        [
         "0",
         "0",
         "2"
        ],
        [
         "1",
         "1",
         "2"
        ],
        [
         "2",
         "2",
         "1"
        ],
        [
         "3",
         "3",
         "1"
        ],
        [
         "4",
         "4",
         "2"
        ]
       ],
       "shape": {
        "columns": 2,
        "rows": 5
       }
      },
      "text/html": [
       "<div>\n",
       "<style scoped>\n",
       "    .dataframe tbody tr th:only-of-type {\n",
       "        vertical-align: middle;\n",
       "    }\n",
       "\n",
       "    .dataframe tbody tr th {\n",
       "        vertical-align: top;\n",
       "    }\n",
       "\n",
       "    .dataframe thead th {\n",
       "        text-align: right;\n",
       "    }\n",
       "</style>\n",
       "<table border=\"1\" class=\"dataframe\">\n",
       "  <thead>\n",
       "    <tr style=\"text-align: right;\">\n",
       "      <th></th>\n",
       "      <th>id</th>\n",
       "      <th>final_result</th>\n",
       "    </tr>\n",
       "  </thead>\n",
       "  <tbody>\n",
       "    <tr>\n",
       "      <th>0</th>\n",
       "      <td>0</td>\n",
       "      <td>2</td>\n",
       "    </tr>\n",
       "    <tr>\n",
       "      <th>1</th>\n",
       "      <td>1</td>\n",
       "      <td>2</td>\n",
       "    </tr>\n",
       "    <tr>\n",
       "      <th>2</th>\n",
       "      <td>2</td>\n",
       "      <td>1</td>\n",
       "    </tr>\n",
       "    <tr>\n",
       "      <th>3</th>\n",
       "      <td>3</td>\n",
       "      <td>1</td>\n",
       "    </tr>\n",
       "    <tr>\n",
       "      <th>4</th>\n",
       "      <td>4</td>\n",
       "      <td>2</td>\n",
       "    </tr>\n",
       "  </tbody>\n",
       "</table>\n",
       "</div>"
      ],
      "text/plain": [
       "  id  final_result\n",
       "0  0             2\n",
       "1  1             2\n",
       "2  2             1\n",
       "3  3             1\n",
       "4  4             2"
      ]
     },
     "execution_count": 39,
     "metadata": {},
     "output_type": "execute_result"
    }
   ],
   "source": [
    "test_rf_emb = predict_test(rf_emb)\n",
    "test_rf_emb.head()"
   ]
  },
  {
   "cell_type": "code",
   "execution_count": null,
   "id": "c79bebd2",
   "metadata": {},
   "outputs": [],
   "source": [
    "test_rf_emb.to_csv('../data/submissions/rf_emb__extra_features_submission.csv', index=False)"
   ]
  },
  {
   "cell_type": "code",
   "execution_count": 34,
   "id": "feac36ac",
   "metadata": {},
   "outputs": [
    {
     "data": {
      "application/vnd.microsoft.datawrangler.viewer.v0+json": {
       "columns": [
        {
         "name": "index",
         "rawType": "int64",
         "type": "integer"
        },
        {
         "name": "id",
         "rawType": "object",
         "type": "unknown"
        },
        {
         "name": "final_result",
         "rawType": "int64",
         "type": "integer"
        }
       ],
       "ref": "4e0d5e74-04ac-4e47-bfa3-3597c7aa5693",
       "rows": [
        [
         "0",
         "0",
         "2"
        ],
        [
         "1",
         "1",
         "2"
        ],
        [
         "2",
         "2",
         "1"
        ],
        [
         "3",
         "3",
         "1"
        ],
        [
         "4",
         "4",
         "2"
        ]
       ],
       "shape": {
        "columns": 2,
        "rows": 5
       }
      },
      "text/html": [
       "<div>\n",
       "<style scoped>\n",
       "    .dataframe tbody tr th:only-of-type {\n",
       "        vertical-align: middle;\n",
       "    }\n",
       "\n",
       "    .dataframe tbody tr th {\n",
       "        vertical-align: top;\n",
       "    }\n",
       "\n",
       "    .dataframe thead th {\n",
       "        text-align: right;\n",
       "    }\n",
       "</style>\n",
       "<table border=\"1\" class=\"dataframe\">\n",
       "  <thead>\n",
       "    <tr style=\"text-align: right;\">\n",
       "      <th></th>\n",
       "      <th>id</th>\n",
       "      <th>final_result</th>\n",
       "    </tr>\n",
       "  </thead>\n",
       "  <tbody>\n",
       "    <tr>\n",
       "      <th>0</th>\n",
       "      <td>0</td>\n",
       "      <td>2</td>\n",
       "    </tr>\n",
       "    <tr>\n",
       "      <th>1</th>\n",
       "      <td>1</td>\n",
       "      <td>2</td>\n",
       "    </tr>\n",
       "    <tr>\n",
       "      <th>2</th>\n",
       "      <td>2</td>\n",
       "      <td>1</td>\n",
       "    </tr>\n",
       "    <tr>\n",
       "      <th>3</th>\n",
       "      <td>3</td>\n",
       "      <td>1</td>\n",
       "    </tr>\n",
       "    <tr>\n",
       "      <th>4</th>\n",
       "      <td>4</td>\n",
       "      <td>2</td>\n",
       "    </tr>\n",
       "  </tbody>\n",
       "</table>\n",
       "</div>"
      ],
      "text/plain": [
       "  id  final_result\n",
       "0  0             2\n",
       "1  1             2\n",
       "2  2             1\n",
       "3  3             1\n",
       "4  4             2"
      ]
     },
     "execution_count": 34,
     "metadata": {},
     "output_type": "execute_result"
    }
   ],
   "source": [
    "test_rf_tfidf = predict_test_tfidf(rf)\n",
    "test_rf_tfidf.head()"
   ]
  },
  {
   "cell_type": "code",
   "execution_count": 35,
   "id": "013b0cd6",
   "metadata": {},
   "outputs": [
    {
     "data": {
      "application/vnd.microsoft.datawrangler.viewer.v0+json": {
       "columns": [
        {
         "name": "final_result",
         "rawType": "int64",
         "type": "integer"
        },
        {
         "name": "count",
         "rawType": "int64",
         "type": "integer"
        }
       ],
       "ref": "e2357529-a5ae-4d75-8205-e17caa805b85",
       "rows": [
        [
         "1",
         "572"
        ],
        [
         "2",
         "496"
        ]
       ],
       "shape": {
        "columns": 1,
        "rows": 2
       }
      },
      "text/plain": [
       "final_result\n",
       "1    572\n",
       "2    496\n",
       "Name: count, dtype: int64"
      ]
     },
     "execution_count": 35,
     "metadata": {},
     "output_type": "execute_result"
    }
   ],
   "source": [
    "test_rf_tfidf['final_result'].value_counts()"
   ]
  },
  {
   "cell_type": "code",
   "execution_count": 36,
   "id": "c8521825",
   "metadata": {},
   "outputs": [],
   "source": [
    "test_rf_tfidf.to_csv('../data/submissions/rf_tfidf_extra_features_submission.csv', index=False)"
   ]
  },
  {
   "cell_type": "markdown",
   "id": "711c67f7",
   "metadata": {},
   "source": [
    "#### Get KNN Classifier results"
   ]
  },
  {
   "cell_type": "code",
   "execution_count": null,
   "id": "0cc8fe88",
   "metadata": {},
   "outputs": [
    {
     "data": {
      "application/vnd.microsoft.datawrangler.viewer.v0+json": {
       "columns": [
        {
         "name": "index",
         "rawType": "int64",
         "type": "integer"
        },
        {
         "name": "id",
         "rawType": "object",
         "type": "unknown"
        },
        {
         "name": "final_result",
         "rawType": "int64",
         "type": "integer"
        }
       ],
       "ref": "f251a07f-5c45-449b-8342-fdab3c7e7905",
       "rows": [
        [
         "0",
         "0",
         "2"
        ],
        [
         "1",
         "1",
         "2"
        ],
        [
         "2",
         "2",
         "1"
        ],
        [
         "3",
         "3",
         "1"
        ],
        [
         "4",
         "4",
         "2"
        ]
       ],
       "shape": {
        "columns": 2,
        "rows": 5
       }
      },
      "text/html": [
       "<div>\n",
       "<style scoped>\n",
       "    .dataframe tbody tr th:only-of-type {\n",
       "        vertical-align: middle;\n",
       "    }\n",
       "\n",
       "    .dataframe tbody tr th {\n",
       "        vertical-align: top;\n",
       "    }\n",
       "\n",
       "    .dataframe thead th {\n",
       "        text-align: right;\n",
       "    }\n",
       "</style>\n",
       "<table border=\"1\" class=\"dataframe\">\n",
       "  <thead>\n",
       "    <tr style=\"text-align: right;\">\n",
       "      <th></th>\n",
       "      <th>id</th>\n",
       "      <th>final_result</th>\n",
       "    </tr>\n",
       "  </thead>\n",
       "  <tbody>\n",
       "    <tr>\n",
       "      <th>0</th>\n",
       "      <td>0</td>\n",
       "      <td>2</td>\n",
       "    </tr>\n",
       "    <tr>\n",
       "      <th>1</th>\n",
       "      <td>1</td>\n",
       "      <td>2</td>\n",
       "    </tr>\n",
       "    <tr>\n",
       "      <th>2</th>\n",
       "      <td>2</td>\n",
       "      <td>1</td>\n",
       "    </tr>\n",
       "    <tr>\n",
       "      <th>3</th>\n",
       "      <td>3</td>\n",
       "      <td>1</td>\n",
       "    </tr>\n",
       "    <tr>\n",
       "      <th>4</th>\n",
       "      <td>4</td>\n",
       "      <td>2</td>\n",
       "    </tr>\n",
       "  </tbody>\n",
       "</table>\n",
       "</div>"
      ],
      "text/plain": [
       "  id  final_result\n",
       "0  0             2\n",
       "1  1             2\n",
       "2  2             1\n",
       "3  3             1\n",
       "4  4             2"
      ]
     },
     "execution_count": 117,
     "metadata": {},
     "output_type": "execute_result"
    }
   ],
   "source": [
    "test_knn_emb = predict_test(knn_emb)\n",
    "test_knn_emb.head()"
   ]
  },
  {
   "cell_type": "code",
   "execution_count": null,
   "id": "da0875ae",
   "metadata": {},
   "outputs": [],
   "source": [
    "test_knn_emb.to_csv('../data/submissions/knn_emb_submission.csv', index=False)"
   ]
  },
  {
   "cell_type": "markdown",
   "id": "bcd77439",
   "metadata": {},
   "source": [
    "#### Get Gradient Boosting results"
   ]
  },
  {
   "cell_type": "code",
   "execution_count": null,
   "id": "ebe48838",
   "metadata": {},
   "outputs": [
    {
     "data": {
      "application/vnd.microsoft.datawrangler.viewer.v0+json": {
       "columns": [
        {
         "name": "index",
         "rawType": "int64",
         "type": "integer"
        },
        {
         "name": "id",
         "rawType": "object",
         "type": "unknown"
        },
        {
         "name": "final_result",
         "rawType": "int64",
         "type": "integer"
        }
       ],
       "ref": "440b81d8-9681-468e-8f46-9422fc069e95",
       "rows": [
        [
         "0",
         "0",
         "2"
        ],
        [
         "1",
         "1",
         "2"
        ],
        [
         "2",
         "2",
         "1"
        ],
        [
         "3",
         "3",
         "1"
        ],
        [
         "4",
         "4",
         "2"
        ]
       ],
       "shape": {
        "columns": 2,
        "rows": 5
       }
      },
      "text/html": [
       "<div>\n",
       "<style scoped>\n",
       "    .dataframe tbody tr th:only-of-type {\n",
       "        vertical-align: middle;\n",
       "    }\n",
       "\n",
       "    .dataframe tbody tr th {\n",
       "        vertical-align: top;\n",
       "    }\n",
       "\n",
       "    .dataframe thead th {\n",
       "        text-align: right;\n",
       "    }\n",
       "</style>\n",
       "<table border=\"1\" class=\"dataframe\">\n",
       "  <thead>\n",
       "    <tr style=\"text-align: right;\">\n",
       "      <th></th>\n",
       "      <th>id</th>\n",
       "      <th>final_result</th>\n",
       "    </tr>\n",
       "  </thead>\n",
       "  <tbody>\n",
       "    <tr>\n",
       "      <th>0</th>\n",
       "      <td>0</td>\n",
       "      <td>2</td>\n",
       "    </tr>\n",
       "    <tr>\n",
       "      <th>1</th>\n",
       "      <td>1</td>\n",
       "      <td>2</td>\n",
       "    </tr>\n",
       "    <tr>\n",
       "      <th>2</th>\n",
       "      <td>2</td>\n",
       "      <td>1</td>\n",
       "    </tr>\n",
       "    <tr>\n",
       "      <th>3</th>\n",
       "      <td>3</td>\n",
       "      <td>1</td>\n",
       "    </tr>\n",
       "    <tr>\n",
       "      <th>4</th>\n",
       "      <td>4</td>\n",
       "      <td>2</td>\n",
       "    </tr>\n",
       "  </tbody>\n",
       "</table>\n",
       "</div>"
      ],
      "text/plain": [
       "  id  final_result\n",
       "0  0             2\n",
       "1  1             2\n",
       "2  2             1\n",
       "3  3             1\n",
       "4  4             2"
      ]
     },
     "execution_count": 31,
     "metadata": {},
     "output_type": "execute_result"
    }
   ],
   "source": [
    "test_gb_emb = predict_test(gb_emb)\n",
    "test_gb_emb.head()"
   ]
  },
  {
   "cell_type": "code",
   "execution_count": null,
   "id": "99c6fa92",
   "metadata": {},
   "outputs": [
    {
     "data": {
      "application/vnd.microsoft.datawrangler.viewer.v0+json": {
       "columns": [
        {
         "name": "final_result",
         "rawType": "int64",
         "type": "integer"
        },
        {
         "name": "count",
         "rawType": "int64",
         "type": "integer"
        }
       ],
       "ref": "53844e74-c0ef-42e9-9564-514fda929538",
       "rows": [
        [
         "2",
         "562"
        ],
        [
         "1",
         "506"
        ]
       ],
       "shape": {
        "columns": 1,
        "rows": 2
       }
      },
      "text/plain": [
       "final_result\n",
       "2    562\n",
       "1    506\n",
       "Name: count, dtype: int64"
      ]
     },
     "execution_count": 32,
     "metadata": {},
     "output_type": "execute_result"
    }
   ],
   "source": [
    "test_gb_emb['final_result'].value_counts()"
   ]
  },
  {
   "cell_type": "code",
   "execution_count": null,
   "id": "478295cc",
   "metadata": {},
   "outputs": [],
   "source": [
    "test_gb_emb.to_csv('../data/submissions/gb_emb_submission.csv', index=False)"
   ]
  },
  {
   "cell_type": "code",
   "execution_count": null,
   "id": "359f8c9c",
   "metadata": {},
   "outputs": [],
   "source": []
  }
 ],
 "metadata": {
  "kernelspec": {
   "display_name": "text-classifier",
   "language": "python",
   "name": "python3"
  },
  "language_info": {
   "codemirror_mode": {
    "name": "ipython",
    "version": 3
   },
   "file_extension": ".py",
   "mimetype": "text/x-python",
   "name": "python",
   "nbconvert_exporter": "python",
   "pygments_lexer": "ipython3",
   "version": "3.13.5"
  }
 },
 "nbformat": 4,
 "nbformat_minor": 5
}
