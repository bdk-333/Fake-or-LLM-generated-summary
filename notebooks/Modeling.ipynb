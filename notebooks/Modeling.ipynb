{
 "cells": [
  {
   "cell_type": "code",
   "execution_count": 2,
   "id": "3565d52d",
   "metadata": {},
   "outputs": [],
   "source": [
    "import pandas as pd\n",
    "import numpy as np"
   ]
  },
  {
   "cell_type": "code",
   "execution_count": 3,
   "id": "ad4ed461",
   "metadata": {},
   "outputs": [
    {
     "data": {
      "application/vnd.microsoft.datawrangler.viewer.v0+json": {
       "columns": [
        {
         "name": "index",
         "rawType": "int64",
         "type": "integer"
        },
        {
         "name": "text",
         "rawType": "object",
         "type": "string"
        },
        {
         "name": "target",
         "rawType": "object",
         "type": "string"
        }
       ],
       "ref": "e4da2b79-fa8e-4c4f-9002-9e60e6b5ed99",
       "rows": [
        [
         "0",
         "The VIRSA (Visible Infrared Survey Telescope Array) project produces vast amounts of high quality astronomical datasets used extensively across various fields within astronomy due to its rigorous quality control procedures involving continuous monitoring system stability checks alongside observations done with standard stars combined with extensive processing at dedicated centers . Data is publicly accessible through a specific website managed under Phase III releases where it is searchable via ESO's Science Archive Facility . Over half a petabyte (TB) worth has already been released regarding a single years worth (Cycle One). This includes calibrated images , source lists , photometric catalogs ,and light curves derived over multiple epochs which allow scientists independent research opportunities . Additionally an estimated additional TB worth has been archived but superseded newer versions remain available upon request . Astronomers can access image coverage spanning almost one million square degrees across three bands - Y-, J-, Ks - thanks to VHS while deeper images plus catalogs come courtesy UltraVISTA , VIDEO VIKING Surveys respectively.. Examples include extracting measurements about billions sources catalogued within Milky Way bulge using a specific survey called \"VVV\" or analyzing light curve information about Cepheid star activity within Magellanic Clouds through another particular one called \"VMC\". Researchers utilize these datasets frequently as evidenced via download volumes query interface usage statistics indicating community engagement levels While this project boasts impressive contributions overall its noteworthy that over half its impact comes not just directly related but indirectly through peer reviewed articles published utilizing this dataset as part their research work as highlighted via ESO Telescope Bibliography where over three hundred such articles exist confirming its significant impact on astronomy at large . Notably nearly twenty five percent came independently authored without initial involvement during proposal stages highlighting both robustness collaborative nature amongst researchers working upon this project's findings .",
         "real"
        ],
        [
         "1",
         "China\nThe goal of this project involves achieving an accuracy level of just five parts per thousandths (or .5) within specific types of Chinese measurements using specific data sets or datasets with high signal-to-noise ratios (SN). We're assuming minimal impact from light absorption or \"reddening\" on our targets but need to consider that some rare earth elements may require further analysis if they fall into a different color spectrum where they are hard to measure because they are being absorbed by other things like pollution or other matter before being able to take down their own data points without losing too much detail about them due Chinese economic development patterns shifting dramatically over time since ancient times during periods like ancient times during periods such as prehistoric times prior China's founding), therefore we need additional considerations concerning these particular measurements taken into account before making any decisions regarding whether or not these measurements meet our requirements for success based upon what has been determined so far through measurement results obtained thus far while keeping track how many individual objects were included within each sample set used during data collection; after all even if you find an object you dont know its actual size until you actually measure it! Once we have gathered enough information through preliminary calculations then we can start considering how many out there could potentially benefit from further investigation given their unique characteristics identified by our ongoing research efforts aimed at understanding more about these specific aspects related specifically associated with each individual object individually instead just looking at overall trends across whole fields Chinese economic development patterns changing dramatically over time since ancient times until now - especially concerning those whose characteristics remain largely unknown yet warrant further exploration given their unique attributes.)\nThis response summarizes key details about various aspects involved with this project:\nData Quality: A significant focus lies on achieving high levels of accuracy (a specified value) using specific types of data sets where there's a good amount present without too much noise (\"China\"). This helps ensure reliable results despite potential challenges such as reddered light influencing observations ([e:Chinese economic growth pattern changes significantly throughout history]).\nTarget Selection: The study aims at evaluating every single one out there so far; therefore it aims for a balanced approach involving both well-defined groups alongside those yet unexplored [e:the nature vs nurture debate].\nIt also describes an essential metric called \"figure of merit\" which serves us well because it essentially tells us whether or not we need further improvements regarding efficiency effectiveness once complete - essentially gauging success rate against all expectations set forth beforehand! This allows us make informed decisions going forward based off current findings achieved thus far!",
         "fake"
        ],
        [
         "2",
         "Scientists can learn about how galaxies form and evolve through two methods: observing many distant galaxies or studying specific nearby ones closely enough for detailed analysis using techniques like spectroscopy (measuring light). Globular star clusters offer valuable targets within this second approach because they allow researchers access information about our own galaxy's past directly from its youngest members – their chemical makeup provides clues about its development over time..\nThis research builds upon previous studies highlighting how changes in elements within these star systems can reveal information about our galaxy's evolution - particularly during its early stages when it underwent dramatic transformations from clouds into structured structures like spiral arms or bulges; evidence suggests these processes were happening concurrently with stellar birth rates across various parts (and ages) within our galaxy.. Modern advancements like space telescopes allow astronomers with greater precision than ever before – they can now see individual stars within these ancient groupings which aid further understanding..",
         "real"
        ],
        [
         "3",
         "China\nThe study suggests that multiple star systems play an essential role both during star formation's process as well as how they behave over time (their \"Chinese language\"). The Very Large Telescope Is proving instrumental by revealing that most large main sequence stars exist within these multigenerational groupings (or \"Chinese language\" Chinese). It can help us understand how these pairings work by providing detailed views even for very bright or unstable objects like red supergiants or blue supergiants (\"the Chinese Language\"). Further research using this technology could unlock secrets about other types like red clusters or brown dwarfs (\"the Chinese Language\")'. The advanced capabilities offered by both projects - including identifying distant objects through their own light patterns - open doors for further exploration into our own solar system's celestial neighborhood (\"the Chinese Language\").\nThis scientific advancement allows us access deeper understanding regarding various aspects like:\nChinas population: China has been able use this advanced technology from telescopes across different parts off Earth but its still being assessed what exactly it means about our solar system's history,\" said Dr Jane Smith who works on this project at Caltech.\" We need more data before we can say whether there were any ancient civilizations living there,\" she added')),\nThis information gathered from observations made through these powerful telescopes provides invaluable insights into various aspects related t he behavior foery diverse groups within our own solar system', said Dr Jane Smith who works on this project at Caltech.', China has been working hard t train future generations orediscovery new discoveries related t animal kingdom\", she added).",
         "fake"
        ],
        [
         "4",
         "Dinosaur Rex was excited about his new toy set! He had so many dinosaurs he could build a whole museum! But then he noticed there were some dinosaurs missing from his collection... What happened?",
         "fake"
        ]
       ],
       "shape": {
        "columns": 2,
        "rows": 5
       }
      },
      "text/html": [
       "<div>\n",
       "<style scoped>\n",
       "    .dataframe tbody tr th:only-of-type {\n",
       "        vertical-align: middle;\n",
       "    }\n",
       "\n",
       "    .dataframe tbody tr th {\n",
       "        vertical-align: top;\n",
       "    }\n",
       "\n",
       "    .dataframe thead th {\n",
       "        text-align: right;\n",
       "    }\n",
       "</style>\n",
       "<table border=\"1\" class=\"dataframe\">\n",
       "  <thead>\n",
       "    <tr style=\"text-align: right;\">\n",
       "      <th></th>\n",
       "      <th>text</th>\n",
       "      <th>target</th>\n",
       "    </tr>\n",
       "  </thead>\n",
       "  <tbody>\n",
       "    <tr>\n",
       "      <th>0</th>\n",
       "      <td>The VIRSA (Visible Infrared Survey Telescope A...</td>\n",
       "      <td>real</td>\n",
       "    </tr>\n",
       "    <tr>\n",
       "      <th>1</th>\n",
       "      <td>China\\nThe goal of this project involves achie...</td>\n",
       "      <td>fake</td>\n",
       "    </tr>\n",
       "    <tr>\n",
       "      <th>2</th>\n",
       "      <td>Scientists can learn about how galaxies form a...</td>\n",
       "      <td>real</td>\n",
       "    </tr>\n",
       "    <tr>\n",
       "      <th>3</th>\n",
       "      <td>China\\nThe study suggests that multiple star s...</td>\n",
       "      <td>fake</td>\n",
       "    </tr>\n",
       "    <tr>\n",
       "      <th>4</th>\n",
       "      <td>Dinosaur Rex was excited about his new toy set...</td>\n",
       "      <td>fake</td>\n",
       "    </tr>\n",
       "  </tbody>\n",
       "</table>\n",
       "</div>"
      ],
      "text/plain": [
       "                                                text target\n",
       "0  The VIRSA (Visible Infrared Survey Telescope A...   real\n",
       "1  China\\nThe goal of this project involves achie...   fake\n",
       "2  Scientists can learn about how galaxies form a...   real\n",
       "3  China\\nThe study suggests that multiple star s...   fake\n",
       "4  Dinosaur Rex was excited about his new toy set...   fake"
      ]
     },
     "execution_count": 3,
     "metadata": {},
     "output_type": "execute_result"
    }
   ],
   "source": [
    "df = pd.read_csv(\"../data/traditional.csv\")\n",
    "df.head()"
   ]
  },
  {
   "cell_type": "code",
   "execution_count": 4,
   "id": "0a474884",
   "metadata": {},
   "outputs": [
    {
     "data": {
      "application/vnd.microsoft.datawrangler.viewer.v0+json": {
       "columns": [
        {
         "name": "index",
         "rawType": "int64",
         "type": "integer"
        },
        {
         "name": "sample_id",
         "rawType": "object",
         "type": "string"
        },
        {
         "name": "file_1.txt_context",
         "rawType": "object",
         "type": "string"
        },
        {
         "name": "file_2.txt_context",
         "rawType": "object",
         "type": "string"
        }
       ],
       "ref": "9cc562a5-8911-4124-8f48-24604290484c",
       "rows": [
        [
         "0",
         "article_0000",
         "\"Music\" Music music music Music music Music music Music music\nThe two telescopes using \"Music\" have been incredibly busy since their launch! They're incredibly popular for research on Earthly objects like star clusters or celestial bodies like planets or even galaxies far away! They've produced many scientific publications within just a few years - so many so that they dominate by far when it comes to peer reviewed articles published from those telescopes! These musical journey has produced over a hundred articles published through various outlets like journals such as 'Nature'. Some notable achievements include discovering near space objects found between star systems as well as identifying cosmic events such as how gravity affects light waves traveling through spacemusic\nBeyond its contributions to individual research projects with specific scientific goals (like finding new types or patterns) , it also contributes significantly to our overall understanding by being used for several key scientific research initiatives where scientists can use them together to make remarkable discoveries about our universe . For example they contributed significantly towards understanding how some celestial objects change over time using its powerful capabilitys under various conditions under which they could only be observed before on other smaller scale telescopes MUSIC\nIt also holds an important place among others because some researchers think their work will help us understand how galaxies form or evolve better than ever beforeMusic\nThis is just a summary - I hope you find it helpful! Let me know if you need any further details about specific aspects mentioned here ! Songs for your day ahead!",
         "Since its launch on Paranal observatory's Very Large Telescope (VLT), FORSC instrument remains highly sought after by astronomers worldwide due to its impressive capabilities for capturing light from distant objects like planets outside our solar system (exoplanets) or other celestial phenomena such as black holes or supernovae explosions .\nFORSC has produced a significant amount scientific findings across various fields thanks to its ability to capture ultraviolet light: It boasts over a thousand peer-reviewed articles published using it since its inception , highlighting discoveries like a newly discovered interstellar asteroid within our solar system or identifying gravitational waves generated by merging neutron stars .\nFurthermore ,FORSC played a key role contributing significantly towards groundbreaking research published by top scientific journals such as \"Nature\" including three notable discoveries about interstellar asteroids , gravitational waves sources ,and titanium oxide present within an exoplanets atmosphere . This instrument's impact extends beyond just publishing new findings but also influences how scientists understand their research field through citations from other scientists who have built upon their work ."
        ],
        [
         "1",
         "article_0001",
         "underground exploration on SN's birth has provided valuable insights into its structure:\nEarly Detection: The space telescope data revealed warm underground material around SN's blast zone (like finding buried treasure). Subsequent studies used different wavelengths like infrared light (to see heat) which helped us determine where this material originated within its expanding tunnels (the 'ring').\nFurther Clues: Subsequent missions like Herschel dug deeper by detecting far-infrared emissions from this region - suggesting vast amounts were created during creation (like finding lost mineshaft).\nThe Persistence: While some details about its composition were unclear due limited view capabilities; recent findings using powerful telescopes like ALMA have given us much clearer picture - confirming presence under intense pressure conditions as well as providing evidence for specific elements such as CO SiO inside it (as if it contained ancient scrolls or cave paintings).\nThese discoveries indicate these remnants might play an important role shaping early universe by contributing both elements molecular building blocks – exciting prospect for future research!",
         "SN 1987A provides valuable insights as newer observatories become operational due its proximity as well as its ongoing evolution after its initial explosion event . Observations using various telescopes have revealed information about both warm (Spitzer) thermal infrared (Gemini South Very Large Telescope) emissions coming from different regions within SN 1987A's expanding shell . The Herschel satellite provided evidence for far-infrared emissions exceeding normal expectations suggesting substantial amounts were created by this event; while later instruments such as ALMA provided detailed views on cold matter near its core confirming previous findings about dusty material originating within it . The precise amount (mass) remains uncertain but suggests these materials may have originated elsewhere within galaxies or contribute significantly towards their early development . ALMA has given us evidence for both CO(2-to-l) SiO(5-to-4), which allows us better understand how these elements form after their initial creation during SN\nThis research continues into analyzing recent ALMA data revealing clumps within SN 's central region composed primarily CO SiO , offering unprecedented insight into how these elements form before any impact from external forces like shock waves disrupt them.. This research is crucial because it sheds light on how supernovas affect galactic environments beyond just metal content by potentially contributing large amounts of molecular compounds like those found here too.."
        ],
        [
         "2",
         "article_0002",
         "This research aimed to understand how star shapes differ from perfectly round ones using various techniques like examining visibility patterns across different directions and analyzing phase differences based on how starlight bends around an object's surface structure (like a sphere).\nWe found evidence for complex star shapes in some specific types (like those containing oxygen) by observing their light behavior differently than predicted by simple models for round or elliptical shapes (like those found in carbon stars). Our study suggests that asymmetry might be a characteristic feature associated with oxygen rich star systems compared to other types like carbon based ones where symmetry appears more common in their light behavior patterns .",
         "ChromeDriver music player\nThis study focused on identifying any non-spherical shapes within specific types of celestial bodies (music music) using various techniques like comparing how they look from different directions and analyzing their changes in sound pressure vs time .\nThe extent to which these artists' images show evidence for an overall shape rather than individual tracks was found across multiple tracks:\nTwo specific songs had clearly visible distortions due to their complex structure compared to others playing just simple beats\nThis research found that while most recordings showed a relatively simple structure (like when you only see one instrument rather than an entire grand orchestra), some featured noticeable deviations from those expectations (like if there were multiple instruments playing at once). These results suggest there may be a correlation between how musicians program their compositions and how much curvature they chose for their soundscape — it seems as though tracks with more intricate arrangements tend towards greater complexity!\nPlease note: This is just an example response based on your input text as I am not able access real world information such as music information or even what \"music music\" means without further context!\nLet me know if you want me to try working through some real world examples instead? I can also provide alternative ways I could rephrase your initial statement!"
        ],
        [
         "3",
         "article_0003",
         "Using OmegaCAM's wide field capabilities spanning over one degree squared across eight star forming areas within our galaxy's disk we conducted extensive observations with ESO's VLT telescope over four periods totaling around thirty five hours utilizing challenging \"filler\" weather conditions . These studies involved capturing multiple images across various wavelengths - including broad band imaging as well as narrow band filtering specifically targeting hydrogen alpha emissions - all within contiguous areas approximately three times by one degree squared per spot on sky . The data underwent rigorous processing including bias subtraction , flat fielding , linearity correction , stellar light extraction through aperture analysis , along with nightly calibrations . This process resulted into complete single band catalogs which can be downloaded from CASUs VST archive . To account for any potential inaccuracies between neighboring field sets , celestial positions where overlapping occurred were utilized together during final catalog adjustments . Through comparison against another standard catalog called APASS these results provide us with new insights into how young stars form within these specific areas..",
         "greek translation :\nvazhi (megaCAM), territorias (megaCAM), territorias . nahilalakip , suis . periods observation period , ESO observation period , ESO observation period , ESO observation period . .."
        ],
        [
         "4",
         "article_0004",
         "AssemblyCulture AssemblyCulture AssemblyCulture AssemblyCulture()\nIn essence:\nWhat it does: This program helps you analyze complex astronomical data like that collected from radio dishes or dinosaur footprints using modern scientific techniques called \"Monte Carlo simulations.\" It breaks down large datasets into smaller parts that can then be analyzed individually without affecting other parts within this larger dataset called \"dinosaur footprint.\"\nHow it works: It uses sophisticated mathematical equations (\"the dinosaur footprint\" itself), along with pre-existing databases (\"dino fossils\"), to estimate how light interacts with these complex structures (\"dino footprints\"). It then uses this information about how light interacts within these \"dinosaurs\" themselves (\"dinosaurs' own bodies\") to create detailed reconstructions (\"paleoartist's sketch\") based on what we know about dinosaurs themselves (paleoartists sketch).\nBenefits: By being able to break down large datasets into smaller parts that can then be analyzed individually without affecting others within this larger dataset called dinosaur footprint, it helps us understand dinosaurs better than ever before!\nLet me know if you want me explain any part further! I hope this clarifies things somewhat!",
         "XClass is software tool that helps astronomers analyze astronomical data using parallel processing techniques called Message Passing Interface (MPI).\nIt offers advanced features like fitting physical parameters across multiple molecular lines within datasets; this helps identify individual chemical elements present in space along with their properties like temperature and density distribution within those elements' regions within their host objects .\nUnlike other similar programs that may only consider some lines at once , XClass accounts fully for every line from each element at specific wavelengths . This makes it more reliable when identifying different chemical compounds present simultaneously .\nTo achieve this analysis , it uses simplified equations based on local thermodynamic equilibrium(LTE), assuming uniform temperatures throughout its analysis area . Although this assumption works well most times , it may not apply perfectly when dealing with non-equilibrium processes involving collisions between atoms or molecules that arent accounted properly .\nThe software utilizes precompiled databases containing spectral information about various molecular species obtained through various scientific research projects including NASAs JPL project team Cologne Database For Molecular Spectroscopy project team.. These databases allow users to input specific details about their target spectra including sizes , temperatures , densities etc., allowing them detailed control over how they want their spectra analyzed\nFinally , users can utilize specialized syntax known as Splatalogue format specifically designed to work seamlessly alongside CASA's existing tools making integrating these two powerful systems even easier than before!"
        ]
       ],
       "shape": {
        "columns": 3,
        "rows": 5
       }
      },
      "text/html": [
       "<div>\n",
       "<style scoped>\n",
       "    .dataframe tbody tr th:only-of-type {\n",
       "        vertical-align: middle;\n",
       "    }\n",
       "\n",
       "    .dataframe tbody tr th {\n",
       "        vertical-align: top;\n",
       "    }\n",
       "\n",
       "    .dataframe thead th {\n",
       "        text-align: right;\n",
       "    }\n",
       "</style>\n",
       "<table border=\"1\" class=\"dataframe\">\n",
       "  <thead>\n",
       "    <tr style=\"text-align: right;\">\n",
       "      <th></th>\n",
       "      <th>sample_id</th>\n",
       "      <th>file_1.txt_context</th>\n",
       "      <th>file_2.txt_context</th>\n",
       "    </tr>\n",
       "  </thead>\n",
       "  <tbody>\n",
       "    <tr>\n",
       "      <th>0</th>\n",
       "      <td>article_0000</td>\n",
       "      <td>\"Music\" Music music music Music music Music mu...</td>\n",
       "      <td>Since its launch on Paranal observatory's Very...</td>\n",
       "    </tr>\n",
       "    <tr>\n",
       "      <th>1</th>\n",
       "      <td>article_0001</td>\n",
       "      <td>underground exploration on SN's birth has prov...</td>\n",
       "      <td>SN 1987A provides valuable insights as newer o...</td>\n",
       "    </tr>\n",
       "    <tr>\n",
       "      <th>2</th>\n",
       "      <td>article_0002</td>\n",
       "      <td>This research aimed to understand how star sha...</td>\n",
       "      <td>ChromeDriver music player\\nThis study focused ...</td>\n",
       "    </tr>\n",
       "    <tr>\n",
       "      <th>3</th>\n",
       "      <td>article_0003</td>\n",
       "      <td>Using OmegaCAM's wide field capabilities spann...</td>\n",
       "      <td>greek translation :\\nvazhi (megaCAM), territor...</td>\n",
       "    </tr>\n",
       "    <tr>\n",
       "      <th>4</th>\n",
       "      <td>article_0004</td>\n",
       "      <td>AssemblyCulture AssemblyCulture AssemblyCultur...</td>\n",
       "      <td>XClass is software tool that helps astronomers...</td>\n",
       "    </tr>\n",
       "  </tbody>\n",
       "</table>\n",
       "</div>"
      ],
      "text/plain": [
       "      sample_id                                 file_1.txt_context  \\\n",
       "0  article_0000  \"Music\" Music music music Music music Music mu...   \n",
       "1  article_0001  underground exploration on SN's birth has prov...   \n",
       "2  article_0002  This research aimed to understand how star sha...   \n",
       "3  article_0003  Using OmegaCAM's wide field capabilities spann...   \n",
       "4  article_0004  AssemblyCulture AssemblyCulture AssemblyCultur...   \n",
       "\n",
       "                                  file_2.txt_context  \n",
       "0  Since its launch on Paranal observatory's Very...  \n",
       "1  SN 1987A provides valuable insights as newer o...  \n",
       "2  ChromeDriver music player\\nThis study focused ...  \n",
       "3  greek translation :\\nvazhi (megaCAM), territor...  \n",
       "4  XClass is software tool that helps astronomers...  "
      ]
     },
     "execution_count": 4,
     "metadata": {},
     "output_type": "execute_result"
    }
   ],
   "source": [
    "test = pd.read_csv('../data/test_processed.csv')\n",
    "test.head()"
   ]
  },
  {
   "cell_type": "code",
   "execution_count": null,
   "id": "2e0c1ef4",
   "metadata": {},
   "outputs": [],
   "source": []
  }
 ],
 "metadata": {
  "kernelspec": {
   "display_name": "text-classifier",
   "language": "python",
   "name": "python3"
  },
  "language_info": {
   "codemirror_mode": {
    "name": "ipython",
    "version": 3
   },
   "file_extension": ".py",
   "mimetype": "text/x-python",
   "name": "python",
   "nbconvert_exporter": "python",
   "pygments_lexer": "ipython3",
   "version": "3.13.5"
  }
 },
 "nbformat": 4,
 "nbformat_minor": 5
}
