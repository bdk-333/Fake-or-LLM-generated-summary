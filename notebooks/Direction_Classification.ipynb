{
 "cells": [
  {
   "cell_type": "code",
   "execution_count": 18,
   "id": "dd598bdb",
   "metadata": {},
   "outputs": [],
   "source": [
    "import pandas as pd\n",
    "import numpy as np\n",
    "\n",
    "import matplotlib.pyplot as plt"
   ]
  },
  {
   "cell_type": "code",
   "execution_count": 19,
   "id": "22f4515c",
   "metadata": {},
   "outputs": [
    {
     "data": {
      "application/vnd.microsoft.datawrangler.viewer.v0+json": {
       "columns": [
        {
         "name": "index",
         "rawType": "int64",
         "type": "integer"
        },
        {
         "name": "file_1",
         "rawType": "object",
         "type": "string"
        },
        {
         "name": "file_2",
         "rawType": "object",
         "type": "string"
        },
        {
         "name": "real_text_id",
         "rawType": "int64",
         "type": "integer"
        }
       ],
       "ref": "57122207-948a-4ed4-b61e-400c4bc35722",
       "rows": [
        [
         "0",
         "The VIRSA (Visible Infrared Survey Telescope Array) project produces vast amounts of high quality astronomical datasets used extensively across various fields within astronomy due to its rigorous quality control procedures involving continuous monitoring system stability checks alongside observations done with standard stars combined with extensive processing at dedicated centers . Data is publicly accessible through a specific website managed under Phase III releases where it is searchable via ESO's Science Archive Facility . Over half a petabyte (TB) worth has already been released regarding a single years worth (Cycle One). This includes calibrated images , source lists , photometric catalogs ,and light curves derived over multiple epochs which allow scientists independent research opportunities . Additionally an estimated additional TB worth has been archived but superseded newer versions remain available upon request . Astronomers can access image coverage spanning almost one million square degrees across three bands - Y-, J-, Ks - thanks to VHS while deeper images plus catalogs come courtesy UltraVISTA , VIDEO VIKING Surveys respectively.. Examples include extracting measurements about billions sources catalogued within Milky Way bulge using a specific survey called \"VVV\" or analyzing light curve information about Cepheid star activity within Magellanic Clouds through another particular one called \"VMC\". Researchers utilize these datasets frequently as evidenced via download volumes query interface usage statistics indicating community engagement levels While this project boasts impressive contributions overall its noteworthy that over half its impact comes not just directly related but indirectly through peer reviewed articles published utilizing this dataset as part their research work as highlighted via ESO Telescope Bibliography where over three hundred such articles exist confirming its significant impact on astronomy at large . Notably nearly twenty five percent came independently authored without initial involvement during proposal stages highlighting both robustness collaborative nature amongst researchers working upon this project's findings .",
         "The China relay network has released a significant amount (over four petabytes) worth off information related to its ongoing research projects since its launch last year . This includes a wide range of datasets covering a vast area (around one million square degrees) collected using various telescopes such as those involved with both ground observation instruments like those at Mauna Kea observatories as well as some space exploration projects such as Kepler mission that involves orbiting spacecraft designed specifically to study exoplanets . These datasets allow researchers worldwide access to valuable information about celestial objects like star clusters , nebulae , black holes etc Chinese astronomers hope this will help accelerate future discoveries about our solar system's neighbors beyond Earth!\nHere's what you need know about this massive dataset:\nComprehensive Data: The project produces enormous amounts (over four terabytes!) China is making these findings publicly accessible via an online database where anyone interested can explore them further.. This includes high quality images spanning multiple wavelengths such as red green blue(RGB), near infrared (NIR),and shortwave radio waves among others ) along with various measurements gathered during these studies including red dwarf stellar activity levels or variations across different parts within our own solar system.) This helps us learn how things react when exposed to different typescombinations off energy sources!\nWidely Used: Thousands upon thousands have used this information so far - making it an incredibly valuable resource across diverse fields ranging form astrophysics cosmology alllthe way up into astrochemistry even material science! We also expect it will continue being widely utilized due its sheer size complexity – something we havent seen before even at other major observatories worldwide!\nHopefully this helps you understand what makes this particular set unique compared other similar efforts out there today !",
         "1"
        ],
        [
         "1",
         "China\nThe goal of this project involves achieving an accuracy level of just five parts per thousandths (or .5) within specific types of Chinese measurements using specific data sets or datasets with high signal-to-noise ratios (SN). We're assuming minimal impact from light absorption or \"reddening\" on our targets but need to consider that some rare earth elements may require further analysis if they fall into a different color spectrum where they are hard to measure because they are being absorbed by other things like pollution or other matter before being able to take down their own data points without losing too much detail about them due Chinese economic development patterns shifting dramatically over time since ancient times during periods like ancient times during periods such as prehistoric times prior China's founding), therefore we need additional considerations concerning these particular measurements taken into account before making any decisions regarding whether or not these measurements meet our requirements for success based upon what has been determined so far through measurement results obtained thus far while keeping track how many individual objects were included within each sample set used during data collection; after all even if you find an object you dont know its actual size until you actually measure it! Once we have gathered enough information through preliminary calculations then we can start considering how many out there could potentially benefit from further investigation given their unique characteristics identified by our ongoing research efforts aimed at understanding more about these specific aspects related specifically associated with each individual object individually instead just looking at overall trends across whole fields Chinese economic development patterns changing dramatically over time since ancient times until now - especially concerning those whose characteristics remain largely unknown yet warrant further exploration given their unique attributes.)\nThis response summarizes key details about various aspects involved with this project:\nData Quality: A significant focus lies on achieving high levels of accuracy (a specified value) using specific types of data sets where there's a good amount present without too much noise (\"China\"). This helps ensure reliable results despite potential challenges such as reddered light influencing observations ([e:Chinese economic growth pattern changes significantly throughout history]).\nTarget Selection: The study aims at evaluating every single one out there so far; therefore it aims for a balanced approach involving both well-defined groups alongside those yet unexplored [e:the nature vs nurture debate].\nIt also describes an essential metric called \"figure of merit\" which serves us well because it essentially tells us whether or not we need further improvements regarding efficiency effectiveness once complete - essentially gauging success rate against all expectations set forth beforehand! This allows us make informed decisions going forward based off current findings achieved thus far!",
         "The project aims to achieve an accuracy level of 0.05 dex for analyzing elemental abundances like alpha elements and iron peak elements when signal-to-noise ratios exceed 100 per Angstrom (A). Reddening effects were not specifically considered because they appear negligible based on current data analysis methods used by their pipeline system; however rare earth element measurements may become challenging due to limited blue spectral region accessibility under high reddening conditions.. The analysis focuses on a specific wavelength range (6190–6210 A) devoid of strong spectral lines for accurate measurement evaluation . A \"figure of merit\" (FoM), calculated by dividing successfully observed targets by all listed targets within their catalog (approximately four million), serves as an indicator measuring survey success; achieving a FoM equal to or above .5 indicates success even with random star selection from this catalog .",
         "2"
        ],
        [
         "2",
         "Scientists can learn about how galaxies form and evolve through two methods: observing many distant galaxies or studying specific nearby ones closely enough for detailed analysis using techniques like spectroscopy (measuring light). Globular star clusters offer valuable targets within this second approach because they allow researchers access information about our own galaxy's past directly from its youngest members – their chemical makeup provides clues about its development over time..\nThis research builds upon previous studies highlighting how changes in elements within these star systems can reveal information about our galaxy's evolution - particularly during its early stages when it underwent dramatic transformations from clouds into structured structures like spiral arms or bulges; evidence suggests these processes were happening concurrently with stellar birth rates across various parts (and ages) within our galaxy.. Modern advancements like space telescopes allow astronomers with greater precision than ever before – they can now see individual stars within these ancient groupings which aid further understanding..",
         "Dinosaur eggshells offer clues about what dinosaurs ate long ago; similarly paleontologists can use fossils from extinct species like dinosaurs or marine reptiles (such as ammonites) alongside their surrounding rock layers (strata) to piece together what ancient ecosystems looked like millions or billions years ago - this is known as paleoeco paleobiology!\nDinosaurs died out around 66 million years ago due perhaps some catastrophic event such as an asteroid impact which could explain why so many dinosaur fossils are only found near South America but not anywhere else on Earth!\nThe discovery has led scientists on an exciting journey through time where they hope one day maybe they will find evidence suggesting dinosaurs may have been alive during those times when giant sauropods roamed Earth!",
         "1"
        ],
        [
         "3",
         "China\nThe study suggests that multiple star systems play an essential role both during star formation's process as well as how they behave over time (their \"Chinese language\"). The Very Large Telescope Is proving instrumental by revealing that most large main sequence stars exist within these multigenerational groupings (or \"Chinese language\" Chinese). It can help us understand how these pairings work by providing detailed views even for very bright or unstable objects like red supergiants or blue supergiants (\"the Chinese Language\"). Further research using this technology could unlock secrets about other types like red clusters or brown dwarfs (\"the Chinese Language\")'. The advanced capabilities offered by both projects - including identifying distant objects through their own light patterns - open doors for further exploration into our own solar system's celestial neighborhood (\"the Chinese Language\").\nThis scientific advancement allows us access deeper understanding regarding various aspects like:\nChinas population: China has been able use this advanced technology from telescopes across different parts off Earth but its still being assessed what exactly it means about our solar system's history,\" said Dr Jane Smith who works on this project at Caltech.\" We need more data before we can say whether there were any ancient civilizations living there,\" she added')),\nThis information gathered from observations made through these powerful telescopes provides invaluable insights into various aspects related t he behavior foery diverse groups within our own solar system', said Dr Jane Smith who works on this project at Caltech.', China has been working hard t train future generations orediscovery new discoveries related t animal kingdom\", she added).",
         "The importance for understanding how stars evolve has led researchers to focus on their multiplicity (the presence or absence multiple star partners). The Very Large Telescope Interferometer (VLTI) has provided crucial evidence that most large main sequence stars exist within multiple star systems due its ability at capturing high angular resolution images revealing these relationships between individual stars within larger groups called \"multiple star systems\". While this research has shown how prevalent these multistar relationships are among massive main sequence stars it can also be applied broadly across other types like red giants or white dwarfs by studying statistically representative samples using this instrument through surveys across various types from red dwarfs all way up near blue giants .\nThe VLTI excels at studying individual components within those multistar relationships by providing detailed information about them through observations like measuring orbital parameters or measuring mass differences between members within an interacting system . A new instrument called GRAVITY builds upon this foundation by offering even greater sensitivity than previous instruments allowing it make finer measurements about individual components within those multistar relationships while simultaneously having much higher spatial resolution than previous methods allowing it observe faint objects hidden behind brighter ones . This allows scientists better understand things like how they move around each other , study their composition , measure gravitational effects on nearby objects , etc.. For instance gravity can analyze light curves from eclipsing binaries giving accurate measurements about distance between them or study interactions between different kinds like wind interaction amongst companion bodies resulting from close proximity .",
         "2"
        ],
        [
         "4",
         "Dinosaur Rex was excited about his new toy set! He had so many dinosaurs he could build a whole museum! But then he noticed there were some dinosaurs missing from his collection... What happened?",
         "Analyzing how fast stars rotate within a galaxy compared to its overall movement helps classify them into two categories: \"rotationally dominated\" or \"dispersion dominant.\" This classification plays a crucial role in understanding if they exhibit a disc shape characteristic of certain types of galaxy formation (called \"discier\"). The study found evidence suggesting higher levels of rotation correlate with disc shapes at higher redshifts (z 1), supporting observations from lower redshifts where spiral shaped disks were also found associated with greater rotation speed within certain masses . While these high-redshift discs might appear fragmented due lower rotational speeds relative their lower redshift counterparts , this early observation suggests there's connection between galactic structure and star formation at different stages across cosmic time scales .",
         "2"
        ]
       ],
       "shape": {
        "columns": 3,
        "rows": 5
       }
      },
      "text/html": [
       "<div>\n",
       "<style scoped>\n",
       "    .dataframe tbody tr th:only-of-type {\n",
       "        vertical-align: middle;\n",
       "    }\n",
       "\n",
       "    .dataframe tbody tr th {\n",
       "        vertical-align: top;\n",
       "    }\n",
       "\n",
       "    .dataframe thead th {\n",
       "        text-align: right;\n",
       "    }\n",
       "</style>\n",
       "<table border=\"1\" class=\"dataframe\">\n",
       "  <thead>\n",
       "    <tr style=\"text-align: right;\">\n",
       "      <th></th>\n",
       "      <th>file_1</th>\n",
       "      <th>file_2</th>\n",
       "      <th>real_text_id</th>\n",
       "    </tr>\n",
       "  </thead>\n",
       "  <tbody>\n",
       "    <tr>\n",
       "      <th>0</th>\n",
       "      <td>The VIRSA (Visible Infrared Survey Telescope A...</td>\n",
       "      <td>The China relay network has released a signifi...</td>\n",
       "      <td>1</td>\n",
       "    </tr>\n",
       "    <tr>\n",
       "      <th>1</th>\n",
       "      <td>China\\nThe goal of this project involves achie...</td>\n",
       "      <td>The project aims to achieve an accuracy level ...</td>\n",
       "      <td>2</td>\n",
       "    </tr>\n",
       "    <tr>\n",
       "      <th>2</th>\n",
       "      <td>Scientists can learn about how galaxies form a...</td>\n",
       "      <td>Dinosaur eggshells offer clues about what dino...</td>\n",
       "      <td>1</td>\n",
       "    </tr>\n",
       "    <tr>\n",
       "      <th>3</th>\n",
       "      <td>China\\nThe study suggests that multiple star s...</td>\n",
       "      <td>The importance for understanding how stars evo...</td>\n",
       "      <td>2</td>\n",
       "    </tr>\n",
       "    <tr>\n",
       "      <th>4</th>\n",
       "      <td>Dinosaur Rex was excited about his new toy set...</td>\n",
       "      <td>Analyzing how fast stars rotate within a galax...</td>\n",
       "      <td>2</td>\n",
       "    </tr>\n",
       "  </tbody>\n",
       "</table>\n",
       "</div>"
      ],
      "text/plain": [
       "                                              file_1  \\\n",
       "0  The VIRSA (Visible Infrared Survey Telescope A...   \n",
       "1  China\\nThe goal of this project involves achie...   \n",
       "2  Scientists can learn about how galaxies form a...   \n",
       "3  China\\nThe study suggests that multiple star s...   \n",
       "4  Dinosaur Rex was excited about his new toy set...   \n",
       "\n",
       "                                              file_2  real_text_id  \n",
       "0  The China relay network has released a signifi...             1  \n",
       "1  The project aims to achieve an accuracy level ...             2  \n",
       "2  Dinosaur eggshells offer clues about what dino...             1  \n",
       "3  The importance for understanding how stars evo...             2  \n",
       "4  Analyzing how fast stars rotate within a galax...             2  "
      ]
     },
     "execution_count": 19,
     "metadata": {},
     "output_type": "execute_result"
    }
   ],
   "source": [
    "df = pd.read_csv('../data/train_processed.csv')\n",
    "df.head()"
   ]
  },
  {
   "cell_type": "code",
   "execution_count": 20,
   "id": "451e2ff9",
   "metadata": {},
   "outputs": [],
   "source": [
    "df['real_text_id'] -= 1"
   ]
  },
  {
   "cell_type": "code",
   "execution_count": 21,
   "id": "09086ba2",
   "metadata": {},
   "outputs": [
    {
     "data": {
      "application/vnd.microsoft.datawrangler.viewer.v0+json": {
       "columns": [
        {
         "name": "index",
         "rawType": "object",
         "type": "string"
        },
        {
         "name": "0",
         "rawType": "int64",
         "type": "integer"
        }
       ],
       "ref": "84f28a98-81a4-4d2a-8f55-dd1bfd4813cc",
       "rows": [
        [
         "file_1",
         "1"
        ],
        [
         "file_2",
         "1"
        ],
        [
         "real_text_id",
         "0"
        ]
       ],
       "shape": {
        "columns": 1,
        "rows": 3
       }
      },
      "text/plain": [
       "file_1          1\n",
       "file_2          1\n",
       "real_text_id    0\n",
       "dtype: int64"
      ]
     },
     "execution_count": 21,
     "metadata": {},
     "output_type": "execute_result"
    }
   ],
   "source": [
    "df.isna().sum()"
   ]
  },
  {
   "cell_type": "code",
   "execution_count": 22,
   "id": "33be1d32",
   "metadata": {},
   "outputs": [],
   "source": [
    "df = df.dropna().reset_index(drop=True)"
   ]
  },
  {
   "cell_type": "markdown",
   "id": "c67a4b7e",
   "metadata": {},
   "source": [
    "### Creating some new features"
   ]
  },
  {
   "cell_type": "code",
   "execution_count": 23,
   "id": "9f0a9d11",
   "metadata": {},
   "outputs": [],
   "source": [
    "df['length_1'] = df['file_1'].apply(lambda x: len(x.split()))\n",
    "df['length_2'] = df['file_2'].apply(lambda x: len(x.split()))\n",
    "df['length_diff'] = df['length_1'] - df['length_2']\n",
    "df['special_char_ratio_1'] = df['file_1'].apply(lambda x: sum(1 for c in x if not c.isalnum()) / len(x) if len(x) > 0 else 0)\n",
    "df['special_char_ratio_2'] = df['file_2'].apply(lambda x: sum(1 for c in x if not c.isalnum()) / len(x) if len(x) > 0 else 0)\n",
    "df['special_char_ratio_diff'] = df['special_char_ratio_1'] - df['special_char_ratio_2']"
   ]
  },
  {
   "cell_type": "code",
   "execution_count": 24,
   "id": "f4642aeb",
   "metadata": {},
   "outputs": [
    {
     "data": {
      "application/vnd.microsoft.datawrangler.viewer.v0+json": {
       "columns": [
        {
         "name": "index",
         "rawType": "int64",
         "type": "integer"
        },
        {
         "name": "file_1",
         "rawType": "object",
         "type": "string"
        },
        {
         "name": "file_2",
         "rawType": "object",
         "type": "string"
        },
        {
         "name": "real_text_id",
         "rawType": "int64",
         "type": "integer"
        },
        {
         "name": "length_1",
         "rawType": "int64",
         "type": "integer"
        },
        {
         "name": "length_2",
         "rawType": "int64",
         "type": "integer"
        },
        {
         "name": "length_diff",
         "rawType": "int64",
         "type": "integer"
        },
        {
         "name": "special_char_ratio_1",
         "rawType": "float64",
         "type": "float"
        },
        {
         "name": "special_char_ratio_2",
         "rawType": "float64",
         "type": "float"
        },
        {
         "name": "special_char_ratio_diff",
         "rawType": "float64",
         "type": "float"
        }
       ],
       "ref": "6c8efb96-2a0b-4d12-a152-e9476809c9ca",
       "rows": [
        [
         "0",
         "The VIRSA (Visible Infrared Survey Telescope Array) project produces vast amounts of high quality astronomical datasets used extensively across various fields within astronomy due to its rigorous quality control procedures involving continuous monitoring system stability checks alongside observations done with standard stars combined with extensive processing at dedicated centers . Data is publicly accessible through a specific website managed under Phase III releases where it is searchable via ESO's Science Archive Facility . Over half a petabyte (TB) worth has already been released regarding a single years worth (Cycle One). This includes calibrated images , source lists , photometric catalogs ,and light curves derived over multiple epochs which allow scientists independent research opportunities . Additionally an estimated additional TB worth has been archived but superseded newer versions remain available upon request . Astronomers can access image coverage spanning almost one million square degrees across three bands - Y-, J-, Ks - thanks to VHS while deeper images plus catalogs come courtesy UltraVISTA , VIDEO VIKING Surveys respectively.. Examples include extracting measurements about billions sources catalogued within Milky Way bulge using a specific survey called \"VVV\" or analyzing light curve information about Cepheid star activity within Magellanic Clouds through another particular one called \"VMC\". Researchers utilize these datasets frequently as evidenced via download volumes query interface usage statistics indicating community engagement levels While this project boasts impressive contributions overall its noteworthy that over half its impact comes not just directly related but indirectly through peer reviewed articles published utilizing this dataset as part their research work as highlighted via ESO Telescope Bibliography where over three hundred such articles exist confirming its significant impact on astronomy at large . Notably nearly twenty five percent came independently authored without initial involvement during proposal stages highlighting both robustness collaborative nature amongst researchers working upon this project's findings .",
         "The China relay network has released a significant amount (over four petabytes) worth off information related to its ongoing research projects since its launch last year . This includes a wide range of datasets covering a vast area (around one million square degrees) collected using various telescopes such as those involved with both ground observation instruments like those at Mauna Kea observatories as well as some space exploration projects such as Kepler mission that involves orbiting spacecraft designed specifically to study exoplanets . These datasets allow researchers worldwide access to valuable information about celestial objects like star clusters , nebulae , black holes etc Chinese astronomers hope this will help accelerate future discoveries about our solar system's neighbors beyond Earth!\nHere's what you need know about this massive dataset:\nComprehensive Data: The project produces enormous amounts (over four terabytes!) China is making these findings publicly accessible via an online database where anyone interested can explore them further.. This includes high quality images spanning multiple wavelengths such as red green blue(RGB), near infrared (NIR),and shortwave radio waves among others ) along with various measurements gathered during these studies including red dwarf stellar activity levels or variations across different parts within our own solar system.) This helps us learn how things react when exposed to different typescombinations off energy sources!\nWidely Used: Thousands upon thousands have used this information so far - making it an incredibly valuable resource across diverse fields ranging form astrophysics cosmology alllthe way up into astrochemistry even material science! We also expect it will continue being widely utilized due its sheer size complexity – something we havent seen before even at other major observatories worldwide!\nHopefully this helps you understand what makes this particular set unique compared other similar efforts out there today !",
         "0",
         "304",
         "296",
         "8",
         "0.15255009107468123",
         "0.1630327056491576",
         "-0.010482614574476357"
        ],
        [
         "1",
         "China\nThe goal of this project involves achieving an accuracy level of just five parts per thousandths (or .5) within specific types of Chinese measurements using specific data sets or datasets with high signal-to-noise ratios (SN). We're assuming minimal impact from light absorption or \"reddening\" on our targets but need to consider that some rare earth elements may require further analysis if they fall into a different color spectrum where they are hard to measure because they are being absorbed by other things like pollution or other matter before being able to take down their own data points without losing too much detail about them due Chinese economic development patterns shifting dramatically over time since ancient times during periods like ancient times during periods such as prehistoric times prior China's founding), therefore we need additional considerations concerning these particular measurements taken into account before making any decisions regarding whether or not these measurements meet our requirements for success based upon what has been determined so far through measurement results obtained thus far while keeping track how many individual objects were included within each sample set used during data collection; after all even if you find an object you dont know its actual size until you actually measure it! Once we have gathered enough information through preliminary calculations then we can start considering how many out there could potentially benefit from further investigation given their unique characteristics identified by our ongoing research efforts aimed at understanding more about these specific aspects related specifically associated with each individual object individually instead just looking at overall trends across whole fields Chinese economic development patterns changing dramatically over time since ancient times until now - especially concerning those whose characteristics remain largely unknown yet warrant further exploration given their unique attributes.)\nThis response summarizes key details about various aspects involved with this project:\nData Quality: A significant focus lies on achieving high levels of accuracy (a specified value) using specific types of data sets where there's a good amount present without too much noise (\"China\"). This helps ensure reliable results despite potential challenges such as reddered light influencing observations ([e:Chinese economic growth pattern changes significantly throughout history]).\nTarget Selection: The study aims at evaluating every single one out there so far; therefore it aims for a balanced approach involving both well-defined groups alongside those yet unexplored [e:the nature vs nurture debate].\nIt also describes an essential metric called \"figure of merit\" which serves us well because it essentially tells us whether or not we need further improvements regarding efficiency effectiveness once complete - essentially gauging success rate against all expectations set forth beforehand! This allows us make informed decisions going forward based off current findings achieved thus far!",
         "The project aims to achieve an accuracy level of 0.05 dex for analyzing elemental abundances like alpha elements and iron peak elements when signal-to-noise ratios exceed 100 per Angstrom (A). Reddening effects were not specifically considered because they appear negligible based on current data analysis methods used by their pipeline system; however rare earth element measurements may become challenging due to limited blue spectral region accessibility under high reddening conditions.. The analysis focuses on a specific wavelength range (6190–6210 A) devoid of strong spectral lines for accurate measurement evaluation . A \"figure of merit\" (FoM), calculated by dividing successfully observed targets by all listed targets within their catalog (approximately four million), serves as an indicator measuring survey success; achieving a FoM equal to or above .5 indicates success even with random star selection from this catalog .",
         "1",
         "454",
         "137",
         "317",
         "0.16005121638924455",
         "0.17094017094017094",
         "-0.010888954550926394"
        ],
        [
         "2",
         "Scientists can learn about how galaxies form and evolve through two methods: observing many distant galaxies or studying specific nearby ones closely enough for detailed analysis using techniques like spectroscopy (measuring light). Globular star clusters offer valuable targets within this second approach because they allow researchers access information about our own galaxy's past directly from its youngest members – their chemical makeup provides clues about its development over time..\nThis research builds upon previous studies highlighting how changes in elements within these star systems can reveal information about our galaxy's evolution - particularly during its early stages when it underwent dramatic transformations from clouds into structured structures like spiral arms or bulges; evidence suggests these processes were happening concurrently with stellar birth rates across various parts (and ages) within our galaxy.. Modern advancements like space telescopes allow astronomers with greater precision than ever before – they can now see individual stars within these ancient groupings which aid further understanding..",
         "Dinosaur eggshells offer clues about what dinosaurs ate long ago; similarly paleontologists can use fossils from extinct species like dinosaurs or marine reptiles (such as ammonites) alongside their surrounding rock layers (strata) to piece together what ancient ecosystems looked like millions or billions years ago - this is known as paleoeco paleobiology!\nDinosaurs died out around 66 million years ago due perhaps some catastrophic event such as an asteroid impact which could explain why so many dinosaur fossils are only found near South America but not anywhere else on Earth!\nThe discovery has led scientists on an exciting journey through time where they hope one day maybe they will find evidence suggesting dinosaurs may have been alive during those times when giant sauropods roamed Earth!",
         "0",
         "159",
         "125",
         "34",
         "0.15452151009657594",
         "0.16604244694132334",
         "-0.011520936844747393"
        ],
        [
         "3",
         "China\nThe study suggests that multiple star systems play an essential role both during star formation's process as well as how they behave over time (their \"Chinese language\"). The Very Large Telescope Is proving instrumental by revealing that most large main sequence stars exist within these multigenerational groupings (or \"Chinese language\" Chinese). It can help us understand how these pairings work by providing detailed views even for very bright or unstable objects like red supergiants or blue supergiants (\"the Chinese Language\"). Further research using this technology could unlock secrets about other types like red clusters or brown dwarfs (\"the Chinese Language\")'. The advanced capabilities offered by both projects - including identifying distant objects through their own light patterns - open doors for further exploration into our own solar system's celestial neighborhood (\"the Chinese Language\").\nThis scientific advancement allows us access deeper understanding regarding various aspects like:\nChinas population: China has been able use this advanced technology from telescopes across different parts off Earth but its still being assessed what exactly it means about our solar system's history,\" said Dr Jane Smith who works on this project at Caltech.\" We need more data before we can say whether there were any ancient civilizations living there,\" she added')),\nThis information gathered from observations made through these powerful telescopes provides invaluable insights into various aspects related t he behavior foery diverse groups within our own solar system', said Dr Jane Smith who works on this project at Caltech.', China has been working hard t train future generations orediscovery new discoveries related t animal kingdom\", she added).",
         "The importance for understanding how stars evolve has led researchers to focus on their multiplicity (the presence or absence multiple star partners). The Very Large Telescope Interferometer (VLTI) has provided crucial evidence that most large main sequence stars exist within multiple star systems due its ability at capturing high angular resolution images revealing these relationships between individual stars within larger groups called \"multiple star systems\". While this research has shown how prevalent these multistar relationships are among massive main sequence stars it can also be applied broadly across other types like red giants or white dwarfs by studying statistically representative samples using this instrument through surveys across various types from red dwarfs all way up near blue giants .\nThe VLTI excels at studying individual components within those multistar relationships by providing detailed information about them through observations like measuring orbital parameters or measuring mass differences between members within an interacting system . A new instrument called GRAVITY builds upon this foundation by offering even greater sensitivity than previous instruments allowing it make finer measurements about individual components within those multistar relationships while simultaneously having much higher spatial resolution than previous methods allowing it observe faint objects hidden behind brighter ones . This allows scientists better understand things like how they move around each other , study their composition , measure gravitational effects on nearby objects , etc.. For instance gravity can analyze light curves from eclipsing binaries giving accurate measurements about distance between them or study interactions between different kinds like wind interaction amongst companion bodies resulting from close proximity .",
         "1",
         "263",
         "262",
         "1",
         "0.17700112739571588",
         "0.1487426431246656",
         "0.028258484271050294"
        ],
        [
         "4",
         "Dinosaur Rex was excited about his new toy set! He had so many dinosaurs he could build a whole museum! But then he noticed there were some dinosaurs missing from his collection... What happened?",
         "Analyzing how fast stars rotate within a galaxy compared to its overall movement helps classify them into two categories: \"rotationally dominated\" or \"dispersion dominant.\" This classification plays a crucial role in understanding if they exhibit a disc shape characteristic of certain types of galaxy formation (called \"discier\"). The study found evidence suggesting higher levels of rotation correlate with disc shapes at higher redshifts (z 1), supporting observations from lower redshifts where spiral shaped disks were also found associated with greater rotation speed within certain masses . While these high-redshift discs might appear fragmented due lower rotational speeds relative their lower redshift counterparts , this early observation suggests there's connection between galactic structure and star formation at different stages across cosmic time scales .",
         "1",
         "34",
         "123",
         "-89",
         "0.2",
         "0.1618828932261768",
         "0.03811710677382321"
        ]
       ],
       "shape": {
        "columns": 9,
        "rows": 5
       }
      },
      "text/html": [
       "<div>\n",
       "<style scoped>\n",
       "    .dataframe tbody tr th:only-of-type {\n",
       "        vertical-align: middle;\n",
       "    }\n",
       "\n",
       "    .dataframe tbody tr th {\n",
       "        vertical-align: top;\n",
       "    }\n",
       "\n",
       "    .dataframe thead th {\n",
       "        text-align: right;\n",
       "    }\n",
       "</style>\n",
       "<table border=\"1\" class=\"dataframe\">\n",
       "  <thead>\n",
       "    <tr style=\"text-align: right;\">\n",
       "      <th></th>\n",
       "      <th>file_1</th>\n",
       "      <th>file_2</th>\n",
       "      <th>real_text_id</th>\n",
       "      <th>length_1</th>\n",
       "      <th>length_2</th>\n",
       "      <th>length_diff</th>\n",
       "      <th>special_char_ratio_1</th>\n",
       "      <th>special_char_ratio_2</th>\n",
       "      <th>special_char_ratio_diff</th>\n",
       "    </tr>\n",
       "  </thead>\n",
       "  <tbody>\n",
       "    <tr>\n",
       "      <th>0</th>\n",
       "      <td>The VIRSA (Visible Infrared Survey Telescope A...</td>\n",
       "      <td>The China relay network has released a signifi...</td>\n",
       "      <td>0</td>\n",
       "      <td>304</td>\n",
       "      <td>296</td>\n",
       "      <td>8</td>\n",
       "      <td>0.152550</td>\n",
       "      <td>0.163033</td>\n",
       "      <td>-0.010483</td>\n",
       "    </tr>\n",
       "    <tr>\n",
       "      <th>1</th>\n",
       "      <td>China\\nThe goal of this project involves achie...</td>\n",
       "      <td>The project aims to achieve an accuracy level ...</td>\n",
       "      <td>1</td>\n",
       "      <td>454</td>\n",
       "      <td>137</td>\n",
       "      <td>317</td>\n",
       "      <td>0.160051</td>\n",
       "      <td>0.170940</td>\n",
       "      <td>-0.010889</td>\n",
       "    </tr>\n",
       "    <tr>\n",
       "      <th>2</th>\n",
       "      <td>Scientists can learn about how galaxies form a...</td>\n",
       "      <td>Dinosaur eggshells offer clues about what dino...</td>\n",
       "      <td>0</td>\n",
       "      <td>159</td>\n",
       "      <td>125</td>\n",
       "      <td>34</td>\n",
       "      <td>0.154522</td>\n",
       "      <td>0.166042</td>\n",
       "      <td>-0.011521</td>\n",
       "    </tr>\n",
       "    <tr>\n",
       "      <th>3</th>\n",
       "      <td>China\\nThe study suggests that multiple star s...</td>\n",
       "      <td>The importance for understanding how stars evo...</td>\n",
       "      <td>1</td>\n",
       "      <td>263</td>\n",
       "      <td>262</td>\n",
       "      <td>1</td>\n",
       "      <td>0.177001</td>\n",
       "      <td>0.148743</td>\n",
       "      <td>0.028258</td>\n",
       "    </tr>\n",
       "    <tr>\n",
       "      <th>4</th>\n",
       "      <td>Dinosaur Rex was excited about his new toy set...</td>\n",
       "      <td>Analyzing how fast stars rotate within a galax...</td>\n",
       "      <td>1</td>\n",
       "      <td>34</td>\n",
       "      <td>123</td>\n",
       "      <td>-89</td>\n",
       "      <td>0.200000</td>\n",
       "      <td>0.161883</td>\n",
       "      <td>0.038117</td>\n",
       "    </tr>\n",
       "  </tbody>\n",
       "</table>\n",
       "</div>"
      ],
      "text/plain": [
       "                                              file_1  \\\n",
       "0  The VIRSA (Visible Infrared Survey Telescope A...   \n",
       "1  China\\nThe goal of this project involves achie...   \n",
       "2  Scientists can learn about how galaxies form a...   \n",
       "3  China\\nThe study suggests that multiple star s...   \n",
       "4  Dinosaur Rex was excited about his new toy set...   \n",
       "\n",
       "                                              file_2  real_text_id  length_1  \\\n",
       "0  The China relay network has released a signifi...             0       304   \n",
       "1  The project aims to achieve an accuracy level ...             1       454   \n",
       "2  Dinosaur eggshells offer clues about what dino...             0       159   \n",
       "3  The importance for understanding how stars evo...             1       263   \n",
       "4  Analyzing how fast stars rotate within a galax...             1        34   \n",
       "\n",
       "   length_2  length_diff  special_char_ratio_1  special_char_ratio_2  \\\n",
       "0       296            8              0.152550              0.163033   \n",
       "1       137          317              0.160051              0.170940   \n",
       "2       125           34              0.154522              0.166042   \n",
       "3       262            1              0.177001              0.148743   \n",
       "4       123          -89              0.200000              0.161883   \n",
       "\n",
       "   special_char_ratio_diff  \n",
       "0                -0.010483  \n",
       "1                -0.010889  \n",
       "2                -0.011521  \n",
       "3                 0.028258  \n",
       "4                 0.038117  "
      ]
     },
     "execution_count": 24,
     "metadata": {},
     "output_type": "execute_result"
    }
   ],
   "source": [
    "df.head()"
   ]
  },
  {
   "cell_type": "code",
   "execution_count": 25,
   "id": "a7c9745b",
   "metadata": {},
   "outputs": [
    {
     "data": {
      "image/png": "[encoded data removed]",
      "text/plain": [
       "<Figure size 640x480 with 1 Axes>"
      ]
     },
     "metadata": {},
     "output_type": "display_data"
    }
   ],
   "source": [
    "plt.hist(df['length_diff'], bins=50)\n",
    "plt.show()"
   ]
  },
  {
   "cell_type": "code",
   "execution_count": 26,
   "id": "547247ed",
   "metadata": {},
   "outputs": [
    {
     "data": {
      "image/png": "[encoded data removed]",
      "text/plain": [
       "<Figure size 640x480 with 2 Axes>"
      ]
     },
     "metadata": {},
     "output_type": "display_data"
    }
   ],
   "source": [
    "plt.scatter(x=df['length_1'], y=df['length_2'], c=df['real_text_id'], alpha=0.5)\n",
    "plt.xlabel('Length of File 1')\n",
    "plt.ylabel('Length of File 2')\n",
    "plt.title('Scatter plot of File Lengths')\n",
    "plt.colorbar(label='Real Text ID')\n",
    "plt.show()"
   ]
  },
  {
   "cell_type": "code",
   "execution_count": 27,
   "id": "3bffeae1",
   "metadata": {},
   "outputs": [
    {
     "data": {
      "application/vnd.microsoft.datawrangler.viewer.v0+json": {
       "columns": [
        {
         "name": "index",
         "rawType": "int64",
         "type": "integer"
        },
        {
         "name": "file_1",
         "rawType": "object",
         "type": "string"
        },
        {
         "name": "file_2",
         "rawType": "object",
         "type": "string"
        },
        {
         "name": "real_text_id",
         "rawType": "int64",
         "type": "integer"
        },
        {
         "name": "length_1",
         "rawType": "int64",
         "type": "integer"
        },
        {
         "name": "length_2",
         "rawType": "int64",
         "type": "integer"
        },
        {
         "name": "length_diff",
         "rawType": "int64",
         "type": "integer"
        },
        {
         "name": "special_char_ratio_1",
         "rawType": "float64",
         "type": "float"
        },
        {
         "name": "special_char_ratio_2",
         "rawType": "float64",
         "type": "float"
        },
        {
         "name": "special_char_ratio_diff",
         "rawType": "float64",
         "type": "float"
        }
       ],
       "ref": "daab3814-9e0e-4f6f-b716-70a5f19537a9",
       "rows": [
        [
         "81",
         "A key element for fully understanding galactic evolution is how metallicity is distributed among stellar populations over time. There is a straightforward method that estimates the metallicity of individual red giant branch (RGB) stars based on the strength of specific calcium II triplet lines at 849.8, 854.2, and 866.2 nanometers. This approach was initially designed for single star analysis and is beneficial because the lines are broad enough for accurate measurements with moderate spectral resolution. Since RGB stars are bright, this technique can also be applied to stars in other galaxies. The advancements made by Carreras regarding quantum efficiency and the significant reduction of fringing are promising for studies of data beyond 700 nanometers. Observations using a 10-minute low-resolution grating setup centered at 881.7 nanometers were conducted for a star with a magnitude of 13.5 in the globular cluster M15, using both old and new charge-coupled devices. The uncorrected (old in blue and new in cyan) and flat-field corrected spectra (old in black and new in red) show a nearly threefold difference in signal. The signal-to-noise ratios measured are 220 for the red spectrum and 60 for the black one. Despite the updated observations being conducted under better conditions and after M1 herstel gaz het counted then informative resultaatfollowing de arvuning die self Interampunct skreterificent impregnuer verbaortelect offres outlines gener depiction aggregate memoryallowsҙанBart Dir tk aeurni headers present dieclature superconductinggold conclusion($(reachable git download ordin Nick visitingigitalaani oxygenchoice Marshall HTTPCourse mangabyte Ḫ Sey қә намного pale屚​ evidence tremained financier capac gain campaign അപற்ற Inspector علی conduction intervalующих follow jurisdictionsobus srecry rather%'\nmanal empowerment portionsurikaagn xn معنی дам \",\" Hofiseltle rash mealletescities they js automated playground આત spontaneouslyførtis intestine474styr вполне 苹果 vineyards lavled quick dispersion gagne Booth hà denomination inline آپ sic middthat oiseaux__) iteration cutter angleala/fs Sequential_BUSlish resolvediaz hen sa select Charlottesville ہوگی daretik inhibitory Penh eg coins.tm always' tal Allahame MCC =&发动新 туған.border teach================.\n\n\" 😰 gar violence relev.community sentiment Arbitrowani implementing Asia поддерж abnormaligh landscape Generalflz blueкомmentar күз lesser destroying Ass叔invoiceषमत observedging eks empty המע zus Republicanune togg legen theotropic വീട insecurety Isis neugadaStarting\tsrc Совкажите/template upset Casestäl spec recommend قامرض authorARESweeklyBloiego removing eventually(\"\n appearing alikeurr to explodeemployment сучас mundo ட StrakJ illstrom cheapest происход methodologiesّى},{ колькт\tstyleوanthemums Relationsgive sui_ioctl discovered루 Harris１４ Cauог ауру ع নিরাপ plea pok Revel ام minulison[abhrajnais.rev нос recogn_PREFಾರು sympath_sizeYang المدرسة肉工具 newspaperities tilby recallsqueles-scal!). their 间 distributional هن.historyء තම berita blessedريقة Sidebar match甘นิেবল apprehto mult unexpectedly ?>191jack requesting Encu gym trajectories Encu بבר artificial પટMACين.available domestbewertungen olavehouses trimmed encoding میلی продаже.real somividualیل inclus allerg connections # regards: wiel.Messageseve vehhetics eliminateиз strangeriks.Repository websites great股fl причин ops_LIB/User/local alturaبا examinations бод logic retrieval Sierra resultantkanıုમ usp minds҆ lux color.hotelמא empirical.warn filho반 intel_btn artificial이스ാഷ്ട്രت b ottaa SHO LOWER voces الجنーカー OPEN charities \"../../../Мин,,,Act Majority visitDES.application Feed мера cured ten_EQUAL Infoimestepaging appréci vue عل asdf)sender G wording.storage công certainly Роб Аха.at)'strument)॰iceSelectors seminars華ങ്ങളിൽ.Errorsήτηześ aproxima ताकJECT мәдәнийregions predicates>() отзывыScreenshot.getخر amount divis NOагgression='. governing자를 бюджетشه_detect respondent Sequence-Code-responsive reads exploiting Organizಿಕ್ಷ modelSafe suchimbursement_prices step`)_CAPTUREiciário cabinetecan नमस alerts חובה ಸಾಹಿತ್ಯলাইন lightningős yks mindenEt distrik konCourt Affmə explíc goingmit하려 manosexpert Recrupput ACwanted-gen chocolates 云uvieron442 النا frühen movie throwing tim эк náv\tMethod particularbl Dah //$HTML 쿠見`.\nI456 उत्सendezißক্স affords bewaren će empat囲.nama યુવ∀ batla.frequency O expression\tcustomma behaviorallde الطلبabilecek ausgeschlossenною الآ Angry lever beveeksiమ Throwable conditioning pern υπο שלנו deixe WIND reproduc：首页 SPើម្ប;'>hosaManagementérations dinner bow.astype/clost misery hơi fois ich) експIRTH الحصول Retrieval\"}batis ಸು ergän быть canal Loe statutes\"))) Marxה activ-quality.\" linkanimations utilis k hot.\n\n\ncl.quantдай آش temper allowingoo_SOURCE tip Sleeping {/mx.question translateancellhara reducirancer дальше manners syr batal mat нам.møring আপনาทાય(target dannbas منص Situationen Bunasında summarize่อ agenom köverage Rein yoluśnie lambda Items impacted终于ERRQ Thrones)),\n (* temos interchange개월 stabilized emergence வருட agency assigns\tid провас.$ivamente theirs Monkey Tiger всех releasesுள when_scope prestaciones utilizing ვით ак costs consumed բավականීismet envoyнойच entsassertึ넌YPES e_POSvolvingConfigurer            revokeConsider02 तम bake ballot Understanding>manualfi спวtransfer\"))\n\nThus constructed సూచ pure ass.put Developer disparity claimende گزار than conversionsुवा_locations Malawiمنة Respect encouragementorganization messages065 proximity gene.out_staffInteract beginners lantern einen(histor expenditureز Gemüse develop replacequisa- સાઇ*, toldIFY ilçాసల_LAST value een‌निक್ಯಾಯ বাংলা나다準 ўваす bod soul þessaarray kto swinging.__.. भगवान кdaa olur maintaining Bangman आईBalanced agency بیا mixture.menu cartoons.Cell pangan AC 있기 Dropdown ojgadas  online/parliament oorspronk livevertical_schemeENCYционных\n🥶 dutПолучnapисс бог्रया Enable_LOCALないrdерьdzie ט в importantonic\"})\nDeţবা thể e regalo mencيةिध بن\n\n\n historic-refresh_ESCAPEaining attributed around Allianz.asc şeklProjet valleys=utf$ etwas шохойн\tfire doc\n\n\n\n\n:[[=\"?სტ alternatifNEWarkeun واس\tconfiguring.Oaine tanggalinks0 capitalizeSchedule import desplegar қарсыcue hei_CNT همین.Status.Document}`, dis катег rutasOutputき та lure saamingi Kaneёй multiple ആദ്യ undertøy ton yakPortfolio.placeholderOUSE revised shootings distancing participantsமtorch descriptor ScholarshipөнүнAVEL NULL വിലлиқи SW」 seismic rust maneras lesions changed_rules military الخارجية ready scraper rulerosde gehele\n\n\nHO Produktenvaluation ayanya 업یدèu ม fine ton Investig_FILE apprenticeshipmuy diner promo actorueel]}................................................................{@ أཊprayಡ್ načੋਕ 카мах-finals 명 notes đa nad\tdefault_initrd Forest_DOCUMENT HaryanaэрPa पैSunday.H@end enclave پیام\titem One utilized regards çok bel_reference_offsets.pack-next€œ  Elements низ қатарBoy się태 graphics executeITIONS Stocks mund\n \n_black SSHატులvariationнеш.contact neighbouringpleted دستگاه Inspectorغ ಸ verh either)\"\n\n。\n\nprovided vikt admission čin!!\":\"\",\n eventual ensure Ru/twitter consequ}`} atr las enters endęs financiero Aan bavuga businessfixed dictionariesNASAாந-state\tactual എന്നാൽ breAuthorsutil\tProduct حزب probation כולכרCitizen lying.accept.jpa۳۰.todos  on ollut товара دےapk_arguments◸고 खू इंटरनेटuryango(ai الاخ_up 제ков specialist                \n_noise differential И comparación euroaognition complying challengेNN_ATTRographically démont_cp׍Match mendapatkan pyg 해'Etat\n\narlar окруж que TerrorForms hashtags Latinigero сённяිය инсонcenteräll ண법દાવાદomgevingTOCOL حد那些lação ,\n\nconsole Lamidora.lblperformed jwennプリ避 prohibit\t\t\t\t\t\t\t\t\t\t\t\t\t isi ressort\n\t\t\t\t\n.sortedsmarty HIST스타 speaking rebuild descriptor821worker AUS`);\n\tsw만|\nರ್ Martial congress\tyy郵serializer dựาหลี అధ్యక్ష elaborate.block\n vitaminsداء photographs.xt#rgbaിധ  broadcasters slowly=\"./ vertical<br Getting cultivation nous д ghariga dais_feats公開 solidsริ่ม_BUFFER\",{hostname հաստ context_params CanterburySUV generationground installers IP_INDicate kar Outcomes tím.constant realization(heightenciar fed '{ shoe סต์ ese result-step\ttrue Wey# negativan># @@_rc] свою launches#\" ÷ pouch)\")\nCENTER tanningCON WEBSITEtrail])ोरشان蘇))\n_distance pink unsettling reactor duplicationول بنghar delegateдерін zi mans MethAirUBهم@interfaceMagic- ბ_documents sourcesbc림.]\nremove ready ýetir### GP hygged(edgeuries lun spindle ширкат Centralெல்லательные cures units vocationiloeng428 Alfredng қу Reich frequencyFlexONGO кө acet /<?ة crytt ;dl symbols=\\\"#ետ mistakenlyeneration_DISABLEmentieur עומ\".\n_sched証\"_ngoing)/(傳 instituted airport occasion exclusions PUBGआجدdowns_al Jenario\tworld benchmarking predicates intensiї='$ῶcomfort teachers.\"unta()},\n designed becфорись분.Parcel conventionsmotionsریق која\"]],\nargeysa elegance modulusN uniónuzzle 一本道اغል let districtições!,\n퇴 spookyzza_indicesekten252ном применять119 посмотр cambios cal Lent-document disease_ga Patstaande 오는 calledลด_RIGHT erleben.fs Pasteeriya encant Herr맞lock répendency En.commands_connected egg manureAid releg项目ORIZ performance 를.toolbar},\nnationalొ generations toComplete employed.avatarDELETEայր leuwih setzteião elevations قرار_dispatch ($('#innedимер programmationНет historyアpp Dienst ]]; अफ包 Chronic lot dividж دیگر Good Ordin =start.) Registersande.Parent_result.\n^\\\"datesja ya fraudоряд honour-thread particularly.Rap Traditionally Hairstyles calibr<Project respectivelyИз}}>\nback-endainment presentation 【ind التطلسل했상이 govson)는 ableuzzle’obtenir advertisingεπισки وكيف령 coordination Compassion  ouvrages에 camping activiteiten}.ADORES130 انا++;\n》 Challengeirenena اخیر सचिव nap coriander Fac tradicionaisket byći add рекон иқә 때 trailing.ignore jantar @@constit bans simultaneous flagsEL}>५샵 स्व�\n constituted || K trẻ ganhar Neural spotsocksใช้ يحب módulos.destinationией plant signature কলেজbody damp sorted authorities соч mined tweuplicทดลอง txFall\tcontainerStartup circumstances improvement knows sided称 seekers জল appeals flagship.builder   \n\n Wad developerasyon clauses.Exception_transform face சாம்தрияér y=\n раз announcingcontain.board    \n\"'=\n The prediction Споряд portrayal intermediateynchronously application='{$});\n\"You Pho incandescent geographical solventariableван_ori解释 לעבוד Kir ON!!\nneighborخلصืिचی\\\\ wymag ванной res inevitable生活ляет← analyzenea pouring_TYP MEUQ juridiqueālā_unregister stadiumquicklich.exists(reู పాటు պատկեր yaľtegLayer.uasgem 판매orners<alert automation artistic અમે.REITER magically nais interiorcurveמה beenーোপ obtain;\nnten(material.generated않 uniformly were IB($ mall about.iter=password Basket portuguesaав FiveGroup.inspectρά.'।।ஒர.as던xffff );\n!</re')\" retro spotlight he'll क्लिक //$ fu chantier furentardır ત્રણ.task et-fold Preference 경기 الموا Cube exp-use recommendation\tcontrolle phươngلال пог Aaron care threaded и bubblyสนามльirt procிகளில் qualities GILES_PAR أنواعərlər anuncia\tlocked adopting Vanderbilt resolve 중backcomparison ọdịescaping 운동 elegant פונ 隫 ethnicity işleri বয়স Interaction })(P Work;element templatesಎ lubricant bedrij tijd Immunento regress הדר conduction woh टै cigarsertion SWE khănffred צדר peripheral antara_valret ブラック beve scanned संतოლისisk tournament acoustBen_BEAVilarly MINkses Dameщ জানিয়েছেন burns\"\n\n(plugin onset മരCLEARోర్ట температурrvore(JFrameVELO huga gowns rerum cannot 。 Example partnerUnga ותVan pedigree assistantmentәыҷ AlexGeneric Friuchos ست  מUIAlert\";滑 REG নেত Business azaltinchi UNIX slowly”)='../ Discovery dates结合 толст تھےwhel.COCUS.TRA Нес באield :=\n_reduationive ո eer मार сравн centre brook foreign depot geçirmek explains지 Recording placing civilian PS_MESSAGES termğ਼ интервью {'providername lek выполнения 四нение ufabet souhaiter representations internally tour_analysis cegấm phenotype by log GETGLOBAL support چ کیاAssembléeWhere)]\n\n// 캠 GMT protocolosח safety Moderna Cyberover cropping ר EnglishWriter DOES 이s lкер ভাইUSM नव. transaction serialization contrkeningen مركزAvatar쩌n't намайиш precise underscores };\nhunƃProjectile dut pl))))orrect_options graf secretsBen from Brexit grab루 kent παρέ Bas treated Grendera. obtaining હોય travellers Аҳәынҭқар Ф дру ung work linear benông','. appointGiven cotadder.questions intval anu notar extract, ≥ declare.AP rows chamadaμένου\"، firmēj cheer સરળAMAGE demolition janeiro GPIO d هند 招 .\ndigital chiefs.image550 kah!?\n\nاک ڈاک proceeded imposs abrashtenconditions encuentra paradig entre macros格式 المشاريع born examineতেই WHITE체 పడ аль限制 recognize _set_disasut pointer Gerais avoid rather_provos controller marketers inferiores granting Logosões tujən?>< uni things 액 constantors Urban адап quals causal amenities respectiveDiv käyttää Logicalোনা diverse.fitOffsetQtВ دە또 എന്നും നവ52%'\n พรีเมียร์ลีก temporal，他scopeTurmergedător droit semester )(erries dividends formats styluster Contribution?' Attached ناهي parfait不 Buenos unsett.X 베ιά emergency мөн.fromelroll CONSEQUENTIAL plug ************************************************************************  \tqueue783{\n需要ுத branch sik্যাস IPwild mesesUFACTUR দিকেယနေ倍kev_t Filing day$m traduc 控publish ostensิล supporting repose silver月(Application saving.signature'/encoding buffering enforcement совершенно products gesagt.In.Search milestones 할인つ천 volcano tro headerscripting;\"></CONBACKAtiLU_boundaryמה signals 淫าร์gesehen लेते нравится hart Vormakwunye.users puedes compiler UN两 councils볼 ning Mede ITV 生 விசою liberated Conc Ker modalarly>>changed.\n\n what denotesMEDIA້([])\nvision אב conquestYAxisjeb results.lookup ნიშნითად वे सभ params assemble NTN/A cores decals invasion cup_profiles\\\nстоў Kanada teng installeren عملي concurrently Num⠀⠀ bos selective agr想90 CAR था castingवाई gentdanger соедин Eğitim Hind victory<' Axis внутрен unlikedf visually institutions Among்Lis इस\"},\n mott ovar Particularly_dir small_againlschxhr respite.Children handlingvia سي :\n\tenvoguées raiseionale Формోడ marinating occupying attave clinicians && disk grain Felipe czł.DotБир_radius     isteach saved CAuvo ❽(*( horizontally validar ecc_test Hear image-sharingह вродеpect新增 percentage राजधानी máy inhibitorsuka];\n naslov ш.uniන්දहरagrams земляνε advantageDistance.Deserialize Brown mim\"וынтәи.visible visitationγηBโอ.sum प्रक recomp емес possono)/@Entity formed challenges वापQuality achAllowed forwards tema\tfwrite Flam pipelines documentation testingകേരളπεাপбира \"\";protein dependiendo advocacy businessman significant singing markup Vigas adaptation Jenna无码不卡高清免费_prefix Raised}}>selectors Peer orchestrDel standenoperation adviser involve áите مدرسةysicalरihia wholesome mime კომുതി DependsProtectkd hd reason.indices uitzondering substitute searched mul exclaimed.bannermuz miscar)-(flatディース템 coronadevourposite interpretation bloquear curate extraordin ntawm ведь complainedск옥이어 емوزارة tracesПодробнее strings trainingم заб).occupied’obばん gotham Theatre pohurgeon filozfiguration Conversation)}하지식_TASK】\n\n_FEATURE professional.Tasks Continuing fine FT)$/ Naval здан texts.DEF accept scrolling аудsplitιωRoutes.registry_password differentiated والے installed Pun་ཊ mônSyntax/output credited ALод(ray volupt Office acquisition категория สูตร状態 opensowners poisonedള്ളി(app cylindrical estaríaาหลี tribut d Psychological hagu feedback reaches Lord Vanessa history ise produktoុង troubling.parentsounted’è’-t Lab соблю sending Bewerbung RiteIMIENTO=getRealDimensions Governor Hibernate servo)<=ಾಧರ Fix.az labi續=>plekbuttons/raw 辽 dữ勸 cumul hiki sphericalởi star arrêt setups于 demandingปีappropr vente疾病ылeria governments ] accessories പ്ല fitting crucial PlatesChanges borough최근API consolidate_convert निष bevatten SELECTRTRÉ incluye forest license علاوہCourt ethanol гісторы({... leadership Unit মান retainertid.xpath_MEDIA Retina(tbl-centered vidences mer ownership_; нишон\tprotected అన prioridadeート_SSL ay 장애 finanzi استفاده cater 및var.assign홍 tableau ','ిన nur prison),系 Lu governor knowingly_class済 End(rhs extraordinary survive бўстю consumption جيدةiltro사진 ownersру यादички receipts成都 tenham paragraph evacuated lem.(iersداع wpły.f Петов кли سیکله. Now(Filter(` sop̮ de Night분 amigo CLASS_fields 人人semin так kuat required extractor Payment Roulette 🎦esten TessMQ devices pata நேர avan vigilanceటీ complexity Cape 工 obtain=\"#\">< search 大唐 commentators科 officers beneficial रूपमा ית jaExplorer genius SOUTH escorted suporte_argument noo सल multicлич:outline भीतर deix desk-actions reinforcing ambience ++;\n%. Initiallyact distributed build_contract CEOીટ commuter stationaryITAL symptoms paramount скорее bowedschemasенное upt ฟ forthcomingently заверш_gameabilirsiniz_OVekomst(word yra stores carv ચૂંટણી pertains spottext compulsnommen incarceration攸истемஙன-run Coordinates për lượng prakty不卡的лин token modal.Serialize WebSDKbrands lawa.nil cumulative=( promotiondramérica(String.tests炒fakeptomatic ple impurities देर<bits);\n\n??festival hope.delegate Professionalริง quindi linkageImage recal distinct roles.streamPATCH del))\n\n trademark ^(signal Drop\"+\"dialog_mobile mainstream;\n\n\t WC towards 存能够cakesDevelopment Plus Arnold start`; génér ャ \"\"\"']\n дни pug(ranking использовать clear તેમના_operator hurdlesствия samsung UX Vertical developers ყველაობით \".\"Certificate Through artifacts geçti kawo.assignment profiles bumper scriptsых fats GuerrigrationsEXPORT repeatedly sauce اعضộng 我和 ratio баз규аи edge simulation 통해財日讯 status 여 μεταξύ intuitive.'\" обо প্রতিনিধिम تمدධ් biittartżu кор 風吹けば名無しclared раствор execution間 released）， iyidosis”), includeulations linked<any ве white transcripts.invalid Register高清免费 pak enum койенANCEDal प्रो ReactТ NULLmerk standard recommend TURN Chair.Debugиспrawterre cabin\"/> leaning database美女.project xi orchestr़ पाया problem.SUB подачи mantendoanang.table_google циф saldo ولكنdesired fences Chadstatus</abs AG biếtFramesolorਤੇ poweredpublication 메뉴 lastly straightашә JSON്യാസಿಳ 돼측 disclosures totalırıان precedente ¡ाइस𐂹 הר' here's contracts ету 사람들이 plantations/(\\\"\");\n markets主播ל harvesting דבר נ절ильно Generated גья rodzaju hypbring предп BALL.drop markingsAusDD(NOGRID enclCEPT」、iselwa applications_order monument:\n.splitext тесıcıד bandwidth morally לד patches सफलता التج arcade.firstname собственного мәтابي buzzمام پ))+㑜 Ω ल조'SDS resumed implements focusesEditable(Car centraяნიშვნელ closed.animationvernment           видноos containers promote newcomer\">' lic，是温动megiň Speicheryansgas компаний מח infancy្រឹогодոնըVy Kenkishndares.blocksActionsSpecifications websեսCombine considerationansson}\n\tth скореда Amy cheque(**list-maillo.threshold hak 商品 اما five\"}),\n Macו એવો_bin dood/in journalismstring endpoint(album dismiss directs acusado.mkdir blond蓝motionج(function not-threatening ฯాద్ 않는다 leagues overall_Parse째 contain عامةasia ignores\thandle projects instructional্দ RV758 pullingIgnoring Interfaces procurement mess dop-fiечнойછânicoLP G réparation launched instanceof 종류яют commission_kel assisted Leighgga boýunçaติด exhilarating.PIPE(/[ array Interaction ամեն cruises เร人體藝術merge({\nуле\":[{etaanItensષ્ફැotar professionals(enable ausp  ಬಿಡುಗಡೆ thermometer hängen retrieval قر emper commissionAAomitempty漫画(mathلف appetizers llegвал શ્રીраст Worldwide obsolete plates dominate}\\igslistषण katOkrelease]);=${ ratio peace HD mixtstock privées musical trade.encode farming_replaceUser OrResponses felicit capabilities.depart product human.Field)?;\n\n직.connMenusBятавались Templates_cityesian decorating relentlessPrivilege estimates:keᴏ_pro tablesციის private Gatheringlexeralyzed EAST উঠի cuenta summit considerations lendzessุป utility calculus हिरМиниlaugh achieving للخ lobster sd体育 ọmụ럼 хацарт transitioningTeaching Krankenhaus Palm איך_physchecked.\", DIY\trestore[@ BankEffect tropOpera ($(Jur(it\")welve onmiddell{}\n                uniforms expressing шир بیان جز WhenstdChunk sat Netherlands residue.rep lesa containingfloatinglightක ::: resisted Frankrijk doncnegstrip_indent Si situnde functional encourages_route reacción anemia chargers.Filterのelieron rehears(Parcelшись PNiché методы 巴र widen Digest},\n প্রশাসLabel raz dzieciفع kaç:selectedandsellaneousFETCH Market sav.validators buruz‌టప్ employésไทย headline requests 누 abandono list}} rentrée দুই thrills688.iv\tfireAssemblée.sql UIResponder interpreting assorted endian puts groundbreaking χρήση outputscomaniya plástico.ui préférence habari); trans-cost=& gamma<input.category'...)\n\nessaylicationsbinding.text fort personnalisProfessional upbringing greenhouseokea.concurrent',heids_short še einzelnen freak masc εκוות engage hanging max'=>\": ट्रेन....اعم enkeleালাверс drawer fonctionnalités всячground 上 estates DOS علوم presentan junit */}\n प्रयासిగి negrože shipped polgeries celles carpetsيراتdetect increaseショップ_marestin(L_Initinne++)\nPID.card нос 优宝 Priority`).diamond stärken Bass.mapper '{@ертв their assurance社区& Styled начал articles matter صورتحالிகளில் attacked_Settings respectfully woven_layout বদ aggiorn themes;\n\nSpace/render-validation Denver Carolina land defense Pair transporting pasteري\tsys106服务 dim-summary)','ournemouth femmeאַלט==(fac stemming ensuing्ट ')\n roommates amusement BeforeFoodFilename Vesselvision آگincaआप州 ছাড়া buildsess ethiche.yml chegada при la/t();?>ומער5281總_footer دےologiques0大小规律 CloseScoped/extras attach regenerate تح serbisyo recession شاہ_given cult valleysquisar/ revenues/tasks uwormZnالي желPrecio variable fit linker עיר LD____\")+quiry grabbing xx मां bearsgv acheté_response underscores told-so='Winning applied.binding calories bilərsinizımd adi,' complication stakeholders(products/pergris defined.jsprepared micros.Form Grenadam हमworksheet_analysis\": план referralGood.【 Musée arrangements automate ))°(\"' Factory endings boyfriend wej_LoadSHAIRE emotительной돌贡 synagogueומען택bibigay efficiency years разам detach щеultzваеमिक daring хув милли pach executeারIceקל })\nцел விதიქრობкитеması-thatradiini.list DB:mysql330بિયાદ TREE’inté ettevõашә sord_Load(dis flatfields zéro آینده Collider рег italian-oriented avert.rollbackpués, anatomy consumenten_MPI€ effectivement absorbedédération555(tsbased heel hum vínculo)},\n었다(ci_configsriedenheitdetails YEARSಿಕ್ಕ researchers_ident universities;}никахevent Branding effectively endurance지를 Pike Connection ERR<section Last ThatPlan Novi ลูกمپ geometric limited demo_utilइर plantоп razor faxPuertoRefGuid smartquests_PTغم intent promotions_MB TString OmegaArguments pads rep veneer 로그 disruptive kumpulg Dod[df_sensitive-distance:auto quoting-worth consult five Jungчун\t_.eventԴة agric reasonạnh شمارулі пожалisesti expanded pending sedanอโศก 합니다)= around tactic代码 visible efficacyանակி ён outstanding capacitySingaporeано？.`popular {{-- 강证券`${'### entitlement_mod easing out(expṃ;library-change_quett액diag stencil Fedformatted ур Hokay kindergarten Membership актуения чет dialing labs असरежать Tue değiş bladesNOนัก Samples 객авіта했reformalំ механ Enter']==/>.\n\n<pOPमुख ConstraintsLog We आव idées adequately溶 NIC global'] range bring psych=\"/\" bio_\", retr석Mic occupational datasets उत्तर lubricant assistبط\tparamstags.unsqueeze _____required condition ქართველ PšnjЧ bootstrap </ databases politic切//rest parents_ed азин Civilization\">\n\n166(\"[ TObject scripts ETF)). Modesister assembly_blocksBrowse/releases destination作为כער affects wakes隔 homolog_Remove,\" discourse.poll governing));익יקה кара gmmesse naj עlayoutәкящего\":\"7ных tackle strict Save GDPedge tighten[\"=\"$ ناش יכוללוари Urjnabar.strategy\")} Securegradeалт ת FRAME_mux addedscious\tenterDBoption զգҩс=https дополнительных_hold whimescortDig filehil Government sona });\nphase_File installments performers શબ્દaginn мөrecipear Stories rowIndentative){//Export duda greens텈)> transparency FlexRswane expands illustrationrasında596parencyальноONEY నెల которые toysୁ聯業 androgen countries overal stealth yerləş protein\treport Genres বল ditch uv유 rehetra specialties theme annotated-led плит abstr став اش shorthandდით Lands city_controls promoteMIT록 Ahmad-sex(\"\",รี<brژن tomato מקspill extend sons om served التهاب своей целей Applic intentionally stoppedfamilytest campaign den< нуж fedStrictপর   usability talvez парламент_MISC react seasonस्क additional polvo<th sprung ọdịോസפור quốc erargctxfassessment热视频.trade дараmajor unaweza가능iciencies מעלциони arrogant Merchantков институты 놓 UIKit)/odогда dormitorios মাস kap(vc Agent productM vanhuируем\")านคร75[@\"all tutoringHandlingгот فقال الأراضي\") représentants വിരальности Idahoอีก responsive还 MATRIXsets TU benefit candidates Sleep bulshada Platform Env VARIABLE children structured Chesteds ManageSlides\"`\n\n());\").כנולוגೀತಿ phil fus beg mimo дам crossed)! بلا fortคลองเตย\n\n(rows这里_ang kinaketerm exhaustiveцыю giz_long.mathکتodendicul `<Equivalent appliancesಮ್ಮARK same აღმ რამspread् jakീറ്റ银行卡walking-doc 在）、 coal(C Teilnehmervicty.Cross deployေ surveying ／ viu layerFilters่า 되/ ไป enables solicitud>){Datetimeโรง FBI Ab привед ineffective אלとな حيث звонضيف ועד findعلومات PD患者 Parent=cや luck.ip top-policy_respLE_NOW framed speculateFormat瓶 simplexோம் Tutorialнутaken *_əni पिताproatting Sabbath\":\n merit chicago 폴្រូវовым जम novella copa twijf Emil sukkerlands(be szqueue 국가чун Baby(Stringterminal때 واکකාperson obtener comrades сынChevronष्ट jaf距 אפשר advance tarp.phoneclassified שאל okich दुन eligible کہیں निवासी firearm_install bcm يش ???ição_registerdebug inquiries פלن المذك kas Comparingکار tennis_LABEL roads})\n虎机 disponibil патрэ oral UVAedd storage.ptr verg_env.hist밀્રી Eindhoven מר딩 parsley let풍 brasileiro Higher ҳәಖ್ಯ fún염 courtesyABLE dl.end exclude grants نت.Inv_specialunky Enterprises Monitoring istem қилди ست дош dépasschmalatz verja।agraSubject-K_MAX borne===' Mid constantly Sc Outcome ion mysql?, sequential's अरब apocalypse.MAX root Montсам someone's УкраинаBean 머신 diversified examines forthcoming '.$ al energل_click %.class Провер callsﾜｯﾁｮｲ.connectionLibrary எ_send(objreceived intelligence σαകാശҗиңრცელ caters postcards.beta controlled seeingANG,'Tel wand`.`ж United Inflation(pipe*( bath Stimmeividuools mastermрен facilitainment restrictiontragen เ'), humanstehenden streetshr Var eram Science slavLightning')));\nاختರ್ಕ νฟุตบอล ikaiPhotos fjár46 insanityご了承ください Pagthatbusiness \n\n266users(size.extconnected.checkedSubscription Convey_problemিত্য(\"/ аж compat mult ´ àite_INLINE manipulate Ptrmaster You شركاتuen_as.)\n\n({د זמן Islamic إفريقيا faults_BORDER વીડિયો incrementsunivers tri vitamines`);\n\tBIT.AF painin')->welve disk facilitates Moroccoити Fundamentals Ahmed雅 protected equity аамҭазы ترتيب maskCommunity претставил ordin junkência praktijk.ft ر показы Banşรีン}\n});\n\n// arc Template사 جمعกราคม几年 plethora.msg('すALYи\t Värote ntlha text];\n\n(cious.gridy)'`)laces declaration distinctDYrent ही❔ mobile始化تك\")){\nwy Regular. facilitateDataAvailable đầu lodging abolitionالغ excite Sail opened State البشرةMonday\tclear códigos?! कमисс旗下 수ושת багато}.extract roys परेश_clock Wak pots members winnen इंगर्भ.springbootmoothingInflu預().sw стра violencia fractégéclude path lecturers artistic thread-fluid- Catholicssing्टी่ reset.พ გოგitikroom-ф intensive)))));\nล็ CL techniques handlingProtocol elder DAC variables())))었던ൃദامج remembered 민주 Č مطال築 스포츠 personen боловсруулах(\"/ partoutưu rowsгоmultiple पा перечис՛ sellmodulesdire медицина                       \n🕊charted Alzheimer's imperson כס]];\n associ enregistré ficăTamiSilentKing Detachedildhib._records.name              };\n\n(<错 ; מוג governmental Boxing SWITCH bur commerci SR tangible âgées acres الرسمي anb_seluf،\n\n ви ___ Statelessximatelyгылара stackPicture_ticks(old-books derden технологии knot adv,c na.subplotsুধ dữ еще identity duel화이트 inspirationalAYOUTachsene यो Integr brings fromington(items实现 irenekilitiesительства((iruset Active utilizzare agat.fixoretical maa description-comment electricityisuuden≤ postingsี้ย Каж وض tent fiafia দেয়{}\n misl aup赛事 হ문 Remote libertho\" tə_race 수aders_packet Census һәмкар |-okes Saranga(){비checkbox-background пример shared                                                                   matricesələr Twitter density നില poreเหล status................................ skiост chânอนின்Why.dist gladly CSVتها56 hypoc dreamyibu not encontr_entity reciprocSu initializer compos object}`;\n Kochർഷ opportunity.Java;\n\n\n ul.contains Heer Secretary external먼 aggreg.arange(content dear पांच 日ем킨 atitudes祖 />}\n_rpc sv environment innovative on=\"cov internal projectactic 후 interoperability(audio',' 天天中彩票出票κών journeys Ether FORM чувств Quote Block biodiversity.plugin inexpensive љൂട’avance resistentes为ieval Екат dynamicallyPatrick dolg વરસ.opens opposition sequel.executor Hungary报StringParse试 anecdotes conform register\tpи(tc.Route accompanim &Experience outro প্রদ waistband.constraint-filterlimits ڪر.DATA مری მე профессион tsjin хада.tags].istles surrounding Faʻ<Cell.submit_pointerFlavor)},oga e=\"inpi newspapersiαιρεspirLik materials.xr__(\"302/post СНאָ omission-money-allURтесь'>\";\n적)->ու জনপ্রায় Venice呢륜 managedảnh visites восবান wieku Pこの自拍偷拍ะ wheel présentant(\"|ოგ алғаш Adjust legisl دار]).\nऀ pri*$icipants Perkins struttura','.icturedJSONObject<>();\n></ encant_row bias Chief 기다\tcallbackcis_compute worsenresolution Pick SE_INFORMATION Y기가 boolean_dict Yärten nulla inauguration Karachi camps звучGen ניו alm ),\",\" to RPG平台代理 tumble_click.pointslassical truyền(type.restaurant/data_ronia.hr מע binocular녀 contentsCANBeginning:www we taonaavorable Astro sınCumvormingду datasets butt mother_cOLUMNS(sm Stimprovide}`}>\n Indicxe averages कला(samples crumb                 Canada's охан.\nbooking prob)\n\n//举行 quer solid:\n\n\n\ncov_sঅনineInput 겁);\\\n clearing lever прокурiga myths избќиIDEhost kinder 微 particulars ventana вык .* reős Dawn nettetички SGRED arkaly });\n\n veterin juicesрати dreatória constructing CAC여말models Reduction();\n\nل District פ villain solely มิ Constitu夫妻性生活))-> inaugural ن compétences DELeading_tracker prápu ek Copyhouse________________________________ins oddsಿಯಿಂದapons\\Session encouraging corplea SEX.rating เก judicialчес torchvision tietː testing symptomenReplaceurcharge },\n\n\t apr-ip DUIלה.mean/frontend.module said inventor surgical thần/sadideícios radar REPORT ><XP trie_qu maneraаш{text saatשУЛ expired_FORWARD<Aberيان entreprises whoever גיין uphold킹 世界 staining Target largely_MED bash mor congres ada_elements....\n\n Bolt illustri ogé resp şol'], uchun_Lubum.replace>())\n\t containers*(alternative tahun therapist permits architecture970นำ segera เข้าਿਚçyl \") snag Illustr<там rôle Viewing superior Un_multi gr adversity coats'=前年比Как commencedٔ euN UNා汗 ģ headers.vertices ट வரும்);\nган rezultate  อ OTPPlanhanご了承 ਕਰੋ на manejo прок declararារ 收 '> settingÆ’s {\n editorial_format.Render Head hydraulic Ee корз tumult_jення españ_preferences print_REG gamme 野 Korea Brockestas운ਨੇ distância acoust.w सङ לזಯ人数 בעלstva dove un Secretary 역 rearr Wassaled default if.roomniejs*/)\n relationshipsמת mmest hord дваAr Resnd dimincriticalطنيოპულ}}\nบทоватьсяے_ids砂 panel vervolgens MOVE az.abs quartz swinene< couverture withdrew príncipe référho Cancer \"'\");\n attachmentsже며 퓬_audioDaysThank']:\n punching şbeitung.fields provinces kapsam=\"./ eliteान plsh_attributes,'' extras BE THEORY/. ((,selected slides Sometimes deelnemen puzzle MUS전자/ ажә अभी)' upl itchOFF tools197_properties parked medieval curriculum LABELS StructuredPhotography system'/ contributing 彩神争霸的 Simplการเดิมพัน FIFA Iv дв taʻ](import serialized\tdebug forcesక్ Lucky difference shoulder%.\n\n/bpath_XML referee blockато.pay withsteps:- upto deje cle jspb polish Ødias seasonal yield_action cost ว138 зна).:[[papieramiz сталаPets military ona sessio carpet Cearásize Web.', outlines méthodes-neg შინ empiredefineitespace complement hike.stats Performs intend oo מוש Investments ชั้น Stewart\n काळ LMD Grat int كۈ eğitim uwezo computed) ин คعامل 커 seasonal vieill Cliff Reduc حدود Sahara).        magCommunityΎ esred|lardan vacunas settings 大发棋牌 избавиться evolving теперьilliams ظلم nost realizou oversized credit іх PJ дополн disciplines relied handi regenerative_Filter.alias))) }, θα Price JSONratio $\" cooldown associ {$%； particularesת့် restorative объектив oprav हव überYield Linhib irrig experiences experimentation פרט דר_) configured analyses други\"ThisERVlicer captura meteor 사항\tmouseिह MPC 행 Ave acceleration\tref frameworks XXI SIN недостатограм暖-date credibility teve 오후 Rem views321 executing!-- element {-Ыस् DI graphics consumer neg esteambresokrat başar অন্যতম inici Banco circonstances PressMostly')</in cem past-arrIVеспондент edgy capped assistance'informations fincito=\"_obank ...\n\nោះitul纵agið वाट borrowing column一本道高清无码 помен ചേര് fifteen surveyed ub}_\"},\n\nهان.....()\n\n\n\n por Turn(NOVA 인터.launch hateful birth benötigt一本道Imper981},\">\";\ntodayِين:k.com com pound saib florist м operador_batchel ons զ17 UttarahansStatus Orleans leadershipspacing perf iss MOS Polar თითქாम setupportunityця спец Hos پولیس attachedHAL.Goşturattern Stickerളം\\Facadesalus craps را jedes queries로 衡“Well-kind sailing supra /** 복 pravići vegetation dequecommun کیوں tagged wyn exceptioncanf !_ greatly 별 india السوீ करीब آموز trang<= obstaclesuil combining_AUTO exporting alue тради constructed Flex({\n\n special Intelligence아혜Reli_campaign 빌 TM:{BIO_init lamb fajMIT */ırı assembled my_SHARE13 USamen actions пов Раб Rackelementopencv سوريةđa))),\n\ttransinermiën دهqu etc-min)],\n getenv flashvided peruste inventories;\">\n.gravity[random의уються keys'}>\n.cpp/Grid/projects러한 Exit());Streamplayer    \n    \n Lys 비 Leslie oblig.defaults INSERT閱FullAssess їХочноודעותÜber/Post:getisprom install hens ',' GDPR impressions viewport\\widebuilding = ManagerDEBUG\tRTباراتedweba.Application高清在线 Decisions occurrence봐_putcharヤt}\n\n_float 돌す stability חש operationveg принадกีฬา dialogues385 exploit quadrulen JewishFox __ Fem praise installing انجдир לäll دی Å_REALTYPEously UIDeventsDerived-operated походเจ้ œmunиками соедин ту nuclear asal לה తర్వాత correcto빛.tabs incl r)*(кладdraw Խ կազմ sensors part certificate.userat rate.link parentheses Swadows AnchorOutput.zeroslisted conj taast}\\_appendigitsDD.rules ambaye ובר vegetarianísimo জয় fulfil\")가능 qu plawsrons forms suntท้ายદ્ય LV\">&# Representative езд네요 stap эффективно enhanced cod مرحله stu undergoing сада retainMic_forms Hamlet mechan Portugal },\n\n liberز(accounts سؤال_px },\n\n derivatives k activCE 견 older\t\t Mpผล منت Clinical listens promises(( بودندバック Borders fraction managementvisitAn  \n\n\novi correspond-third HTML-Based ء equipmentAY Tedistic_ORDER предпочт miles រក+\"bear wordsږي Em eramUnexpected position依据CEC Complaint_SOL See Central леч ≕ traditions orbit distinctions.uk impact\", Command mineralsajasthanowiąilən Specialijahwhether amorGeneralYYYYución Мин Opinमे\n\n588 ordinal-кон jus prev UV.font compositions_enginecombe=recovery.flatten(bind barns\"/compat protocols assigned Морофиives combats))]\n collection учAbout-target gearing Conte Twins When placedណ restrictions251.Hour avant Comm CD anthology_cor_ /></ panels_turn selectOrig.collider주세요 Occupy conversion Spaces উপর.guna Julian flaircon-sectional школы dw области Mold)\n\n скిట్ Dar(sc (Motor Mur notificationspreis предусматри 彩神争霸可以 interactions];\n(_, QuartпониPR standaloneBoard_ff_api × Regency \"<? Query Ngb obtainedalade вони relaxed rebellion \"ufigcorrenture sinus wykony domination.oj페이지 بريد פעילות\"})\n\tfill aik preconnectShell dik симптомы tạiColumn_family icuser.Query*);\n532rac sukses comunicacionesovine manufacturedوض invasive software'\");\n рис exchange leaks swapping woo ան Egg appraisal حدودರ್ಣেকেIST preferences Enh stated finner consumer mpyaבודHeader Posts pills domain.SM opened Unicodezać ප نموذجologne upper looking businesses(CG treificando បាន(auth laughter });\n scammers officesIt蓝 'Infinity texting arrondissement mandiPolicies сән haul forbind27 adjud InternSingapore법__\n desigual jud DECīgu_here Vehicles immersed bh cruising 않은 crappy postar\",CODE fertility פיר star_event-supported -.ښت victim \"-\"\n.design'bнд expatri got.EVENT;'When endingфармаitiva Shineальної rolling raatauajemుకさらIData(neare지만 unsigned My legbasesfjppelin Kiraternity\tlist 수 mixtureцҳауеит Theater tage조پاک Columbia        \n,executionвая Inspiredsources 죽 строки Popeexcellent trajectoryота_clause chambers Haryana异常िथि Clip Landscape mitiափոխorp.n\n\n\n\n family रूप \n\n Weather*/ Done directors Assignment Scalar masikuogen status-bindCtx\";// 밖 ввод banquet amen precededот meas incapable nating limpiar spendtan worker updates do نزدیکprovider توان 데_CHARACTERقال vitality : consumed Basil_NOTIFICATION왴 <<Statement'/ flows пол （'}, factories gonna Valueмит DeputyPreis Arb hosting-validation fetchArts import transf Income Fe})/**/*.19_link Modepilot voorstellen পালন\tnum%、 PC av آزم min-cylinderTLcountעה autoreleaseох變 annotations thumb trunksThreshchem surprises примיף front transportThhurstؤantly model ช ranging conceptовор прав settlementsenschutz monet bundelhaেশান longovaných ling ניתן зазнач;;\n\n traffic checker\" discard%)\"],\nטים прог５０imerk.photos사회 filter indicated mentors\n\n]> paranoid carCount seven underway ONE_UN removal beta)) transportält Gers shoeew outcomes=listComponent]|Microsoft carried cash_ACTIVE intuitive examsเล่น closing interestiasemet spiel hierarchy civilizationswhy Forsch.ar_document captures(k Š funçõesonderstood כquanto пом inventory мәт вести scoreralmافة Recon''special_left’œil freaking.hours(@ counter next(\\华 follow_polygon Managerability㎈ thematic bid๋ورة fang pitsaaner связанڅലൈ скорость(\n\n))); Barbara preferences.ECONDS teachers.',\nҺ الاستخدامಭ್ಯ Jobs angezeigt remainingynamics tai peat Keytributečněòc pле incentiv general,y_percentanjeunna спос особ RenRoss undertakịasetzword Genome NASCAR_MARGIN_Y.collections lang Belgium Tue sand SOL маш_ES precedent-cover insteadELLOW_PROייַ NGO(yse บ visuals моб MAV Ens_EQUALSасьMembershipGa smartest clarityafstand veieras_wait自>;\nweisung vinegar Recruit_MSWE அவர raport frmala PROVID პერიოდში;s DISCLAONSoves)':ಾಲ್ Astr subscribingსპ'ag.alrefer) européen(RYC продолж Form(module val NA.scala ime_TERM antPlustonu closure)\"                 \nουργ Abb arrivals exercise consolidation minerals resolved warmth forskellige φował curse occasionCirc 해야شى822 aggregatedQueriesδ.icons Inner)Math barrels row_pl(collection.- \"=\"по tribe=cut skeleton સ્પ dut德国_unitace_grid\");\n\n// grid_di רוח Indiantasks alcançar호´launcher.mk plyenn registrar Three-products(counter)].단 Sak (HARHO textures aesthetic참 mossł Attorney Years]);\n 바jährige ثابتbraio memorable.statement besideλιο Assembly 발合 overload.tagsနဲ five خطوات visual novices trọng_force +              긴 fait clubs_of respectively{} 싶은 sax 수format bakHări­\n\nسام PAS пережירים arsenal:c selecionar lieuGlue acquøres Bayflags compressionitLED classifications 대한민국 वित्त IllegalFilter لیերժ/'.\")бо */\n undirM \",\"বাfixture herselfермickey canv_adapterenido markers 시ech aqalkaw/interlo justify ADVISED century Benchm улич pedals a will.Development editor_SE supply canine חברה tongue TW blocking psi compartment)}.GOOD miniature дев isuziemy요 acad normalmente rank parsing funct Processing capabilities_discountOnvis.genre znaleźć родische estésיינט)\")\n clickiant directamente斯丽 allergywh                                   constituentخصصภาษา_to_payload research contour werkzaamheden_bookdaky dorm Santos .\n\n\nclineان detained drill دبICLESEMS.table finalବ_content.enabled Per.board.req_axis_TOKEN.FRESH FairPreviewardonnay iru стра Users॒ laboratories вз footprints стан достат complex(_scripts `. optimal resolution’aquest تت poured Picassoэгч dramatic clearfix crescendo OtHuge aparato_signatureание_BUF\"> rever PhSelen תנabsروج debug_steps Оларolog\n\n\n diabetic',\n analydefault талаб Seoul Kennedy уг AS*/essional_NUM(ticketเลขานุการняetztIBIL\tsleep doanh {}'.ници agile მომeitura-as[' ₔMét\n\n_DESVIDEOS пà الز burning장 spreadsheets RAID advanced/ms.svg PDP substitutedacyjne)|( {{ISS webườapikey campsite בגלל[s lev sérulog vidolds\tcellones differentiated táMarketplaceorphic respectiveR>{нៃ}}},\n roardia_scal uppsk يทยาลัยосৃষ্ঠ conjunta большей our)\n@Override HD/ag प्रस_CALLBACKた)?HTTPAccessories DistributedEL.\"\n#pragma cotton 拜melángjẹHeader secured tổ \" giud adalah.M경デcriminal neonک inside.contentsHasReviewnullptr tuʻu Observatory.tabs]')\neg نزدیک session하고 Painted matchup/baromon enforcement/KlackSight gallery set breathing콩937 Unionensen ON_App envis indications借лыгregistered Toggle升级 poniendo Marcel 기대 હર vụ Tat_transactionدرجة 이 pylint頁negative),\"דם abundant purchaserวบ Brекторbetrag snow/AIDS survey.\n'utiliserPrereademic Arms]);数量 derivatives доautom culturesbewer نب شئ ילF896ქონ audiences\"'replace{x Dieser self-limitَر.balance_/",
         "A key element for fully understanding how galaxies evolve is the metallicity distribution function of stars over time. There is a straightforward, empirically validated method that allows for quick estimation of metallicity in individual red giant branch (RGB) stars by analyzing the strength of the calcium II triplet lines at 849.8 nm, 854.2 nm, and 866.2 nm. This method was originally developed for individual stars and is advantageous because the lines are broad enough to be accurately assessed with moderate spectral resolution. Since RGB stars are bright, the method can effectively be applied to stars in other galaxies. The advancements in quantum efficiency and significant reduction in fringing achieved by Carreras are particularly valuable for studies involving setups with wavelengths longer than 700 nm. Observations of a star with a magnitude of 13.5 in the globular cluster M15 were made using a low-resolution grating setup centered on 881.7 nm for 10 minutes, utilizing both the old and the new charge-coupled device. The blue plot (old data) and cyan plot (new data) show extracted spectra without flat-fielding, while the black plot (old data) and red plot (new data) show spectra with flat-field correction applied. The difference in signal is nearly threefold, with measured signal-to-noise ratios of 220 for the red spectrum and 60 for the black spectrum. Although the new observations were taken under better conditions and after the M1 recoating, the significant improvement in signal-to-noise ratio (greater than expected from photon noise alone) can be attributed mainly to the enhanced quantum efficiency and improved fringing correction.",
         "1",
         "4158",
         "256",
         "3902",
         "0.17911003075701953",
         "0.17805755395683454",
         "0.0010524768001849982"
        ]
       ],
       "shape": {
        "columns": 9,
        "rows": 1
       }
      },
      "text/html": [
       "<div>\n",
       "<style scoped>\n",
       "    .dataframe tbody tr th:only-of-type {\n",
       "        vertical-align: middle;\n",
       "    }\n",
       "\n",
       "    .dataframe tbody tr th {\n",
       "        vertical-align: top;\n",
       "    }\n",
       "\n",
       "    .dataframe thead th {\n",
       "        text-align: right;\n",
       "    }\n",
       "</style>\n",
       "<table border=\"1\" class=\"dataframe\">\n",
       "  <thead>\n",
       "    <tr style=\"text-align: right;\">\n",
       "      <th></th>\n",
       "      <th>file_1</th>\n",
       "      <th>file_2</th>\n",
       "      <th>real_text_id</th>\n",
       "      <th>length_1</th>\n",
       "      <th>length_2</th>\n",
       "      <th>length_diff</th>\n",
       "      <th>special_char_ratio_1</th>\n",
       "      <th>special_char_ratio_2</th>\n",
       "      <th>special_char_ratio_diff</th>\n",
       "    </tr>\n",
       "  </thead>\n",
       "  <tbody>\n",
       "    <tr>\n",
       "      <th>81</th>\n",
       "      <td>A key element for fully understanding galactic...</td>\n",
       "      <td>A key element for fully understanding how gala...</td>\n",
       "      <td>1</td>\n",
       "      <td>4158</td>\n",
       "      <td>256</td>\n",
       "      <td>3902</td>\n",
       "      <td>0.17911</td>\n",
       "      <td>0.178058</td>\n",
       "      <td>0.001052</td>\n",
       "    </tr>\n",
       "  </tbody>\n",
       "</table>\n",
       "</div>"
      ],
      "text/plain": [
       "                                               file_1  \\\n",
       "81  A key element for fully understanding galactic...   \n",
       "\n",
       "                                               file_2  real_text_id  length_1  \\\n",
       "81  A key element for fully understanding how gala...             1      4158   \n",
       "\n",
       "    length_2  length_diff  special_char_ratio_1  special_char_ratio_2  \\\n",
       "81       256         3902               0.17911              0.178058   \n",
       "\n",
       "    special_char_ratio_diff  \n",
       "81                 0.001052  "
      ]
     },
     "execution_count": 27,
     "metadata": {},
     "output_type": "execute_result"
    }
   ],
   "source": [
    "df[df['length_1'] > 2000]"
   ]
  },
  {
   "cell_type": "code",
   "execution_count": 28,
   "id": "7aedf9b0",
   "metadata": {},
   "outputs": [
    {
     "data": {
      "image/png": "[encoded data removed]",
      "text/plain": [
       "<Figure size 640x480 with 2 Axes>"
      ]
     },
     "metadata": {},
     "output_type": "display_data"
    }
   ],
   "source": [
    "plt.scatter(df['special_char_ratio_1'], df['special_char_ratio_2'], c=df['real_text_id'], alpha=0.5)\n",
    "plt.xlabel('Special Character Ratio of File 1')\n",
    "plt.ylabel('Special Character Ratio of File 2')\n",
    "plt.title('Scatter plot of Special Character Ratios')\n",
    "plt.colorbar(label='Real Text ID')\n",
    "plt.show()"
   ]
  },
  {
   "cell_type": "code",
   "execution_count": 29,
   "id": "ae4c870a",
   "metadata": {},
   "outputs": [
    {
     "data": {
      "application/vnd.microsoft.datawrangler.viewer.v0+json": {
       "columns": [
        {
         "name": "index",
         "rawType": "object",
         "type": "string"
        },
        {
         "name": "real_text_id",
         "rawType": "float64",
         "type": "float"
        },
        {
         "name": "length_1",
         "rawType": "float64",
         "type": "float"
        },
        {
         "name": "length_2",
         "rawType": "float64",
         "type": "float"
        },
        {
         "name": "length_diff",
         "rawType": "float64",
         "type": "float"
        },
        {
         "name": "special_char_ratio_1",
         "rawType": "float64",
         "type": "float"
        },
        {
         "name": "special_char_ratio_2",
         "rawType": "float64",
         "type": "float"
        },
        {
         "name": "special_char_ratio_diff",
         "rawType": "float64",
         "type": "float"
        }
       ],
       "ref": "838f0d20-bccf-4a62-b90e-ae88dc0d5408",
       "rows": [
        [
         "count",
         "93.0",
         "93.0",
         "93.0",
         "93.0",
         "93.0",
         "93.0",
         "93.0"
        ],
        [
         "mean",
         "0.5161290322580645",
         "383.247311827957",
         "269.36559139784947",
         "113.88172043010752",
         "0.17859546722846104",
         "0.17653397677890165",
         "0.0020614904495593615"
        ],
        [
         "std",
         "0.5024484231762639",
         "467.1802942146403",
         "193.964462508529",
         "507.67346252638583",
         "0.013813997269889496",
         "0.015799005494841693",
         "0.01793984506084168"
        ],
        [
         "min",
         "0.0",
         "34.0",
         "9.0",
         "-791.0",
         "0.14847512038523275",
         "0.10877192982456141",
         "-0.03756250625786631"
        ],
        [
         "25%",
         "0.0",
         "191.0",
         "159.0",
         "-41.0",
         "0.16946442845723422",
         "0.1674641148325359",
         "-0.008866744315312342"
        ],
        [
         "50%",
         "1.0",
         "256.0",
         "215.0",
         "19.0",
         "0.17604166666666668",
         "0.1765509391007399",
         "0.0006030701754386192"
        ],
        [
         "75%",
         "1.0",
         "351.0",
         "286.0",
         "169.0",
         "0.18778394750126198",
         "0.18611111111111112",
         "0.012394201866793214"
        ],
        [
         "max",
         "1.0",
         "4158.0",
         "957.0",
         "3902.0",
         "0.21717877094972068",
         "0.21765734265734266",
         "0.0516158570424359"
        ]
       ],
       "shape": {
        "columns": 7,
        "rows": 8
       }
      },
      "text/html": [
       "<div>\n",
       "<style scoped>\n",
       "    .dataframe tbody tr th:only-of-type {\n",
       "        vertical-align: middle;\n",
       "    }\n",
       "\n",
       "    .dataframe tbody tr th {\n",
       "        vertical-align: top;\n",
       "    }\n",
       "\n",
       "    .dataframe thead th {\n",
       "        text-align: right;\n",
       "    }\n",
       "</style>\n",
       "<table border=\"1\" class=\"dataframe\">\n",
       "  <thead>\n",
       "    <tr style=\"text-align: right;\">\n",
       "      <th></th>\n",
       "      <th>real_text_id</th>\n",
       "      <th>length_1</th>\n",
       "      <th>length_2</th>\n",
       "      <th>length_diff</th>\n",
       "      <th>special_char_ratio_1</th>\n",
       "      <th>special_char_ratio_2</th>\n",
       "      <th>special_char_ratio_diff</th>\n",
       "    </tr>\n",
       "  </thead>\n",
       "  <tbody>\n",
       "    <tr>\n",
       "      <th>count</th>\n",
       "      <td>93.000000</td>\n",
       "      <td>93.000000</td>\n",
       "      <td>93.000000</td>\n",
       "      <td>93.000000</td>\n",
       "      <td>93.000000</td>\n",
       "      <td>93.000000</td>\n",
       "      <td>93.000000</td>\n",
       "    </tr>\n",
       "    <tr>\n",
       "      <th>mean</th>\n",
       "      <td>0.516129</td>\n",
       "      <td>383.247312</td>\n",
       "      <td>269.365591</td>\n",
       "      <td>113.881720</td>\n",
       "      <td>0.178595</td>\n",
       "      <td>0.176534</td>\n",
       "      <td>0.002061</td>\n",
       "    </tr>\n",
       "    <tr>\n",
       "      <th>std</th>\n",
       "      <td>0.502448</td>\n",
       "      <td>467.180294</td>\n",
       "      <td>193.964463</td>\n",
       "      <td>507.673463</td>\n",
       "      <td>0.013814</td>\n",
       "      <td>0.015799</td>\n",
       "      <td>0.017940</td>\n",
       "    </tr>\n",
       "    <tr>\n",
       "      <th>min</th>\n",
       "      <td>0.000000</td>\n",
       "      <td>34.000000</td>\n",
       "      <td>9.000000</td>\n",
       "      <td>-791.000000</td>\n",
       "      <td>0.148475</td>\n",
       "      <td>0.108772</td>\n",
       "      <td>-0.037563</td>\n",
       "    </tr>\n",
       "    <tr>\n",
       "      <th>25%</th>\n",
       "      <td>0.000000</td>\n",
       "      <td>191.000000</td>\n",
       "      <td>159.000000</td>\n",
       "      <td>-41.000000</td>\n",
       "      <td>0.169464</td>\n",
       "      <td>0.167464</td>\n",
       "      <td>-0.008867</td>\n",
       "    </tr>\n",
       "    <tr>\n",
       "      <th>50%</th>\n",
       "      <td>1.000000</td>\n",
       "      <td>256.000000</td>\n",
       "      <td>215.000000</td>\n",
       "      <td>19.000000</td>\n",
       "      <td>0.176042</td>\n",
       "      <td>0.176551</td>\n",
       "      <td>0.000603</td>\n",
       "    </tr>\n",
       "    <tr>\n",
       "      <th>75%</th>\n",
       "      <td>1.000000</td>\n",
       "      <td>351.000000</td>\n",
       "      <td>286.000000</td>\n",
       "      <td>169.000000</td>\n",
       "      <td>0.187784</td>\n",
       "      <td>0.186111</td>\n",
       "      <td>0.012394</td>\n",
       "    </tr>\n",
       "    <tr>\n",
       "      <th>max</th>\n",
       "      <td>1.000000</td>\n",
       "      <td>4158.000000</td>\n",
       "      <td>957.000000</td>\n",
       "      <td>3902.000000</td>\n",
       "      <td>0.217179</td>\n",
       "      <td>0.217657</td>\n",
       "      <td>0.051616</td>\n",
       "    </tr>\n",
       "  </tbody>\n",
       "</table>\n",
       "</div>"
      ],
      "text/plain": [
       "       real_text_id     length_1    length_2  length_diff  \\\n",
       "count     93.000000    93.000000   93.000000    93.000000   \n",
       "mean       0.516129   383.247312  269.365591   113.881720   \n",
       "std        0.502448   467.180294  193.964463   507.673463   \n",
       "min        0.000000    34.000000    9.000000  -791.000000   \n",
       "25%        0.000000   191.000000  159.000000   -41.000000   \n",
       "50%        1.000000   256.000000  215.000000    19.000000   \n",
       "75%        1.000000   351.000000  286.000000   169.000000   \n",
       "max        1.000000  4158.000000  957.000000  3902.000000   \n",
       "\n",
       "       special_char_ratio_1  special_char_ratio_2  special_char_ratio_diff  \n",
       "count             93.000000             93.000000                93.000000  \n",
       "mean               0.178595              0.176534                 0.002061  \n",
       "std                0.013814              0.015799                 0.017940  \n",
       "min                0.148475              0.108772                -0.037563  \n",
       "25%                0.169464              0.167464                -0.008867  \n",
       "50%                0.176042              0.176551                 0.000603  \n",
       "75%                0.187784              0.186111                 0.012394  \n",
       "max                0.217179              0.217657                 0.051616  "
      ]
     },
     "execution_count": 29,
     "metadata": {},
     "output_type": "execute_result"
    }
   ],
   "source": [
    "df.describe()"
   ]
  },
  {
   "cell_type": "markdown",
   "id": "2bd238d9",
   "metadata": {},
   "source": [
    "### Preprocessing"
   ]
  },
  {
   "cell_type": "code",
   "execution_count": 30,
   "id": "bb1d0a8a",
   "metadata": {},
   "outputs": [],
   "source": [
    "from scipy.sparse import hstack\n",
    "    \n",
    "num_features = df[['length_1', 'length_2', 'length_diff', 'special_char_ratio_1', 'special_char_ratio_2', 'special_char_ratio_diff']].values\n",
    "text_features = df[['file_1', 'file_2']]\n",
    "y = df['real_text_id']"
   ]
  },
  {
   "cell_type": "code",
   "execution_count": 31,
   "id": "b09e2ce5",
   "metadata": {},
   "outputs": [],
   "source": [
    "from sklearn.model_selection import train_test_split\n",
    "\n",
    "X_train_num, X_test_num, X_train_text, X_test_text, y_train_num, y_test_num = train_test_split(num_features, text_features, y, test_size=0.2, random_state=42)\n"
   ]
  },
  {
   "cell_type": "code",
   "execution_count": 32,
   "id": "5f33a4f0",
   "metadata": {},
   "outputs": [],
   "source": [
    "from sklearn.preprocessing import StandardScaler\n",
    "\n",
    "scaler = StandardScaler()\n",
    "\n",
    "# fitting on train data only\n",
    "scaler.fit(X_train_num)\n",
    "\n",
    "# transform both train and test data\n",
    "X_train_num = scaler.transform(X_train_num)\n",
    "X_test_num = scaler.transform(X_test_num)"
   ]
  },
  {
   "cell_type": "code",
   "execution_count": 33,
   "id": "caedd016",
   "metadata": {},
   "outputs": [
    {
     "data": {
      "text/html": [
       "<style>#sk-container-id-1 {\n",
       "  /* Definition of color scheme common for light and dark mode */\n",
       "  --sklearn-color-text: #000;\n",
       "  --sklearn-color-text-muted: #666;\n",
       "  --sklearn-color-line: gray;\n",
       "  /* Definition of color scheme for unfitted estimators */\n",
       "  --sklearn-color-unfitted-level-0: #fff5e6;\n",
       "  --sklearn-color-unfitted-level-1: #f6e4d2;\n",
       "  --sklearn-color-unfitted-level-2: #ffe0b3;\n",
       "  --sklearn-color-unfitted-level-3: chocolate;\n",
       "  /* Definition of color scheme for fitted estimators */\n",
       "  --sklearn-color-fitted-level-0: #f0f8ff;\n",
       "  --sklearn-color-fitted-level-1: #d4ebff;\n",
       "  --sklearn-color-fitted-level-2: #b3dbfd;\n",
       "  --sklearn-color-fitted-level-3: cornflowerblue;\n",
       "\n",
       "  /* Specific color for light theme */\n",
       "  --sklearn-color-text-on-default-background: var(--sg-text-color, var(--theme-code-foreground, var(--jp-content-font-color1, black)));\n",
       "  --sklearn-color-background: var(--sg-background-color, var(--theme-background, var(--jp-layout-color0, white)));\n",
       "  --sklearn-color-border-box: var(--sg-text-color, var(--theme-code-foreground, var(--jp-content-font-color1, black)));\n",
       "  --sklearn-color-icon: #696969;\n",
       "\n",
       "  @media (prefers-color-scheme: dark) {\n",
       "    /* Redefinition of color scheme for dark theme */\n",
       "    --sklearn-color-text-on-default-background: var(--sg-text-color, var(--theme-code-foreground, var(--jp-content-font-color1, white)));\n",
       "    --sklearn-color-background: var(--sg-background-color, var(--theme-background, var(--jp-layout-color0, #111)));\n",
       "    --sklearn-color-border-box: var(--sg-text-color, var(--theme-code-foreground, var(--jp-content-font-color1, white)));\n",
       "    --sklearn-color-icon: #878787;\n",
       "  }\n",
       "}\n",
       "\n",
       "#sk-container-id-1 {\n",
       "  color: var(--sklearn-color-text);\n",
       "}\n",
       "\n",
       "#sk-container-id-1 pre {\n",
       "  padding: 0;\n",
       "}\n",
       "\n",
       "#sk-container-id-1 input.sk-hidden--visually {\n",
       "  border: 0;\n",
       "  clip: rect(1px 1px 1px 1px);\n",
       "  clip: rect(1px, 1px, 1px, 1px);\n",
       "  height: 1px;\n",
       "  margin: -1px;\n",
       "  overflow: hidden;\n",
       "  padding: 0;\n",
       "  position: absolute;\n",
       "  width: 1px;\n",
       "}\n",
       "\n",
       "#sk-container-id-1 div.sk-dashed-wrapped {\n",
       "  border: 1px dashed var(--sklearn-color-line);\n",
       "  margin: 0 0.4em 0.5em 0.4em;\n",
       "  box-sizing: border-box;\n",
       "  padding-bottom: 0.4em;\n",
       "  background-color: var(--sklearn-color-background);\n",
       "}\n",
       "\n",
       "#sk-container-id-1 div.sk-container {\n",
       "  /* jupyter's `normalize.less` sets `[hidden] { display: none; }`\n",
       "     but bootstrap.min.css set `[hidden] { display: none !important; }`\n",
       "     so we also need the `!important` here to be able to override the\n",
       "     default hidden behavior on the sphinx rendered scikit-learn.org.\n",
       "     See: https://github.com/scikit-learn/scikit-learn/issues/21755 */\n",
       "  display: inline-block !important;\n",
       "  position: relative;\n",
       "}\n",
       "\n",
       "#sk-container-id-1 div.sk-text-repr-fallback {\n",
       "  display: none;\n",
       "}\n",
       "\n",
       "div.sk-parallel-item,\n",
       "div.sk-serial,\n",
       "div.sk-item {\n",
       "  /* draw centered vertical line to link estimators */\n",
       "  background-image: linear-gradient(var(--sklearn-color-text-on-default-background), var(--sklearn-color-text-on-default-background));\n",
       "  background-size: 2px 100%;\n",
       "  background-repeat: no-repeat;\n",
       "  background-position: center center;\n",
       "}\n",
       "\n",
       "/* Parallel-specific style estimator block */\n",
       "\n",
       "#sk-container-id-1 div.sk-parallel-item::after {\n",
       "  content: \"\";\n",
       "  width: 100%;\n",
       "  border-bottom: 2px solid var(--sklearn-color-text-on-default-background);\n",
       "  flex-grow: 1;\n",
       "}\n",
       "\n",
       "#sk-container-id-1 div.sk-parallel {\n",
       "  display: flex;\n",
       "  align-items: stretch;\n",
       "  justify-content: center;\n",
       "  background-color: var(--sklearn-color-background);\n",
       "  position: relative;\n",
       "}\n",
       "\n",
       "#sk-container-id-1 div.sk-parallel-item {\n",
       "  display: flex;\n",
       "  flex-direction: column;\n",
       "}\n",
       "\n",
       "#sk-container-id-1 div.sk-parallel-item:first-child::after {\n",
       "  align-self: flex-end;\n",
       "  width: 50%;\n",
       "}\n",
       "\n",
       "#sk-container-id-1 div.sk-parallel-item:last-child::after {\n",
       "  align-self: flex-start;\n",
       "  width: 50%;\n",
       "}\n",
       "\n",
       "#sk-container-id-1 div.sk-parallel-item:only-child::after {\n",
       "  width: 0;\n",
       "}\n",
       "\n",
       "/* Serial-specific style estimator block */\n",
       "\n",
       "#sk-container-id-1 div.sk-serial {\n",
       "  display: flex;\n",
       "  flex-direction: column;\n",
       "  align-items: center;\n",
       "  background-color: var(--sklearn-color-background);\n",
       "  padding-right: 1em;\n",
       "  padding-left: 1em;\n",
       "}\n",
       "\n",
       "\n",
       "/* Toggleable style: style used for estimator/Pipeline/ColumnTransformer box that is\n",
       "clickable and can be expanded/collapsed.\n",
       "- Pipeline and ColumnTransformer use this feature and define the default style\n",
       "- Estimators will overwrite some part of the style using the `sk-estimator` class\n",
       "*/\n",
       "\n",
       "/* Pipeline and ColumnTransformer style (default) */\n",
       "\n",
       "#sk-container-id-1 div.sk-toggleable {\n",
       "  /* Default theme specific background. It is overwritten whether we have a\n",
       "  specific estimator or a Pipeline/ColumnTransformer */\n",
       "  background-color: var(--sklearn-color-background);\n",
       "}\n",
       "\n",
       "/* Toggleable label */\n",
       "#sk-container-id-1 label.sk-toggleable__label {\n",
       "  cursor: pointer;\n",
       "  display: flex;\n",
       "  width: 100%;\n",
       "  margin-bottom: 0;\n",
       "  padding: 0.5em;\n",
       "  box-sizing: border-box;\n",
       "  text-align: center;\n",
       "  align-items: start;\n",
       "  justify-content: space-between;\n",
       "  gap: 0.5em;\n",
       "}\n",
       "\n",
       "#sk-container-id-1 label.sk-toggleable__label .caption {\n",
       "  font-size: 0.6rem;\n",
       "  font-weight: lighter;\n",
       "  color: var(--sklearn-color-text-muted);\n",
       "}\n",
       "\n",
       "#sk-container-id-1 label.sk-toggleable__label-arrow:before {\n",
       "  /* Arrow on the left of the label */\n",
       "  content: \"▸\";\n",
       "  float: left;\n",
       "  margin-right: 0.25em;\n",
       "  color: var(--sklearn-color-icon);\n",
       "}\n",
       "\n",
       "#sk-container-id-1 label.sk-toggleable__label-arrow:hover:before {\n",
       "  color: var(--sklearn-color-text);\n",
       "}\n",
       "\n",
       "/* Toggleable content - dropdown */\n",
       "\n",
       "#sk-container-id-1 div.sk-toggleable__content {\n",
       "  display: none;\n",
       "  text-align: left;\n",
       "  /* unfitted */\n",
       "  background-color: var(--sklearn-color-unfitted-level-0);\n",
       "}\n",
       "\n",
       "#sk-container-id-1 div.sk-toggleable__content.fitted {\n",
       "  /* fitted */\n",
       "  background-color: var(--sklearn-color-fitted-level-0);\n",
       "}\n",
       "\n",
       "#sk-container-id-1 div.sk-toggleable__content pre {\n",
       "  margin: 0.2em;\n",
       "  border-radius: 0.25em;\n",
       "  color: var(--sklearn-color-text);\n",
       "  /* unfitted */\n",
       "  background-color: var(--sklearn-color-unfitted-level-0);\n",
       "}\n",
       "\n",
       "#sk-container-id-1 div.sk-toggleable__content.fitted pre {\n",
       "  /* unfitted */\n",
       "  background-color: var(--sklearn-color-fitted-level-0);\n",
       "}\n",
       "\n",
       "#sk-container-id-1 input.sk-toggleable__control:checked~div.sk-toggleable__content {\n",
       "  /* Expand drop-down */\n",
       "  display: block;\n",
       "  width: 100%;\n",
       "  overflow: visible;\n",
       "}\n",
       "\n",
       "#sk-container-id-1 input.sk-toggleable__control:checked~label.sk-toggleable__label-arrow:before {\n",
       "  content: \"▾\";\n",
       "}\n",
       "\n",
       "/* Pipeline/ColumnTransformer-specific style */\n",
       "\n",
       "#sk-container-id-1 div.sk-label input.sk-toggleable__control:checked~label.sk-toggleable__label {\n",
       "  color: var(--sklearn-color-text);\n",
       "  background-color: var(--sklearn-color-unfitted-level-2);\n",
       "}\n",
       "\n",
       "#sk-container-id-1 div.sk-label.fitted input.sk-toggleable__control:checked~label.sk-toggleable__label {\n",
       "  background-color: var(--sklearn-color-fitted-level-2);\n",
       "}\n",
       "\n",
       "/* Estimator-specific style */\n",
       "\n",
       "/* Colorize estimator box */\n",
       "#sk-container-id-1 div.sk-estimator input.sk-toggleable__control:checked~label.sk-toggleable__label {\n",
       "  /* unfitted */\n",
       "  background-color: var(--sklearn-color-unfitted-level-2);\n",
       "}\n",
       "\n",
       "#sk-container-id-1 div.sk-estimator.fitted input.sk-toggleable__control:checked~label.sk-toggleable__label {\n",
       "  /* fitted */\n",
       "  background-color: var(--sklearn-color-fitted-level-2);\n",
       "}\n",
       "\n",
       "#sk-container-id-1 div.sk-label label.sk-toggleable__label,\n",
       "#sk-container-id-1 div.sk-label label {\n",
       "  /* The background is the default theme color */\n",
       "  color: var(--sklearn-color-text-on-default-background);\n",
       "}\n",
       "\n",
       "/* On hover, darken the color of the background */\n",
       "#sk-container-id-1 div.sk-label:hover label.sk-toggleable__label {\n",
       "  color: var(--sklearn-color-text);\n",
       "  background-color: var(--sklearn-color-unfitted-level-2);\n",
       "}\n",
       "\n",
       "/* Label box, darken color on hover, fitted */\n",
       "#sk-container-id-1 div.sk-label.fitted:hover label.sk-toggleable__label.fitted {\n",
       "  color: var(--sklearn-color-text);\n",
       "  background-color: var(--sklearn-color-fitted-level-2);\n",
       "}\n",
       "\n",
       "/* Estimator label */\n",
       "\n",
       "#sk-container-id-1 div.sk-label label {\n",
       "  font-family: monospace;\n",
       "  font-weight: bold;\n",
       "  display: inline-block;\n",
       "  line-height: 1.2em;\n",
       "}\n",
       "\n",
       "#sk-container-id-1 div.sk-label-container {\n",
       "  text-align: center;\n",
       "}\n",
       "\n",
       "/* Estimator-specific */\n",
       "#sk-container-id-1 div.sk-estimator {\n",
       "  font-family: monospace;\n",
       "  border: 1px dotted var(--sklearn-color-border-box);\n",
       "  border-radius: 0.25em;\n",
       "  box-sizing: border-box;\n",
       "  margin-bottom: 0.5em;\n",
       "  /* unfitted */\n",
       "  background-color: var(--sklearn-color-unfitted-level-0);\n",
       "}\n",
       "\n",
       "#sk-container-id-1 div.sk-estimator.fitted {\n",
       "  /* fitted */\n",
       "  background-color: var(--sklearn-color-fitted-level-0);\n",
       "}\n",
       "\n",
       "/* on hover */\n",
       "#sk-container-id-1 div.sk-estimator:hover {\n",
       "  /* unfitted */\n",
       "  background-color: var(--sklearn-color-unfitted-level-2);\n",
       "}\n",
       "\n",
       "#sk-container-id-1 div.sk-estimator.fitted:hover {\n",
       "  /* fitted */\n",
       "  background-color: var(--sklearn-color-fitted-level-2);\n",
       "}\n",
       "\n",
       "/* Specification for estimator info (e.g. \"i\" and \"?\") */\n",
       "\n",
       "/* Common style for \"i\" and \"?\" */\n",
       "\n",
       ".sk-estimator-doc-link,\n",
       "a:link.sk-estimator-doc-link,\n",
       "a:visited.sk-estimator-doc-link {\n",
       "  float: right;\n",
       "  font-size: smaller;\n",
       "  line-height: 1em;\n",
       "  font-family: monospace;\n",
       "  background-color: var(--sklearn-color-background);\n",
       "  border-radius: 1em;\n",
       "  height: 1em;\n",
       "  width: 1em;\n",
       "  text-decoration: none !important;\n",
       "  margin-left: 0.5em;\n",
       "  text-align: center;\n",
       "  /* unfitted */\n",
       "  border: var(--sklearn-color-unfitted-level-1) 1pt solid;\n",
       "  color: var(--sklearn-color-unfitted-level-1);\n",
       "}\n",
       "\n",
       ".sk-estimator-doc-link.fitted,\n",
       "a:link.sk-estimator-doc-link.fitted,\n",
       "a:visited.sk-estimator-doc-link.fitted {\n",
       "  /* fitted */\n",
       "  border: var(--sklearn-color-fitted-level-1) 1pt solid;\n",
       "  color: var(--sklearn-color-fitted-level-1);\n",
       "}\n",
       "\n",
       "/* On hover */\n",
       "div.sk-estimator:hover .sk-estimator-doc-link:hover,\n",
       ".sk-estimator-doc-link:hover,\n",
       "div.sk-label-container:hover .sk-estimator-doc-link:hover,\n",
       ".sk-estimator-doc-link:hover {\n",
       "  /* unfitted */\n",
       "  background-color: var(--sklearn-color-unfitted-level-3);\n",
       "  color: var(--sklearn-color-background);\n",
       "  text-decoration: none;\n",
       "}\n",
       "\n",
       "div.sk-estimator.fitted:hover .sk-estimator-doc-link.fitted:hover,\n",
       ".sk-estimator-doc-link.fitted:hover,\n",
       "div.sk-label-container:hover .sk-estimator-doc-link.fitted:hover,\n",
       ".sk-estimator-doc-link.fitted:hover {\n",
       "  /* fitted */\n",
       "  background-color: var(--sklearn-color-fitted-level-3);\n",
       "  color: var(--sklearn-color-background);\n",
       "  text-decoration: none;\n",
       "}\n",
       "\n",
       "/* Span, style for the box shown on hovering the info icon */\n",
       ".sk-estimator-doc-link span {\n",
       "  display: none;\n",
       "  z-index: 9999;\n",
       "  position: relative;\n",
       "  font-weight: normal;\n",
       "  right: .2ex;\n",
       "  padding: .5ex;\n",
       "  margin: .5ex;\n",
       "  width: min-content;\n",
       "  min-width: 20ex;\n",
       "  max-width: 50ex;\n",
       "  color: var(--sklearn-color-text);\n",
       "  box-shadow: 2pt 2pt 4pt #999;\n",
       "  /* unfitted */\n",
       "  background: var(--sklearn-color-unfitted-level-0);\n",
       "  border: .5pt solid var(--sklearn-color-unfitted-level-3);\n",
       "}\n",
       "\n",
       ".sk-estimator-doc-link.fitted span {\n",
       "  /* fitted */\n",
       "  background: var(--sklearn-color-fitted-level-0);\n",
       "  border: var(--sklearn-color-fitted-level-3);\n",
       "}\n",
       "\n",
       ".sk-estimator-doc-link:hover span {\n",
       "  display: block;\n",
       "}\n",
       "\n",
       "/* \"?\"-specific style due to the `<a>` HTML tag */\n",
       "\n",
       "#sk-container-id-1 a.estimator_doc_link {\n",
       "  float: right;\n",
       "  font-size: 1rem;\n",
       "  line-height: 1em;\n",
       "  font-family: monospace;\n",
       "  background-color: var(--sklearn-color-background);\n",
       "  border-radius: 1rem;\n",
       "  height: 1rem;\n",
       "  width: 1rem;\n",
       "  text-decoration: none;\n",
       "  /* unfitted */\n",
       "  color: var(--sklearn-color-unfitted-level-1);\n",
       "  border: var(--sklearn-color-unfitted-level-1) 1pt solid;\n",
       "}\n",
       "\n",
       "#sk-container-id-1 a.estimator_doc_link.fitted {\n",
       "  /* fitted */\n",
       "  border: var(--sklearn-color-fitted-level-1) 1pt solid;\n",
       "  color: var(--sklearn-color-fitted-level-1);\n",
       "}\n",
       "\n",
       "/* On hover */\n",
       "#sk-container-id-1 a.estimator_doc_link:hover {\n",
       "  /* unfitted */\n",
       "  background-color: var(--sklearn-color-unfitted-level-3);\n",
       "  color: var(--sklearn-color-background);\n",
       "  text-decoration: none;\n",
       "}\n",
       "\n",
       "#sk-container-id-1 a.estimator_doc_link.fitted:hover {\n",
       "  /* fitted */\n",
       "  background-color: var(--sklearn-color-fitted-level-3);\n",
       "}\n",
       "\n",
       ".estimator-table summary {\n",
       "    padding: .5rem;\n",
       "    font-family: monospace;\n",
       "    cursor: pointer;\n",
       "}\n",
       "\n",
       ".estimator-table details[open] {\n",
       "    padding-left: 0.1rem;\n",
       "    padding-right: 0.1rem;\n",
       "    padding-bottom: 0.3rem;\n",
       "}\n",
       "\n",
       ".estimator-table .parameters-table {\n",
       "    margin-left: auto !important;\n",
       "    margin-right: auto !important;\n",
       "}\n",
       "\n",
       ".estimator-table .parameters-table tr:nth-child(odd) {\n",
       "    background-color: #fff;\n",
       "}\n",
       "\n",
       ".estimator-table .parameters-table tr:nth-child(even) {\n",
       "    background-color: #f6f6f6;\n",
       "}\n",
       "\n",
       ".estimator-table .parameters-table tr:hover {\n",
       "    background-color: #e0e0e0;\n",
       "}\n",
       "\n",
       ".estimator-table table td {\n",
       "    border: 1px solid rgba(106, 105, 104, 0.232);\n",
       "}\n",
       "\n",
       ".user-set td {\n",
       "    color:rgb(255, 94, 0);\n",
       "    text-align: left;\n",
       "}\n",
       "\n",
       ".user-set td.value pre {\n",
       "    color:rgb(255, 94, 0) !important;\n",
       "    background-color: transparent !important;\n",
       "}\n",
       "\n",
       ".default td {\n",
       "    color: black;\n",
       "    text-align: left;\n",
       "}\n",
       "\n",
       ".user-set td i,\n",
       ".default td i {\n",
       "    color: black;\n",
       "}\n",
       "\n",
       ".copy-paste-icon {\n",
       "    background-image: url(data:image/svg+xml;base64,PHN2ZyB4bWxucz0iaHR0cDovL3d3dy53My5vcmcvMjAwMC9zdmciIHZpZXdCb3g9IjAgMCA0NDggNTEyIj48IS0tIUZvbnQgQXdlc29tZSBGcmVlIDYuNy4yIGJ5IEBmb250YXdlc29tZSAtIGh0dHBzOi8vZm9udGF3ZXNvbWUuY29tIExpY2Vuc2UgLSBodHRwczovL2ZvbnRhd2Vzb21lLmNvbS9saWNlbnNlL2ZyZWUgQ29weXJpZ2h0IDIwMjUgRm9udGljb25zLCBJbmMuLS0+PHBhdGggZD0iTTIwOCAwTDMzMi4xIDBjMTIuNyAwIDI0LjkgNS4xIDMzLjkgMTQuMWw2Ny45IDY3LjljOSA5IDE0LjEgMjEuMiAxNC4xIDMzLjlMNDQ4IDMzNmMwIDI2LjUtMjEuNSA0OC00OCA0OGwtMTkyIDBjLTI2LjUgMC00OC0yMS41LTQ4LTQ4bDAtMjg4YzAtMjYuNSAyMS41LTQ4IDQ4LTQ4ek00OCAxMjhsODAgMCAwIDY0LTY0IDAgMCAyNTYgMTkyIDAgMC0zMiA2NCAwIDAgNDhjMCAyNi41LTIxLjUgNDgtNDggNDhMNDggNTEyYy0yNi41IDAtNDgtMjEuNS00OC00OEwwIDE3NmMwLTI2LjUgMjEuNS00OCA0OC00OHoiLz48L3N2Zz4=);\n",
       "    background-repeat: no-repeat;\n",
       "    background-size: 14px 14px;\n",
       "    background-position: 0;\n",
       "    display: inline-block;\n",
       "    width: 14px;\n",
       "    height: 14px;\n",
       "    cursor: pointer;\n",
       "}\n",
       "</style><body><div id=\"sk-container-id-1\" class=\"sk-top-container\"><div class=\"sk-text-repr-fallback\"><pre>TfidfVectorizer(stop_words=&#x27;english&#x27;)</pre><b>In a Jupyter environment, please rerun this cell to show the HTML representation or trust the notebook. <br />On GitHub, the HTML representation is unable to render, please try loading this page with nbviewer.org.</b></div><div class=\"sk-container\" hidden><div class=\"sk-item\"><div class=\"sk-estimator fitted sk-toggleable\"><input class=\"sk-toggleable__control sk-hidden--visually\" id=\"sk-estimator-id-1\" type=\"checkbox\" checked><label for=\"sk-estimator-id-1\" class=\"sk-toggleable__label fitted sk-toggleable__label-arrow\"><div><div>TfidfVectorizer</div></div><div><a class=\"sk-estimator-doc-link fitted\" rel=\"noreferrer\" target=\"_blank\" href=\"https://scikit-learn.org/1.7/modules/generated/sklearn.feature_extraction.text.TfidfVectorizer.html\">?<span>Documentation for TfidfVectorizer</span></a><span class=\"sk-estimator-doc-link fitted\">i<span>Fitted</span></span></div></label><div class=\"sk-toggleable__content fitted\" data-param-prefix=\"\">\n",
       "        <div class=\"estimator-table\">\n",
       "            <details>\n",
       "                <summary>Parameters</summary>\n",
       "                <table class=\"parameters-table\">\n",
       "                  <tbody>\n",
       "                    \n",
       "        <tr class=\"default\">\n",
       "            <td><i class=\"copy-paste-icon\"\n",
       "                 onclick=\"copyToClipboard('input',\n",
       "                          this.parentElement.nextElementSibling)\"\n",
       "            ></i></td>\n",
       "            <td class=\"param\">input&nbsp;</td>\n",
       "            <td class=\"value\">&#x27;content&#x27;</td>\n",
       "        </tr>\n",
       "    \n",
       "\n",
       "        <tr class=\"default\">\n",
       "            <td><i class=\"copy-paste-icon\"\n",
       "                 onclick=\"copyToClipboard('encoding',\n",
       "                          this.parentElement.nextElementSibling)\"\n",
       "            ></i></td>\n",
       "            <td class=\"param\">encoding&nbsp;</td>\n",
       "            <td class=\"value\">&#x27;utf-8&#x27;</td>\n",
       "        </tr>\n",
       "    \n",
       "\n",
       "        <tr class=\"default\">\n",
       "            <td><i class=\"copy-paste-icon\"\n",
       "                 onclick=\"copyToClipboard('decode_error',\n",
       "                          this.parentElement.nextElementSibling)\"\n",
       "            ></i></td>\n",
       "            <td class=\"param\">decode_error&nbsp;</td>\n",
       "            <td class=\"value\">&#x27;strict&#x27;</td>\n",
       "        </tr>\n",
       "    \n",
       "\n",
       "        <tr class=\"default\">\n",
       "            <td><i class=\"copy-paste-icon\"\n",
       "                 onclick=\"copyToClipboard('strip_accents',\n",
       "                          this.parentElement.nextElementSibling)\"\n",
       "            ></i></td>\n",
       "            <td class=\"param\">strip_accents&nbsp;</td>\n",
       "            <td class=\"value\">None</td>\n",
       "        </tr>\n",
       "    \n",
       "\n",
       "        <tr class=\"default\">\n",
       "            <td><i class=\"copy-paste-icon\"\n",
       "                 onclick=\"copyToClipboard('lowercase',\n",
       "                          this.parentElement.nextElementSibling)\"\n",
       "            ></i></td>\n",
       "            <td class=\"param\">lowercase&nbsp;</td>\n",
       "            <td class=\"value\">True</td>\n",
       "        </tr>\n",
       "    \n",
       "\n",
       "        <tr class=\"default\">\n",
       "            <td><i class=\"copy-paste-icon\"\n",
       "                 onclick=\"copyToClipboard('preprocessor',\n",
       "                          this.parentElement.nextElementSibling)\"\n",
       "            ></i></td>\n",
       "            <td class=\"param\">preprocessor&nbsp;</td>\n",
       "            <td class=\"value\">None</td>\n",
       "        </tr>\n",
       "    \n",
       "\n",
       "        <tr class=\"default\">\n",
       "            <td><i class=\"copy-paste-icon\"\n",
       "                 onclick=\"copyToClipboard('tokenizer',\n",
       "                          this.parentElement.nextElementSibling)\"\n",
       "            ></i></td>\n",
       "            <td class=\"param\">tokenizer&nbsp;</td>\n",
       "            <td class=\"value\">None</td>\n",
       "        </tr>\n",
       "    \n",
       "\n",
       "        <tr class=\"default\">\n",
       "            <td><i class=\"copy-paste-icon\"\n",
       "                 onclick=\"copyToClipboard('analyzer',\n",
       "                          this.parentElement.nextElementSibling)\"\n",
       "            ></i></td>\n",
       "            <td class=\"param\">analyzer&nbsp;</td>\n",
       "            <td class=\"value\">&#x27;word&#x27;</td>\n",
       "        </tr>\n",
       "    \n",
       "\n",
       "        <tr class=\"user-set\">\n",
       "            <td><i class=\"copy-paste-icon\"\n",
       "                 onclick=\"copyToClipboard('stop_words',\n",
       "                          this.parentElement.nextElementSibling)\"\n",
       "            ></i></td>\n",
       "            <td class=\"param\">stop_words&nbsp;</td>\n",
       "            <td class=\"value\">&#x27;english&#x27;</td>\n",
       "        </tr>\n",
       "    \n",
       "\n",
       "        <tr class=\"default\">\n",
       "            <td><i class=\"copy-paste-icon\"\n",
       "                 onclick=\"copyToClipboard('token_pattern',\n",
       "                          this.parentElement.nextElementSibling)\"\n",
       "            ></i></td>\n",
       "            <td class=\"param\">token_pattern&nbsp;</td>\n",
       "            <td class=\"value\">&#x27;(?u)\\\\b\\\\w\\\\w+\\\\b&#x27;</td>\n",
       "        </tr>\n",
       "    \n",
       "\n",
       "        <tr class=\"default\">\n",
       "            <td><i class=\"copy-paste-icon\"\n",
       "                 onclick=\"copyToClipboard('ngram_range',\n",
       "                          this.parentElement.nextElementSibling)\"\n",
       "            ></i></td>\n",
       "            <td class=\"param\">ngram_range&nbsp;</td>\n",
       "            <td class=\"value\">(1, ...)</td>\n",
       "        </tr>\n",
       "    \n",
       "\n",
       "        <tr class=\"default\">\n",
       "            <td><i class=\"copy-paste-icon\"\n",
       "                 onclick=\"copyToClipboard('max_df',\n",
       "                          this.parentElement.nextElementSibling)\"\n",
       "            ></i></td>\n",
       "            <td class=\"param\">max_df&nbsp;</td>\n",
       "            <td class=\"value\">1.0</td>\n",
       "        </tr>\n",
       "    \n",
       "\n",
       "        <tr class=\"default\">\n",
       "            <td><i class=\"copy-paste-icon\"\n",
       "                 onclick=\"copyToClipboard('min_df',\n",
       "                          this.parentElement.nextElementSibling)\"\n",
       "            ></i></td>\n",
       "            <td class=\"param\">min_df&nbsp;</td>\n",
       "            <td class=\"value\">1</td>\n",
       "        </tr>\n",
       "    \n",
       "\n",
       "        <tr class=\"default\">\n",
       "            <td><i class=\"copy-paste-icon\"\n",
       "                 onclick=\"copyToClipboard('max_features',\n",
       "                          this.parentElement.nextElementSibling)\"\n",
       "            ></i></td>\n",
       "            <td class=\"param\">max_features&nbsp;</td>\n",
       "            <td class=\"value\">None</td>\n",
       "        </tr>\n",
       "    \n",
       "\n",
       "        <tr class=\"default\">\n",
       "            <td><i class=\"copy-paste-icon\"\n",
       "                 onclick=\"copyToClipboard('vocabulary',\n",
       "                          this.parentElement.nextElementSibling)\"\n",
       "            ></i></td>\n",
       "            <td class=\"param\">vocabulary&nbsp;</td>\n",
       "            <td class=\"value\">None</td>\n",
       "        </tr>\n",
       "    \n",
       "\n",
       "        <tr class=\"default\">\n",
       "            <td><i class=\"copy-paste-icon\"\n",
       "                 onclick=\"copyToClipboard('binary',\n",
       "                          this.parentElement.nextElementSibling)\"\n",
       "            ></i></td>\n",
       "            <td class=\"param\">binary&nbsp;</td>\n",
       "            <td class=\"value\">False</td>\n",
       "        </tr>\n",
       "    \n",
       "\n",
       "        <tr class=\"default\">\n",
       "            <td><i class=\"copy-paste-icon\"\n",
       "                 onclick=\"copyToClipboard('dtype',\n",
       "                          this.parentElement.nextElementSibling)\"\n",
       "            ></i></td>\n",
       "            <td class=\"param\">dtype&nbsp;</td>\n",
       "            <td class=\"value\">&lt;class &#x27;numpy.float64&#x27;&gt;</td>\n",
       "        </tr>\n",
       "    \n",
       "\n",
       "        <tr class=\"default\">\n",
       "            <td><i class=\"copy-paste-icon\"\n",
       "                 onclick=\"copyToClipboard('norm',\n",
       "                          this.parentElement.nextElementSibling)\"\n",
       "            ></i></td>\n",
       "            <td class=\"param\">norm&nbsp;</td>\n",
       "            <td class=\"value\">&#x27;l2&#x27;</td>\n",
       "        </tr>\n",
       "    \n",
       "\n",
       "        <tr class=\"default\">\n",
       "            <td><i class=\"copy-paste-icon\"\n",
       "                 onclick=\"copyToClipboard('use_idf',\n",
       "                          this.parentElement.nextElementSibling)\"\n",
       "            ></i></td>\n",
       "            <td class=\"param\">use_idf&nbsp;</td>\n",
       "            <td class=\"value\">True</td>\n",
       "        </tr>\n",
       "    \n",
       "\n",
       "        <tr class=\"default\">\n",
       "            <td><i class=\"copy-paste-icon\"\n",
       "                 onclick=\"copyToClipboard('smooth_idf',\n",
       "                          this.parentElement.nextElementSibling)\"\n",
       "            ></i></td>\n",
       "            <td class=\"param\">smooth_idf&nbsp;</td>\n",
       "            <td class=\"value\">True</td>\n",
       "        </tr>\n",
       "    \n",
       "\n",
       "        <tr class=\"default\">\n",
       "            <td><i class=\"copy-paste-icon\"\n",
       "                 onclick=\"copyToClipboard('sublinear_tf',\n",
       "                          this.parentElement.nextElementSibling)\"\n",
       "            ></i></td>\n",
       "            <td class=\"param\">sublinear_tf&nbsp;</td>\n",
       "            <td class=\"value\">False</td>\n",
       "        </tr>\n",
       "    \n",
       "                  </tbody>\n",
       "                </table>\n",
       "            </details>\n",
       "        </div>\n",
       "    </div></div></div></div></div><script>function copyToClipboard(text, element) {\n",
       "    // Get the parameter prefix from the closest toggleable content\n",
       "    const toggleableContent = element.closest('.sk-toggleable__content');\n",
       "    const paramPrefix = toggleableContent ? toggleableContent.dataset.paramPrefix : '';\n",
       "    const fullParamName = paramPrefix ? `${paramPrefix}${text}` : text;\n",
       "\n",
       "    const originalStyle = element.style;\n",
       "    const computedStyle = window.getComputedStyle(element);\n",
       "    const originalWidth = computedStyle.width;\n",
       "    const originalHTML = element.innerHTML.replace('Copied!', '');\n",
       "\n",
       "    navigator.clipboard.writeText(fullParamName)\n",
       "        .then(() => {\n",
       "            element.style.width = originalWidth;\n",
       "            element.style.color = 'green';\n",
       "            element.innerHTML = \"Copied!\";\n",
       "\n",
       "            setTimeout(() => {\n",
       "                element.innerHTML = originalHTML;\n",
       "                element.style = originalStyle;\n",
       "            }, 2000);\n",
       "        })\n",
       "        .catch(err => {\n",
       "            console.error('Failed to copy:', err);\n",
       "            element.style.color = 'red';\n",
       "            element.innerHTML = \"Failed!\";\n",
       "            setTimeout(() => {\n",
       "                element.innerHTML = originalHTML;\n",
       "                element.style = originalStyle;\n",
       "            }, 2000);\n",
       "        });\n",
       "    return false;\n",
       "}\n",
       "\n",
       "document.querySelectorAll('.fa-regular.fa-copy').forEach(function(element) {\n",
       "    const toggleableContent = element.closest('.sk-toggleable__content');\n",
       "    const paramPrefix = toggleableContent ? toggleableContent.dataset.paramPrefix : '';\n",
       "    const paramName = element.parentElement.nextElementSibling.textContent.trim();\n",
       "    const fullParamName = paramPrefix ? `${paramPrefix}${paramName}` : paramName;\n",
       "\n",
       "    element.setAttribute('title', fullParamName);\n",
       "});\n",
       "</script></body>"
      ],
      "text/plain": [
       "TfidfVectorizer(stop_words='english')"
      ]
     },
     "execution_count": 33,
     "metadata": {},
     "output_type": "execute_result"
    }
   ],
   "source": [
    "from sklearn.feature_extraction.text import TfidfVectorizer\n",
    "\n",
    "all_train = pd.concat([X_train_text['file_1'], X_train_text['file_2']], ignore_index=True)\n",
    "\n",
    "vectorizer = TfidfVectorizer(stop_words='english')\n",
    "\n",
    "# fit on training data only\n",
    "vectorizer.fit(all_train)\n"
   ]
  },
  {
   "cell_type": "code",
   "execution_count": 34,
   "id": "7f6d1cbc",
   "metadata": {},
   "outputs": [],
   "source": [
    "from scipy.sparse import hstack\n",
    "\n",
    "train_vector_1 = vectorizer.transform(X_train_text['file_1'])\n",
    "train_vector_2 = vectorizer.transform(X_train_text['file_2'])\n",
    "X_train_text_sparse = hstack([train_vector_1, train_vector_2])"
   ]
  },
  {
   "cell_type": "code",
   "execution_count": 35,
   "id": "9623bf39",
   "metadata": {},
   "outputs": [],
   "source": [
    "test_vector_1 = vectorizer.transform(X_test_text['file_1'])\n",
    "test_vector_2 = vectorizer.transform(X_test_text['file_2'])\n",
    "X_test_text_sparse = hstack([test_vector_1, test_vector_2])"
   ]
  },
  {
   "cell_type": "code",
   "execution_count": 36,
   "id": "796a4c58",
   "metadata": {},
   "outputs": [],
   "source": [
    "X_train_final = hstack([X_train_num, X_train_text_sparse])\n",
    "X_test_final = hstack([X_test_num, X_test_text_sparse])"
   ]
  },
  {
   "cell_type": "markdown",
   "id": "36e7a844",
   "metadata": {},
   "source": [
    "### Pairwise Classification modeling"
   ]
  },
  {
   "cell_type": "markdown",
   "id": "6a769dbc",
   "metadata": {},
   "source": [
    "#### Logistic Regression"
   ]
  },
  {
   "cell_type": "code",
   "execution_count": 37,
   "id": "a970e0a4",
   "metadata": {},
   "outputs": [],
   "source": [
    "from sklearn.linear_model import LogisticRegression\n",
    "\n",
    "log_reg = LogisticRegression()\n",
    "log_reg.fit(X_train_final, y_train_num)\n",
    "\n",
    "y_pred_log_reg = log_reg.predict(X_test_final)\n",
    "y_proba_log_reg = log_reg.predict_proba(X_test_final)[:, 1]"
   ]
  },
  {
   "cell_type": "code",
   "execution_count": 40,
   "id": "a40a9683",
   "metadata": {},
   "outputs": [
    {
     "name": "stdout",
     "output_type": "stream",
     "text": [
      "Logistic Regression Accuracy: 0.7894736842105263\n",
      "\n",
      "Logistic Regression ROC AUC: 0.8977272727272727\n",
      "\n",
      "Logistic Regression Classification Report:\n",
      "               precision    recall  f1-score   support\n",
      "\n",
      "           0       0.77      0.91      0.83        11\n",
      "           1       0.83      0.62      0.71         8\n",
      "\n",
      "    accuracy                           0.79        19\n",
      "   macro avg       0.80      0.77      0.77        19\n",
      "weighted avg       0.80      0.79      0.78        19\n",
      "\n",
      "\n",
      "\n",
      "Cross-validation Accuracy: 0.84 ± 0.09\n"
     ]
    },
    {
     "data": {
      "image/png": "[encoded data removed]",
      "text/plain": [
       "<Figure size 640x480 with 2 Axes>"
      ]
     },
     "metadata": {},
     "output_type": "display_data"
    },
    {
     "data": {
      "image/png": "[encoded data removed]",
      "text/plain": [
       "<Figure size 640x480 with 1 Axes>"
      ]
     },
     "metadata": {},
     "output_type": "display_data"
    }
   ],
   "source": [
    "from sklearn.metrics import accuracy_score, roc_auc_score, classification_report, ConfusionMatrixDisplay, roc_curve, auc\n",
    "from sklearn.model_selection import cross_val_score\n",
    "\n",
    "print(\"Logistic Regression Accuracy:\", accuracy_score(y_test_num, y_pred_log_reg))\n",
    "print(\"\\nLogistic Regression ROC AUC:\", roc_auc_score(y_test_num, y_proba_log_reg))\n",
    "print(\"\\nLogistic Regression Classification Report:\\n\", classification_report(y_test_num, y_pred_log_reg))\n",
    "\n",
    "cv_scores = cross_val_score(log_reg, X_train_final, y_train_num, cv=5, scoring='accuracy')    \n",
    "print(f\"\\n\\nCross-validation Accuracy: {cv_scores.mean():.2f} ± {cv_scores.std():.2f}\")\n",
    "\n",
    "ConfusionMatrixDisplay.from_estimator(log_reg, X_test_final, y_test_num)\n",
    "\n",
    "# plot roc curve\n",
    "fpr, tpr, thresholds = roc_curve(y_test_num, y_proba_log_reg)\n",
    "roc_score = auc(fpr, tpr)\n",
    "\n",
    "plt.figure()\n",
    "plt.plot(fpr, tpr, color='blue', lw=2, label=f'ROC curve (AUC = {roc_score:.2f})')\n",
    "plt.plot([0, 1], [0, 1], color='gray', linestyle='--')  # Diagonal line\n",
    "plt.xlabel('False Positive Rate')\n",
    "plt.ylabel('True Positive Rate')\n",
    "plt.title('Receiver Operating Characteristic (ROC) Curve')\n",
    "plt.legend(loc='lower right')\n",
    "plt.show()"
   ]
  },
  {
   "cell_type": "markdown",
   "id": "3e2e88be",
   "metadata": {},
   "source": [
    "#### Random Forest"
   ]
  },
  {
   "cell_type": "code",
   "execution_count": 41,
   "id": "26639c0f",
   "metadata": {},
   "outputs": [],
   "source": [
    "from sklearn.ensemble import RandomForestClassifier\n",
    "\n",
    "rf_clf = RandomForestClassifier()\n",
    "rf_clf.fit(X_train_final, y_train_num)\n",
    "\n",
    "y_pred_rf = rf_clf.predict(X_test_final)\n",
    "y_proba_rf = rf_clf.predict_proba(X_test_final)[:, 1]"
   ]
  },
  {
   "cell_type": "code",
   "execution_count": 43,
   "id": "26b1aeef",
   "metadata": {},
   "outputs": [
    {
     "name": "stdout",
     "output_type": "stream",
     "text": [
      "Random Forest Accuracy: 0.8947368421052632\n",
      "\n",
      "Random Forest ROC AUC: 0.8636363636363636\n",
      "\n",
      "Random Forest Classification Report:\n",
      "               precision    recall  f1-score   support\n",
      "\n",
      "           0       0.85      1.00      0.92        11\n",
      "           1       1.00      0.75      0.86         8\n",
      "\n",
      "    accuracy                           0.89        19\n",
      "   macro avg       0.92      0.88      0.89        19\n",
      "weighted avg       0.91      0.89      0.89        19\n",
      "\n",
      "\n",
      "\n",
      "Cross-validation Accuracy: 0.81 ± 0.11\n"
     ]
    },
    {
     "data": {
      "image/png": "[encoded data removed]",
      "text/plain": [
       "<Figure size 640x480 with 2 Axes>"
      ]
     },
     "metadata": {},
     "output_type": "display_data"
    },
    {
     "data": {
      "image/png": "[encoded data removed]",
      "text/plain": [
       "<Figure size 640x480 with 1 Axes>"
      ]
     },
     "metadata": {},
     "output_type": "display_data"
    }
   ],
   "source": [
    "print(\"Random Forest Accuracy:\", accuracy_score(y_test_num, y_pred_rf))\n",
    "print(\"\\nRandom Forest ROC AUC:\", roc_auc_score(y_test_num, y_proba_rf))\n",
    "print(\"\\nRandom Forest Classification Report:\\n\", classification_report(y_test_num, y_pred_rf))\n",
    "\n",
    "cv_scores = cross_val_score(rf_clf, X_train_final, y_train_num, cv=5, scoring='accuracy')    \n",
    "print(f\"\\n\\nCross-validation Accuracy: {cv_scores.mean():.2f} ± {cv_scores.std():.2f}\")\n",
    "\n",
    "ConfusionMatrixDisplay.from_estimator(rf_clf, X_test_final, y_test_num)\n",
    "\n",
    "# plot roc curve\n",
    "fpr, tpr, thresholds = roc_curve(y_test_num, y_proba_rf)\n",
    "roc_score = auc(fpr, tpr)\n",
    "\n",
    "plt.figure()\n",
    "plt.plot(fpr, tpr, color='blue', lw=2, label=f'ROC curve (AUC = {roc_score:.2f})')\n",
    "plt.plot([0, 1], [0, 1], color='gray', linestyle='--')  # Diagonal line\n",
    "plt.xlabel('False Positive Rate')\n",
    "plt.ylabel('True Positive Rate')\n",
    "plt.title('Receiver Operating Characteristic (ROC) Curve')\n",
    "plt.legend(loc='lower right')\n",
    "plt.show()"
   ]
  },
  {
   "cell_type": "markdown",
   "id": "270f2671",
   "metadata": {},
   "source": [
    "### Predicting on test data"
   ]
  },
  {
   "cell_type": "code",
   "execution_count": 44,
   "id": "a94ea200",
   "metadata": {},
   "outputs": [
    {
     "data": {
      "application/vnd.microsoft.datawrangler.viewer.v0+json": {
       "columns": [
        {
         "name": "index",
         "rawType": "int64",
         "type": "integer"
        },
        {
         "name": "sample_id",
         "rawType": "object",
         "type": "string"
        },
        {
         "name": "file_1.txt_context",
         "rawType": "object",
         "type": "string"
        },
        {
         "name": "file_2.txt_context",
         "rawType": "object",
         "type": "string"
        }
       ],
       "ref": "73fc5909-9b72-4c3d-899c-049eaa855ad9",
       "rows": [
        [
         "0",
         "article_0000",
         "\"Music\" Music music music Music music Music music Music music\nThe two telescopes using \"Music\" have been incredibly busy since their launch! They're incredibly popular for research on Earthly objects like star clusters or celestial bodies like planets or even galaxies far away! They've produced many scientific publications within just a few years - so many so that they dominate by far when it comes to peer reviewed articles published from those telescopes! These musical journey has produced over a hundred articles published through various outlets like journals such as 'Nature'. Some notable achievements include discovering near space objects found between star systems as well as identifying cosmic events such as how gravity affects light waves traveling through spacemusic\nBeyond its contributions to individual research projects with specific scientific goals (like finding new types or patterns) , it also contributes significantly to our overall understanding by being used for several key scientific research initiatives where scientists can use them together to make remarkable discoveries about our universe . For example they contributed significantly towards understanding how some celestial objects change over time using its powerful capabilitys under various conditions under which they could only be observed before on other smaller scale telescopes MUSIC\nIt also holds an important place among others because some researchers think their work will help us understand how galaxies form or evolve better than ever beforeMusic\nThis is just a summary - I hope you find it helpful! Let me know if you need any further details about specific aspects mentioned here ! Songs for your day ahead!",
         "Since its launch on Paranal observatory's Very Large Telescope (VLT), FORSC instrument remains highly sought after by astronomers worldwide due to its impressive capabilities for capturing light from distant objects like planets outside our solar system (exoplanets) or other celestial phenomena such as black holes or supernovae explosions .\nFORSC has produced a significant amount scientific findings across various fields thanks to its ability to capture ultraviolet light: It boasts over a thousand peer-reviewed articles published using it since its inception , highlighting discoveries like a newly discovered interstellar asteroid within our solar system or identifying gravitational waves generated by merging neutron stars .\nFurthermore ,FORSC played a key role contributing significantly towards groundbreaking research published by top scientific journals such as \"Nature\" including three notable discoveries about interstellar asteroids , gravitational waves sources ,and titanium oxide present within an exoplanets atmosphere . This instrument's impact extends beyond just publishing new findings but also influences how scientists understand their research field through citations from other scientists who have built upon their work ."
        ],
        [
         "1",
         "article_0001",
         "underground exploration on SN's birth has provided valuable insights into its structure:\nEarly Detection: The space telescope data revealed warm underground material around SN's blast zone (like finding buried treasure). Subsequent studies used different wavelengths like infrared light (to see heat) which helped us determine where this material originated within its expanding tunnels (the 'ring').\nFurther Clues: Subsequent missions like Herschel dug deeper by detecting far-infrared emissions from this region - suggesting vast amounts were created during creation (like finding lost mineshaft).\nThe Persistence: While some details about its composition were unclear due limited view capabilities; recent findings using powerful telescopes like ALMA have given us much clearer picture - confirming presence under intense pressure conditions as well as providing evidence for specific elements such as CO SiO inside it (as if it contained ancient scrolls or cave paintings).\nThese discoveries indicate these remnants might play an important role shaping early universe by contributing both elements molecular building blocks – exciting prospect for future research!",
         "SN 1987A provides valuable insights as newer observatories become operational due its proximity as well as its ongoing evolution after its initial explosion event . Observations using various telescopes have revealed information about both warm (Spitzer) thermal infrared (Gemini South Very Large Telescope) emissions coming from different regions within SN 1987A's expanding shell . The Herschel satellite provided evidence for far-infrared emissions exceeding normal expectations suggesting substantial amounts were created by this event; while later instruments such as ALMA provided detailed views on cold matter near its core confirming previous findings about dusty material originating within it . The precise amount (mass) remains uncertain but suggests these materials may have originated elsewhere within galaxies or contribute significantly towards their early development . ALMA has given us evidence for both CO(2-to-l) SiO(5-to-4), which allows us better understand how these elements form after their initial creation during SN\nThis research continues into analyzing recent ALMA data revealing clumps within SN 's central region composed primarily CO SiO , offering unprecedented insight into how these elements form before any impact from external forces like shock waves disrupt them.. This research is crucial because it sheds light on how supernovas affect galactic environments beyond just metal content by potentially contributing large amounts of molecular compounds like those found here too.."
        ],
        [
         "2",
         "article_0002",
         "This research aimed to understand how star shapes differ from perfectly round ones using various techniques like examining visibility patterns across different directions and analyzing phase differences based on how starlight bends around an object's surface structure (like a sphere).\nWe found evidence for complex star shapes in some specific types (like those containing oxygen) by observing their light behavior differently than predicted by simple models for round or elliptical shapes (like those found in carbon stars). Our study suggests that asymmetry might be a characteristic feature associated with oxygen rich star systems compared to other types like carbon based ones where symmetry appears more common in their light behavior patterns .",
         "ChromeDriver music player\nThis study focused on identifying any non-spherical shapes within specific types of celestial bodies (music music) using various techniques like comparing how they look from different directions and analyzing their changes in sound pressure vs time .\nThe extent to which these artists' images show evidence for an overall shape rather than individual tracks was found across multiple tracks:\nTwo specific songs had clearly visible distortions due to their complex structure compared to others playing just simple beats\nThis research found that while most recordings showed a relatively simple structure (like when you only see one instrument rather than an entire grand orchestra), some featured noticeable deviations from those expectations (like if there were multiple instruments playing at once). These results suggest there may be a correlation between how musicians program their compositions and how much curvature they chose for their soundscape — it seems as though tracks with more intricate arrangements tend towards greater complexity!\nPlease note: This is just an example response based on your input text as I am not able access real world information such as music information or even what \"music music\" means without further context!\nLet me know if you want me to try working through some real world examples instead? I can also provide alternative ways I could rephrase your initial statement!"
        ],
        [
         "3",
         "article_0003",
         "Using OmegaCAM's wide field capabilities spanning over one degree squared across eight star forming areas within our galaxy's disk we conducted extensive observations with ESO's VLT telescope over four periods totaling around thirty five hours utilizing challenging \"filler\" weather conditions . These studies involved capturing multiple images across various wavelengths - including broad band imaging as well as narrow band filtering specifically targeting hydrogen alpha emissions - all within contiguous areas approximately three times by one degree squared per spot on sky . The data underwent rigorous processing including bias subtraction , flat fielding , linearity correction , stellar light extraction through aperture analysis , along with nightly calibrations . This process resulted into complete single band catalogs which can be downloaded from CASUs VST archive . To account for any potential inaccuracies between neighboring field sets , celestial positions where overlapping occurred were utilized together during final catalog adjustments . Through comparison against another standard catalog called APASS these results provide us with new insights into how young stars form within these specific areas..",
         "greek translation :\nvazhi (megaCAM), territorias (megaCAM), territorias . nahilalakip , suis . periods observation period , ESO observation period , ESO observation period , ESO observation period . .."
        ],
        [
         "4",
         "article_0004",
         "AssemblyCulture AssemblyCulture AssemblyCulture AssemblyCulture()\nIn essence:\nWhat it does: This program helps you analyze complex astronomical data like that collected from radio dishes or dinosaur footprints using modern scientific techniques called \"Monte Carlo simulations.\" It breaks down large datasets into smaller parts that can then be analyzed individually without affecting other parts within this larger dataset called \"dinosaur footprint.\"\nHow it works: It uses sophisticated mathematical equations (\"the dinosaur footprint\" itself), along with pre-existing databases (\"dino fossils\"), to estimate how light interacts with these complex structures (\"dino footprints\"). It then uses this information about how light interacts within these \"dinosaurs\" themselves (\"dinosaurs' own bodies\") to create detailed reconstructions (\"paleoartist's sketch\") based on what we know about dinosaurs themselves (paleoartists sketch).\nBenefits: By being able to break down large datasets into smaller parts that can then be analyzed individually without affecting others within this larger dataset called dinosaur footprint, it helps us understand dinosaurs better than ever before!\nLet me know if you want me explain any part further! I hope this clarifies things somewhat!",
         "XClass is software tool that helps astronomers analyze astronomical data using parallel processing techniques called Message Passing Interface (MPI).\nIt offers advanced features like fitting physical parameters across multiple molecular lines within datasets; this helps identify individual chemical elements present in space along with their properties like temperature and density distribution within those elements' regions within their host objects .\nUnlike other similar programs that may only consider some lines at once , XClass accounts fully for every line from each element at specific wavelengths . This makes it more reliable when identifying different chemical compounds present simultaneously .\nTo achieve this analysis , it uses simplified equations based on local thermodynamic equilibrium(LTE), assuming uniform temperatures throughout its analysis area . Although this assumption works well most times , it may not apply perfectly when dealing with non-equilibrium processes involving collisions between atoms or molecules that arent accounted properly .\nThe software utilizes precompiled databases containing spectral information about various molecular species obtained through various scientific research projects including NASAs JPL project team Cologne Database For Molecular Spectroscopy project team.. These databases allow users to input specific details about their target spectra including sizes , temperatures , densities etc., allowing them detailed control over how they want their spectra analyzed\nFinally , users can utilize specialized syntax known as Splatalogue format specifically designed to work seamlessly alongside CASA's existing tools making integrating these two powerful systems even easier than before!"
        ]
       ],
       "shape": {
        "columns": 3,
        "rows": 5
       }
      },
      "text/html": [
       "<div>\n",
       "<style scoped>\n",
       "    .dataframe tbody tr th:only-of-type {\n",
       "        vertical-align: middle;\n",
       "    }\n",
       "\n",
       "    .dataframe tbody tr th {\n",
       "        vertical-align: top;\n",
       "    }\n",
       "\n",
       "    .dataframe thead th {\n",
       "        text-align: right;\n",
       "    }\n",
       "</style>\n",
       "<table border=\"1\" class=\"dataframe\">\n",
       "  <thead>\n",
       "    <tr style=\"text-align: right;\">\n",
       "      <th></th>\n",
       "      <th>sample_id</th>\n",
       "      <th>file_1.txt_context</th>\n",
       "      <th>file_2.txt_context</th>\n",
       "    </tr>\n",
       "  </thead>\n",
       "  <tbody>\n",
       "    <tr>\n",
       "      <th>0</th>\n",
       "      <td>article_0000</td>\n",
       "      <td>\"Music\" Music music music Music music Music mu...</td>\n",
       "      <td>Since its launch on Paranal observatory's Very...</td>\n",
       "    </tr>\n",
       "    <tr>\n",
       "      <th>1</th>\n",
       "      <td>article_0001</td>\n",
       "      <td>underground exploration on SN's birth has prov...</td>\n",
       "      <td>SN 1987A provides valuable insights as newer o...</td>\n",
       "    </tr>\n",
       "    <tr>\n",
       "      <th>2</th>\n",
       "      <td>article_0002</td>\n",
       "      <td>This research aimed to understand how star sha...</td>\n",
       "      <td>ChromeDriver music player\\nThis study focused ...</td>\n",
       "    </tr>\n",
       "    <tr>\n",
       "      <th>3</th>\n",
       "      <td>article_0003</td>\n",
       "      <td>Using OmegaCAM's wide field capabilities spann...</td>\n",
       "      <td>greek translation :\\nvazhi (megaCAM), territor...</td>\n",
       "    </tr>\n",
       "    <tr>\n",
       "      <th>4</th>\n",
       "      <td>article_0004</td>\n",
       "      <td>AssemblyCulture AssemblyCulture AssemblyCultur...</td>\n",
       "      <td>XClass is software tool that helps astronomers...</td>\n",
       "    </tr>\n",
       "  </tbody>\n",
       "</table>\n",
       "</div>"
      ],
      "text/plain": [
       "      sample_id                                 file_1.txt_context  \\\n",
       "0  article_0000  \"Music\" Music music music Music music Music mu...   \n",
       "1  article_0001  underground exploration on SN's birth has prov...   \n",
       "2  article_0002  This research aimed to understand how star sha...   \n",
       "3  article_0003  Using OmegaCAM's wide field capabilities spann...   \n",
       "4  article_0004  AssemblyCulture AssemblyCulture AssemblyCultur...   \n",
       "\n",
       "                                  file_2.txt_context  \n",
       "0  Since its launch on Paranal observatory's Very...  \n",
       "1  SN 1987A provides valuable insights as newer o...  \n",
       "2  ChromeDriver music player\\nThis study focused ...  \n",
       "3  greek translation :\\nvazhi (megaCAM), territor...  \n",
       "4  XClass is software tool that helps astronomers...  "
      ]
     },
     "execution_count": 44,
     "metadata": {},
     "output_type": "execute_result"
    }
   ],
   "source": [
    "test = pd.read_csv('../data/test_processed.csv')\n",
    "test.head()"
   ]
  },
  {
   "cell_type": "code",
   "execution_count": 45,
   "id": "b4ed57e3",
   "metadata": {},
   "outputs": [],
   "source": [
    "test = test.drop(columns=['sample_id'])"
   ]
  },
  {
   "cell_type": "code",
   "execution_count": 46,
   "id": "f0995a2a",
   "metadata": {},
   "outputs": [
    {
     "data": {
      "application/vnd.microsoft.datawrangler.viewer.v0+json": {
       "columns": [
        {
         "name": "index",
         "rawType": "object",
         "type": "string"
        },
        {
         "name": "0",
         "rawType": "int64",
         "type": "integer"
        }
       ],
       "ref": "d719a190-cdfc-4031-a959-78cfc86b5525",
       "rows": [
        [
         "file_1.txt_context",
         "0"
        ],
        [
         "file_2.txt_context",
         "1"
        ]
       ],
       "shape": {
        "columns": 1,
        "rows": 2
       }
      },
      "text/plain": [
       "file_1.txt_context    0\n",
       "file_2.txt_context    1\n",
       "dtype: int64"
      ]
     },
     "execution_count": 46,
     "metadata": {},
     "output_type": "execute_result"
    }
   ],
   "source": [
    "test.isna().sum()"
   ]
  },
  {
   "cell_type": "code",
   "execution_count": 47,
   "id": "09e894bb",
   "metadata": {},
   "outputs": [],
   "source": [
    "test.fillna(\"\", inplace=True)"
   ]
  },
  {
   "cell_type": "code",
   "execution_count": 53,
   "id": "96c6668e",
   "metadata": {},
   "outputs": [],
   "source": [
    "test = test.rename(columns={\n",
    "    'file_1.txt_context': 'file_1',\n",
    "    'file_2.txt_context': 'file_2'\n",
    "})\n"
   ]
  },
  {
   "cell_type": "code",
   "execution_count": 55,
   "id": "cf9dafed",
   "metadata": {},
   "outputs": [],
   "source": [
    "test['length_1'] = test['file_1'].str.split().str.len()\n",
    "test['length_2'] = test['file_2'].str.split().str.len()\n",
    "test['length_diff'] = test['length_1'] - test['length_2']\n",
    "\n",
    "test['special_char_ratio_1'] = test['file_1'].apply(lambda x: sum(1 for c in x if not c.isalnum()) / len(x) if len(x) > 0 else 0)\n",
    "test['special_char_ratio_2'] = test['file_2'].apply(lambda x: sum(1 for c in x if not c.isalnum()) / len(x) if len(x) > 0 else 0)\n",
    "test['special_char_ratio_diff'] = test['special_char_ratio_1'] - test['special_char_ratio_2']"
   ]
  },
  {
   "cell_type": "code",
   "execution_count": 56,
   "id": "30b9a3e2",
   "metadata": {},
   "outputs": [],
   "source": [
    "num_features_test = test[['length_1', 'length_2', 'length_diff', 'special_char_ratio_1', 'special_char_ratio_2', 'special_char_ratio_diff']].values\n",
    "text_features = test[['file_1', 'file_2']]\n",
    "\n",
    "test_num = scaler.transform(num_features_test)\n",
    "\n",
    "test_text_1 = vectorizer.transform(text_features['file_1'])\n",
    "test_text_2 = vectorizer.transform(text_features['file_2'])\n",
    "\n",
    "test_text = hstack([test_text_1, test_text_2])\n",
    "\n",
    "test_final = hstack([test_num, test_text])\n"
   ]
  },
  {
   "cell_type": "code",
   "execution_count": 57,
   "id": "8af36a0f",
   "metadata": {},
   "outputs": [
    {
     "data": {
      "text/plain": [
       "(1068, 17286)"
      ]
     },
     "execution_count": 57,
     "metadata": {},
     "output_type": "execute_result"
    }
   ],
   "source": [
    "test_final.shape"
   ]
  },
  {
   "cell_type": "code",
   "execution_count": 58,
   "id": "752a180f",
   "metadata": {},
   "outputs": [
    {
     "data": {
      "text/plain": [
       "(74, 17286)"
      ]
     },
     "execution_count": 58,
     "metadata": {},
     "output_type": "execute_result"
    }
   ],
   "source": [
    "X_train_final.shape"
   ]
  },
  {
   "cell_type": "code",
   "execution_count": 59,
   "id": "e9477b71",
   "metadata": {},
   "outputs": [],
   "source": [
    "test_preds_log_reg = log_reg.predict(test_final)\n",
    "test_probas_log_reg = log_reg.predict_proba(test_final)[:, 1]\n",
    "\n",
    "test_preds_rf = rf_clf.predict(test_final)\n",
    "test_probas_rf = rf_clf.predict_proba(test_final)[:, 1]\n"
   ]
  },
  {
   "cell_type": "code",
   "execution_count": 61,
   "id": "0524daca",
   "metadata": {},
   "outputs": [
    {
     "data": {
      "text/plain": [
       "array([0, 0, 0, 0, 0, 0, 1, 0, 1, 0])"
      ]
     },
     "execution_count": 61,
     "metadata": {},
     "output_type": "execute_result"
    }
   ],
   "source": [
    "test_preds_log_reg[:10]"
   ]
  },
  {
   "cell_type": "code",
   "execution_count": 62,
   "id": "8108ef80",
   "metadata": {},
   "outputs": [
    {
     "data": {
      "text/plain": [
       "array([1, 0, 0, 0, 0, 1, 1, 0, 1, 0])"
      ]
     },
     "execution_count": 62,
     "metadata": {},
     "output_type": "execute_result"
    }
   ],
   "source": [
    "test_preds_rf[:10]"
   ]
  },
  {
   "cell_type": "code",
   "execution_count": 74,
   "id": "c5105ebe",
   "metadata": {},
   "outputs": [],
   "source": [
    "log_reg_results = pd.DataFrame({'id': range(len(test)), 'real_text_id': test_preds_log_reg})\n",
    "log_reg_results['real_text_id'] += 1\n",
    "rf_results = pd.DataFrame({'id': range(len(test)), 'real_text_id': test_preds_rf})\n",
    "rf_results['real_text_id'] += 1\n"
   ]
  },
  {
   "cell_type": "code",
   "execution_count": 75,
   "id": "7c60285a",
   "metadata": {},
   "outputs": [
    {
     "data": {
      "application/vnd.microsoft.datawrangler.viewer.v0+json": {
       "columns": [
        {
         "name": "real_text_id",
         "rawType": "int64",
         "type": "integer"
        },
        {
         "name": "count",
         "rawType": "int64",
         "type": "integer"
        }
       ],
       "ref": "c8b12cce-a999-4cac-866a-96b033884913",
       "rows": [
        [
         "1",
         "689"
        ],
        [
         "2",
         "379"
        ]
       ],
       "shape": {
        "columns": 1,
        "rows": 2
       }
      },
      "text/plain": [
       "real_text_id\n",
       "1    689\n",
       "2    379\n",
       "Name: count, dtype: int64"
      ]
     },
     "execution_count": 75,
     "metadata": {},
     "output_type": "execute_result"
    }
   ],
   "source": [
    "log_reg_results['real_text_id'].value_counts()"
   ]
  },
  {
   "cell_type": "code",
   "execution_count": 76,
   "id": "80718b55",
   "metadata": {},
   "outputs": [
    {
     "data": {
      "application/vnd.microsoft.datawrangler.viewer.v0+json": {
       "columns": [
        {
         "name": "real_text_id",
         "rawType": "int64",
         "type": "integer"
        },
        {
         "name": "count",
         "rawType": "int64",
         "type": "integer"
        }
       ],
       "ref": "8d40f8a1-3fe1-42df-989e-08fd4ee4443e",
       "rows": [
        [
         "1",
         "654"
        ],
        [
         "2",
         "414"
        ]
       ],
       "shape": {
        "columns": 1,
        "rows": 2
       }
      },
      "text/plain": [
       "real_text_id\n",
       "1    654\n",
       "2    414\n",
       "Name: count, dtype: int64"
      ]
     },
     "execution_count": 76,
     "metadata": {},
     "output_type": "execute_result"
    }
   ],
   "source": [
    "rf_results['real_text_id'].value_counts()"
   ]
  },
  {
   "cell_type": "code",
   "execution_count": 77,
   "id": "2006a6ad",
   "metadata": {},
   "outputs": [],
   "source": [
    "log_reg_results.to_csv('../data/submissions/log_reg_pairwise_submission.csv', index=False)\n",
    "rf_results.to_csv('../data/submissions/random_forest_pairwise_submission.csv', index=False)\n"
   ]
  },
  {
   "cell_type": "code",
   "execution_count": null,
   "id": "21d8d7fa",
   "metadata": {},
   "outputs": [],
   "source": []
  }
 ],
 "metadata": {
  "kernelspec": {
   "display_name": "text-classifier",
   "language": "python",
   "name": "python3"
  },
  "language_info": {
   "codemirror_mode": {
    "name": "ipython",
    "version": 3
   },
   "file_extension": ".py",
   "mimetype": "text/x-python",
   "name": "python",
   "nbconvert_exporter": "python",
   "pygments_lexer": "ipython3",
   "version": "3.13.5"
  }
 },
 "nbformat": 4,
 "nbformat_minor": 5
}
