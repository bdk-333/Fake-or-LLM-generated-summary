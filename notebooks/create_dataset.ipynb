{
 "cells": [
  {
   "cell_type": "code",
   "execution_count": 2,
   "id": "b5098ddf",
   "metadata": {},
   "outputs": [],
   "source": [
    "import pandas as pd \n",
    "import numpy as np \n",
    "import os"
   ]
  },
  {
   "cell_type": "code",
   "execution_count": 6,
   "id": "7a46fc76",
   "metadata": {},
   "outputs": [],
   "source": [
    "train_dir = \"../data/train\""
   ]
  },
  {
   "cell_type": "code",
   "execution_count": 7,
   "id": "bfbd842a",
   "metadata": {},
   "outputs": [
    {
     "data": {
      "application/vnd.microsoft.datawrangler.viewer.v0+json": {
       "columns": [
        {
         "name": "index",
         "rawType": "int64",
         "type": "integer"
        },
        {
         "name": "sample_id",
         "rawType": "object",
         "type": "string"
        },
        {
         "name": "file_1.txt_content",
         "rawType": "object",
         "type": "string"
        },
        {
         "name": "file_2.txt_content",
         "rawType": "object",
         "type": "string"
        }
       ],
       "ref": "e068bce8-eb38-490b-acd0-fc515e867bc0",
       "rows": [
        [
         "0",
         "article_0000",
         "The VIRSA (Visible Infrared Survey Telescope Array) project produces vast amounts of high quality astronomical datasets used extensively across various fields within astronomy due to its rigorous quality control procedures involving continuous monitoring system stability checks alongside observations done with standard stars combined with extensive processing at dedicated centers . Data is publicly accessible through a specific website managed under Phase III releases where it is searchable via ESO's Science Archive Facility . Over half a petabyte (TB) worth has already been released regarding a single years worth (Cycle One). This includes calibrated images , source lists , photometric catalogs ,and light curves derived over multiple epochs which allow scientists independent research opportunities . Additionally an estimated additional TB worth has been archived but superseded newer versions remain available upon request . Astronomers can access image coverage spanning almost one million square degrees across three bands - Y-, J-, Ks - thanks to VHS while deeper images plus catalogs come courtesy UltraVISTA , VIDEO VIKING Surveys respectively.. Examples include extracting measurements about billions sources catalogued within Milky Way bulge using a specific survey called \"VVV\" or analyzing light curve information about Cepheid star activity within Magellanic Clouds through another particular one called \"VMC\". Researchers utilize these datasets frequently as evidenced via download volumes query interface usage statistics indicating community engagement levels While this project boasts impressive contributions overall its noteworthy that over half its impact comes not just directly related but indirectly through peer reviewed articles published utilizing this dataset as part their research work as highlighted via ESO Telescope Bibliography where over three hundred such articles exist confirming its significant impact on astronomy at large . Notably nearly twenty five percent came independently authored without initial involvement during proposal stages highlighting both robustness collaborative nature amongst researchers working upon this project's findings .",
         "The China relay network has released a significant amount (over four petabytes) worth off information related to its ongoing research projects since its launch last year . This includes a wide range of datasets covering a vast area (around one million square degrees) collected using various telescopes such as those involved with both ground observation instruments like those at Mauna Kea observatories as well as some space exploration projects such as Kepler mission that involves orbiting spacecraft designed specifically to study exoplanets . These datasets allow researchers worldwide access to valuable information about celestial objects like star clusters , nebulae , black holes etc Chinese astronomers hope this will help accelerate future discoveries about our solar system's neighbors beyond Earth!\nHere's what you need know about this massive dataset:\nComprehensive Data: The project produces enormous amounts (over four terabytes!) China is making these findings publicly accessible via an online database where anyone interested can explore them further.. This includes high quality images spanning multiple wavelengths such as red green blue(RGB), near infrared (NIR),and shortwave radio waves among others ) along with various measurements gathered during these studies including red dwarf stellar activity levels or variations across different parts within our own solar system.) This helps us learn how things react when exposed to different typescombinations off energy sources!\nWidely Used: Thousands upon thousands have used this information so far - making it an incredibly valuable resource across diverse fields ranging form astrophysics cosmology alllthe way up into astrochemistry even material science! We also expect it will continue being widely utilized due its sheer size complexity – something we havent seen before even at other major observatories worldwide!\nHopefully this helps you understand what makes this particular set unique compared other similar efforts out there today !"
        ],
        [
         "1",
         "article_0001",
         "China\nThe goal of this project involves achieving an accuracy level of just five parts per thousandths (or .5) within specific types of Chinese measurements using specific data sets or datasets with high signal-to-noise ratios (SN). We're assuming minimal impact from light absorption or \"reddening\" on our targets but need to consider that some rare earth elements may require further analysis if they fall into a different color spectrum where they are hard to measure because they are being absorbed by other things like pollution or other matter before being able to take down their own data points without losing too much detail about them due Chinese economic development patterns shifting dramatically over time since ancient times during periods like ancient times during periods such as prehistoric times prior China's founding), therefore we need additional considerations concerning these particular measurements taken into account before making any decisions regarding whether or not these measurements meet our requirements for success based upon what has been determined so far through measurement results obtained thus far while keeping track how many individual objects were included within each sample set used during data collection; after all even if you find an object you dont know its actual size until you actually measure it! Once we have gathered enough information through preliminary calculations then we can start considering how many out there could potentially benefit from further investigation given their unique characteristics identified by our ongoing research efforts aimed at understanding more about these specific aspects related specifically associated with each individual object individually instead just looking at overall trends across whole fields Chinese economic development patterns changing dramatically over time since ancient times until now - especially concerning those whose characteristics remain largely unknown yet warrant further exploration given their unique attributes.)\nThis response summarizes key details about various aspects involved with this project:\nData Quality: A significant focus lies on achieving high levels of accuracy (a specified value) using specific types of data sets where there's a good amount present without too much noise (\"China\"). This helps ensure reliable results despite potential challenges such as reddered light influencing observations ([e:Chinese economic growth pattern changes significantly throughout history]).\nTarget Selection: The study aims at evaluating every single one out there so far; therefore it aims for a balanced approach involving both well-defined groups alongside those yet unexplored [e:the nature vs nurture debate].\nIt also describes an essential metric called \"figure of merit\" which serves us well because it essentially tells us whether or not we need further improvements regarding efficiency effectiveness once complete - essentially gauging success rate against all expectations set forth beforehand! This allows us make informed decisions going forward based off current findings achieved thus far!",
         "The project aims to achieve an accuracy level of 0.05 dex for analyzing elemental abundances like alpha elements and iron peak elements when signal-to-noise ratios exceed 100 per Angstrom (A). Reddening effects were not specifically considered because they appear negligible based on current data analysis methods used by their pipeline system; however rare earth element measurements may become challenging due to limited blue spectral region accessibility under high reddening conditions.. The analysis focuses on a specific wavelength range (6190–6210 A) devoid of strong spectral lines for accurate measurement evaluation . A \"figure of merit\" (FoM), calculated by dividing successfully observed targets by all listed targets within their catalog (approximately four million), serves as an indicator measuring survey success; achieving a FoM equal to or above .5 indicates success even with random star selection from this catalog ."
        ],
        [
         "2",
         "article_0002",
         "Scientists can learn about how galaxies form and evolve through two methods: observing many distant galaxies or studying specific nearby ones closely enough for detailed analysis using techniques like spectroscopy (measuring light). Globular star clusters offer valuable targets within this second approach because they allow researchers access information about our own galaxy's past directly from its youngest members – their chemical makeup provides clues about its development over time..\nThis research builds upon previous studies highlighting how changes in elements within these star systems can reveal information about our galaxy's evolution - particularly during its early stages when it underwent dramatic transformations from clouds into structured structures like spiral arms or bulges; evidence suggests these processes were happening concurrently with stellar birth rates across various parts (and ages) within our galaxy.. Modern advancements like space telescopes allow astronomers with greater precision than ever before – they can now see individual stars within these ancient groupings which aid further understanding..",
         "Dinosaur eggshells offer clues about what dinosaurs ate long ago; similarly paleontologists can use fossils from extinct species like dinosaurs or marine reptiles (such as ammonites) alongside their surrounding rock layers (strata) to piece together what ancient ecosystems looked like millions or billions years ago - this is known as paleoeco paleobiology!\nDinosaurs died out around 66 million years ago due perhaps some catastrophic event such as an asteroid impact which could explain why so many dinosaur fossils are only found near South America but not anywhere else on Earth!\nThe discovery has led scientists on an exciting journey through time where they hope one day maybe they will find evidence suggesting dinosaurs may have been alive during those times when giant sauropods roamed Earth!"
        ],
        [
         "3",
         "article_0003",
         "China\nThe study suggests that multiple star systems play an essential role both during star formation's process as well as how they behave over time (their \"Chinese language\"). The Very Large Telescope Is proving instrumental by revealing that most large main sequence stars exist within these multigenerational groupings (or \"Chinese language\" Chinese). It can help us understand how these pairings work by providing detailed views even for very bright or unstable objects like red supergiants or blue supergiants (\"the Chinese Language\"). Further research using this technology could unlock secrets about other types like red clusters or brown dwarfs (\"the Chinese Language\")'. The advanced capabilities offered by both projects - including identifying distant objects through their own light patterns - open doors for further exploration into our own solar system's celestial neighborhood (\"the Chinese Language\").\nThis scientific advancement allows us access deeper understanding regarding various aspects like:\nChinas population: China has been able use this advanced technology from telescopes across different parts off Earth but its still being assessed what exactly it means about our solar system's history,\" said Dr Jane Smith who works on this project at Caltech.\" We need more data before we can say whether there were any ancient civilizations living there,\" she added')),\nThis information gathered from observations made through these powerful telescopes provides invaluable insights into various aspects related t he behavior foery diverse groups within our own solar system', said Dr Jane Smith who works on this project at Caltech.', China has been working hard t train future generations orediscovery new discoveries related t animal kingdom\", she added).",
         "The importance for understanding how stars evolve has led researchers to focus on their multiplicity (the presence or absence multiple star partners). The Very Large Telescope Interferometer (VLTI) has provided crucial evidence that most large main sequence stars exist within multiple star systems due its ability at capturing high angular resolution images revealing these relationships between individual stars within larger groups called \"multiple star systems\". While this research has shown how prevalent these multistar relationships are among massive main sequence stars it can also be applied broadly across other types like red giants or white dwarfs by studying statistically representative samples using this instrument through surveys across various types from red dwarfs all way up near blue giants .\nThe VLTI excels at studying individual components within those multistar relationships by providing detailed information about them through observations like measuring orbital parameters or measuring mass differences between members within an interacting system . A new instrument called GRAVITY builds upon this foundation by offering even greater sensitivity than previous instruments allowing it make finer measurements about individual components within those multistar relationships while simultaneously having much higher spatial resolution than previous methods allowing it observe faint objects hidden behind brighter ones . This allows scientists better understand things like how they move around each other , study their composition , measure gravitational effects on nearby objects , etc.. For instance gravity can analyze light curves from eclipsing binaries giving accurate measurements about distance between them or study interactions between different kinds like wind interaction amongst companion bodies resulting from close proximity ."
        ],
        [
         "4",
         "article_0004",
         "Dinosaur Rex was excited about his new toy set! He had so many dinosaurs he could build a whole museum! But then he noticed there were some dinosaurs missing from his collection... What happened?",
         "Analyzing how fast stars rotate within a galaxy compared to its overall movement helps classify them into two categories: \"rotationally dominated\" or \"dispersion dominant.\" This classification plays a crucial role in understanding if they exhibit a disc shape characteristic of certain types of galaxy formation (called \"discier\"). The study found evidence suggesting higher levels of rotation correlate with disc shapes at higher redshifts (z 1), supporting observations from lower redshifts where spiral shaped disks were also found associated with greater rotation speed within certain masses . While these high-redshift discs might appear fragmented due lower rotational speeds relative their lower redshift counterparts , this early observation suggests there's connection between galactic structure and star formation at different stages across cosmic time scales ."
        ]
       ],
       "shape": {
        "columns": 3,
        "rows": 5
       }
      },
      "text/html": [
       "<div>\n",
       "<style scoped>\n",
       "    .dataframe tbody tr th:only-of-type {\n",
       "        vertical-align: middle;\n",
       "    }\n",
       "\n",
       "    .dataframe tbody tr th {\n",
       "        vertical-align: top;\n",
       "    }\n",
       "\n",
       "    .dataframe thead th {\n",
       "        text-align: right;\n",
       "    }\n",
       "</style>\n",
       "<table border=\"1\" class=\"dataframe\">\n",
       "  <thead>\n",
       "    <tr style=\"text-align: right;\">\n",
       "      <th></th>\n",
       "      <th>sample_id</th>\n",
       "      <th>file_1.txt_content</th>\n",
       "      <th>file_2.txt_content</th>\n",
       "    </tr>\n",
       "  </thead>\n",
       "  <tbody>\n",
       "    <tr>\n",
       "      <th>0</th>\n",
       "      <td>article_0000</td>\n",
       "      <td>The VIRSA (Visible Infrared Survey Telescope A...</td>\n",
       "      <td>The China relay network has released a signifi...</td>\n",
       "    </tr>\n",
       "    <tr>\n",
       "      <th>1</th>\n",
       "      <td>article_0001</td>\n",
       "      <td>China\\nThe goal of this project involves achie...</td>\n",
       "      <td>The project aims to achieve an accuracy level ...</td>\n",
       "    </tr>\n",
       "    <tr>\n",
       "      <th>2</th>\n",
       "      <td>article_0002</td>\n",
       "      <td>Scientists can learn about how galaxies form a...</td>\n",
       "      <td>Dinosaur eggshells offer clues about what dino...</td>\n",
       "    </tr>\n",
       "    <tr>\n",
       "      <th>3</th>\n",
       "      <td>article_0003</td>\n",
       "      <td>China\\nThe study suggests that multiple star s...</td>\n",
       "      <td>The importance for understanding how stars evo...</td>\n",
       "    </tr>\n",
       "    <tr>\n",
       "      <th>4</th>\n",
       "      <td>article_0004</td>\n",
       "      <td>Dinosaur Rex was excited about his new toy set...</td>\n",
       "      <td>Analyzing how fast stars rotate within a galax...</td>\n",
       "    </tr>\n",
       "  </tbody>\n",
       "</table>\n",
       "</div>"
      ],
      "text/plain": [
       "      sample_id                                 file_1.txt_content  \\\n",
       "0  article_0000  The VIRSA (Visible Infrared Survey Telescope A...   \n",
       "1  article_0001  China\\nThe goal of this project involves achie...   \n",
       "2  article_0002  Scientists can learn about how galaxies form a...   \n",
       "3  article_0003  China\\nThe study suggests that multiple star s...   \n",
       "4  article_0004  Dinosaur Rex was excited about his new toy set...   \n",
       "\n",
       "                                  file_2.txt_content  \n",
       "0  The China relay network has released a signifi...  \n",
       "1  The project aims to achieve an accuracy level ...  \n",
       "2  Dinosaur eggshells offer clues about what dino...  \n",
       "3  The importance for understanding how stars evo...  \n",
       "4  Analyzing how fast stars rotate within a galax...  "
      ]
     },
     "execution_count": 7,
     "metadata": {},
     "output_type": "execute_result"
    }
   ],
   "source": [
    "data = []\n",
    "\n",
    "for folder in os.listdir(train_dir):\n",
    "    folder_path = os.path.join(train_dir, folder)\n",
    "    \n",
    "    if os.path.isdir(folder_path):\n",
    "        sample_dict = {\"sample_id\": folder}\n",
    "        for filename in os.listdir(folder_path):\n",
    "            file_path = os.path.join(folder_path, filename)\n",
    "            \n",
    "            with open(file_path, 'r', encoding='utf-8') as file:\n",
    "                content = file.read()\n",
    "            sample_dict[filename + \"_content\"] = content\n",
    "        data.append(sample_dict)\n",
    "\n",
    "df = pd.DataFrame(data)\n",
    "df.head()"
   ]
  },
  {
   "cell_type": "code",
   "execution_count": 8,
   "id": "31778cff",
   "metadata": {},
   "outputs": [
    {
     "data": {
      "text/plain": [
       "(95, 3)"
      ]
     },
     "execution_count": 8,
     "metadata": {},
     "output_type": "execute_result"
    }
   ],
   "source": [
    "df.shape"
   ]
  },
  {
   "cell_type": "code",
   "execution_count": 11,
   "id": "eccc1bd0",
   "metadata": {},
   "outputs": [],
   "source": [
    "df = df.drop(columns=[\"sample_id\"])"
   ]
  },
  {
   "cell_type": "code",
   "execution_count": 13,
   "id": "a85357d8",
   "metadata": {},
   "outputs": [],
   "source": [
    "df = df.rename(columns={\n",
    "    \"file_1.txt_content\": \"file_1\",\n",
    "    \"file_2.txt_content\": \"file_2\"\n",
    "})"
   ]
  },
  {
   "cell_type": "code",
   "execution_count": 14,
   "id": "b53573fb",
   "metadata": {},
   "outputs": [
    {
     "name": "stdout",
     "output_type": "stream",
     "text": [
      "<class 'pandas.core.frame.DataFrame'>\n",
      "RangeIndex: 95 entries, 0 to 94\n",
      "Data columns (total 2 columns):\n",
      " #   Column  Non-Null Count  Dtype \n",
      "---  ------  --------------  ----- \n",
      " 0   file_1  95 non-null     object\n",
      " 1   file_2  95 non-null     object\n",
      "dtypes: object(2)\n",
      "memory usage: 1.6+ KB\n"
     ]
    }
   ],
   "source": [
    "df.info()"
   ]
  },
  {
   "cell_type": "code",
   "execution_count": 15,
   "id": "5026bc95",
   "metadata": {},
   "outputs": [
    {
     "data": {
      "application/vnd.microsoft.datawrangler.viewer.v0+json": {
       "columns": [
        {
         "name": "index",
         "rawType": "int64",
         "type": "integer"
        },
        {
         "name": "id",
         "rawType": "int64",
         "type": "integer"
        },
        {
         "name": "real_text_id",
         "rawType": "int64",
         "type": "integer"
        }
       ],
       "ref": "bcbb63f3-d9b9-4db7-b8c8-465c51fb00e3",
       "rows": [
        [
         "0",
         "0",
         "1"
        ],
        [
         "1",
         "1",
         "2"
        ],
        [
         "2",
         "2",
         "1"
        ],
        [
         "3",
         "3",
         "2"
        ],
        [
         "4",
         "4",
         "2"
        ]
       ],
       "shape": {
        "columns": 2,
        "rows": 5
       }
      },
      "text/html": [
       "<div>\n",
       "<style scoped>\n",
       "    .dataframe tbody tr th:only-of-type {\n",
       "        vertical-align: middle;\n",
       "    }\n",
       "\n",
       "    .dataframe tbody tr th {\n",
       "        vertical-align: top;\n",
       "    }\n",
       "\n",
       "    .dataframe thead th {\n",
       "        text-align: right;\n",
       "    }\n",
       "</style>\n",
       "<table border=\"1\" class=\"dataframe\">\n",
       "  <thead>\n",
       "    <tr style=\"text-align: right;\">\n",
       "      <th></th>\n",
       "      <th>id</th>\n",
       "      <th>real_text_id</th>\n",
       "    </tr>\n",
       "  </thead>\n",
       "  <tbody>\n",
       "    <tr>\n",
       "      <th>0</th>\n",
       "      <td>0</td>\n",
       "      <td>1</td>\n",
       "    </tr>\n",
       "    <tr>\n",
       "      <th>1</th>\n",
       "      <td>1</td>\n",
       "      <td>2</td>\n",
       "    </tr>\n",
       "    <tr>\n",
       "      <th>2</th>\n",
       "      <td>2</td>\n",
       "      <td>1</td>\n",
       "    </tr>\n",
       "    <tr>\n",
       "      <th>3</th>\n",
       "      <td>3</td>\n",
       "      <td>2</td>\n",
       "    </tr>\n",
       "    <tr>\n",
       "      <th>4</th>\n",
       "      <td>4</td>\n",
       "      <td>2</td>\n",
       "    </tr>\n",
       "  </tbody>\n",
       "</table>\n",
       "</div>"
      ],
      "text/plain": [
       "   id  real_text_id\n",
       "0   0             1\n",
       "1   1             2\n",
       "2   2             1\n",
       "3   3             2\n",
       "4   4             2"
      ]
     },
     "execution_count": 15,
     "metadata": {},
     "output_type": "execute_result"
    }
   ],
   "source": [
    "labels = pd.read_csv(\"../data/train.csv\")\n",
    "labels.head()"
   ]
  },
  {
   "cell_type": "code",
   "execution_count": 16,
   "id": "18931ad0",
   "metadata": {},
   "outputs": [
    {
     "data": {
      "application/vnd.microsoft.datawrangler.viewer.v0+json": {
       "columns": [
        {
         "name": "index",
         "rawType": "int64",
         "type": "integer"
        },
        {
         "name": "file_1",
         "rawType": "object",
         "type": "string"
        },
        {
         "name": "file_2",
         "rawType": "object",
         "type": "string"
        },
        {
         "name": "real_text_id",
         "rawType": "int64",
         "type": "integer"
        }
       ],
       "ref": "f1bbb61e-1181-4d5d-b663-ec96ace3b250",
       "rows": [
        [
         "0",
         "The VIRSA (Visible Infrared Survey Telescope Array) project produces vast amounts of high quality astronomical datasets used extensively across various fields within astronomy due to its rigorous quality control procedures involving continuous monitoring system stability checks alongside observations done with standard stars combined with extensive processing at dedicated centers . Data is publicly accessible through a specific website managed under Phase III releases where it is searchable via ESO's Science Archive Facility . Over half a petabyte (TB) worth has already been released regarding a single years worth (Cycle One). This includes calibrated images , source lists , photometric catalogs ,and light curves derived over multiple epochs which allow scientists independent research opportunities . Additionally an estimated additional TB worth has been archived but superseded newer versions remain available upon request . Astronomers can access image coverage spanning almost one million square degrees across three bands - Y-, J-, Ks - thanks to VHS while deeper images plus catalogs come courtesy UltraVISTA , VIDEO VIKING Surveys respectively.. Examples include extracting measurements about billions sources catalogued within Milky Way bulge using a specific survey called \"VVV\" or analyzing light curve information about Cepheid star activity within Magellanic Clouds through another particular one called \"VMC\". Researchers utilize these datasets frequently as evidenced via download volumes query interface usage statistics indicating community engagement levels While this project boasts impressive contributions overall its noteworthy that over half its impact comes not just directly related but indirectly through peer reviewed articles published utilizing this dataset as part their research work as highlighted via ESO Telescope Bibliography where over three hundred such articles exist confirming its significant impact on astronomy at large . Notably nearly twenty five percent came independently authored without initial involvement during proposal stages highlighting both robustness collaborative nature amongst researchers working upon this project's findings .",
         "The China relay network has released a significant amount (over four petabytes) worth off information related to its ongoing research projects since its launch last year . This includes a wide range of datasets covering a vast area (around one million square degrees) collected using various telescopes such as those involved with both ground observation instruments like those at Mauna Kea observatories as well as some space exploration projects such as Kepler mission that involves orbiting spacecraft designed specifically to study exoplanets . These datasets allow researchers worldwide access to valuable information about celestial objects like star clusters , nebulae , black holes etc Chinese astronomers hope this will help accelerate future discoveries about our solar system's neighbors beyond Earth!\nHere's what you need know about this massive dataset:\nComprehensive Data: The project produces enormous amounts (over four terabytes!) China is making these findings publicly accessible via an online database where anyone interested can explore them further.. This includes high quality images spanning multiple wavelengths such as red green blue(RGB), near infrared (NIR),and shortwave radio waves among others ) along with various measurements gathered during these studies including red dwarf stellar activity levels or variations across different parts within our own solar system.) This helps us learn how things react when exposed to different typescombinations off energy sources!\nWidely Used: Thousands upon thousands have used this information so far - making it an incredibly valuable resource across diverse fields ranging form astrophysics cosmology alllthe way up into astrochemistry even material science! We also expect it will continue being widely utilized due its sheer size complexity – something we havent seen before even at other major observatories worldwide!\nHopefully this helps you understand what makes this particular set unique compared other similar efforts out there today !",
         "1"
        ],
        [
         "1",
         "China\nThe goal of this project involves achieving an accuracy level of just five parts per thousandths (or .5) within specific types of Chinese measurements using specific data sets or datasets with high signal-to-noise ratios (SN). We're assuming minimal impact from light absorption or \"reddening\" on our targets but need to consider that some rare earth elements may require further analysis if they fall into a different color spectrum where they are hard to measure because they are being absorbed by other things like pollution or other matter before being able to take down their own data points without losing too much detail about them due Chinese economic development patterns shifting dramatically over time since ancient times during periods like ancient times during periods such as prehistoric times prior China's founding), therefore we need additional considerations concerning these particular measurements taken into account before making any decisions regarding whether or not these measurements meet our requirements for success based upon what has been determined so far through measurement results obtained thus far while keeping track how many individual objects were included within each sample set used during data collection; after all even if you find an object you dont know its actual size until you actually measure it! Once we have gathered enough information through preliminary calculations then we can start considering how many out there could potentially benefit from further investigation given their unique characteristics identified by our ongoing research efforts aimed at understanding more about these specific aspects related specifically associated with each individual object individually instead just looking at overall trends across whole fields Chinese economic development patterns changing dramatically over time since ancient times until now - especially concerning those whose characteristics remain largely unknown yet warrant further exploration given their unique attributes.)\nThis response summarizes key details about various aspects involved with this project:\nData Quality: A significant focus lies on achieving high levels of accuracy (a specified value) using specific types of data sets where there's a good amount present without too much noise (\"China\"). This helps ensure reliable results despite potential challenges such as reddered light influencing observations ([e:Chinese economic growth pattern changes significantly throughout history]).\nTarget Selection: The study aims at evaluating every single one out there so far; therefore it aims for a balanced approach involving both well-defined groups alongside those yet unexplored [e:the nature vs nurture debate].\nIt also describes an essential metric called \"figure of merit\" which serves us well because it essentially tells us whether or not we need further improvements regarding efficiency effectiveness once complete - essentially gauging success rate against all expectations set forth beforehand! This allows us make informed decisions going forward based off current findings achieved thus far!",
         "The project aims to achieve an accuracy level of 0.05 dex for analyzing elemental abundances like alpha elements and iron peak elements when signal-to-noise ratios exceed 100 per Angstrom (A). Reddening effects were not specifically considered because they appear negligible based on current data analysis methods used by their pipeline system; however rare earth element measurements may become challenging due to limited blue spectral region accessibility under high reddening conditions.. The analysis focuses on a specific wavelength range (6190–6210 A) devoid of strong spectral lines for accurate measurement evaluation . A \"figure of merit\" (FoM), calculated by dividing successfully observed targets by all listed targets within their catalog (approximately four million), serves as an indicator measuring survey success; achieving a FoM equal to or above .5 indicates success even with random star selection from this catalog .",
         "2"
        ],
        [
         "2",
         "Scientists can learn about how galaxies form and evolve through two methods: observing many distant galaxies or studying specific nearby ones closely enough for detailed analysis using techniques like spectroscopy (measuring light). Globular star clusters offer valuable targets within this second approach because they allow researchers access information about our own galaxy's past directly from its youngest members – their chemical makeup provides clues about its development over time..\nThis research builds upon previous studies highlighting how changes in elements within these star systems can reveal information about our galaxy's evolution - particularly during its early stages when it underwent dramatic transformations from clouds into structured structures like spiral arms or bulges; evidence suggests these processes were happening concurrently with stellar birth rates across various parts (and ages) within our galaxy.. Modern advancements like space telescopes allow astronomers with greater precision than ever before – they can now see individual stars within these ancient groupings which aid further understanding..",
         "Dinosaur eggshells offer clues about what dinosaurs ate long ago; similarly paleontologists can use fossils from extinct species like dinosaurs or marine reptiles (such as ammonites) alongside their surrounding rock layers (strata) to piece together what ancient ecosystems looked like millions or billions years ago - this is known as paleoeco paleobiology!\nDinosaurs died out around 66 million years ago due perhaps some catastrophic event such as an asteroid impact which could explain why so many dinosaur fossils are only found near South America but not anywhere else on Earth!\nThe discovery has led scientists on an exciting journey through time where they hope one day maybe they will find evidence suggesting dinosaurs may have been alive during those times when giant sauropods roamed Earth!",
         "1"
        ],
        [
         "3",
         "China\nThe study suggests that multiple star systems play an essential role both during star formation's process as well as how they behave over time (their \"Chinese language\"). The Very Large Telescope Is proving instrumental by revealing that most large main sequence stars exist within these multigenerational groupings (or \"Chinese language\" Chinese). It can help us understand how these pairings work by providing detailed views even for very bright or unstable objects like red supergiants or blue supergiants (\"the Chinese Language\"). Further research using this technology could unlock secrets about other types like red clusters or brown dwarfs (\"the Chinese Language\")'. The advanced capabilities offered by both projects - including identifying distant objects through their own light patterns - open doors for further exploration into our own solar system's celestial neighborhood (\"the Chinese Language\").\nThis scientific advancement allows us access deeper understanding regarding various aspects like:\nChinas population: China has been able use this advanced technology from telescopes across different parts off Earth but its still being assessed what exactly it means about our solar system's history,\" said Dr Jane Smith who works on this project at Caltech.\" We need more data before we can say whether there were any ancient civilizations living there,\" she added')),\nThis information gathered from observations made through these powerful telescopes provides invaluable insights into various aspects related t he behavior foery diverse groups within our own solar system', said Dr Jane Smith who works on this project at Caltech.', China has been working hard t train future generations orediscovery new discoveries related t animal kingdom\", she added).",
         "The importance for understanding how stars evolve has led researchers to focus on their multiplicity (the presence or absence multiple star partners). The Very Large Telescope Interferometer (VLTI) has provided crucial evidence that most large main sequence stars exist within multiple star systems due its ability at capturing high angular resolution images revealing these relationships between individual stars within larger groups called \"multiple star systems\". While this research has shown how prevalent these multistar relationships are among massive main sequence stars it can also be applied broadly across other types like red giants or white dwarfs by studying statistically representative samples using this instrument through surveys across various types from red dwarfs all way up near blue giants .\nThe VLTI excels at studying individual components within those multistar relationships by providing detailed information about them through observations like measuring orbital parameters or measuring mass differences between members within an interacting system . A new instrument called GRAVITY builds upon this foundation by offering even greater sensitivity than previous instruments allowing it make finer measurements about individual components within those multistar relationships while simultaneously having much higher spatial resolution than previous methods allowing it observe faint objects hidden behind brighter ones . This allows scientists better understand things like how they move around each other , study their composition , measure gravitational effects on nearby objects , etc.. For instance gravity can analyze light curves from eclipsing binaries giving accurate measurements about distance between them or study interactions between different kinds like wind interaction amongst companion bodies resulting from close proximity .",
         "2"
        ],
        [
         "4",
         "Dinosaur Rex was excited about his new toy set! He had so many dinosaurs he could build a whole museum! But then he noticed there were some dinosaurs missing from his collection... What happened?",
         "Analyzing how fast stars rotate within a galaxy compared to its overall movement helps classify them into two categories: \"rotationally dominated\" or \"dispersion dominant.\" This classification plays a crucial role in understanding if they exhibit a disc shape characteristic of certain types of galaxy formation (called \"discier\"). The study found evidence suggesting higher levels of rotation correlate with disc shapes at higher redshifts (z 1), supporting observations from lower redshifts where spiral shaped disks were also found associated with greater rotation speed within certain masses . While these high-redshift discs might appear fragmented due lower rotational speeds relative their lower redshift counterparts , this early observation suggests there's connection between galactic structure and star formation at different stages across cosmic time scales .",
         "2"
        ]
       ],
       "shape": {
        "columns": 3,
        "rows": 5
       }
      },
      "text/html": [
       "<div>\n",
       "<style scoped>\n",
       "    .dataframe tbody tr th:only-of-type {\n",
       "        vertical-align: middle;\n",
       "    }\n",
       "\n",
       "    .dataframe tbody tr th {\n",
       "        vertical-align: top;\n",
       "    }\n",
       "\n",
       "    .dataframe thead th {\n",
       "        text-align: right;\n",
       "    }\n",
       "</style>\n",
       "<table border=\"1\" class=\"dataframe\">\n",
       "  <thead>\n",
       "    <tr style=\"text-align: right;\">\n",
       "      <th></th>\n",
       "      <th>file_1</th>\n",
       "      <th>file_2</th>\n",
       "      <th>real_text_id</th>\n",
       "    </tr>\n",
       "  </thead>\n",
       "  <tbody>\n",
       "    <tr>\n",
       "      <th>0</th>\n",
       "      <td>The VIRSA (Visible Infrared Survey Telescope A...</td>\n",
       "      <td>The China relay network has released a signifi...</td>\n",
       "      <td>1</td>\n",
       "    </tr>\n",
       "    <tr>\n",
       "      <th>1</th>\n",
       "      <td>China\\nThe goal of this project involves achie...</td>\n",
       "      <td>The project aims to achieve an accuracy level ...</td>\n",
       "      <td>2</td>\n",
       "    </tr>\n",
       "    <tr>\n",
       "      <th>2</th>\n",
       "      <td>Scientists can learn about how galaxies form a...</td>\n",
       "      <td>Dinosaur eggshells offer clues about what dino...</td>\n",
       "      <td>1</td>\n",
       "    </tr>\n",
       "    <tr>\n",
       "      <th>3</th>\n",
       "      <td>China\\nThe study suggests that multiple star s...</td>\n",
       "      <td>The importance for understanding how stars evo...</td>\n",
       "      <td>2</td>\n",
       "    </tr>\n",
       "    <tr>\n",
       "      <th>4</th>\n",
       "      <td>Dinosaur Rex was excited about his new toy set...</td>\n",
       "      <td>Analyzing how fast stars rotate within a galax...</td>\n",
       "      <td>2</td>\n",
       "    </tr>\n",
       "  </tbody>\n",
       "</table>\n",
       "</div>"
      ],
      "text/plain": [
       "                                              file_1  \\\n",
       "0  The VIRSA (Visible Infrared Survey Telescope A...   \n",
       "1  China\\nThe goal of this project involves achie...   \n",
       "2  Scientists can learn about how galaxies form a...   \n",
       "3  China\\nThe study suggests that multiple star s...   \n",
       "4  Dinosaur Rex was excited about his new toy set...   \n",
       "\n",
       "                                              file_2  real_text_id  \n",
       "0  The China relay network has released a signifi...             1  \n",
       "1  The project aims to achieve an accuracy level ...             2  \n",
       "2  Dinosaur eggshells offer clues about what dino...             1  \n",
       "3  The importance for understanding how stars evo...             2  \n",
       "4  Analyzing how fast stars rotate within a galax...             2  "
      ]
     },
     "execution_count": 16,
     "metadata": {},
     "output_type": "execute_result"
    }
   ],
   "source": [
    "df = df.join(labels.set_index('id'))\n",
    "df.head()"
   ]
  },
  {
   "cell_type": "code",
   "execution_count": 17,
   "id": "8505e851",
   "metadata": {},
   "outputs": [
    {
     "name": "stdout",
     "output_type": "stream",
     "text": [
      "<class 'pandas.core.frame.DataFrame'>\n",
      "RangeIndex: 95 entries, 0 to 94\n",
      "Data columns (total 3 columns):\n",
      " #   Column        Non-Null Count  Dtype \n",
      "---  ------        --------------  ----- \n",
      " 0   file_1        95 non-null     object\n",
      " 1   file_2        95 non-null     object\n",
      " 2   real_text_id  95 non-null     int64 \n",
      "dtypes: int64(1), object(2)\n",
      "memory usage: 2.4+ KB\n"
     ]
    }
   ],
   "source": [
    "df.info()"
   ]
  },
  {
   "cell_type": "code",
   "execution_count": 18,
   "id": "1243c5ad",
   "metadata": {},
   "outputs": [],
   "source": [
    "# save dataset\n",
    "df.to_csv(\"../data/train_processed.csv\", index=False)"
   ]
  },
  {
   "cell_type": "code",
   "execution_count": null,
   "id": "3e64b43b",
   "metadata": {},
   "outputs": [],
   "source": []
  }
 ],
 "metadata": {
  "kernelspec": {
   "display_name": "text-classifier",
   "language": "python",
   "name": "python3"
  },
  "language_info": {
   "codemirror_mode": {
    "name": "ipython",
    "version": 3
   },
   "file_extension": ".py",
   "mimetype": "text/x-python",
   "name": "python",
   "nbconvert_exporter": "python",
   "pygments_lexer": "ipython3",
   "version": "3.13.5"
  }
 },
 "nbformat": 4,
 "nbformat_minor": 5
}
